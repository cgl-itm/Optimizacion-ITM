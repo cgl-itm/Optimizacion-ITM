{
  "cells": [
    {
      "cell_type": "markdown",
      "source": [
        "# Proyecto Aprendizaje Automatico señales moduladas"
      ],
      "metadata": {
        "id": "xQvNxhgrOgQe"
      }
    },
    {
      "cell_type": "markdown",
      "metadata": {
        "id": "DysYzAdS3qSu"
      },
      "source": [
        "## Extracción de caracteristicas\n",
        "\n",
        "La caracteristicas consisten en un conjunto de datos o variables medidas a partir de una señal o imagen cruda.\n",
        "La idea principal es reducir el tamaño de informacion contenido en la señal cruda, y poder describir dicha señal con una menor cantidad de datos.\n",
        "   \n",
        "Para este caso convertiremos señales moduladas de (2, 128) en 32 caracteristicas. Las primeras 16 caracteristicas estan basadas en retrazo de tiempo ciclico de 0 y las siguientes 16 en retrazos de tiempo ciclico de 8."
      ]
    },
    {
      "cell_type": "code",
      "execution_count": 23,
      "metadata": {
        "id": "qXHaqacm3qSw"
      },
      "outputs": [],
      "source": [
        "#Cargamos las librerias necesarias\n",
        "import numpy as np\n",
        "import pickle\n",
        "import os\n",
        "import matplotlib.pyplot as plt"
      ]
    },
    {
      "cell_type": "markdown",
      "source": [
        "Descargamos la base de datos (641 MB) suministrada por el docente y disponible en DeepSig."
      ],
      "metadata": {
        "id": "O4PuccEy-q7H"
      }
    },
    {
      "cell_type": "code",
      "source": [
        "!gdown 1l_2HQqIcmJSgjzUAOW1SCMmjevBIJz-R"
      ],
      "metadata": {
        "id": "gm0zLs-M3wRH",
        "outputId": "27e392de-1cc2-4250-f5f4-e3b480813923",
        "colab": {
          "base_uri": "https://localhost:8080/"
        }
      },
      "execution_count": 24,
      "outputs": [
        {
          "output_type": "stream",
          "name": "stdout",
          "text": [
            "Downloading...\n",
            "From (original): https://drive.google.com/uc?id=1l_2HQqIcmJSgjzUAOW1SCMmjevBIJz-R\n",
            "From (redirected): https://drive.google.com/uc?id=1l_2HQqIcmJSgjzUAOW1SCMmjevBIJz-R&confirm=t&uuid=1bc6597b-87db-43d7-bf17-9d306ee1406d\n",
            "To: /content/RML2016.10a_dict.pkl\n",
            "100% 641M/641M [00:08<00:00, 72.0MB/s]\n"
          ]
        }
      ]
    },
    {
      "cell_type": "markdown",
      "metadata": {
        "id": "q5tu9_TR3qSx"
      },
      "source": [
        "## Acceso a los datos crudos"
      ]
    },
    {
      "cell_type": "code",
      "source": [
        "#Load the dataset\n",
        "with open(\"RML2016.10a_dict.pkl\",'rb') as f:\n",
        "    Xd = pickle.load(f, encoding='latin1')\n",
        "# Se usa codificacion en latin1 para leer los datos de manera adecuada"
      ],
      "metadata": {
        "id": "1SyHF_3Orvqj"
      },
      "execution_count": 25,
      "outputs": []
    },
    {
      "cell_type": "markdown",
      "source": [
        "La variable Xd es un diccionario que tiene tuplas (`'Modulation'`,`SNR`) como llaves."
      ],
      "metadata": {
        "id": "NaGaKlbJr9k4"
      }
    },
    {
      "cell_type": "code",
      "source": [
        "#Imprimir las llaves de Xd\n",
        "print(Xd.keys())"
      ],
      "metadata": {
        "colab": {
          "base_uri": "https://localhost:8080/"
        },
        "id": "SSa8LDshr9GM",
        "outputId": "a4d00a96-096f-44c7-d2c8-65b93aca94c3"
      },
      "execution_count": 26,
      "outputs": [
        {
          "output_type": "stream",
          "name": "stdout",
          "text": [
            "dict_keys([('QPSK', 2), ('PAM4', 8), ('AM-DSB', -4), ('GFSK', 6), ('QAM64', 8), ('AM-SSB', 12), ('8PSK', 8), ('8PSK', 12), ('QAM64', -6), ('QAM16', 2), ('QAM16', -20), ('PAM4', -6), ('WBFM', -18), ('AM-DSB', 16), ('CPFSK', 10), ('WBFM', 6), ('BPSK', 4), ('BPSK', -2), ('QPSK', -20), ('CPFSK', -8), ('AM-SSB', 6), ('QAM64', -20), ('QAM16', 12), ('GFSK', -20), ('AM-SSB', -12), ('CPFSK', 0), ('AM-DSB', 6), ('BPSK', -16), ('QPSK', -6), ('8PSK', -12), ('CPFSK', -18), ('BPSK', -10), ('QPSK', 8), ('PAM4', 14), ('AM-DSB', -10), ('GFSK', 12), ('QAM64', 2), ('WBFM', -4), ('AM-SSB', -18), ('QAM64', -4), ('GFSK', -4), ('AM-DSB', 8), ('PAM4', -16), ('QPSK', -16), ('BPSK', 16), ('8PSK', -8), ('CPFSK', 16), ('WBFM', 0), ('QPSK', 6), ('BPSK', 14), ('AM-DSB', -8), ('GFSK', -10), ('CPFSK', -2), ('AM-SSB', 8), ('GFSK', 18), ('QAM16', 6), ('QAM16', -16), ('QAM64', 18), ('AM-SSB', -2), ('CPFSK', 6), ('BPSK', 0), ('BPSK', -6), ('8PSK', -14), ('CPFSK', -12), ('AM-SSB', 2), ('WBFM', 10), ('AM-DSB', -12), ('PAM4', 4), ('GFSK', 10), ('QAM16', -6), ('QAM64', 4), ('PAM4', -20), ('8PSK', 10), ('AM-SSB', -16), ('QAM64', -10), ('GFSK', -6), ('AM-DSB', 2), ('PAM4', -10), ('QPSK', -2), ('WBFM', -14), ('WBFM', 12), ('8PSK', 0), ('QPSK', 12), ('PAM4', 10), ('AM-DSB', -14), ('GFSK', 0), ('QAM64', 14), ('AM-SSB', 18), ('QAM64', -8), ('QAM16', 0), ('GFSK', -16), ('PAM4', -4), ('QPSK', -12), ('WBFM', -20), ('CPFSK', 12), ('WBFM', 4), ('PAM4', 18), ('BPSK', 10), ('BPSK', -4), ('QPSK', -18), ('PAM4', -2), ('CPFSK', -6), ('AM-SSB', 4), ('AM-DSB', -20), ('8PSK', 16), ('WBFM', 18), ('QAM16', 10), ('QAM16', -12), ('CPFSK', 8), ('8PSK', -16), ('8PSK', -20), ('AM-SSB', -6), ('CPFSK', 2), ('QPSK', 16), ('AM-DSB', 4), ('AM-DSB', -18), ('8PSK', -10), ('CPFSK', -16), ('8PSK', -6), ('QPSK', 10), ('PAM4', 0), ('BPSK', -20), ('GFSK', 14), ('QAM16', -2), ('QAM64', 0), ('8PSK', -4), ('AM-SSB', -20), ('QAM64', -14), ('GFSK', -2), ('AM-DSB', 14), ('PAM4', -14), ('QPSK', -14), ('WBFM', -10), ('CPFSK', 18), ('8PSK', 4), ('QPSK', 0), ('BPSK', 12), ('AM-DSB', -2), ('GFSK', 4), ('QAM64', 10), ('AM-SSB', 14), ('WBFM', 8), ('QAM16', -10), ('PAM4', 16), ('QAM16', 4), ('QAM16', 18), ('QAM16', -18), ('QAM64', 16), ('PAM4', -8), ('WBFM', 16), ('WBFM', 14), ('AM-SSB', -4), ('QAM16', -4), ('BPSK', 6), ('BPSK', -8), ('BPSK', 18), ('CPFSK', -10), ('AM-SSB', 0), ('PAM4', 6), ('QAM64', -18), ('QAM16', 14), ('QAM16', -8), ('PAM4', -18), ('AM-DSB', 18), ('AM-SSB', -10), ('QAM64', -12), ('AM-DSB', 0), ('BPSK', -14), ('QPSK', -8), ('WBFM', -16), ('CPFSK', -20), ('8PSK', 2), ('QPSK', 14), ('PAM4', 12), ('AM-DSB', -16), ('GFSK', 2), ('QAM64', 12), ('AM-SSB', 16), ('QAM64', -2), ('8PSK', 14), ('GFSK', -14), ('AM-DSB', 10), ('WBFM', -8), ('QPSK', -10), ('CPFSK', 14), ('WBFM', 2), ('QPSK', 4), ('BPSK', 8), ('AM-DSB', -6), ('CPFSK', -4), ('AM-SSB', 10), ('WBFM', -2), ('8PSK', 18), ('QAM16', 8), ('QAM16', -14), ('8PSK', -18), ('8PSK', -2), ('AM-SSB', -8), ('CPFSK', 4), ('QPSK', 18), ('BPSK', 2), ('BPSK', -12), ('WBFM', -6), ('CPFSK', -14), ('GFSK', 16), ('PAM4', 2), ('GFSK', 8), ('GFSK', -12), ('QAM64', 6), ('GFSK', -18), ('AM-SSB', -14), ('QAM64', -16), ('QAM16', 16), ('GFSK', -8), ('AM-DSB', 12), ('PAM4', -12), ('QPSK', -4), ('WBFM', -12), ('8PSK', 6), ('BPSK', -18)])\n"
          ]
        }
      ]
    },
    {
      "cell_type": "markdown",
      "source": [
        "Vemos que en la tupla, Modulation es un texto que indica el tipo de modulacion (por ejemplo 'QPSK', 'AM-DSB', entre otros). Mientras que SNR es la relacion señal a ruido representado por una valor entero. Ahora accedemos las datos de Modulation='PAM4' con SNR=8"
      ],
      "metadata": {
        "id": "Bf3C5kSbsXvX"
      }
    },
    {
      "cell_type": "code",
      "source": [
        "datosPAM4SNR8 = Xd[('PAM4',8)]\n",
        "print(datosPAM4SNR8, datosPAM4SNR8.shape, type(datosPAM4SNR8))"
      ],
      "metadata": {
        "colab": {
          "base_uri": "https://localhost:8080/"
        },
        "id": "uz-QOrO5s7Vv",
        "outputId": "25e5b081-2127-4d1a-87ed-b6691bb22b0f"
      },
      "execution_count": 27,
      "outputs": [
        {
          "output_type": "stream",
          "name": "stdout",
          "text": [
            "[[[-1.14027876e-03  5.68465621e-04  7.23708072e-04 ... -6.09616836e-05\n",
            "   -1.21479435e-03 -1.88705232e-03]\n",
            "  [-6.21852186e-03 -6.72264677e-03 -5.96236298e-03 ...  8.09915550e-03\n",
            "    7.47235492e-03  7.41067436e-03]]\n",
            "\n",
            " [[ 7.73214619e-04  1.06256013e-03  3.21593718e-04 ...  3.69849673e-04\n",
            "   -2.77926913e-04 -7.95202563e-04]\n",
            "  [ 8.08343815e-04  1.92068482e-03  2.76864390e-03 ...  3.46012414e-03\n",
            "    4.15690057e-03  4.45945794e-03]]\n",
            "\n",
            " [[-2.12127063e-03 -2.30756449e-03 -2.43179523e-03 ... -5.13836916e-04\n",
            "    7.27599836e-04  2.20484310e-03]\n",
            "  [ 1.58301592e-02  1.78729836e-02  1.77858695e-02 ... -1.22059705e-02\n",
            "   -1.57827120e-02 -1.73747428e-02]]\n",
            "\n",
            " ...\n",
            "\n",
            " [[-1.37711572e-03 -1.73479214e-03 -2.27596518e-03 ... -1.36710994e-03\n",
            "   -1.09209423e-03 -4.70869738e-04]\n",
            "  [ 1.32902293e-02  1.43215721e-02  1.50907962e-02 ...  3.64204240e-03\n",
            "    2.47855950e-03  1.79771194e-03]]\n",
            "\n",
            " [[-6.11242955e-04 -4.88181104e-04 -6.75123476e-04 ...  1.16998912e-03\n",
            "    5.67651645e-04  9.48305751e-05]\n",
            "  [ 3.56620620e-03  3.88219231e-03  4.80983220e-03 ... -6.20658626e-04\n",
            "    3.75218294e-03  7.73046538e-03]]\n",
            "\n",
            " [[ 1.36013504e-03  1.39041035e-03  1.04217033e-03 ... -2.37550796e-03\n",
            "   -2.21232185e-03 -2.02335767e-03]\n",
            "  [-3.55211971e-03 -1.36325939e-03  7.87668454e-04 ...  1.32922390e-02\n",
            "    1.08354948e-02  7.50482362e-03]]] (1000, 2, 128) <class 'numpy.ndarray'>\n"
          ]
        }
      ]
    },
    {
      "cell_type": "markdown",
      "source": [
        "El esquema de modulacion 'PAM4' con SNR=8 contine un arreglo de numpy de 1000 señales, donde cada señal es un arreglo de 2 filas con 128 columnas. La primera fila es la parte real del esquema de modulacion, mientras que la segunda fila es la parte imaginaria."
      ],
      "metadata": {
        "id": "5kKGLJWFuXz9"
      }
    },
    {
      "cell_type": "code",
      "source": [
        "# datosPAM4SNR8[# de senal, real=0, imag =1, 128 datos]\n",
        "#Parte real\n",
        "plt.plot(datosPAM4SNR8[1,0,:], label = 'real')\n",
        "#parte imaginaria\n",
        "plt.plot(datosPAM4SNR8[1,1,:], label = 'imag')\n",
        "plt.legend()"
      ],
      "metadata": {
        "colab": {
          "base_uri": "https://localhost:8080/",
          "height": 448
        },
        "id": "d1_bzxNAuy7H",
        "outputId": "eeec3aea-54b9-406b-ab56-fcf36e1360e6"
      },
      "execution_count": 28,
      "outputs": [
        {
          "output_type": "execute_result",
          "data": {
            "text/plain": [
              "<matplotlib.legend.Legend at 0x79b1dc0f5f30>"
            ]
          },
          "metadata": {},
          "execution_count": 28
        },
        {
          "output_type": "display_data",
          "data": {
            "text/plain": [
              "<Figure size 640x480 with 1 Axes>"
            ],
            "image/png": "[encoded data removed]"
          },
          "metadata": {}
        }
      ]
    },
    {
      "cell_type": "markdown",
      "source": [
        "## Extraccion de caracteristicas"
      ],
      "metadata": {
        "id": "BsZWVeUUBnDe"
      }
    },
    {
      "cell_type": "markdown",
      "source": [
        "Podemos extraer caracteristicas de las señales, con el fin de reducir su dimensionalidad. La idea principal es construir una matriz, donde las filas sean las muestras, y las columnas las caracteristicas. Emplearemos la siguiente funcion para extraer 16 caracteristicas de cada señal."
      ],
      "metadata": {
        "id": "6zsBwkx99mcc"
      }
    },
    {
      "cell_type": "code",
      "execution_count": 29,
      "metadata": {
        "id": "HO5o2WwV3qSz"
      },
      "outputs": [],
      "source": [
        "#Form expert features\n",
        "def form_features(X):\n",
        "\n",
        "    #Form array of complex numbers; convert each (2,128) sample to a (128,) sample\n",
        "    n_samples = X.shape[0]\n",
        "    rows = X.shape[1]\n",
        "    vec_len = X.shape[2]\n",
        "    X_complex = []\n",
        "    X_complex = [complex(X[samp_num,0,column],X[samp_num,1,column])\n",
        "                 for samp_num in range(n_samples) for column in range(vec_len)]\n",
        "\n",
        "    X_complex = np.vstack(X_complex)\n",
        "    X_complex = np.reshape(X_complex, [n_samples,vec_len])\n",
        "    X_complex_sqr = np.square(X_complex)\n",
        "    X_complex_angl = np.angle(X_complex)\n",
        "\n",
        "    #Form features: set of 16 expert features based on 0 cyclic time lag\n",
        "\n",
        "    dict_16features = {}\n",
        "\n",
        "    #Feature 1\n",
        "    dict_16features['f1'] = np.array([np.mean(X_complex, axis=1)]).T\n",
        "\n",
        "    #Feature 2\n",
        "    dict_16features['f2'] = np.array([np.mean(abs(X_complex),axis = 1)]).T\n",
        "\n",
        "    #Feature 3\n",
        "    dict_16features['f3'] = np.array([np.mean(X_complex_angl, axis = 1)]).T\n",
        "\n",
        "    #Feature 4\n",
        "    dict_16features['f4'] = np.array([np.mean(abs(X_complex_angl), axis = 1)]).T\n",
        "\n",
        "    #Feature 5\n",
        "    dict_16features['f5'] = np.array([np.mean(X_complex_sqr, axis = 1)]).T\n",
        "\n",
        "    #Feature 6\n",
        "    dict_16features['f6'] = np.array([np.mean(np.square(abs(X_complex)), axis = 1)]).T\n",
        "\n",
        "    #Feature 7\n",
        "    dict_16features['f7'] = np.array([np.mean(np.square(X_complex_angl), axis = 1)]).T\n",
        "\n",
        "    #Feature 8\n",
        "    dict_16features['f8'] = np.array([np.mean(np.square(abs(X_complex_angl)), axis = 1)]).T\n",
        "\n",
        "    #Feature 9\n",
        "    dict_16features['f9'] = np.array([(np.mean(X_complex_sqr,axis = 1)) -\n",
        "                   ((1/vec_len**2)*np.square(np.sum(X_complex, axis = 1)))]).T\n",
        "\n",
        "    #Feature 10\n",
        "    dict_16features['f10'] = np.array([(np.mean(np.square(abs(X_complex)), axis = 1)) -\n",
        "                    ((1/vec_len**2)*np.square(np.sum(abs(X_complex), axis = 1)))]).T\n",
        "\n",
        "    #Feature 11\n",
        "    dict_16features['f11'] = np.array([(np.mean(np.square(X_complex_angl),axis = 1)) -\n",
        "                    ((1/vec_len**2)*np.square(np.sum(X_complex_angl, axis = 1)))]).T\n",
        "\n",
        "    #Feature 12\n",
        "    dict_16features['f12'] = np.array([(np.mean(np.square(abs(X_complex_angl)), axis = 1)) -\n",
        "                    ((1/vec_len**2)* np.square(np.sum(abs(X_complex_angl), axis = 1)))]).T\n",
        "\n",
        "    #Feature 13\n",
        "    dict_16features['f13'] = np.array([(np.mean(np.power(X_complex,4), axis = 1)) -\n",
        "                    ((1/vec_len**2)*(np.sum(X_complex_sqr,1))**2)]).T\n",
        "\n",
        "    #Feature 14\n",
        "    dict_16features['f14'] = np.array([(np.mean(np.power(abs(X_complex),4), axis = 1)) -\n",
        "                   ((1/vec_len**2)*(np.sum(np.square(abs(X_complex)), axis = 1))**2)]).T\n",
        "\n",
        "    #Feature 15\n",
        "    dict_16features['f15'] = np.array([(np.mean(np.power(X_complex_angl,4), axis =1)) -\n",
        "                   ((1/vec_len**2)*(np.sum(np.square(X_complex_angl),axis = 1))**2)]).T\n",
        "\n",
        "    #Feature 16\n",
        "    dict_16features['f16'] = np.array([(np.mean(np.power(abs(X_complex_angl),4), axis =1) -\n",
        "                   ((1/vec_len**2)*(np.sum(np.square(abs(X_complex_angl)),axis = 1))**2))]).T\n",
        "\n",
        "    #Concatenate 16 feature arrays\n",
        "    X_16 = []\n",
        "    X_16 += dict_16features.values()\n",
        "    X_16 = abs(np.hstack(np.array(X_16)))\n",
        "\n",
        "    return X_16"
      ]
    },
    {
      "cell_type": "code",
      "source": [
        "features = form_features(datosPAM4SNR8)\n",
        "print(features.shape)"
      ],
      "metadata": {
        "colab": {
          "base_uri": "https://localhost:8080/"
        },
        "id": "HqP_pVcfzQK4",
        "outputId": "582368e7-c6e8-4931-f688-a215d05f8ce8"
      },
      "execution_count": 30,
      "outputs": [
        {
          "output_type": "stream",
          "name": "stdout",
          "text": [
            "(1000, 16)\n"
          ]
        }
      ]
    },
    {
      "cell_type": "markdown",
      "source": [
        "Observamos que la variable features es una matriz de 1000 filas por 16 columnas. Donde las filas coinciden con el numero de muestras del esquema de modulacion 'PAM4' con SNR=8. Y en vez de tener arreglos de 2 filas por 128 columnas, ahora tenemos las 16 caracteristicas extraidas de las 1000 señales."
      ],
      "metadata": {
        "id": "Kay-P8sL_YZw"
      }
    },
    {
      "cell_type": "markdown",
      "source": [
        "Ahora extraemos caracteristicas de las señales correspondientes a la modulacion 'GFSK' con SNR=8."
      ],
      "metadata": {
        "id": "gRw86aJDCMHh"
      }
    },
    {
      "cell_type": "code",
      "source": [
        "features2 = form_features(Xd[('GFSK',8)])\n",
        "print(features2.shape)"
      ],
      "metadata": {
        "colab": {
          "base_uri": "https://localhost:8080/"
        },
        "id": "rKrOkF9wBdZg",
        "outputId": "8e7db290-3811-4f66-c036-40d21ba03c5b"
      },
      "execution_count": 31,
      "outputs": [
        {
          "output_type": "stream",
          "name": "stdout",
          "text": [
            "(1000, 16)\n"
          ]
        }
      ]
    },
    {
      "cell_type": "markdown",
      "source": [
        "Y obtenemos una matriz con 1000 muestras y 16 caracteristicas."
      ],
      "metadata": {
        "id": "Am-AOY7YClSF"
      }
    },
    {
      "cell_type": "markdown",
      "source": [
        "## Construccion de la matriz de datos para el algoritmo de Aprendizaje Automatico (Machine Learning)"
      ],
      "metadata": {
        "id": "TqTbVsA-TKHG"
      }
    },
    {
      "cell_type": "markdown",
      "source": [
        "Para entrenar un algoritmo de ML, necesitamos una tabla, donde las filas sean las muestras, y las columnas las caracteristicas. Tambien agregar una columna final donde va la etiqueta o clase de la muestra. Vamos a realiar un ejemplo tomando las caracteristicas que extraimos para la clase 'PAM4' y 'GFSK'. Como tenemos 1000 muestras por cada clase, debemos construir una matriz con 2000 muestras y 16 columnas. Con el comando `vstack` de numpy podemos concatenar las filas de ambas matrices, asi:"
      ],
      "metadata": {
        "id": "Jv1LZRm-TXBW"
      }
    },
    {
      "cell_type": "code",
      "source": [
        "featureMatrix = np.vstack((features,features2))\n",
        "featureMatrix.shape"
      ],
      "metadata": {
        "colab": {
          "base_uri": "https://localhost:8080/"
        },
        "id": "TKAs1tSVVOmo",
        "outputId": "2f255a9d-f8a9-4d75-b15f-e270d73cae3a"
      },
      "execution_count": 32,
      "outputs": [
        {
          "output_type": "execute_result",
          "data": {
            "text/plain": [
              "(2000, 16)"
            ]
          },
          "metadata": {},
          "execution_count": 32
        }
      ]
    },
    {
      "cell_type": "markdown",
      "source": [
        "Tambien necesita concatenar las etiquetas o clases de cada muestra, asi"
      ],
      "metadata": {
        "id": "YvY8DyvTZ3Wi"
      }
    },
    {
      "cell_type": "code",
      "source": [
        "#arreglo de numpy con 1000 veces 'PAM4' en forma de vector columna\n",
        "pam4Labels = np.repeat('PAM4', 1000).reshape(-1,1)\n",
        "#arreglo de numpy con 1000 veces 'GFSK' en forma de vector columna\n",
        "gfskLabels = np.repeat('GFSK', 1000).reshape(-1,1)\n",
        "labels = np.vstack((pam4Labels, gfskLabels))\n",
        "print(np.unique(labels),labels.shape)"
      ],
      "metadata": {
        "colab": {
          "base_uri": "https://localhost:8080/"
        },
        "id": "Tvbg58tiZ9tM",
        "outputId": "36f10876-8ced-4748-c07b-f290490d0208"
      },
      "execution_count": 33,
      "outputs": [
        {
          "output_type": "stream",
          "name": "stdout",
          "text": [
            "['GFSK' 'PAM4'] (2000, 1)\n"
          ]
        }
      ]
    },
    {
      "cell_type": "markdown",
      "source": [
        "Y de esta manera indicamos que las primeras 1000 muestras son de la clase 'PAM4', y las ultimas 1000 son de la clase 'GFSK'."
      ],
      "metadata": {
        "id": "NUcSqjPqayNZ"
      }
    },
    {
      "cell_type": "markdown",
      "source": [
        "## Transformación de características\n",
        "\n",
        "Debido que las caraceterísticas extraidas son dependientes de las magnitudes medidas en las señales, procedemos a tranformar las magnitudes de las caracteristicas al mismo rango de valores. Para esto utilizamos la libreria `sklearn` para estandarizar las magnitudes de los datos usando el comando `StandardScaler`.\n",
        "$$\n",
        "z = (x-\\mu)/\\sigma\n",
        "$$"
      ],
      "metadata": {
        "id": "7eCv6Tfxw8i-"
      }
    },
    {
      "cell_type": "code",
      "source": [
        "import sklearn\n",
        "from sklearn import metrics\n",
        "from sklearn.preprocessing import StandardScaler"
      ],
      "metadata": {
        "id": "MhVvuszKxYxK"
      },
      "execution_count": 34,
      "outputs": []
    },
    {
      "cell_type": "code",
      "source": [
        "scaler = StandardScaler()\n",
        "scaler.fit(featureMatrix)\n",
        "features_transformed = scaler.transform(featureMatrix)"
      ],
      "metadata": {
        "id": "uNSAWf2Ox2P3"
      },
      "execution_count": 35,
      "outputs": []
    },
    {
      "cell_type": "markdown",
      "source": [
        "Ahora las caracteristicas deben tener media cero y varianza 1. Lo verificamos asi:"
      ],
      "metadata": {
        "id": "iRqimcJ3IVv-"
      }
    },
    {
      "cell_type": "code",
      "source": [
        "np.mean(features_transformed,axis=0)"
      ],
      "metadata": {
        "colab": {
          "base_uri": "https://localhost:8080/"
        },
        "id": "9r_eGYGtIeFu",
        "outputId": "d586fe24-4b06-47df-c33f-0f7a00cb8841"
      },
      "execution_count": 36,
      "outputs": [
        {
          "output_type": "execute_result",
          "data": {
            "text/plain": [
              "array([-6.76569911e-16,  2.64379940e-08,  3.13807313e-15,  2.78821410e-15,\n",
              "       -2.39830378e-15,  1.88232763e-15, -3.80573351e-15, -3.80573351e-15,\n",
              "        1.87500016e-15,  1.92079685e-15,  2.27418084e-15,  7.08211267e-16,\n",
              "       -7.39186490e-16, -1.00197628e-15, -1.57597546e-15, -1.57597546e-15])"
            ]
          },
          "metadata": {},
          "execution_count": 36
        }
      ]
    },
    {
      "cell_type": "code",
      "source": [
        "np.var(features_transformed,axis=0)"
      ],
      "metadata": {
        "colab": {
          "base_uri": "https://localhost:8080/"
        },
        "id": "avx2as1kIjfe",
        "outputId": "4a27994e-0e2e-4e22-f239-7485e1938205"
      },
      "execution_count": 37,
      "outputs": [
        {
          "output_type": "execute_result",
          "data": {
            "text/plain": [
              "array([1., 1., 1., 1., 1., 1., 1., 1., 1., 1., 1., 1., 1., 1., 1., 1.])"
            ]
          },
          "metadata": {},
          "execution_count": 37
        }
      ]
    },
    {
      "cell_type": "markdown",
      "source": [
        "Finalmente guardamos los datos de las caracteristicas y las etiquetas en un diccionario usando Pickle"
      ],
      "metadata": {
        "id": "0g5ZTf4vI1kn"
      }
    },
    {
      "cell_type": "code",
      "source": [
        "data = {'features':features_transformed,'labels':labels}\n",
        "with open('dataset.pickle', 'wb') as handle:\n",
        "    pickle.dump(data, handle)"
      ],
      "metadata": {
        "id": "CHFTTpGFI_Kg"
      },
      "execution_count": 38,
      "outputs": []
    },
    {
      "cell_type": "markdown",
      "source": [
        "Los datos se puede cargar en la memoria a partir del archivo de pickle, asi:"
      ],
      "metadata": {
        "id": "91leOO02NeVc"
      }
    },
    {
      "cell_type": "code",
      "source": [
        "with open('dataset.pickle', 'rb') as handle:\n",
        "    data2 = pickle.load(handle)"
      ],
      "metadata": {
        "id": "tulk8NMlNlZq"
      },
      "execution_count": 39,
      "outputs": []
    },
    {
      "cell_type": "code",
      "source": [
        "data2['features'].shape, data['labels'].shape"
      ],
      "metadata": {
        "colab": {
          "base_uri": "https://localhost:8080/"
        },
        "id": "z_TZBCjCNpvC",
        "outputId": "c60bf9d7-fdca-48f9-b93b-e4c98cc4f26c"
      },
      "execution_count": 40,
      "outputs": [
        {
          "output_type": "execute_result",
          "data": {
            "text/plain": [
              "((2000, 16), (2000, 1))"
            ]
          },
          "metadata": {},
          "execution_count": 40
        }
      ]
    },
    {
      "cell_type": "markdown",
      "source": [
        "## **Ejercicio**: Extraer los datos de los tipos de modulacion asignados por el docente. Se deben seleccionar los datos de un SNR unico, por ejemplo 2, para todos los métodos de modulación asignados. Realizar la extraccion de los datos, la construccion de la matriz de caracteristicas y de las etiquetas usando un ciclo `for`. Guardar los datos para ser usados posteriormente para el algoritmo de aprendizaje automático."
      ],
      "metadata": {
        "id": "1LDz0cTCxOzp"
      }
    },
    {
      "cell_type": "code",
      "execution_count": 41,
      "metadata": {
        "id": "u78e1iKP3qSx"
      },
      "outputs": [],
      "source": [
        "# Hacer codigo aqui\n"
      ]
    }
  ],
  "metadata": {
    "kernelspec": {
      "display_name": "Python 3",
      "language": "python",
      "name": "python3"
    },
    "language_info": {
      "codemirror_mode": {
        "name": "ipython",
        "version": 3
      },
      "file_extension": ".py",
      "mimetype": "text/x-python",
      "name": "python",
      "nbconvert_exporter": "python",
      "pygments_lexer": "ipython3",
      "version": "3.6.3"
    },
    "colab": {
      "provenance": []
    }
  },
  "nbformat": 4,
  "nbformat_minor": 0
}