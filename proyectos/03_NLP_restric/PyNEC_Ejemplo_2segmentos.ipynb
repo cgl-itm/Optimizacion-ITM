{
  "nbformat": 4,
  "nbformat_minor": 0,
  "metadata": {
    "colab": {
      "provenance": []
    },
    "kernelspec": {
      "name": "python3",
      "display_name": "Python 3"
    },
    "language_info": {
      "name": "python"
    }
  },
  "cells": [
    {
      "cell_type": "markdown",
      "source": [
        "# Ejemplo de como evaluar el diseño de una antena usando NEC++\n",
        "\n",
        "## Instalacion de paquetes\n",
        "Instalacion de pandoc, swig y libtool\n",
        "Estos paquetes son necesarios para compilar el paquete PyNEC."
      ],
      "metadata": {
        "id": "urdEm9b6FU0h"
      }
    },
    {
      "cell_type": "code",
      "source": [
        "!sudo apt-get install pandoc swig libtool"
      ],
      "metadata": {
        "colab": {
          "base_uri": "https://localhost:8080/"
        },
        "id": "E9MX4XKkrg7R",
        "outputId": "a7db2a51-215f-4454-d879-d23207ae1a35"
      },
      "execution_count": 1,
      "outputs": [
        {
          "output_type": "stream",
          "name": "stdout",
          "text": [
            "Reading package lists... Done\n",
            "Building dependency tree... Done\n",
            "Reading state information... Done\n",
            "The following additional packages will be installed:\n",
            "  libcmark-gfm-extensions0.29.0.gfm.3 libcmark-gfm0.29.0.gfm.3 pandoc-data\n",
            "  swig4.0\n",
            "Suggested packages:\n",
            "  libtool-doc gcj-jdk texlive-latex-recommended texlive-xetex texlive-luatex\n",
            "  pandoc-citeproc texlive-latex-extra context wkhtmltopdf librsvg2-bin groff\n",
            "  ghc nodejs php python ruby libjs-mathjax libjs-katex\n",
            "  citation-style-language-styles swig-doc swig-examples swig4.0-examples\n",
            "  swig4.0-doc\n",
            "The following NEW packages will be installed:\n",
            "  libcmark-gfm-extensions0.29.0.gfm.3 libcmark-gfm0.29.0.gfm.3 libtool pandoc\n",
            "  pandoc-data swig swig4.0\n",
            "0 upgraded, 7 newly installed, 0 to remove and 45 not upgraded.\n",
            "Need to get 21.8 MB of archives.\n",
            "After this operation, 163 MB of additional disk space will be used.\n",
            "Get:1 http://archive.ubuntu.com/ubuntu jammy/universe amd64 libcmark-gfm0.29.0.gfm.3 amd64 0.29.0.gfm.3-3 [115 kB]\n",
            "Get:2 http://archive.ubuntu.com/ubuntu jammy/universe amd64 libcmark-gfm-extensions0.29.0.gfm.3 amd64 0.29.0.gfm.3-3 [25.1 kB]\n",
            "Get:3 http://archive.ubuntu.com/ubuntu jammy/main amd64 libtool all 2.4.6-15build2 [164 kB]\n",
            "Get:4 http://archive.ubuntu.com/ubuntu jammy/universe amd64 pandoc-data all 2.9.2.1-3ubuntu2 [81.8 kB]\n",
            "Get:5 http://archive.ubuntu.com/ubuntu jammy/universe amd64 pandoc amd64 2.9.2.1-3ubuntu2 [20.3 MB]\n",
            "Get:6 http://archive.ubuntu.com/ubuntu jammy/universe amd64 swig4.0 amd64 4.0.2-1ubuntu1 [1,110 kB]\n",
            "Get:7 http://archive.ubuntu.com/ubuntu jammy/universe amd64 swig all 4.0.2-1ubuntu1 [5,632 B]\n",
            "Fetched 21.8 MB in 2s (13.7 MB/s)\n",
            "debconf: unable to initialize frontend: Dialog\n",
            "debconf: (No usable dialog-like program is installed, so the dialog based frontend cannot be used. at /usr/share/perl5/Debconf/FrontEnd/Dialog.pm line 78, <> line 7.)\n",
            "debconf: falling back to frontend: Readline\n",
            "debconf: unable to initialize frontend: Readline\n",
            "debconf: (This frontend requires a controlling tty.)\n",
            "debconf: falling back to frontend: Teletype\n",
            "dpkg-preconfigure: unable to re-open stdin: \n",
            "Selecting previously unselected package libcmark-gfm0.29.0.gfm.3:amd64.\n",
            "(Reading database ... 123576 files and directories currently installed.)\n",
            "Preparing to unpack .../0-libcmark-gfm0.29.0.gfm.3_0.29.0.gfm.3-3_amd64.deb ...\n",
            "Unpacking libcmark-gfm0.29.0.gfm.3:amd64 (0.29.0.gfm.3-3) ...\n",
            "Selecting previously unselected package libcmark-gfm-extensions0.29.0.gfm.3:amd64.\n",
            "Preparing to unpack .../1-libcmark-gfm-extensions0.29.0.gfm.3_0.29.0.gfm.3-3_amd64.deb ...\n",
            "Unpacking libcmark-gfm-extensions0.29.0.gfm.3:amd64 (0.29.0.gfm.3-3) ...\n",
            "Selecting previously unselected package libtool.\n",
            "Preparing to unpack .../2-libtool_2.4.6-15build2_all.deb ...\n",
            "Unpacking libtool (2.4.6-15build2) ...\n",
            "Selecting previously unselected package pandoc-data.\n",
            "Preparing to unpack .../3-pandoc-data_2.9.2.1-3ubuntu2_all.deb ...\n",
            "Unpacking pandoc-data (2.9.2.1-3ubuntu2) ...\n",
            "Selecting previously unselected package pandoc.\n",
            "Preparing to unpack .../4-pandoc_2.9.2.1-3ubuntu2_amd64.deb ...\n",
            "Unpacking pandoc (2.9.2.1-3ubuntu2) ...\n",
            "Selecting previously unselected package swig4.0.\n",
            "Preparing to unpack .../5-swig4.0_4.0.2-1ubuntu1_amd64.deb ...\n",
            "Unpacking swig4.0 (4.0.2-1ubuntu1) ...\n",
            "Selecting previously unselected package swig.\n",
            "Preparing to unpack .../6-swig_4.0.2-1ubuntu1_all.deb ...\n",
            "Unpacking swig (4.0.2-1ubuntu1) ...\n",
            "Setting up libtool (2.4.6-15build2) ...\n",
            "Setting up libcmark-gfm0.29.0.gfm.3:amd64 (0.29.0.gfm.3-3) ...\n",
            "Setting up libcmark-gfm-extensions0.29.0.gfm.3:amd64 (0.29.0.gfm.3-3) ...\n",
            "Setting up pandoc-data (2.9.2.1-3ubuntu2) ...\n",
            "Setting up swig4.0 (4.0.2-1ubuntu1) ...\n",
            "Setting up swig (4.0.2-1ubuntu1) ...\n",
            "Setting up pandoc (2.9.2.1-3ubuntu2) ...\n",
            "Processing triggers for man-db (2.10.2-1) ...\n",
            "Processing triggers for libc-bin (2.35-0ubuntu3.4) ...\n",
            "/sbin/ldconfig.real: /usr/local/lib/libtbbmalloc_proxy.so.2 is not a symbolic link\n",
            "\n",
            "/sbin/ldconfig.real: /usr/local/lib/libtbbbind_2_5.so.3 is not a symbolic link\n",
            "\n",
            "/sbin/ldconfig.real: /usr/local/lib/libtbb.so.12 is not a symbolic link\n",
            "\n",
            "/sbin/ldconfig.real: /usr/local/lib/libtbbbind.so.3 is not a symbolic link\n",
            "\n",
            "/sbin/ldconfig.real: /usr/local/lib/libtbbbind_2_0.so.3 is not a symbolic link\n",
            "\n",
            "/sbin/ldconfig.real: /usr/local/lib/libtbbmalloc.so.2 is not a symbolic link\n",
            "\n"
          ]
        }
      ]
    },
    {
      "cell_type": "markdown",
      "source": [
        "Descargamos el repositorio de Python-NECpp"
      ],
      "metadata": {
        "id": "3e9zso__JbJX"
      }
    },
    {
      "cell_type": "code",
      "source": [
        "!git clone --recursive https://github.com/tmolteno/python-necpp.git"
      ],
      "metadata": {
        "colab": {
          "base_uri": "https://localhost:8080/"
        },
        "id": "RM4JTGH3r3Os",
        "outputId": "6e17335d-148c-46dc-bff4-446f64d5bd56"
      },
      "execution_count": 2,
      "outputs": [
        {
          "output_type": "stream",
          "name": "stdout",
          "text": [
            "Cloning into 'python-necpp'...\n",
            "remote: Enumerating objects: 544, done.\u001b[K\n",
            "remote: Counting objects: 100% (101/101), done.\u001b[K\n",
            "remote: Compressing objects: 100% (56/56), done.\u001b[K\n",
            "remote: Total 544 (delta 49), reused 87 (delta 41), pack-reused 443\u001b[K\n",
            "Receiving objects: 100% (544/544), 137.39 KiB | 11.45 MiB/s, done.\n",
            "Resolving deltas: 100% (317/317), done.\n",
            "Submodule 'necpp_src' (https://github.com/tmolteno/necpp.git) registered for path 'necpp_src'\n",
            "Cloning into '/content/python-necpp/necpp_src'...\n",
            "remote: Enumerating objects: 3072, done.        \n",
            "remote: Counting objects: 100% (56/56), done.        \n",
            "remote: Compressing objects: 100% (39/39), done.        \n",
            "remote: Total 3072 (delta 20), reused 37 (delta 15), pack-reused 3016        \n",
            "Receiving objects: 100% (3072/3072), 2.91 MiB | 16.93 MiB/s, done.\n",
            "Resolving deltas: 100% (2269/2269), done.\n",
            "Submodule path 'necpp_src': checked out '0af22b10d5b8e96da412009ef1178f1b4131cbb8'\n"
          ]
        }
      ]
    },
    {
      "cell_type": "markdown",
      "source": [
        "Instalamos PyNEC"
      ],
      "metadata": {
        "id": "5eYJCJSFJiRY"
      }
    },
    {
      "cell_type": "code",
      "source": [
        "%cd python-necpp/PyNEC\n",
        "!./build.sh"
      ],
      "metadata": {
        "colab": {
          "base_uri": "https://localhost:8080/"
        },
        "id": "XinKq-Ugs5zK",
        "outputId": "4cb84d3e-746d-4818-e6ba-4521d929b546"
      },
      "execution_count": 3,
      "outputs": [
        {
          "output_type": "stream",
          "name": "stdout",
          "text": [
            "/content/python-necpp/PyNEC\n",
            "Submodule path '../necpp_src': checked out '870f110875ef7e1fc951cbd489fde20ac9a93284'\n",
            "libtoolize --force --copy\n",
            "libtoolize: putting auxiliary files in AC_CONFIG_AUX_DIR, 'm4'.\n",
            "libtoolize: copying file 'm4/ltmain.sh'\n",
            "libtoolize: putting macros in AC_CONFIG_MACRO_DIRS, 'config/m4'.\n",
            "libtoolize: copying file 'config/m4/libtool.m4'\n",
            "libtoolize: copying file 'config/m4/ltoptions.m4'\n",
            "libtoolize: copying file 'config/m4/ltsugar.m4'\n",
            "libtoolize: copying file 'config/m4/ltversion.m4'\n",
            "libtoolize: copying file 'config/m4/lt~obsolete.m4'\n",
            "aclocal\n",
            "autoheader\n",
            "automake --add-missing\n",
            "configure.ac:6: installing 'm4/compile'\n",
            "configure.ac:6: installing 'm4/config.guess'\n",
            "configure.ac:6: installing 'm4/config.sub'\n",
            "configure.ac:5: installing 'm4/install-sh'\n",
            "configure.ac:5: installing 'm4/missing'\n",
            "src/Makefile.am: installing 'm4/depcomp'\n",
            "autoconf\n",
            "checking for a BSD-compatible install... /usr/bin/install -c\n",
            "checking whether build environment is sane... yes\n",
            "checking for a race-free mkdir -p... /usr/bin/mkdir -p\n",
            "checking for gawk... no\n",
            "checking for mawk... mawk\n",
            "checking whether make sets $(MAKE)... yes\n",
            "checking whether make supports nested variables... yes\n",
            "checking build system type... x86_64-pc-linux-gnu\n",
            "checking host system type... x86_64-pc-linux-gnu\n",
            "checking how to print strings... printf\n",
            "checking whether make supports the include directive... yes (GNU style)\n",
            "checking for gcc... gcc\n",
            "checking whether the C compiler works... yes\n",
            "checking for C compiler default output file name... a.out\n",
            "checking for suffix of executables... \n",
            "checking whether we are cross compiling... no\n",
            "checking for suffix of object files... o\n",
            "checking whether the compiler supports GNU C... yes\n",
            "checking whether gcc accepts -g... yes\n",
            "checking for gcc option to enable C11 features... none needed\n",
            "checking whether gcc understands -c and -o together... yes\n",
            "checking dependency style of gcc... gcc3\n",
            "checking for a sed that does not truncate output... /usr/bin/sed\n",
            "checking for grep that handles long lines and -e... /usr/bin/grep\n",
            "checking for egrep... /usr/bin/grep -E\n",
            "checking for fgrep... /usr/bin/grep -F\n",
            "checking for ld used by gcc... /usr/bin/ld\n",
            "checking if the linker (/usr/bin/ld) is GNU ld... yes\n",
            "checking for BSD- or MS-compatible name lister (nm)... /usr/bin/nm -B\n",
            "checking the name lister (/usr/bin/nm -B) interface... BSD nm\n",
            "checking whether ln -s works... yes\n",
            "checking the maximum length of command line arguments... 1572864\n",
            "checking how to convert x86_64-pc-linux-gnu file names to x86_64-pc-linux-gnu format... func_convert_file_noop\n",
            "checking how to convert x86_64-pc-linux-gnu file names to toolchain format... func_convert_file_noop\n",
            "checking for /usr/bin/ld option to reload object files... -r\n",
            "checking for objdump... objdump\n",
            "checking how to recognize dependent libraries... pass_all\n",
            "checking for dlltool... no\n",
            "checking how to associate runtime and link libraries... printf %s\\n\n",
            "checking for ar... ar\n",
            "checking for archiver @FILE support... @\n",
            "checking for strip... strip\n",
            "checking for ranlib... ranlib\n",
            "checking command to parse /usr/bin/nm -B output from gcc object... ok\n",
            "checking for sysroot... no\n",
            "checking for a working dd... /usr/bin/dd\n",
            "checking how to truncate binary pipes... /usr/bin/dd bs=4096 count=1\n",
            "checking for mt... no\n",
            "checking if : is a manifest tool... no\n",
            "checking for stdio.h... yes\n",
            "checking for stdlib.h... yes\n",
            "checking for string.h... yes\n",
            "checking for inttypes.h... yes\n",
            "checking for stdint.h... yes\n",
            "checking for strings.h... yes\n",
            "checking for sys/stat.h... yes\n",
            "checking for sys/types.h... yes\n",
            "checking for unistd.h... yes\n",
            "checking for dlfcn.h... yes\n",
            "checking for objdir... .libs\n",
            "checking if gcc supports -fno-rtti -fno-exceptions... no\n",
            "checking for gcc option to produce PIC... -fPIC -DPIC\n",
            "checking if gcc PIC flag -fPIC -DPIC works... yes\n",
            "checking if gcc static flag -static works... yes\n",
            "checking if gcc supports -c -o file.o... yes\n",
            "checking if gcc supports -c -o file.o... (cached) yes\n",
            "checking whether the gcc linker (/usr/bin/ld -m elf_x86_64) supports shared libraries... yes\n",
            "checking whether -lc should be explicitly linked in... no\n",
            "checking dynamic linker characteristics... GNU/Linux ld.so\n",
            "checking how to hardcode library paths into programs... immediate\n",
            "checking whether stripping libraries is possible... yes\n",
            "checking if libtool supports shared libraries... yes\n",
            "checking whether to build shared libraries... yes\n",
            "checking whether to build static libraries... yes\n",
            "checking whether make supports nested variables... (cached) yes\n",
            "checking for date... /usr/bin/date\n",
            "configure: Build date: 2024-07-13\n",
            "checking for g77... no\n",
            "checking for xlf... no\n",
            "checking for f77... f77\n",
            "checking whether the compiler supports GNU Fortran 77... yes\n",
            "checking whether f77 accepts -g... yes\n",
            "checking if libtool supports shared libraries... yes\n",
            "checking whether to build shared libraries... yes\n",
            "checking whether to build static libraries... yes\n",
            "checking for f77 option to produce PIC... -fPIC\n",
            "checking if f77 PIC flag -fPIC works... yes\n",
            "checking if f77 static flag -static works... yes\n",
            "checking if f77 supports -c -o file.o... yes\n",
            "checking if f77 supports -c -o file.o... (cached) yes\n",
            "checking whether the f77 linker (/usr/bin/ld -m elf_x86_64) supports shared libraries... yes\n",
            "checking dynamic linker characteristics... (cached) GNU/Linux ld.so\n",
            "checking how to hardcode library paths into programs... immediate\n",
            "checking how to get verbose linking output from f77... -v\n",
            "checking for Fortran 77 libraries of f77...  -L/usr/lib/gcc/x86_64-linux-gnu/11 -L/usr/lib/gcc/x86_64-linux-gnu/11/../../../x86_64-linux-gnu -L/usr/lib/gcc/x86_64-linux-gnu/11/../../../../lib -L/lib/x86_64-linux-gnu -L/lib/../lib -L/usr/lib/x86_64-linux-gnu -L/usr/lib/../lib -L/usr/local/cuda/lib64/stubs -L/usr/lib/gcc/x86_64-linux-gnu/11/../../.. -lgfortran -lm -lquadmath\n",
            "checking for dummy main to link with Fortran 77 libraries... none\n",
            "checking for Fortran 77 name-mangling scheme... lower case, underscore, no extra underscore\n",
            "checking for g++... g++\n",
            "checking whether the compiler supports GNU C++... yes\n",
            "checking whether g++ accepts -g... yes\n",
            "checking for g++ option to enable C++11 features... none needed\n",
            "checking dependency style of g++... gcc3\n",
            "checking how to run the C++ preprocessor... g++ -E\n",
            "checking for ld used by g++... /usr/bin/ld -m elf_x86_64\n",
            "checking if the linker (/usr/bin/ld -m elf_x86_64) is GNU ld... yes\n",
            "checking whether the g++ linker (/usr/bin/ld -m elf_x86_64) supports shared libraries... yes\n",
            "checking for g++ option to produce PIC... -fPIC -DPIC\n",
            "checking if g++ PIC flag -fPIC -DPIC works... yes\n",
            "checking if g++ static flag -static works... yes\n",
            "checking if g++ supports -c -o file.o... yes\n",
            "checking if g++ supports -c -o file.o... (cached) yes\n",
            "checking whether the g++ linker (/usr/bin/ld -m elf_x86_64) supports shared libraries... yes\n",
            "checking dynamic linker characteristics... (cached) GNU/Linux ld.so\n",
            "checking how to hardcode library paths into programs... immediate\n",
            "checking for pow in -lm... yes\n",
            "checking that generated files are newer than configure... done\n",
            "configure: creating ./config.status\n",
            "config.status: creating Makefile\n",
            "config.status: creating src/Makefile\n",
            "config.status: creating necpp.pc\n",
            "config.status: creating config.h\n",
            "config.status: executing depfiles commands\n",
            "config.status: executing libtool commands\n",
            "Language subdirectory: python\n",
            "Search paths:\n",
            "   ./\n",
            "   ./swig_lib/python/\n",
            "   /usr/share/swig4.0/python/\n",
            "   ./swig_lib/\n",
            "   /usr/share/swig4.0/\n",
            "Preprocessing...\n",
            "Starting language-specific parse...\n",
            "Processing types...\n",
            "C++ analysis...\n",
            "Processing nested classes...\n",
            "Generating wrappers...\n",
            "running build\n",
            "running build_py\n",
            "creating build\n",
            "creating build/lib.linux-x86_64-cpython-310\n",
            "copying PyNEC.py -> build/lib.linux-x86_64-cpython-310\n",
            "running egg_info\n",
            "creating PyNEC.egg-info\n",
            "writing PyNEC.egg-info/PKG-INFO\n",
            "writing dependency_links to PyNEC.egg-info/dependency_links.txt\n",
            "writing top-level names to PyNEC.egg-info/top_level.txt\n",
            "writing manifest file 'PyNEC.egg-info/SOURCES.txt'\n",
            "reading manifest file 'PyNEC.egg-info/SOURCES.txt'\n",
            "reading manifest template 'MANIFEST.in'\n",
            "adding license file 'LICENCE.txt'\n",
            "writing manifest file 'PyNEC.egg-info/SOURCES.txt'\n",
            "running build_ext\n",
            "building '_PyNEC' extension\n",
            "creating build/temp.linux-x86_64-cpython-310\n",
            "creating build/temp.linux-x86_64-cpython-310/necpp_src\n",
            "creating build/temp.linux-x86_64-cpython-310/necpp_src/src\n",
            "x86_64-linux-gnu-gcc -Wno-unused-result -Wsign-compare -DNDEBUG -g -fwrapv -O2 -Wall -g -fstack-protector-strong -Wformat -Werror=format-security -g -fwrapv -O2 -fPIC -DBUILD_PYTHON=1 -DNPY_NO_DEPRECATED_API=NPY_1_7_API_VERSION -I/usr/local/lib/python3.10/dist-packages/numpy/core/include -Inecpp_src/src -Inecpp_src/ -Inecpp_src/win32/ -I/usr/include/python3.10 -c PyNEC_wrap.cxx -o build/temp.linux-x86_64-cpython-310/PyNEC_wrap.o -fPIC\n",
            "x86_64-linux-gnu-gcc -Wno-unused-result -Wsign-compare -DNDEBUG -g -fwrapv -O2 -Wall -g -fstack-protector-strong -Wformat -Werror=format-security -g -fwrapv -O2 -fPIC -DBUILD_PYTHON=1 -DNPY_NO_DEPRECATED_API=NPY_1_7_API_VERSION -I/usr/local/lib/python3.10/dist-packages/numpy/core/include -Inecpp_src/src -Inecpp_src/ -Inecpp_src/win32/ -I/usr/include/python3.10 -c necpp_src/src/XGetopt.cpp -o build/temp.linux-x86_64-cpython-310/necpp_src/src/XGetopt.o -fPIC\n",
            "x86_64-linux-gnu-gcc -Wno-unused-result -Wsign-compare -DNDEBUG -g -fwrapv -O2 -Wall -g -fstack-protector-strong -Wformat -Werror=format-security -g -fwrapv -O2 -fPIC -DBUILD_PYTHON=1 -DNPY_NO_DEPRECATED_API=NPY_1_7_API_VERSION -I/usr/local/lib/python3.10/dist-packages/numpy/core/include -Inecpp_src/src -Inecpp_src/ -Inecpp_src/win32/ -I/usr/include/python3.10 -c necpp_src/src/atlas_check.cpp -o build/temp.linux-x86_64-cpython-310/necpp_src/src/atlas_check.o -fPIC\n",
            "x86_64-linux-gnu-gcc -Wno-unused-result -Wsign-compare -DNDEBUG -g -fwrapv -O2 -Wall -g -fstack-protector-strong -Wformat -Werror=format-security -g -fwrapv -O2 -fPIC -DBUILD_PYTHON=1 -DNPY_NO_DEPRECATED_API=NPY_1_7_API_VERSION -I/usr/local/lib/python3.10/dist-packages/numpy/core/include -Inecpp_src/src -Inecpp_src/ -Inecpp_src/win32/ -I/usr/include/python3.10 -c necpp_src/src/c_evlcom.cpp -o build/temp.linux-x86_64-cpython-310/necpp_src/src/c_evlcom.o -fPIC\n",
            "x86_64-linux-gnu-gcc -Wno-unused-result -Wsign-compare -DNDEBUG -g -fwrapv -O2 -Wall -g -fstack-protector-strong -Wformat -Werror=format-security -g -fwrapv -O2 -fPIC -DBUILD_PYTHON=1 -DNPY_NO_DEPRECATED_API=NPY_1_7_API_VERSION -I/usr/local/lib/python3.10/dist-packages/numpy/core/include -Inecpp_src/src -Inecpp_src/ -Inecpp_src/win32/ -I/usr/include/python3.10 -c necpp_src/src/c_geometry.cpp -o build/temp.linux-x86_64-cpython-310/necpp_src/src/c_geometry.o -fPIC\n",
            "x86_64-linux-gnu-gcc -Wno-unused-result -Wsign-compare -DNDEBUG -g -fwrapv -O2 -Wall -g -fstack-protector-strong -Wformat -Werror=format-security -g -fwrapv -O2 -fPIC -DBUILD_PYTHON=1 -DNPY_NO_DEPRECATED_API=NPY_1_7_API_VERSION -I/usr/local/lib/python3.10/dist-packages/numpy/core/include -Inecpp_src/src -Inecpp_src/ -Inecpp_src/win32/ -I/usr/include/python3.10 -c necpp_src/src/c_ggrid.cpp -o build/temp.linux-x86_64-cpython-310/necpp_src/src/c_ggrid.o -fPIC\n",
            "x86_64-linux-gnu-gcc -Wno-unused-result -Wsign-compare -DNDEBUG -g -fwrapv -O2 -Wall -g -fstack-protector-strong -Wformat -Werror=format-security -g -fwrapv -O2 -fPIC -DBUILD_PYTHON=1 -DNPY_NO_DEPRECATED_API=NPY_1_7_API_VERSION -I/usr/local/lib/python3.10/dist-packages/numpy/core/include -Inecpp_src/src -Inecpp_src/ -Inecpp_src/win32/ -I/usr/include/python3.10 -c necpp_src/src/c_plot_card.cpp -o build/temp.linux-x86_64-cpython-310/necpp_src/src/c_plot_card.o -fPIC\n",
            "x86_64-linux-gnu-gcc -Wno-unused-result -Wsign-compare -DNDEBUG -g -fwrapv -O2 -Wall -g -fstack-protector-strong -Wformat -Werror=format-security -g -fwrapv -O2 -fPIC -DBUILD_PYTHON=1 -DNPY_NO_DEPRECATED_API=NPY_1_7_API_VERSION -I/usr/local/lib/python3.10/dist-packages/numpy/core/include -Inecpp_src/src -Inecpp_src/ -Inecpp_src/win32/ -I/usr/include/python3.10 -c necpp_src/src/electromag.cpp -o build/temp.linux-x86_64-cpython-310/necpp_src/src/electromag.o -fPIC\n",
            "x86_64-linux-gnu-gcc -Wno-unused-result -Wsign-compare -DNDEBUG -g -fwrapv -O2 -Wall -g -fstack-protector-strong -Wformat -Werror=format-security -g -fwrapv -O2 -fPIC -DBUILD_PYTHON=1 -DNPY_NO_DEPRECATED_API=NPY_1_7_API_VERSION -I/usr/local/lib/python3.10/dist-packages/numpy/core/include -Inecpp_src/src -Inecpp_src/ -Inecpp_src/win32/ -I/usr/include/python3.10 -c necpp_src/src/libNEC.cpp -o build/temp.linux-x86_64-cpython-310/necpp_src/src/libNEC.o -fPIC\n",
            "x86_64-linux-gnu-gcc -Wno-unused-result -Wsign-compare -DNDEBUG -g -fwrapv -O2 -Wall -g -fstack-protector-strong -Wformat -Werror=format-security -g -fwrapv -O2 -fPIC -DBUILD_PYTHON=1 -DNPY_NO_DEPRECATED_API=NPY_1_7_API_VERSION -I/usr/local/lib/python3.10/dist-packages/numpy/core/include -Inecpp_src/src -Inecpp_src/ -Inecpp_src/win32/ -I/usr/include/python3.10 -c necpp_src/src/matrix_algebra.cpp -o build/temp.linux-x86_64-cpython-310/necpp_src/src/matrix_algebra.o -fPIC\n",
            "x86_64-linux-gnu-gcc -Wno-unused-result -Wsign-compare -DNDEBUG -g -fwrapv -O2 -Wall -g -fstack-protector-strong -Wformat -Werror=format-security -g -fwrapv -O2 -fPIC -DBUILD_PYTHON=1 -DNPY_NO_DEPRECATED_API=NPY_1_7_API_VERSION -I/usr/local/lib/python3.10/dist-packages/numpy/core/include -Inecpp_src/src -Inecpp_src/ -Inecpp_src/win32/ -I/usr/include/python3.10 -c necpp_src/src/misc.cpp -o build/temp.linux-x86_64-cpython-310/necpp_src/src/misc.o -fPIC\n",
            "x86_64-linux-gnu-gcc -Wno-unused-result -Wsign-compare -DNDEBUG -g -fwrapv -O2 -Wall -g -fstack-protector-strong -Wformat -Werror=format-security -g -fwrapv -O2 -fPIC -DBUILD_PYTHON=1 -DNPY_NO_DEPRECATED_API=NPY_1_7_API_VERSION -I/usr/local/lib/python3.10/dist-packages/numpy/core/include -Inecpp_src/src -Inecpp_src/ -Inecpp_src/win32/ -I/usr/include/python3.10 -c necpp_src/src/nec_context.cpp -o build/temp.linux-x86_64-cpython-310/necpp_src/src/nec_context.o -fPIC\n",
            "x86_64-linux-gnu-gcc -Wno-unused-result -Wsign-compare -DNDEBUG -g -fwrapv -O2 -Wall -g -fstack-protector-strong -Wformat -Werror=format-security -g -fwrapv -O2 -fPIC -DBUILD_PYTHON=1 -DNPY_NO_DEPRECATED_API=NPY_1_7_API_VERSION -I/usr/local/lib/python3.10/dist-packages/numpy/core/include -Inecpp_src/src -Inecpp_src/ -Inecpp_src/win32/ -I/usr/include/python3.10 -c necpp_src/src/nec_exception.cpp -o build/temp.linux-x86_64-cpython-310/necpp_src/src/nec_exception.o -fPIC\n",
            "x86_64-linux-gnu-gcc -Wno-unused-result -Wsign-compare -DNDEBUG -g -fwrapv -O2 -Wall -g -fstack-protector-strong -Wformat -Werror=format-security -g -fwrapv -O2 -fPIC -DBUILD_PYTHON=1 -DNPY_NO_DEPRECATED_API=NPY_1_7_API_VERSION -I/usr/local/lib/python3.10/dist-packages/numpy/core/include -Inecpp_src/src -Inecpp_src/ -Inecpp_src/win32/ -I/usr/include/python3.10 -c necpp_src/src/nec_ground.cpp -o build/temp.linux-x86_64-cpython-310/necpp_src/src/nec_ground.o -fPIC\n",
            "x86_64-linux-gnu-gcc -Wno-unused-result -Wsign-compare -DNDEBUG -g -fwrapv -O2 -Wall -g -fstack-protector-strong -Wformat -Werror=format-security -g -fwrapv -O2 -fPIC -DBUILD_PYTHON=1 -DNPY_NO_DEPRECATED_API=NPY_1_7_API_VERSION -I/usr/local/lib/python3.10/dist-packages/numpy/core/include -Inecpp_src/src -Inecpp_src/ -Inecpp_src/win32/ -I/usr/include/python3.10 -c necpp_src/src/nec_output.cpp -o build/temp.linux-x86_64-cpython-310/necpp_src/src/nec_output.o -fPIC\n",
            "x86_64-linux-gnu-gcc -Wno-unused-result -Wsign-compare -DNDEBUG -g -fwrapv -O2 -Wall -g -fstack-protector-strong -Wformat -Werror=format-security -g -fwrapv -O2 -fPIC -DBUILD_PYTHON=1 -DNPY_NO_DEPRECATED_API=NPY_1_7_API_VERSION -I/usr/local/lib/python3.10/dist-packages/numpy/core/include -Inecpp_src/src -Inecpp_src/ -Inecpp_src/win32/ -I/usr/include/python3.10 -c necpp_src/src/nec_radiation_pattern.cpp -o build/temp.linux-x86_64-cpython-310/necpp_src/src/nec_radiation_pattern.o -fPIC\n",
            "x86_64-linux-gnu-gcc -Wno-unused-result -Wsign-compare -DNDEBUG -g -fwrapv -O2 -Wall -g -fstack-protector-strong -Wformat -Werror=format-security -g -fwrapv -O2 -fPIC -DBUILD_PYTHON=1 -DNPY_NO_DEPRECATED_API=NPY_1_7_API_VERSION -I/usr/local/lib/python3.10/dist-packages/numpy/core/include -Inecpp_src/src -Inecpp_src/ -Inecpp_src/win32/ -I/usr/include/python3.10 -c necpp_src/src/nec_results.cpp -o build/temp.linux-x86_64-cpython-310/necpp_src/src/nec_results.o -fPIC\n",
            "x86_64-linux-gnu-gcc -Wno-unused-result -Wsign-compare -DNDEBUG -g -fwrapv -O2 -Wall -g -fstack-protector-strong -Wformat -Werror=format-security -g -fwrapv -O2 -fPIC -DBUILD_PYTHON=1 -DNPY_NO_DEPRECATED_API=NPY_1_7_API_VERSION -I/usr/local/lib/python3.10/dist-packages/numpy/core/include -Inecpp_src/src -Inecpp_src/ -Inecpp_src/win32/ -I/usr/include/python3.10 -c necpp_src/src/nec_structure_currents.cpp -o build/temp.linux-x86_64-cpython-310/necpp_src/src/nec_structure_currents.o -fPIC\n",
            "x86_64-linux-gnu-g++ -shared -Wl,-O1 -Wl,-Bsymbolic-functions -Wl,-Bsymbolic-functions -g -fwrapv -O2 build/temp.linux-x86_64-cpython-310/PyNEC_wrap.o build/temp.linux-x86_64-cpython-310/necpp_src/src/XGetopt.o build/temp.linux-x86_64-cpython-310/necpp_src/src/atlas_check.o build/temp.linux-x86_64-cpython-310/necpp_src/src/c_evlcom.o build/temp.linux-x86_64-cpython-310/necpp_src/src/c_geometry.o build/temp.linux-x86_64-cpython-310/necpp_src/src/c_ggrid.o build/temp.linux-x86_64-cpython-310/necpp_src/src/c_plot_card.o build/temp.linux-x86_64-cpython-310/necpp_src/src/electromag.o build/temp.linux-x86_64-cpython-310/necpp_src/src/libNEC.o build/temp.linux-x86_64-cpython-310/necpp_src/src/matrix_algebra.o build/temp.linux-x86_64-cpython-310/necpp_src/src/misc.o build/temp.linux-x86_64-cpython-310/necpp_src/src/nec_context.o build/temp.linux-x86_64-cpython-310/necpp_src/src/nec_exception.o build/temp.linux-x86_64-cpython-310/necpp_src/src/nec_ground.o build/temp.linux-x86_64-cpython-310/necpp_src/src/nec_output.o build/temp.linux-x86_64-cpython-310/necpp_src/src/nec_radiation_pattern.o build/temp.linux-x86_64-cpython-310/necpp_src/src/nec_results.o build/temp.linux-x86_64-cpython-310/necpp_src/src/nec_structure_currents.o -L/usr/lib/x86_64-linux-gnu -o build/lib.linux-x86_64-cpython-310/_PyNEC.cpython-310-x86_64-linux-gnu.so -lstdc++\n"
          ]
        }
      ]
    },
    {
      "cell_type": "markdown",
      "source": [
        "Finalmente, instalamos el paquete PyNEC en python."
      ],
      "metadata": {
        "id": "lK3nD3ENJqnf"
      }
    },
    {
      "cell_type": "code",
      "source": [
        "!pip3 install ."
      ],
      "metadata": {
        "colab": {
          "base_uri": "https://localhost:8080/"
        },
        "id": "_rZtmQtktYln",
        "outputId": "d5558448-0e70-4b57-84fe-63cfa3ae4daf"
      },
      "execution_count": 4,
      "outputs": [
        {
          "output_type": "stream",
          "name": "stdout",
          "text": [
            "Processing /content/python-necpp/PyNEC\n",
            "  Installing build dependencies ... \u001b[?25l\u001b[?25hdone\n",
            "  Getting requirements to build wheel ... \u001b[?25l\u001b[?25hdone\n",
            "  Preparing metadata (pyproject.toml) ... \u001b[?25l\u001b[?25hdone\n",
            "Building wheels for collected packages: PyNEC\n",
            "  Building wheel for PyNEC (pyproject.toml) ... \u001b[?25l\u001b[?25hdone\n",
            "  Created wheel for PyNEC: filename=PyNEC-1.7.3.6-cp310-cp310-linux_x86_64.whl size=2133739 sha256=fbf1704f726fbdd37aaa5dab56b54ae0ec03a491343a8f677be6c2b2cf802562\n",
            "  Stored in directory: /tmp/pip-ephem-wheel-cache-ijtw9gp3/wheels/c3/55/21/71cf4aa828eef2d605c2d8ce2054dfbf9bcaa9d05b346ce24a\n",
            "Successfully built PyNEC\n",
            "Installing collected packages: PyNEC\n",
            "Successfully installed PyNEC-1.7.3.6\n"
          ]
        }
      ]
    },
    {
      "cell_type": "markdown",
      "source": [
        "## Importar librerias y definir funcion de ganancia\n",
        "Importamos los paquete que se van a usar en este notebook"
      ],
      "metadata": {
        "id": "C5-GG1QDKIBG"
      }
    },
    {
      "cell_type": "code",
      "source": [
        "from PyNEC import *\n",
        "import numpy as np\n",
        "import plotly.express as px"
      ],
      "metadata": {
        "id": "rAGqHMhdvfKq"
      },
      "execution_count": 8,
      "outputs": []
    },
    {
      "cell_type": "markdown",
      "source": [
        "Definimos los parametros para la simulacion de los campos electromagneticos, con la variable `numSegments` controlamos la cantidad de segmentos del problema"
      ],
      "metadata": {
        "id": "Hw2wxm3QKMHv"
      }
    },
    {
      "cell_type": "code",
      "source": [
        "thickness = 0.002 #Grosor del alambre en metros\n",
        "freq = 2500000000 #Frecuencia de resonancia de interes\n",
        "numSegments = 2   #Numero de segmentos a doblar\n",
        "waveLength = 299792458.0 / freq #calculo de la longitud de onda\n",
        "tol = 1e-3        #Tolerancia entre segmentos\n",
        "directionality = 2 #Seleccionar que funcion optimizar"
      ],
      "metadata": {
        "id": "4PjBtMlYKB3f"
      },
      "execution_count": 99,
      "outputs": []
    },
    {
      "cell_type": "markdown",
      "source": [
        "Definimos la funcion a evaluar, en este caso nos interesa maximizar la ganacia de la antena en la frecuencia de 2.5GHz. Este funcion esta diseñada para 2 segmentos, se debe modificar para incluir otra cantidad de segmentos."
      ],
      "metadata": {
        "id": "MFwtq_EWLfZm"
      }
    },
    {
      "cell_type": "code",
      "source": [
        "def ObjFunc(params):\n",
        "    #Params contiene los elementos x1,y1,z1,x2,y2,z2\n",
        "    x1 = params[0]\n",
        "    y1 = params[1]\n",
        "    z1 = params[2]\n",
        "    x2 = params[3]\n",
        "    y2 = params[4]\n",
        "    z2 = params[5]\n",
        "\n",
        "    #creation of a nec context\n",
        "    context=nec_context()\n",
        "    #get the associated geometry\n",
        "    geo = context.get_geometry()\n",
        "    #Sometimes the design crashes\n",
        "    try:\n",
        "      #add wires to the geometry\n",
        "      geo.wire(1, 1, 0.0, 0.0, 0.0, x1, y1, z1, thickness, 1.0, 1.0)\n",
        "      geo.wire(2, 1, x1+tol, y1+tol, z1+tol, x2, y2, z2, thickness, 1.0, 1.0)\n",
        "      #finish design\n",
        "      context.geometry_complete(0)\n",
        "      #Test signals set-up\n",
        "\t    #check: https://pypi.org/project/necpp/\n",
        "      #Define ground's location\n",
        "      context.gn_card(1, 0, 0, 0, 0, 0, 0, 0)\n",
        "      #Define excitation source parameters\n",
        "      context.ex_card(0, 1, 1, 0, 1.0, 0, 0, 0, 0, 0)\n",
        "      #Define range of frequencies, this case only 2.5GHz\n",
        "      context.fr_card(0, 1, freq / 1000000, 0.0)\n",
        "      #Define radiation pattern parameters\n",
        "      context.rp_card(0, 17, 45, 0, 5, 0, 0, 0, 0, 5, 8, 0, 0)\n",
        "\n",
        "      # Objective function output\n",
        "      if (directionality == 0):\n",
        "        gain = context.get_gain_max(0)\n",
        "      elif (directionality==1):\n",
        "        gain = context.get_gain_min(0)\n",
        "      else:\n",
        "        gain = context.get_gain_mean(0)\n",
        "    except: #If simulation crashes then assign -999 to gain value.\n",
        "      gain = -999.0\n",
        "    return gain"
      ],
      "metadata": {
        "id": "Temf5q0Ag4U0"
      },
      "execution_count": 109,
      "outputs": []
    },
    {
      "cell_type": "markdown",
      "source": [
        "Verificamos la correcta ejecucion de la funcion anterior a partir de unos puntos aleatorios que no superen $\\lambda$/2."
      ],
      "metadata": {
        "id": "8qSl_AtJQRro"
      }
    },
    {
      "cell_type": "code",
      "source": [
        "bestGain = 0\n",
        "for k in range(1000):\n",
        "  np.random.seed(k)\n",
        "  parameters = np.random.rand(3*numSegments)*waveLength/2.0\n",
        "  gain = ObjFunc(parameters)\n",
        "\n",
        "  print(k, gain)\n",
        "  if bestGain<gain:\n",
        "    gain = bestGain\n",
        "    bestParams = parameters.copy()\n",
        "\n",
        "  if gain < -900:\n",
        "    break"
      ],
      "metadata": {
        "colab": {
          "base_uri": "https://localhost:8080/"
        },
        "id": "5d2xIhlJg0GE",
        "outputId": "d778537e-3369-4639-eb6f-9fcb4d65989c"
      },
      "execution_count": 114,
      "outputs": [
        {
          "output_type": "stream",
          "name": "stdout",
          "text": [
            "0 0.7075200783750574\n",
            "1 1.62170765787929\n",
            "2 0.6540168464739935\n",
            "3 1.0913462631751696\n",
            "4 0.3382429043140919\n",
            "5 1.0728640025512628\n",
            "6 -1.18317601242824\n",
            "7 1.173821196257383\n",
            "8 -0.15472604135016463\n",
            "9 -0.04385429706289015\n",
            "10 0.9123077972565694\n",
            "11 0.858579899972309\n",
            "12 1.0309919438076403\n",
            "13 0.6818321110515929\n",
            "14 -0.08350106075464873\n",
            "15 2.4969984345920664\n",
            "16 -0.6203577525056865\n",
            "17 1.233880369009128\n",
            "18 0.41957288316477853\n",
            "19 -0.6833937702141414\n",
            "20 0.3824073191358803\n",
            "21 -0.7960407821595604\n",
            "22 1.1768381538611368\n",
            "23 -0.49395988747740655\n",
            "24 -1.2394021188741329\n",
            "25 -1.0706496539927062\n",
            "26 0.518005714327042\n",
            "27 0.6554671482046373\n",
            "28 1.380502577417843\n",
            "29 1.5932841129570872\n",
            "30 0.929533659827683\n",
            "31 0.34831436011637373\n",
            "32 0.9126226612815653\n",
            "33 1.2028040994304472\n",
            "34 1.1303097648602185\n",
            "35 1.2606122608446222\n",
            "36 0.46070238283588183\n",
            "37 1.0145980484880737\n",
            "38 0.32864778140277034\n",
            "39 -0.13767422532060306\n",
            "40 0.012947156264510533\n",
            "41 -0.7381716234407062\n",
            "42 0.24682156922431758\n",
            "43 0.31743636252734875\n",
            "44 0.2734033952727093\n",
            "45 0.6397946433737058\n",
            "46 0.9945933028273921\n",
            "47 0.5817369641623205\n",
            "48 1.028178986549671\n",
            "49 0.049003262108581795\n",
            "50 0.4092255666210695\n",
            "51 0.9684018316425105\n",
            "52 1.2025515046526138\n",
            "53 0.5674727160431979\n",
            "54 0.05206688791588689\n",
            "55 -0.13408702238940542\n",
            "56 -0.09715529780986713\n",
            "57 0.6764673925032932\n",
            "58 0.7303297940079831\n",
            "59 0.057145424157578555\n",
            "60 1.1565633010440513\n",
            "61 0.0494100806397423\n",
            "62 0.5361865785603297\n",
            "63 2.0622875512944807\n",
            "64 0.6300033255011781\n",
            "65 0.4828007934948766\n",
            "66 0.9102150921293356\n",
            "67 -0.8212357346329726\n",
            "68 0.521377637483077\n",
            "69 1.073851623865344\n",
            "70 0.024476025736746173\n",
            "71 0.09185338819223603\n",
            "72 0.7947222587304186\n",
            "73 0.7900960294132567\n",
            "74 0.11694064927426823\n",
            "75 0.5038741863082609\n",
            "76 0.8423821880311927\n",
            "77 -1.2248550669239207\n",
            "78 0.6870470721653827\n",
            "79 1.022576568011265\n",
            "80 1.1782375864550727\n",
            "81 -2.030072260774112\n",
            "82 0.818526011306043\n",
            "83 1.0041464920379202\n",
            "84 0.5414480084187372\n",
            "85 1.1155620961989083\n",
            "86 0.07900715864293469\n",
            "87 -1.2838591708587952\n",
            "88 1.0140642093028898\n",
            "89 0.9860105433669645\n",
            "90 -1.1455358727237799\n",
            "91 0.5849085996848223\n",
            "92 0.32389194230825236\n",
            "93 1.1373315742313195\n",
            "94 -0.23519472971575203\n",
            "95 -0.6548862885889907\n",
            "96 0.010332887022822989\n",
            "97 -0.40284269015918955\n",
            "98 0.9605275983501529\n",
            "99 0.560875407275308\n",
            "100 1.1407819917136597\n",
            "101 1.6429701432516022\n",
            "102 1.0973639380425322\n",
            "103 1.2212914677982674\n",
            "104 -0.8909610844292085\n",
            "105 0.6457234952733597\n",
            "106 0.9638925071583496\n",
            "107 -0.4143717879551624\n",
            "108 0.18622593533273113\n",
            "109 0.6916448683994281\n",
            "110 1.138330678890885\n",
            "111 1.0880106419885625\n",
            "112 0.17293295981709986\n",
            "113 -0.7065421986286365\n",
            "114 0.42163576069813896\n",
            "115 1.1216953330792794\n",
            "116 -0.8387187550879885\n",
            "117 0.14065293820679498\n",
            "118 0.7219638544917292\n",
            "119 0.9318222726845661\n",
            "120 0.759855940797009\n",
            "121 0.9622051510442489\n",
            "122 1.1318785406501288\n",
            "123 1.2790669851893637\n",
            "124 0.519066574001458\n",
            "125 0.2629708822445057\n",
            "126 -0.09371107814046571\n",
            "127 1.2881982315916634\n",
            "128 1.1729241425832113\n",
            "129 0.9451452736638388\n",
            "130 0.2574527781735643\n",
            "131 0.5104280069639512\n",
            "132 0.7292817393553349\n",
            "133 -0.24245090513455383\n",
            "134 0.8310770574190286\n",
            "135 1.3047345464056128\n",
            "136 0.651232925426818\n",
            "137 0.6183425612191867\n",
            "138 0.9698058849957268\n",
            "139 -0.059983041127233794\n",
            "140 5.322081605309675\n",
            "141 0.9346212193423166\n",
            "142 0.32985515968309287\n",
            "143 0.9379488111369098\n",
            "144 0.8633238766151448\n",
            "145 0.16481905006111955\n",
            "146 0.9307256452730844\n",
            "147 0.05482123371528237\n",
            "148 0.5136419736058397\n",
            "149 -999.0\n"
          ]
        }
      ]
    },
    {
      "cell_type": "markdown",
      "source": [
        "Tomamos los parametros y los volemos una matriz de 3x3 (numSegments+1,3). Lo hacemos con el de hacer mas facil el grafico de la antena."
      ],
      "metadata": {
        "id": "uNm7b0R6QgwD"
      }
    },
    {
      "cell_type": "code",
      "source": [
        "x3D = bestParams.copy()\n",
        "x3D = np.insert(x3D, 0 , [0.,0.,0.])\n",
        "matriz = x3D.reshape(numSegments+1,3)\n",
        "xline = matriz[:,0]\n",
        "yline = matriz[:,1]\n",
        "zline = matriz[:,2]"
      ],
      "metadata": {
        "id": "ixpajDn-Ekuy"
      },
      "execution_count": 116,
      "outputs": []
    },
    {
      "cell_type": "markdown",
      "source": [
        "Finalmente graficamos el diseño de la antena"
      ],
      "metadata": {
        "id": "yPIkdVNBQ6gb"
      }
    },
    {
      "cell_type": "code",
      "source": [
        "fig = px.line_3d(x=xline, y=yline, z=zline)\n",
        "fig.show()"
      ],
      "metadata": {
        "colab": {
          "base_uri": "https://localhost:8080/",
          "height": 542
        },
        "id": "SCzt82Z4Nd3X",
        "outputId": "69122ea6-84bc-4d9b-b636-b3c6d5899ae5"
      },
      "execution_count": 117,
      "outputs": [
        {
          "output_type": "display_data",
          "data": {
            "text/html": [
              "<html>\n",
              "<head><meta charset=\"utf-8\" /></head>\n",
              "<body>\n",
              "    <div>            <script src=\"https://cdnjs.cloudflare.com/ajax/libs/mathjax/2.7.5/MathJax.js?config=TeX-AMS-MML_SVG\"></script><script type=\"text/javascript\">if (window.MathJax && window.MathJax.Hub && window.MathJax.Hub.Config) {window.MathJax.Hub.Config({SVG: {font: \"STIX-Web\"}});}</script>                <script type=\"text/javascript\">window.PlotlyConfig = {MathJaxConfig: 'local'};</script>\n",
              "        <script charset=\"utf-8\" src=\"https://cdn.plot.ly/plotly-2.24.1.min.js\"></script>                <div id=\"2f6c346b-c7b4-4371-9764-86cb01661cf5\" class=\"plotly-graph-div\" style=\"height:525px; width:100%;\"></div>            <script type=\"text/javascript\">                                    window.PLOTLYENV=window.PLOTLYENV || {};                                    if (document.getElementById(\"2f6c346b-c7b4-4371-9764-86cb01661cf5\")) {                    Plotly.newPlot(                        \"2f6c346b-c7b4-4371-9764-86cb01661cf5\",                        [{\"hovertemplate\":\"x=%{x}\\u003cbr\\u003ey=%{y}\\u003cbr\\u003ez=%{z}\\u003cextra\\u003e\\u003c\\u002fextra\\u003e\",\"legendgroup\":\"\",\"line\":{\"color\":\"#636efa\",\"dash\":\"solid\"},\"marker\":{\"symbol\":\"circle\"},\"mode\":\"lines\",\"name\":\"\",\"scene\":\"scene\",\"showlegend\":false,\"x\":[0.0,0.034500466957597335,0.0037441155544252988],\"y\":[0.0,0.008412680457663349,0.034521336108005056],\"z\":[0.0,0.00948979369877271,0.03635913695263066],\"type\":\"scatter3d\"}],                        {\"template\":{\"data\":{\"histogram2dcontour\":[{\"type\":\"histogram2dcontour\",\"colorbar\":{\"outlinewidth\":0,\"ticks\":\"\"},\"colorscale\":[[0.0,\"#0d0887\"],[0.1111111111111111,\"#46039f\"],[0.2222222222222222,\"#7201a8\"],[0.3333333333333333,\"#9c179e\"],[0.4444444444444444,\"#bd3786\"],[0.5555555555555556,\"#d8576b\"],[0.6666666666666666,\"#ed7953\"],[0.7777777777777778,\"#fb9f3a\"],[0.8888888888888888,\"#fdca26\"],[1.0,\"#f0f921\"]]}],\"choropleth\":[{\"type\":\"choropleth\",\"colorbar\":{\"outlinewidth\":0,\"ticks\":\"\"}}],\"histogram2d\":[{\"type\":\"histogram2d\",\"colorbar\":{\"outlinewidth\":0,\"ticks\":\"\"},\"colorscale\":[[0.0,\"#0d0887\"],[0.1111111111111111,\"#46039f\"],[0.2222222222222222,\"#7201a8\"],[0.3333333333333333,\"#9c179e\"],[0.4444444444444444,\"#bd3786\"],[0.5555555555555556,\"#d8576b\"],[0.6666666666666666,\"#ed7953\"],[0.7777777777777778,\"#fb9f3a\"],[0.8888888888888888,\"#fdca26\"],[1.0,\"#f0f921\"]]}],\"heatmap\":[{\"type\":\"heatmap\",\"colorbar\":{\"outlinewidth\":0,\"ticks\":\"\"},\"colorscale\":[[0.0,\"#0d0887\"],[0.1111111111111111,\"#46039f\"],[0.2222222222222222,\"#7201a8\"],[0.3333333333333333,\"#9c179e\"],[0.4444444444444444,\"#bd3786\"],[0.5555555555555556,\"#d8576b\"],[0.6666666666666666,\"#ed7953\"],[0.7777777777777778,\"#fb9f3a\"],[0.8888888888888888,\"#fdca26\"],[1.0,\"#f0f921\"]]}],\"heatmapgl\":[{\"type\":\"heatmapgl\",\"colorbar\":{\"outlinewidth\":0,\"ticks\":\"\"},\"colorscale\":[[0.0,\"#0d0887\"],[0.1111111111111111,\"#46039f\"],[0.2222222222222222,\"#7201a8\"],[0.3333333333333333,\"#9c179e\"],[0.4444444444444444,\"#bd3786\"],[0.5555555555555556,\"#d8576b\"],[0.6666666666666666,\"#ed7953\"],[0.7777777777777778,\"#fb9f3a\"],[0.8888888888888888,\"#fdca26\"],[1.0,\"#f0f921\"]]}],\"contourcarpet\":[{\"type\":\"contourcarpet\",\"colorbar\":{\"outlinewidth\":0,\"ticks\":\"\"}}],\"contour\":[{\"type\":\"contour\",\"colorbar\":{\"outlinewidth\":0,\"ticks\":\"\"},\"colorscale\":[[0.0,\"#0d0887\"],[0.1111111111111111,\"#46039f\"],[0.2222222222222222,\"#7201a8\"],[0.3333333333333333,\"#9c179e\"],[0.4444444444444444,\"#bd3786\"],[0.5555555555555556,\"#d8576b\"],[0.6666666666666666,\"#ed7953\"],[0.7777777777777778,\"#fb9f3a\"],[0.8888888888888888,\"#fdca26\"],[1.0,\"#f0f921\"]]}],\"surface\":[{\"type\":\"surface\",\"colorbar\":{\"outlinewidth\":0,\"ticks\":\"\"},\"colorscale\":[[0.0,\"#0d0887\"],[0.1111111111111111,\"#46039f\"],[0.2222222222222222,\"#7201a8\"],[0.3333333333333333,\"#9c179e\"],[0.4444444444444444,\"#bd3786\"],[0.5555555555555556,\"#d8576b\"],[0.6666666666666666,\"#ed7953\"],[0.7777777777777778,\"#fb9f3a\"],[0.8888888888888888,\"#fdca26\"],[1.0,\"#f0f921\"]]}],\"mesh3d\":[{\"type\":\"mesh3d\",\"colorbar\":{\"outlinewidth\":0,\"ticks\":\"\"}}],\"scatter\":[{\"fillpattern\":{\"fillmode\":\"overlay\",\"size\":10,\"solidity\":0.2},\"type\":\"scatter\"}],\"parcoords\":[{\"type\":\"parcoords\",\"line\":{\"colorbar\":{\"outlinewidth\":0,\"ticks\":\"\"}}}],\"scatterpolargl\":[{\"type\":\"scatterpolargl\",\"marker\":{\"colorbar\":{\"outlinewidth\":0,\"ticks\":\"\"}}}],\"bar\":[{\"error_x\":{\"color\":\"#2a3f5f\"},\"error_y\":{\"color\":\"#2a3f5f\"},\"marker\":{\"line\":{\"color\":\"#E5ECF6\",\"width\":0.5},\"pattern\":{\"fillmode\":\"overlay\",\"size\":10,\"solidity\":0.2}},\"type\":\"bar\"}],\"scattergeo\":[{\"type\":\"scattergeo\",\"marker\":{\"colorbar\":{\"outlinewidth\":0,\"ticks\":\"\"}}}],\"scatterpolar\":[{\"type\":\"scatterpolar\",\"marker\":{\"colorbar\":{\"outlinewidth\":0,\"ticks\":\"\"}}}],\"histogram\":[{\"marker\":{\"pattern\":{\"fillmode\":\"overlay\",\"size\":10,\"solidity\":0.2}},\"type\":\"histogram\"}],\"scattergl\":[{\"type\":\"scattergl\",\"marker\":{\"colorbar\":{\"outlinewidth\":0,\"ticks\":\"\"}}}],\"scatter3d\":[{\"type\":\"scatter3d\",\"line\":{\"colorbar\":{\"outlinewidth\":0,\"ticks\":\"\"}},\"marker\":{\"colorbar\":{\"outlinewidth\":0,\"ticks\":\"\"}}}],\"scattermapbox\":[{\"type\":\"scattermapbox\",\"marker\":{\"colorbar\":{\"outlinewidth\":0,\"ticks\":\"\"}}}],\"scatterternary\":[{\"type\":\"scatterternary\",\"marker\":{\"colorbar\":{\"outlinewidth\":0,\"ticks\":\"\"}}}],\"scattercarpet\":[{\"type\":\"scattercarpet\",\"marker\":{\"colorbar\":{\"outlinewidth\":0,\"ticks\":\"\"}}}],\"carpet\":[{\"aaxis\":{\"endlinecolor\":\"#2a3f5f\",\"gridcolor\":\"white\",\"linecolor\":\"white\",\"minorgridcolor\":\"white\",\"startlinecolor\":\"#2a3f5f\"},\"baxis\":{\"endlinecolor\":\"#2a3f5f\",\"gridcolor\":\"white\",\"linecolor\":\"white\",\"minorgridcolor\":\"white\",\"startlinecolor\":\"#2a3f5f\"},\"type\":\"carpet\"}],\"table\":[{\"cells\":{\"fill\":{\"color\":\"#EBF0F8\"},\"line\":{\"color\":\"white\"}},\"header\":{\"fill\":{\"color\":\"#C8D4E3\"},\"line\":{\"color\":\"white\"}},\"type\":\"table\"}],\"barpolar\":[{\"marker\":{\"line\":{\"color\":\"#E5ECF6\",\"width\":0.5},\"pattern\":{\"fillmode\":\"overlay\",\"size\":10,\"solidity\":0.2}},\"type\":\"barpolar\"}],\"pie\":[{\"automargin\":true,\"type\":\"pie\"}]},\"layout\":{\"autotypenumbers\":\"strict\",\"colorway\":[\"#636efa\",\"#EF553B\",\"#00cc96\",\"#ab63fa\",\"#FFA15A\",\"#19d3f3\",\"#FF6692\",\"#B6E880\",\"#FF97FF\",\"#FECB52\"],\"font\":{\"color\":\"#2a3f5f\"},\"hovermode\":\"closest\",\"hoverlabel\":{\"align\":\"left\"},\"paper_bgcolor\":\"white\",\"plot_bgcolor\":\"#E5ECF6\",\"polar\":{\"bgcolor\":\"#E5ECF6\",\"angularaxis\":{\"gridcolor\":\"white\",\"linecolor\":\"white\",\"ticks\":\"\"},\"radialaxis\":{\"gridcolor\":\"white\",\"linecolor\":\"white\",\"ticks\":\"\"}},\"ternary\":{\"bgcolor\":\"#E5ECF6\",\"aaxis\":{\"gridcolor\":\"white\",\"linecolor\":\"white\",\"ticks\":\"\"},\"baxis\":{\"gridcolor\":\"white\",\"linecolor\":\"white\",\"ticks\":\"\"},\"caxis\":{\"gridcolor\":\"white\",\"linecolor\":\"white\",\"ticks\":\"\"}},\"coloraxis\":{\"colorbar\":{\"outlinewidth\":0,\"ticks\":\"\"}},\"colorscale\":{\"sequential\":[[0.0,\"#0d0887\"],[0.1111111111111111,\"#46039f\"],[0.2222222222222222,\"#7201a8\"],[0.3333333333333333,\"#9c179e\"],[0.4444444444444444,\"#bd3786\"],[0.5555555555555556,\"#d8576b\"],[0.6666666666666666,\"#ed7953\"],[0.7777777777777778,\"#fb9f3a\"],[0.8888888888888888,\"#fdca26\"],[1.0,\"#f0f921\"]],\"sequentialminus\":[[0.0,\"#0d0887\"],[0.1111111111111111,\"#46039f\"],[0.2222222222222222,\"#7201a8\"],[0.3333333333333333,\"#9c179e\"],[0.4444444444444444,\"#bd3786\"],[0.5555555555555556,\"#d8576b\"],[0.6666666666666666,\"#ed7953\"],[0.7777777777777778,\"#fb9f3a\"],[0.8888888888888888,\"#fdca26\"],[1.0,\"#f0f921\"]],\"diverging\":[[0,\"#8e0152\"],[0.1,\"#c51b7d\"],[0.2,\"#de77ae\"],[0.3,\"#f1b6da\"],[0.4,\"#fde0ef\"],[0.5,\"#f7f7f7\"],[0.6,\"#e6f5d0\"],[0.7,\"#b8e186\"],[0.8,\"#7fbc41\"],[0.9,\"#4d9221\"],[1,\"#276419\"]]},\"xaxis\":{\"gridcolor\":\"white\",\"linecolor\":\"white\",\"ticks\":\"\",\"title\":{\"standoff\":15},\"zerolinecolor\":\"white\",\"automargin\":true,\"zerolinewidth\":2},\"yaxis\":{\"gridcolor\":\"white\",\"linecolor\":\"white\",\"ticks\":\"\",\"title\":{\"standoff\":15},\"zerolinecolor\":\"white\",\"automargin\":true,\"zerolinewidth\":2},\"scene\":{\"xaxis\":{\"backgroundcolor\":\"#E5ECF6\",\"gridcolor\":\"white\",\"linecolor\":\"white\",\"showbackground\":true,\"ticks\":\"\",\"zerolinecolor\":\"white\",\"gridwidth\":2},\"yaxis\":{\"backgroundcolor\":\"#E5ECF6\",\"gridcolor\":\"white\",\"linecolor\":\"white\",\"showbackground\":true,\"ticks\":\"\",\"zerolinecolor\":\"white\",\"gridwidth\":2},\"zaxis\":{\"backgroundcolor\":\"#E5ECF6\",\"gridcolor\":\"white\",\"linecolor\":\"white\",\"showbackground\":true,\"ticks\":\"\",\"zerolinecolor\":\"white\",\"gridwidth\":2}},\"shapedefaults\":{\"line\":{\"color\":\"#2a3f5f\"}},\"annotationdefaults\":{\"arrowcolor\":\"#2a3f5f\",\"arrowhead\":0,\"arrowwidth\":1},\"geo\":{\"bgcolor\":\"white\",\"landcolor\":\"#E5ECF6\",\"subunitcolor\":\"white\",\"showland\":true,\"showlakes\":true,\"lakecolor\":\"white\"},\"title\":{\"x\":0.05},\"mapbox\":{\"style\":\"light\"}}},\"scene\":{\"domain\":{\"x\":[0.0,1.0],\"y\":[0.0,1.0]},\"xaxis\":{\"title\":{\"text\":\"x\"}},\"yaxis\":{\"title\":{\"text\":\"y\"}},\"zaxis\":{\"title\":{\"text\":\"z\"}}},\"legend\":{\"tracegroupgap\":0},\"margin\":{\"t\":60}},                        {\"responsive\": true}                    ).then(function(){\n",
              "                            \n",
              "var gd = document.getElementById('2f6c346b-c7b4-4371-9764-86cb01661cf5');\n",
              "var x = new MutationObserver(function (mutations, observer) {{\n",
              "        var display = window.getComputedStyle(gd).display;\n",
              "        if (!display || display === 'none') {{\n",
              "            console.log([gd, 'removed!']);\n",
              "            Plotly.purge(gd);\n",
              "            observer.disconnect();\n",
              "        }}\n",
              "}});\n",
              "\n",
              "// Listen for the removal of the full notebook cells\n",
              "var notebookContainer = gd.closest('#notebook-container');\n",
              "if (notebookContainer) {{\n",
              "    x.observe(notebookContainer, {childList: true});\n",
              "}}\n",
              "\n",
              "// Listen for the clearing of the current output cell\n",
              "var outputEl = gd.closest('.output');\n",
              "if (outputEl) {{\n",
              "    x.observe(outputEl, {childList: true});\n",
              "}}\n",
              "\n",
              "                        })                };                            </script>        </div>\n",
              "</body>\n",
              "</html>"
            ]
          },
          "metadata": {}
        }
      ]
    }
  ]
}