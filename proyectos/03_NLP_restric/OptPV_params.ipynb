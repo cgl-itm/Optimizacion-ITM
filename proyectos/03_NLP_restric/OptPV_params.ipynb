{
  "nbformat": 4,
  "nbformat_minor": 0,
  "metadata": {
    "colab": {
      "provenance": []
    },
    "kernelspec": {
      "name": "python3",
      "display_name": "Python 3"
    },
    "language_info": {
      "name": "python"
    }
  },
  "cells": [
    {
      "cell_type": "markdown",
      "source": [
        "https://www.sciencedirect.com/science/article/pii/S2352484721004509"
      ],
      "metadata": {
        "id": "dXE_spUQQjvE"
      }
    },
    {
      "cell_type": "code",
      "execution_count": 24,
      "metadata": {
        "id": "wNWt-x2LNC5D"
      },
      "outputs": [],
      "source": [
        "import jax\n",
        "import jax.numpy as jnp\n",
        "from jax.scipy import optimize\n",
        "import matplotlib.pyplot as plt"
      ]
    },
    {
      "cell_type": "code",
      "source": [
        "nParams = 7 #Numero de parametros\n",
        "panelType = 'RTC'"
      ],
      "metadata": {
        "id": "g1pKoPJxPMb0"
      },
      "execution_count": 25,
      "outputs": []
    },
    {
      "cell_type": "markdown",
      "source": [
        "Tablas"
      ],
      "metadata": {
        "id": "mNvxKUzzO1I7"
      }
    },
    {
      "cell_type": "code",
      "source": [
        "if panelType == 'RTC':\n",
        "  #Table 6 - France\n",
        "  VL = jnp.array([-0.2057,-0.1291,-0.0588,0.0057,0.0646,0.1185,0.1678,0.2132,0.2545,0.2924,0.3269,\\\n",
        "                0.3585,0.3873,0.4137,0.4373,0.4590,0.4784,0.4960,0.5119,0.5265,0.5398,0.5521,\\\n",
        "                0.5633,0.5736,0.5833,0.5900])\n",
        "\n",
        "  IL = jnp.array([0.7640,0.7620,0.7605,0.7605,0.7600,0.7590,0.7570,0.7570,0.7555,0.7540,0.7505,\\\n",
        "                0.7465,0.7385,0.7280,0.7065,0.6755,0.6320,0.5730,0.4990,0.4130,0.3165,0.2120,\\\n",
        "                0.1035,-0.0100,-0.1230,-0.2100])\n",
        "\n",
        "  #             Iph, Rs,  Rsh,Isd,  n,Is2, n2,Is3, n3\n",
        "  lb=jnp.array([0.0,0.0,  0.0,0.0,1.0,0.0,1.0,0.0,2.0])\n",
        "  ub=jnp.array([1.0,0.5,100.0,1.0,2.0,1.0,2.0,1.0,5.0])\n",
        "  T = 33\n",
        "  mu = 10\n",
        "  if nParams == 5:\n",
        "    bestParams = jnp.array([0.76077551, 0.0363771, 53.71867407, 0.32302031, 1.48110808])\n",
        "  elif nParams == 7:\n",
        "    bestParams = jnp.array([0.76078094, 0.03672887, 55.42643282, 0.228574, 1.451895, 0.727182, 2.0])\n",
        "  else:\n",
        "    bestParams = jnp.array([0.76078248, 0.03672493, 55.64995795, 0.23910895, 1.45393749, 0.43972073, 2.0, 0.8, 2.40415974])\n",
        "\n",
        "\n",
        "else:\n",
        "  #Table 11 - PWP201\n",
        "  VL = jnp.array([0.1248, 1.8093, 3.3511, 4.7622, 6.0538, 7.2364, 8.3189, 9.3097, 10.2163, 11.0449,\\\n",
        "                11.8018, 12.4929, 13.1231, 13.6983, 14.2221, 14.6995, 15.1346, 15.5311, 15.8929,\\\n",
        "                16.2229, 16.5241, 16.7987, 17.0499, 17.2793, 17.4885])\n",
        "\n",
        "  IL = jnp.array([1.0315, 1.0300, 1.0260, 1.0220, 1.0180, 1.0155, 1.0140, 1.0100, 1.0035, 0.9880,\\\n",
        "                0.9630, 0.9255, 0.8725, 0.8075, 0.7265, 0.6345, 0.5345, 0.4275, 0.3185, 0.2085,\\\n",
        "                0.1010,-0.0080,-0.1110,-0.2090,-0.3030])\n",
        "\n",
        "  #             Iph, Rs,   Rsh, Isd,   n, Is2,  n2, Is3,  n3\n",
        "  lb=jnp.array([0.0,0.0,   0.0, 0.0, 1.0, 0.0, 1.0, 0.0, 1.0])\n",
        "  ub=jnp.array([2.0,2.0,1000.0,50.0,50.0,50.0,50.0,50.0,50.0])\n",
        "  T = 45\n",
        "  mu = 1e-3\n",
        "  if nParams == 5: #Jaya\n",
        "    bestParams = jnp.array([1.0307, 1.2014, 1000, 3.4931, 1.3514])\n",
        "  elif nParams == 7:\n",
        "    bestParams = jnp.array([1.032381, 1.239287, 744.715389, 2.512910, 1.317304, 1.000057e-06, 1.316937])\n",
        "  else:\n",
        "    bestParams = jnp.array([1.030514, 1.200216,  981.869614, 3.48214e-06, 1.397631, 1.000010e-6, 1.867045,  1.000000e-6, 2.0])\n",
        "\n",
        "N = 36\n",
        "k = 1.38064852e-23  #Constante de Boltzmann en [J/(m^2*K)]\n",
        "T = T + 273.15      #grados convertidos a Kelvin\n",
        "q = 1.60217657e-19  #Carga del electron en [C]\n",
        "Vt = (k*T)/q        #Constante para ecuaciones"
      ],
      "metadata": {
        "id": "3sDoFEouO1_S"
      },
      "execution_count": 26,
      "outputs": []
    },
    {
      "cell_type": "code",
      "source": [
        "#Iph, Rs, Rsh, Isd, n, Isd2, n2, Isd3, n3\n",
        "def Panel(params, VL, IL):\n",
        "  VLpIL = VL + params[1]*IL\n",
        "  expTerm = VLpIL/Vt\n",
        "  res = params[0]-params[3]*(1e-6)*(jnp.exp(expTerm/params[4])-1.0)-VLpIL/params[2]-IL\n",
        "  if len(params)>5:\n",
        "    res -= params[5]*(1e-6)*(jnp.exp(expTerm/params[6])-1.0)\n",
        "  if len(params)>7:\n",
        "    res -= params[7]*(1e-6)*(jnp.exp(expTerm/params[8])-1.0)\n",
        "  return res\n",
        "\n",
        "def RMSE(params, VL, IL):\n",
        "  return jnp.sqrt(jnp.mean(jnp.square(Panel(params,VL,IL))))"
      ],
      "metadata": {
        "id": "ZN7CkGTcPmZ1"
      },
      "execution_count": 27,
      "outputs": []
    },
    {
      "cell_type": "code",
      "source": [
        "def cons(params): #retorna la evaluacion de las restricciones\n",
        "  c1 = -params+lb[:nParams]\n",
        "  c2 = params-ub[:nParams]\n",
        "  return jnp.concatenate((c1,c2))"
      ],
      "metadata": {
        "id": "tDPRPjxqgDwt"
      },
      "execution_count": 28,
      "outputs": []
    },
    {
      "cell_type": "code",
      "source": [
        "def Q(params,u):\n",
        "  return RMSE(params,VL,IL)+1.0/(2.0*u)*jnp.sum(jnp.square(jnp.max(jnp.vstack((cons(params),jnp.zeros((2*nParams,)))),axis=0)))"
      ],
      "metadata": {
        "id": "eoU7EfXVyRco"
      },
      "execution_count": 29,
      "outputs": []
    },
    {
      "cell_type": "code",
      "source": [
        "def QPM(x0, u):\n",
        "    res = optimize.minimize(Q, x0, args= (u,), method = 'BFGS')\n",
        "    return res.x, res.fun"
      ],
      "metadata": {
        "id": "kWuUkbZ-03ww"
      },
      "execution_count": 30,
      "outputs": []
    },
    {
      "cell_type": "code",
      "source": [
        "key = jax.random.PRNGKey(0)\n",
        "\n",
        "x0 = (ub[:nParams]-lb[:nParams])*jax.random.uniform(key,(nParams,)) + lb[:nParams]\n",
        "f0 = Q(x0,mu)\n",
        "vol = 1e-15\n",
        "rest_viol = True\n",
        "\n",
        "it = 0\n",
        "\n",
        "while rest_viol:\n",
        "    it=it+1\n",
        "    xmin, fun = QPM(x0,mu)\n",
        "    print(xmin,fun)\n",
        "\n",
        "    if jnp.all(cons(xmin) <=vol):\n",
        "      rest_viol = False\n",
        "\n",
        "    if (fun>f0) or jnp.isnan(fun):\n",
        "      xmin = x0.copy()\n",
        "      fun = f0.copy()\n",
        "      rest_viol = False\n",
        "    # Actualizacion parametros mu, x0, f0\n",
        "    mu = mu/2\n",
        "    x0 = xmin.copy()\n",
        "    f0 = fun.copy()"
      ],
      "metadata": {
        "colab": {
          "base_uri": "https://localhost:8080/"
        },
        "id": "W_4rlVV-2H6a",
        "outputId": "195b6bec-c76d-4105-d0ed-e1eaeb71950a"
      },
      "execution_count": 31,
      "outputs": [
        {
          "output_type": "stream",
          "name": "stdout",
          "text": [
            "[ 0.6442833  -0.41533014 35.358513    0.6877261   1.8491936   0.9210955\n",
            "  2.157769  ] 0.21997005\n",
            "[7.6403999e-01 2.9801244e-02 3.5372971e+01 5.2908635e-01 1.5611033e+00\n",
            " 7.1536034e-01 1.7603815e+00] 0.004294469\n"
          ]
        }
      ]
    },
    {
      "cell_type": "code",
      "source": [
        "pred = Panel(xmin,VL,IL)+IL\n",
        "plt.plot(VL,IL,'b')\n",
        "plt.plot(VL,pred,'r--')"
      ],
      "metadata": {
        "colab": {
          "base_uri": "https://localhost:8080/",
          "height": 447
        },
        "id": "-LHxG8EVG2I_",
        "outputId": "c5436352-d55d-46e1-89ad-d87239ade725"
      },
      "execution_count": 32,
      "outputs": [
        {
          "output_type": "execute_result",
          "data": {
            "text/plain": [
              "[<matplotlib.lines.Line2D at 0x7c16c18aa6b0>]"
            ]
          },
          "metadata": {},
          "execution_count": 32
        },
        {
          "output_type": "display_data",
          "data": {
            "text/plain": [
              "<Figure size 640x480 with 1 Axes>"
            ],
            "image/png": "[encoded data removed]"
          },
          "metadata": {}
        }
      ]
    },
    {
      "cell_type": "code",
      "source": [
        "pred = Panel(bestParams,VL,IL)+IL\n",
        "plt.plot(VL,IL,'b')\n",
        "plt.plot(VL,pred,'r--')"
      ],
      "metadata": {
        "colab": {
          "base_uri": "https://localhost:8080/",
          "height": 448
        },
        "id": "ozD8ZUMEKNvy",
        "outputId": "d2da7f69-0c8e-40df-ccb7-9c30288b8b72"
      },
      "execution_count": 33,
      "outputs": [
        {
          "output_type": "execute_result",
          "data": {
            "text/plain": [
              "[<matplotlib.lines.Line2D at 0x7c16c18a8250>]"
            ]
          },
          "metadata": {},
          "execution_count": 33
        },
        {
          "output_type": "display_data",
          "data": {
            "text/plain": [
              "<Figure size 640x480 with 1 Axes>"
            ],
            "image/png": "[encoded data removed]"
          },
          "metadata": {}
        }
      ]
    },
    {
      "cell_type": "code",
      "source": [
        "RMSE(xmin,VL,IL),RMSE(bestParams,VL,IL)"
      ],
      "metadata": {
        "colab": {
          "base_uri": "https://localhost:8080/"
        },
        "id": "a5_NTyHQJ13-",
        "outputId": "0590b391-4a75-4f4c-b484-c9a3ed3a0875"
      },
      "execution_count": 34,
      "outputs": [
        {
          "output_type": "execute_result",
          "data": {
            "text/plain": [
              "(Array(0.00429453, dtype=float32), Array(0.00102143, dtype=float32))"
            ]
          },
          "metadata": {},
          "execution_count": 34
        }
      ]
    }
  ]
}