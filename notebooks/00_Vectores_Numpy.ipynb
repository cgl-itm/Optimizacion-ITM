{
  "cells": [
    {
      "cell_type": "markdown",
      "metadata": {
        "colab_type": "text",
        "id": "9lhzZWMv2Z_-"
      },
      "source": [
        "# Vectores en Numpy"
      ]
    },
    {
      "cell_type": "markdown",
      "metadata": {
        "colab_type": "text",
        "id": "sGX9onUt2lLI"
      },
      "source": [
        "Importamos la librería Numpy con nombre \"np\"."
      ]
    },
    {
      "cell_type": "code",
      "execution_count": 0,
      "metadata": {
        "colab": {},
        "colab_type": "code",
        "id": "ZQWbAkRIcw2t"
      },
      "outputs": [],
      "source": [
        "import numpy as np"
      ]
    },
    {
      "cell_type": "markdown",
      "metadata": {
        "colab_type": "text",
        "id": "IhmszfJI8mcy"
      },
      "source": [
        "## Vector Unidimensional"
      ]
    },
    {
      "cell_type": "markdown",
      "metadata": {
        "colab_type": "text",
        "id": "4YucWNEU2tgw"
      },
      "source": [
        "Para crear un arreglo unidimensional, se emplea el comando array, imprimimos el vector y su forma (dimensiones), asi"
      ]
    },
    {
      "cell_type": "code",
      "execution_count": 3,
      "metadata": {
        "colab": {
          "base_uri": "https://localhost:8080/",
          "height": 34
        },
        "colab_type": "code",
        "id": "FzycxHSKc3T1",
        "outputId": "de0feefe-9927-4aa1-90b3-866a44c2fe43"
      },
      "outputs": [
        {
          "name": "stdout",
          "output_type": "stream",
          "text": [
            "[1 3 4] (3,)\n"
          ]
        }
      ],
      "source": [
        "x = np.array([1,3,4])\n",
        "print(x,x.shape)"
      ]
    },
    {
      "cell_type": "markdown",
      "metadata": {
        "colab_type": "text",
        "id": "FNcIi2NI8sQq"
      },
      "source": [
        "## Vector con dos dimensiones"
      ]
    },
    {
      "cell_type": "markdown",
      "metadata": {
        "colab_type": "text",
        "id": "gac-ynnc3LVL"
      },
      "source": [
        "Los vectores unidimensionales como su nombre lo dice, solo tienen una dimension, y matemáticamente no son vectores, ya que se necesitaria de la segunda dimension para indicar si es vector columna o fila. En general se asumen que los vectores son columna, y su transpuesto es fila, asi:\n",
        "\n",
        "\\begin{align*}\n",
        "\t\\mathbf{x} = \\left[ {\\begin{array}{*{20}{c}}\n",
        "{{x_1}}\\\\\n",
        "{{x_2}}\\\\\n",
        " \\vdots \\\\\n",
        "{{x_n}}\n",
        "\\end{array}} \\right],\\quad \\mathbf{x}^{\\top} = \\left[{\\begin{array}{*{20}{c}} {{x_1}} & {{x_2}} & \\ldots & {{x_n}}\\end{array}} \\right]\n",
        "\\end{align*}"
      ]
    },
    {
      "cell_type": "code",
      "execution_count": 8,
      "metadata": {
        "colab": {
          "base_uri": "https://localhost:8080/",
          "height": 119
        },
        "colab_type": "code",
        "id": "HFG-VbrYc84e",
        "outputId": "8a6f5a2c-e216-4560-d1c2-86b8964564b8"
      },
      "outputs": [
        {
          "name": "stdout",
          "output_type": "stream",
          "text": [
            "Vector Columna:  (3, 1) \n",
            " [[1]\n",
            " [2]\n",
            " [3]] \n",
            " Vector fila:  (1, 3) \n",
            " [[1 2 3]]\n"
          ]
        }
      ],
      "source": [
        "xc = np.array([[1],[2],[3]]) #Crear vector columna\n",
        "xf = np.array([[1,2,3]]) #Crear vector fila\n",
        "print(\"Vector Columna: \",xc.shape,\"\\n\",xc,\"\\n Vector fila: \",xf.shape,\"\\n\",xf)"
      ]
    },
    {
      "cell_type": "markdown",
      "metadata": {
        "colab_type": "text",
        "id": "caIgzAcv7DY1"
      },
      "source": [
        "Tambien podemos convertir el vector unidimensional en uno columna o fila, usando el método \"reshape\"."
      ]
    },
    {
      "cell_type": "code",
      "execution_count": 9,
      "metadata": {
        "colab": {
          "base_uri": "https://localhost:8080/",
          "height": 119
        },
        "colab_type": "code",
        "id": "L6mKcNhv4OVd",
        "outputId": "6057b944-e876-4cd3-9c6e-304808dde71d"
      },
      "outputs": [
        {
          "name": "stdout",
          "output_type": "stream",
          "text": [
            "Vector Columna:  (3, 1) \n",
            " [[1]\n",
            " [2]\n",
            " [3]] \n",
            " Vector fila:  (1, 3) \n",
            " [[1 2 3]]\n"
          ]
        }
      ],
      "source": [
        "xc2 = x.reshape(x.size,1)\n",
        "xf2 = x.reshape(1,x.size)\n",
        "print(\"Vector Columna: \",xc2.shape,\"\\n\",xc2,\"\\n Vector fila: \",xf2.shape,\"\\n\",xf2)"
      ]
    },
    {
      "cell_type": "markdown",
      "metadata": {
        "colab_type": "text",
        "id": "Xc28uBWS7ecS"
      },
      "source": [
        "Tambien podemos convertir el vector unidimensional en uno columna o fila, usando el método \"newaxis\"."
      ]
    },
    {
      "cell_type": "code",
      "execution_count": 11,
      "metadata": {
        "colab": {
          "base_uri": "https://localhost:8080/",
          "height": 119
        },
        "colab_type": "code",
        "id": "SaBGIT1d7cSF",
        "outputId": "90f25973-650b-48e6-b4e1-df0927b3700f"
      },
      "outputs": [
        {
          "name": "stdout",
          "output_type": "stream",
          "text": [
            "Vector Columna:  (3, 1) \n",
            " [[1]\n",
            " [3]\n",
            " [4]] \n",
            " Vector fila:  (1, 3) \n",
            " [[1 3 4]]\n"
          ]
        }
      ],
      "source": [
        "xc3 = x[:,np.newaxis]\n",
        "xf3 = x[np.newaxis,:]\n",
        "print(\"Vector Columna: \",xc3.shape,\"\\n\",xc3,\"\\n Vector fila: \",xf3.shape,\"\\n\",xf3)"
      ]
    },
    {
      "cell_type": "markdown",
      "metadata": {
        "colab_type": "text",
        "id": "PMWnaF3K8x4T"
      },
      "source": [
        "## Normal de un vector"
      ]
    },
    {
      "cell_type": "markdown",
      "metadata": {
        "colab_type": "text",
        "id": "wMHnhp_B81Uz"
      },
      "source": [
        "La norma de un vector se calcula como,\n",
        "$$ ||\\mathbf{x}|| = \\sqrt{\\sum_{i=1}^{n} x_{i}^2}, \\quad \\mathbf{x} \\in \\mathbb{R}^n $$"
      ]
    },
    {
      "cell_type": "code",
      "execution_count": 13,
      "metadata": {
        "colab": {
          "base_uri": "https://localhost:8080/",
          "height": 34
        },
        "colab_type": "code",
        "id": "N1EjjpHH772s",
        "outputId": "ab2d6be7-cc6d-4387-9a2c-fc21e5310802"
      },
      "outputs": [
        {
          "name": "stdout",
          "output_type": "stream",
          "text": [
            "3.7646594504478763\n"
          ]
        }
      ],
      "source": [
        "# Usando comandos basicos de NumPy\n",
        "x = np.random.randn(10,1) # Vector aleatorio de 10 filas y una columna\n",
        "\n",
        "norma = np.sqrt(np.sum(x**2))\n",
        "print(norma)"
      ]
    },
    {
      "cell_type": "code",
      "execution_count": 14,
      "metadata": {
        "colab": {
          "base_uri": "https://localhost:8080/",
          "height": 34
        },
        "colab_type": "code",
        "id": "W-ZAph9F92LX",
        "outputId": "590c9651-c619-4cb3-f528-05890505b9bc"
      },
      "outputs": [
        {
          "name": "stdout",
          "output_type": "stream",
          "text": [
            "3.7646594504478763\n"
          ]
        }
      ],
      "source": [
        "# Usando \"norm\" de NumPy\n",
        "print(np.linalg.norm(x))"
      ]
    },
    {
      "cell_type": "markdown",
      "metadata": {
        "colab_type": "text",
        "id": "S-4EWWEh-4ZC"
      },
      "source": [
        "# Producto interno o punto entre vectores"
      ]
    },
    {
      "cell_type": "markdown",
      "metadata": {
        "colab_type": "text",
        "id": "KVxW9-xW_8tE"
      },
      "source": [
        "El producto interno se define\n",
        "\n",
        "\\begin{align}\n",
        "\t\t\\mathbf{x} \\cdot \\mathbf{y} = \\mathbf{x}^{\\top}\\mathbf{y} = x_{1}y_{1} + x_{2}y_{2} + \\ldots + x_{n}y_{n} = \\sum\\limits_{i = 1}^n {{x_i}{y_i}}\n",
        "\\end{align}"
      ]
    },
    {
      "cell_type": "code",
      "execution_count": 15,
      "metadata": {
        "colab": {
          "base_uri": "https://localhost:8080/",
          "height": 34
        },
        "colab_type": "code",
        "id": "UP4wFZax-Dws",
        "outputId": "08e07733-4e30-43aa-e512-bd7ccb9561bc"
      },
      "outputs": [
        {
          "name": "stdout",
          "output_type": "stream",
          "text": [
            "0.6260067279116048\n"
          ]
        }
      ],
      "source": [
        "# Usando comandos basicos de NumPy\n",
        "x = np.random.randn(10,1) # Vector aleatorio de 10 filas y una columna\n",
        "y = np.random.randn(10,1) # Vector aleatorio de 10 filas y una columna\n",
        "\n",
        "prodint = np.sum(x*y)\n",
        "print(prodint)"
      ]
    },
    {
      "cell_type": "code",
      "execution_count": 18,
      "metadata": {
        "colab": {
          "base_uri": "https://localhost:8080/",
          "height": 34
        },
        "colab_type": "code",
        "id": "DCqhVvQMAQI2",
        "outputId": "dea6cd89-c2d3-45ac-8ec6-95181d85a7e3"
      },
      "outputs": [
        {
          "name": "stdout",
          "output_type": "stream",
          "text": [
            "[[0.62600673]]\n"
          ]
        }
      ],
      "source": [
        "# Usando \"dot\" de NumPy\n",
        "print(np.dot(x.T,y))"
      ]
    },
    {
      "cell_type": "code",
      "execution_count": 19,
      "metadata": {
        "colab": {
          "base_uri": "https://localhost:8080/",
          "height": 34
        },
        "colab_type": "code",
        "id": "5dm1xbo7AXVU",
        "outputId": "f7a98f93-ebea-492d-eb57-c7dc028ca2fd"
      },
      "outputs": [
        {
          "name": "stdout",
          "output_type": "stream",
          "text": [
            "[[0.62600673]]\n"
          ]
        }
      ],
      "source": [
        "# Usando el producto matricial de NumPy\n",
        "print(x.T@y)"
      ]
    },
    {
      "cell_type": "markdown",
      "metadata": {
        "colab_type": "text",
        "id": "Kn8psMZvBLJD"
      },
      "source": [
        "## Producto externo o exterior"
      ]
    },
    {
      "cell_type": "markdown",
      "metadata": {
        "colab_type": "text",
        "id": "obplJl_vBR8R"
      },
      "source": [
        "El producto externo se define como\n",
        "\\begin{align*}\n",
        "\\mathbf{x}\\mathbf{y}^{\\top} = \\left[ {\\begin{array}{*{20}{c}}\n",
        "{{x_{1}y_{1}}}&{{x_{1}y_{2}}}& \\cdots &{{x_{1}y_{m}}}\\\\\n",
        "{{x_{2}y_{1}}}&{{x_{2}y_{2}}}& \\cdots &{{x_{2}y_{m}}}\\\\\n",
        " \\vdots & \\vdots & \\ddots & \\vdots \\\\\n",
        "{{x_{n}y_{1}}}&{{x_{n}y_{2}}}& \\cdots &{{x_{n}y_{m}}}\n",
        "\\end{array}} \\right]\n",
        "\\end{align*}"
      ]
    },
    {
      "cell_type": "code",
      "execution_count": 20,
      "metadata": {
        "colab": {
          "base_uri": "https://localhost:8080/",
          "height": 68
        },
        "colab_type": "code",
        "id": "9IfzD2-SAjw2",
        "outputId": "fe9cdda8-e06d-4159-98cf-6f6cd5a3d532"
      },
      "outputs": [
        {
          "name": "stdout",
          "output_type": "stream",
          "text": [
            "[[-0.1691291   0.65024273 -0.2267572  -0.07340993]\n",
            " [-0.44611884  1.71517221 -0.59812687 -0.19363642]\n",
            " [-0.40474751  1.55611382 -0.54265891 -0.17567934]]\n"
          ]
        }
      ],
      "source": [
        "# Usando comandos basicos de NumPy\n",
        "x = np.random.randn(3,1) # Vector aleatorio de 10 filas y una columna\n",
        "y = np.random.randn(4,1) # Vector aleatorio de 10 filas y una columna\n",
        "\n",
        "print(x*y.T)"
      ]
    },
    {
      "cell_type": "code",
      "execution_count": 21,
      "metadata": {
        "colab": {
          "base_uri": "https://localhost:8080/",
          "height": 68
        },
        "colab_type": "code",
        "id": "CHl6Hy8XBvBG",
        "outputId": "5133f7c0-a2dc-4174-9d3b-cb0551ae8d8b"
      },
      "outputs": [
        {
          "name": "stdout",
          "output_type": "stream",
          "text": [
            "[[-0.1691291   0.65024273 -0.2267572  -0.07340993]\n",
            " [-0.44611884  1.71517221 -0.59812687 -0.19363642]\n",
            " [-0.40474751  1.55611382 -0.54265891 -0.17567934]]\n"
          ]
        }
      ],
      "source": [
        "# Usando el comando outer de NumPy\n",
        "print(np.outer(x,y))"
      ]
    },
    {
      "cell_type": "code",
      "execution_count": 22,
      "metadata": {
        "colab": {
          "base_uri": "https://localhost:8080/",
          "height": 68
        },
        "colab_type": "code",
        "id": "cFRu0M88B4DY",
        "outputId": "268189fc-b4de-4718-c558-e2031f73dc3b"
      },
      "outputs": [
        {
          "name": "stdout",
          "output_type": "stream",
          "text": [
            "[[-0.1691291   0.65024273 -0.2267572  -0.07340993]\n",
            " [-0.44611884  1.71517221 -0.59812687 -0.19363642]\n",
            " [-0.40474751  1.55611382 -0.54265891 -0.17567934]]\n"
          ]
        }
      ],
      "source": [
        "# Usando el producto matricial de NumPy\n",
        "print(x@y.T)"
      ]
    },
    {
      "cell_type": "markdown",
      "metadata": {
        "colab_type": "text",
        "id": "hhYuauo9CWnF"
      },
      "source": [
        "## Proyeccion de un vector sobre otro\n",
        "\n"
      ]
    },
    {
      "cell_type": "markdown",
      "metadata": {
        "colab_type": "text",
        "id": "pFcQca2QGiT5"
      },
      "source": [
        "Proyectar un vector sobre otro nos sirve para conocer cuanto del vector $\\mathbf{a}$ hay en la dirección del vector $\\mathbf{u}$ (vector unitario)\n",
        "\n",
        "![](https://mathinsight.org/media/image/image/dot_product_projection_unit_vector.png)"
      ]
    },
    {
      "cell_type": "code",
      "execution_count": 26,
      "metadata": {
        "colab": {
          "base_uri": "https://localhost:8080/",
          "height": 34
        },
        "colab_type": "code",
        "id": "EPjZCOA0B9no",
        "outputId": "f8cc0590-7a3e-4841-99dd-fb79530daf74"
      },
      "outputs": [
        {
          "name": "stdout",
          "output_type": "stream",
          "text": [
            "1.4950566038295796\n"
          ]
        }
      ],
      "source": [
        "a = np.random.randn(3,1) # Vector aleatorio de 10 filas y una columna\n",
        "u = np.random.randn(3,1) # Vector aleatorio de 10 filas y una columna\n",
        "\n",
        "u = u/np.linalg.norm(u) #Volvemos u unitario\n",
        "au = a.T@u #Valor de a en la direccion de u\n",
        "\n",
        "auv = au*u #vector en la direccion de u con tamaño de la proyeccion de a\n",
        "\n",
        "apu = a - auv #Vector ortogonal a u (cateto opuesto)\n",
        "\n",
        "print(np.linalg.norm(apu)) # Distancia minima entre los vectores a y u"
      ]
    },
    {
      "cell_type": "markdown",
      "metadata": {},
      "source": [
        "# **Ejercicio:**"
      ]
    },
    {
      "cell_type": "markdown",
      "metadata": {},
      "source": [
        "Determinar la distancia minima entre el punto (1,2) y la recta con pendiente 1 que pasa por el origen."
      ]
    },
    {
      "cell_type": "markdown",
      "metadata": {},
      "source": [
        "![](https://raw.githubusercontent.com/cgl-itm/Optimizacion-ITM/refs/heads/main/notebooks/figuras/PuntoRecta.PNG)"
      ]
    },
    {
      "cell_type": "code",
      "execution_count": null,
      "metadata": {},
      "outputs": [],
      "source": [
        "#Hacer codigo aqui"
      ]
    }
  ],
  "metadata": {
    "colab": {
      "collapsed_sections": [],
      "name": "01_Vectores_Numpy.ipynb",
      "provenance": []
    },
    "kernelspec": {
      "display_name": "Python 3",
      "name": "python3"
    }
  },
  "nbformat": 4,
  "nbformat_minor": 0
}
