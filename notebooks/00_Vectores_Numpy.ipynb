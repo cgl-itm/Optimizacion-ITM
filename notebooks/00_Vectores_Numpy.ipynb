{
  "nbformat": 4,
  "nbformat_minor": 0,
  "metadata": {
    "colab": {
      "name": "01_Vectores_Numpy.ipynb",
      "provenance": [],
      "collapsed_sections": []
    },
    "kernelspec": {
      "name": "python3",
      "display_name": "Python 3"
    }
  },
  "cells": [
    {
      "cell_type": "markdown",
      "metadata": {
        "id": "9lhzZWMv2Z_-",
        "colab_type": "text"
      },
      "source": [
        "# Vectores en Numpy"
      ]
    },
    {
      "cell_type": "markdown",
      "metadata": {
        "id": "sGX9onUt2lLI",
        "colab_type": "text"
      },
      "source": [
        "Importamos la librería Numpy con nombre \"np\"."
      ]
    },
    {
      "cell_type": "code",
      "metadata": {
        "id": "ZQWbAkRIcw2t",
        "colab_type": "code",
        "colab": {}
      },
      "source": [
        "import numpy as np"
      ],
      "execution_count": 0,
      "outputs": []
    },
    {
      "cell_type": "markdown",
      "metadata": {
        "id": "IhmszfJI8mcy",
        "colab_type": "text"
      },
      "source": [
        "## Vector Unidimensional"
      ]
    },
    {
      "cell_type": "markdown",
      "metadata": {
        "id": "4YucWNEU2tgw",
        "colab_type": "text"
      },
      "source": [
        "Para crear un arreglo unidimensional, se emplea el comando array, imprimimos el vector y su forma (dimensiones), asi"
      ]
    },
    {
      "cell_type": "code",
      "metadata": {
        "id": "FzycxHSKc3T1",
        "colab_type": "code",
        "colab": {
          "base_uri": "https://localhost:8080/",
          "height": 34
        },
        "outputId": "de0feefe-9927-4aa1-90b3-866a44c2fe43"
      },
      "source": [
        "x = np.array([1,3,4])\n",
        "print(x,x.shape)"
      ],
      "execution_count": 3,
      "outputs": [
        {
          "output_type": "stream",
          "text": [
            "[1 3 4] (3,)\n"
          ],
          "name": "stdout"
        }
      ]
    },
    {
      "cell_type": "markdown",
      "metadata": {
        "id": "FNcIi2NI8sQq",
        "colab_type": "text"
      },
      "source": [
        "## Vector con dos dimensiones"
      ]
    },
    {
      "cell_type": "markdown",
      "metadata": {
        "id": "gac-ynnc3LVL",
        "colab_type": "text"
      },
      "source": [
        "Los vectores unidimensionales como su nombre lo dice, solo tienen una dimension, y matemáticamente no son vectores, ya que se necesitaria de la segunda dimension para indicar si es vector columna o fila. En general se asumen que los vectores son columna, y su transpuesto es fila, asi:\n",
        "\n",
        "\\begin{align*}\n",
        "\t\\mathbf{x} = \\left[ {\\begin{array}{*{20}{c}}\n",
        "{{x_1}}\\\\\n",
        "{{x_2}}\\\\\n",
        " \\vdots \\\\\n",
        "{{x_n}}\n",
        "\\end{array}} \\right],\\quad \\mathbf{x}^{\\top} = \\left[{\\begin{array}{*{20}{c}} {{x_1}} & {{x_2}} & \\ldots & {{x_n}}\\end{array}} \\right]\n",
        "\\end{align*}"
      ]
    },
    {
      "cell_type": "code",
      "metadata": {
        "id": "HFG-VbrYc84e",
        "colab_type": "code",
        "colab": {
          "base_uri": "https://localhost:8080/",
          "height": 119
        },
        "outputId": "8a6f5a2c-e216-4560-d1c2-86b8964564b8"
      },
      "source": [
        "xc = np.array([[1],[2],[3]]) #Crear vector columna\n",
        "xf = np.array([[1,2,3]]) #Crear vector fila\n",
        "print(\"Vector Columna: \",xc.shape,\"\\n\",xc,\"\\n Vector fila: \",xf.shape,\"\\n\",xf)"
      ],
      "execution_count": 8,
      "outputs": [
        {
          "output_type": "stream",
          "text": [
            "Vector Columna:  (3, 1) \n",
            " [[1]\n",
            " [2]\n",
            " [3]] \n",
            " Vector fila:  (1, 3) \n",
            " [[1 2 3]]\n"
          ],
          "name": "stdout"
        }
      ]
    },
    {
      "cell_type": "markdown",
      "metadata": {
        "id": "caIgzAcv7DY1",
        "colab_type": "text"
      },
      "source": [
        "Tambien podemos convertir el vector unidimensional en uno columna o fila, usando el método \"reshape\"."
      ]
    },
    {
      "cell_type": "code",
      "metadata": {
        "id": "L6mKcNhv4OVd",
        "colab_type": "code",
        "colab": {
          "base_uri": "https://localhost:8080/",
          "height": 119
        },
        "outputId": "6057b944-e876-4cd3-9c6e-304808dde71d"
      },
      "source": [
        "xc2 = x.reshape(x.size,1)\n",
        "xf2 = x.reshape(1,x.size)\n",
        "print(\"Vector Columna: \",xc2.shape,\"\\n\",xc2,\"\\n Vector fila: \",xf2.shape,\"\\n\",xf2)"
      ],
      "execution_count": 9,
      "outputs": [
        {
          "output_type": "stream",
          "text": [
            "Vector Columna:  (3, 1) \n",
            " [[1]\n",
            " [2]\n",
            " [3]] \n",
            " Vector fila:  (1, 3) \n",
            " [[1 2 3]]\n"
          ],
          "name": "stdout"
        }
      ]
    },
    {
      "cell_type": "markdown",
      "metadata": {
        "id": "Xc28uBWS7ecS",
        "colab_type": "text"
      },
      "source": [
        "Tambien podemos convertir el vector unidimensional en uno columna o fila, usando el método \"newaxis\"."
      ]
    },
    {
      "cell_type": "code",
      "metadata": {
        "id": "SaBGIT1d7cSF",
        "colab_type": "code",
        "colab": {
          "base_uri": "https://localhost:8080/",
          "height": 119
        },
        "outputId": "90f25973-650b-48e6-b4e1-df0927b3700f"
      },
      "source": [
        "xc3 = x[:,np.newaxis]\n",
        "xf3 = x[np.newaxis,:]\n",
        "print(\"Vector Columna: \",xc3.shape,\"\\n\",xc3,\"\\n Vector fila: \",xf3.shape,\"\\n\",xf3)"
      ],
      "execution_count": 11,
      "outputs": [
        {
          "output_type": "stream",
          "text": [
            "Vector Columna:  (3, 1) \n",
            " [[1]\n",
            " [3]\n",
            " [4]] \n",
            " Vector fila:  (1, 3) \n",
            " [[1 3 4]]\n"
          ],
          "name": "stdout"
        }
      ]
    },
    {
      "cell_type": "markdown",
      "metadata": {
        "id": "PMWnaF3K8x4T",
        "colab_type": "text"
      },
      "source": [
        "## Normal de un vector"
      ]
    },
    {
      "cell_type": "markdown",
      "metadata": {
        "id": "wMHnhp_B81Uz",
        "colab_type": "text"
      },
      "source": [
        "La norma de un vector se calcula como,\n",
        "$$ ||\\mathbf{x}|| = \\sqrt{\\sum_{i=1}^{n} x_{i}^2}, \\quad \\mathbf{x} \\in \\mathbb{R}^n $$"
      ]
    },
    {
      "cell_type": "code",
      "metadata": {
        "id": "N1EjjpHH772s",
        "colab_type": "code",
        "colab": {
          "base_uri": "https://localhost:8080/",
          "height": 34
        },
        "outputId": "ab2d6be7-cc6d-4387-9a2c-fc21e5310802"
      },
      "source": [
        "# Usando comandos basicos de NumPy\n",
        "x = np.random.randn(10,1) # Vector aleatorio de 10 filas y una columna\n",
        "\n",
        "norma = np.sqrt(np.sum(x**2))\n",
        "print(norma)"
      ],
      "execution_count": 13,
      "outputs": [
        {
          "output_type": "stream",
          "text": [
            "3.7646594504478763\n"
          ],
          "name": "stdout"
        }
      ]
    },
    {
      "cell_type": "code",
      "metadata": {
        "id": "W-ZAph9F92LX",
        "colab_type": "code",
        "colab": {
          "base_uri": "https://localhost:8080/",
          "height": 34
        },
        "outputId": "590c9651-c619-4cb3-f528-05890505b9bc"
      },
      "source": [
        "# Usando \"norm\" de NumPy\n",
        "print(np.linalg.norm(x))"
      ],
      "execution_count": 14,
      "outputs": [
        {
          "output_type": "stream",
          "text": [
            "3.7646594504478763\n"
          ],
          "name": "stdout"
        }
      ]
    },
    {
      "cell_type": "markdown",
      "metadata": {
        "id": "S-4EWWEh-4ZC",
        "colab_type": "text"
      },
      "source": [
        "# Producto interno o punto entre vectores"
      ]
    },
    {
      "cell_type": "markdown",
      "metadata": {
        "id": "KVxW9-xW_8tE",
        "colab_type": "text"
      },
      "source": [
        "El producto interno se define\n",
        "\n",
        "\\begin{align}\n",
        "\t\t\\mathbf{x} \\cdot \\mathbf{y} = \\mathbf{x}^{\\top}\\mathbf{y} = x_{1}y_{1} + x_{2}y_{2} + \\ldots + x_{n}y_{n} = \\sum\\limits_{i = 1}^n {{x_i}{y_i}}\n",
        "\\end{align}"
      ]
    },
    {
      "cell_type": "code",
      "metadata": {
        "id": "UP4wFZax-Dws",
        "colab_type": "code",
        "colab": {
          "base_uri": "https://localhost:8080/",
          "height": 34
        },
        "outputId": "08e07733-4e30-43aa-e512-bd7ccb9561bc"
      },
      "source": [
        "# Usando comandos basicos de NumPy\n",
        "x = np.random.randn(10,1) # Vector aleatorio de 10 filas y una columna\n",
        "y = np.random.randn(10,1) # Vector aleatorio de 10 filas y una columna\n",
        "\n",
        "prodint = np.sum(x*y)\n",
        "print(prodint)"
      ],
      "execution_count": 15,
      "outputs": [
        {
          "output_type": "stream",
          "text": [
            "0.6260067279116048\n"
          ],
          "name": "stdout"
        }
      ]
    },
    {
      "cell_type": "code",
      "metadata": {
        "id": "DCqhVvQMAQI2",
        "colab_type": "code",
        "colab": {
          "base_uri": "https://localhost:8080/",
          "height": 34
        },
        "outputId": "dea6cd89-c2d3-45ac-8ec6-95181d85a7e3"
      },
      "source": [
        "# Usando \"dot\" de NumPy\n",
        "print(np.dot(x.T,y))"
      ],
      "execution_count": 18,
      "outputs": [
        {
          "output_type": "stream",
          "text": [
            "[[0.62600673]]\n"
          ],
          "name": "stdout"
        }
      ]
    },
    {
      "cell_type": "code",
      "metadata": {
        "id": "5dm1xbo7AXVU",
        "colab_type": "code",
        "colab": {
          "base_uri": "https://localhost:8080/",
          "height": 34
        },
        "outputId": "f7a98f93-ebea-492d-eb57-c7dc028ca2fd"
      },
      "source": [
        "# Usando el producto matricial de NumPy\n",
        "print(x.T@y)"
      ],
      "execution_count": 19,
      "outputs": [
        {
          "output_type": "stream",
          "text": [
            "[[0.62600673]]\n"
          ],
          "name": "stdout"
        }
      ]
    },
    {
      "cell_type": "markdown",
      "metadata": {
        "id": "Kn8psMZvBLJD",
        "colab_type": "text"
      },
      "source": [
        "## Producto externo o exterior"
      ]
    },
    {
      "cell_type": "markdown",
      "metadata": {
        "id": "obplJl_vBR8R",
        "colab_type": "text"
      },
      "source": [
        "El producto externo se define como\n",
        "\\begin{align*}\n",
        "\\mathbf{x}\\mathbf{y}^{\\top} = \\left[ {\\begin{array}{*{20}{c}}\n",
        "{{x_{1}y_{1}}}&{{x_{1}y_{2}}}& \\cdots &{{x_{1}y_{m}}}\\\\\n",
        "{{x_{2}y_{1}}}&{{x_{2}y_{2}}}& \\cdots &{{x_{2}y_{m}}}\\\\\n",
        " \\vdots & \\vdots & \\ddots & \\vdots \\\\\n",
        "{{x_{n}y_{1}}}&{{x_{n}y_{2}}}& \\cdots &{{x_{n}y_{m}}}\n",
        "\\end{array}} \\right]\n",
        "\\end{align*}"
      ]
    },
    {
      "cell_type": "code",
      "metadata": {
        "id": "9IfzD2-SAjw2",
        "colab_type": "code",
        "colab": {
          "base_uri": "https://localhost:8080/",
          "height": 68
        },
        "outputId": "fe9cdda8-e06d-4159-98cf-6f6cd5a3d532"
      },
      "source": [
        "# Usando comandos basicos de NumPy\n",
        "x = np.random.randn(3,1) # Vector aleatorio de 10 filas y una columna\n",
        "y = np.random.randn(4,1) # Vector aleatorio de 10 filas y una columna\n",
        "\n",
        "print(x*y.T)"
      ],
      "execution_count": 20,
      "outputs": [
        {
          "output_type": "stream",
          "text": [
            "[[-0.1691291   0.65024273 -0.2267572  -0.07340993]\n",
            " [-0.44611884  1.71517221 -0.59812687 -0.19363642]\n",
            " [-0.40474751  1.55611382 -0.54265891 -0.17567934]]\n"
          ],
          "name": "stdout"
        }
      ]
    },
    {
      "cell_type": "code",
      "metadata": {
        "id": "CHl6Hy8XBvBG",
        "colab_type": "code",
        "colab": {
          "base_uri": "https://localhost:8080/",
          "height": 68
        },
        "outputId": "5133f7c0-a2dc-4174-9d3b-cb0551ae8d8b"
      },
      "source": [
        "# Usando el comando outer de NumPy\n",
        "print(np.outer(x,y))"
      ],
      "execution_count": 21,
      "outputs": [
        {
          "output_type": "stream",
          "text": [
            "[[-0.1691291   0.65024273 -0.2267572  -0.07340993]\n",
            " [-0.44611884  1.71517221 -0.59812687 -0.19363642]\n",
            " [-0.40474751  1.55611382 -0.54265891 -0.17567934]]\n"
          ],
          "name": "stdout"
        }
      ]
    },
    {
      "cell_type": "code",
      "metadata": {
        "id": "cFRu0M88B4DY",
        "colab_type": "code",
        "colab": {
          "base_uri": "https://localhost:8080/",
          "height": 68
        },
        "outputId": "268189fc-b4de-4718-c558-e2031f73dc3b"
      },
      "source": [
        "# Usando el producto matricial de NumPy\n",
        "print(x@y.T)"
      ],
      "execution_count": 22,
      "outputs": [
        {
          "output_type": "stream",
          "text": [
            "[[-0.1691291   0.65024273 -0.2267572  -0.07340993]\n",
            " [-0.44611884  1.71517221 -0.59812687 -0.19363642]\n",
            " [-0.40474751  1.55611382 -0.54265891 -0.17567934]]\n"
          ],
          "name": "stdout"
        }
      ]
    },
    {
      "cell_type": "markdown",
      "metadata": {
        "id": "hhYuauo9CWnF",
        "colab_type": "text"
      },
      "source": [
        "## Proyeccion de un vector sobre otro\n",
        "\n"
      ]
    },
    {
      "cell_type": "markdown",
      "metadata": {
        "id": "pFcQca2QGiT5",
        "colab_type": "text"
      },
      "source": [
        "Proyectar un vector sobre otro nos sirve para conocer cuanto del vector $\\mathbf{a}$ hay en la dirección del vector $\\mathbf{u}$ (vector unitario)\n",
        "\n",
        "![](https://mathinsight.org/media/image/image/dot_product_projection_unit_vector.png)"
      ]
    },
    {
      "cell_type": "code",
      "metadata": {
        "id": "EPjZCOA0B9no",
        "colab_type": "code",
        "colab": {
          "base_uri": "https://localhost:8080/",
          "height": 34
        },
        "outputId": "f8cc0590-7a3e-4841-99dd-fb79530daf74"
      },
      "source": [
        "a = np.random.randn(3,1) # Vector aleatorio de 10 filas y una columna\n",
        "u = np.random.randn(3,1) # Vector aleatorio de 10 filas y una columna\n",
        "\n",
        "u = u/np.linalg.norm(u) #Volvemos u unitario\n",
        "au = a.T@u #Valor de a en la direccion de u\n",
        "\n",
        "auv = au*u #vector en la direccion de u con tamaño de la proyeccion de a\n",
        "\n",
        "apu = a - auv #Vector ortogonal a u (cateto opuesto)\n",
        "\n",
        "print(np.linalg.norm(apu)) # Distancia minima entre los vectores a y u"
      ],
      "execution_count": 26,
      "outputs": [
        {
          "output_type": "stream",
          "text": [
            "1.4950566038295796\n"
          ],
          "name": "stdout"
        }
      ]
    }
  ]
}