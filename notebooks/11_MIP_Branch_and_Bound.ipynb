{
  "cells": [
    {
      "cell_type": "markdown",
      "metadata": {
        "id": "1ymDwGCfBnb0"
      },
      "source": [
        "# Optimización - Branch and Bound Method\n",
        "Basado en el curso \"Mathematical Optimization for Engineers\" del profesor Alexander Mitsos."
      ]
    },
    {
      "cell_type": "markdown",
      "metadata": {
        "id": "r-jj5_1pBnb0"
      },
      "source": [
        "Consideremos el siguiente problema de optimización\n",
        "<br>\n",
        "<br>\n",
        "$$\\begin{aligned}\n",
        "        \\min_{x_1,x_2} \\quad - x_1 - 2 x_2 + 10 \\\\\n",
        "        \\mbox{s.t. } \\quad 5 x_1 + 3 x_2 & \\; \\leq \\; 15 \\\\\n",
        "                                 x_2 & \\; \\leq \\; 2 \\\\\n",
        "                                 x_1,x_2 & \\; \\in \\; \\mathbb{N}_0,\n",
        "\\end{aligned}$$\n",
        "donde $\\mathbb{N}_0 = \\{0,1,2,3,\\dots \\}$.\n",
        "<br>\n",
        "<br>\n",
        "<br>\n",
        "1.  Dibujar el conjunto de factibilidad del problema de optimiacion y las lineas de contorno de la funcion objetivo.\n",
        "<br>\n",
        "<br>\n",
        "2.  Usar el metodo Branch & Bound para solucionar el problema de optimizacion. Puede resolver relajando los problemas ya sea de forma geometrica o puede usar la funcion `linprog` de `scipy.optimize`.\n",
        "<br>\n",
        "<br>\n",
        "3.  Asignar el termino \"lower bound\" y \"limite superior\" a cada solucion de los problemas realajados y construya un arbol de ramificación."
      ]
    },
    {
      "cell_type": "markdown",
      "source": [
        "## 1. Grafica de la region de factibilidad\n",
        "\n",
        "La region de factbilidad esa representada solo por los puntos en rojo."
      ],
      "metadata": {
        "id": "X13enFUGaTw5"
      }
    },
    {
      "cell_type": "markdown",
      "source": [
        "<div>\n",
        "<img src=\"https://raw.githubusercontent.com/cgl-itm/Optimizacion-ITM/main/notebooks/figuras/optproblem.png\" width=\"300\"/>\n",
        "</div>"
      ],
      "metadata": {
        "id": "UQlGMso-dGpt"
      }
    },
    {
      "cell_type": "markdown",
      "metadata": {
        "id": "OD6VpNxZBnb1"
      },
      "source": [
        "### Branching & bounding of nodes\n",
        "\n",
        "&emsp; <u>Nodo 1:</u>\n",
        "\n",
        "Primero, las restricciones enteras son <u>relajadas</u> reemplazandolas con\n",
        "<br>\n",
        "$$\\begin{aligned}\n",
        "        x_1 & \\geq 0 \\\\\n",
        "        x_2 & \\geq 0\n",
        "\\end{aligned}$$\n",
        "Entonces el conjunto factible ahora luce como\n",
        "<br>\n",
        "<br>\n",
        "<div>\n",
        "<img src=\"https://raw.githubusercontent.com/cgl-itm/Optimizacion-ITM/main/notebooks/figuras/relaxed1.png\" width=\"300\"/>\n",
        "</div>\n",
        "<br>\n",
        "<br>\n",
        "Note que el conjunto factible del problema relajado consiste de <u>todos</u> los puntos dentro y en el perimetro (o borde) de la region amarilla, esto es, el problema relajado es un problema continuo."
      ]
    },
    {
      "cell_type": "markdown",
      "metadata": {
        "id": "ei9Bp_FUBnb2"
      },
      "source": [
        "El problema de optimización resultante es un programa lineal (LP).\n",
        "\n",
        "Vemos que la solucion optima para este problema (punto azul) es $x^* = \\left( \\begin{array}{{c}} 1.8 \\\\ 2 \\\\ \\end{array} \\right)$ con valor de funcion objetivo $f(x^*) = 4.2$.\n",
        "<br>\n",
        "<br>\n",
        "<div>\n",
        "<img src=\"https://raw.githubusercontent.com/cgl-itm/Optimizacion-ITM/main/notebooks/figuras/node1-1.png\" width=\"300\"/>\n",
        "</div>\n",
        "<br>\n",
        "<br>\n",
        "Desafortunadamente, la solución optima $x^*$ no es un numero entero, entonces esta no es una solucion optima para el problema original (no es un punto factible, solo los de color rojo). Por otro lado, el valor de la funcion objetivo del nodo 1 es llamada \"<u>**global** lower bound</u>\" sobre el valor de la funcion objetivo del problema original."
      ]
    },
    {
      "cell_type": "markdown",
      "metadata": {
        "id": "2ZXy-P2MBnb2"
      },
      "source": [
        "&emsp; &emsp; <u>Ramificación nodo 1:</u>\n",
        "\n",
        "Debido que $x^*$ no es un entero, realizamos el paso llamado \"branching\" (ramificar). Esto significa, que tomamos una variable no entera ( en este caso $x_1$) y la ramificamos. Esto implica que creamos dos subproblemas node 2 y node 3. Nodo 2 adicionalmente contine la restriccion $$x_1 \\leq 1$$ y el nodo 3 incluye la restricción\n",
        "$$x_1 \\geq 2$$\n",
        "      \n",
        "Notese que $x_1 ^* = 1.8$ se encuentra entre los valores 1 y 2.\n",
        "<br>\n",
        "<br>\n",
        "<div>\n",
        "<img src=\"https://raw.githubusercontent.com/cgl-itm/Optimizacion-ITM/main/notebooks/figuras/relaxed23.png\" width=\"300\"/>\n",
        "</div>\n",
        "<br>\n",
        "<br>"
      ]
    },
    {
      "cell_type": "markdown",
      "metadata": {
        "id": "Ml_ZiBtzBnb2"
      },
      "source": [
        "&emsp; <u>Nodo 2:</u>\n",
        "\n",
        "La solucion optima del nodo es $x^* = \\left( \\begin{array}{{c}} 1 \\\\ 2 \\\\ \\end{array} \\right)$ con valor de funcion objetivo de $f^* = 5$.\n",
        "<br>\n",
        "<br>\n",
        "<div>\n",
        "<img src=\"https://raw.githubusercontent.com/cgl-itm/Optimizacion-ITM/main/notebooks/figuras/node2-1.png\" width=\"300\"/>\n",
        "</div>\n",
        "<br>\n",
        "<br>\n",
        "Ahora, la solucion optima $x^*$ es entera, entonces el valor de la funcion objetivo del nodo 2 es llamada un \"upper bound\" (limite superior).\n",
        "Note que no conocemos si esta es la solucion optima del poblema original de optimizacion, debido que el nodo 3 puede contener una mejor solucion entera que esta. Debido que encontramos una solucion entera en el nodo 2, no tenemos que ramificar mas. Hacar ramificaciones no nos llevara a mejores evaluaciones de la función objetivo.\n"
      ]
    },
    {
      "cell_type": "markdown",
      "metadata": {
        "id": "XDvHJGBOBnb3"
      },
      "source": [
        "<u>Nodo 3:</u>\n",
        "\n",
        "La solucion optima del nodo 3 es $x^* = \\left( \\begin{array}{{c}} 2 \\\\ 1.\\bar{6} \\\\ \\end{array} \\right)$ con valor de la funcion objetivo de $f^* = 4.\\bar{6}$.\n",
        "<br>\n",
        "<br>\n",
        "<div>\n",
        "<img src=\"https://raw.githubusercontent.com/cgl-itm/Optimizacion-ITM/main/notebooks/figuras/node3-1.png\" width=\"300\"/>\n",
        "</div>\n",
        "<br>\n",
        "<br>\n",
        "\n",
        "Desafortunadamente, la solucion optima $x^*$ no es entera, esta no es la solucion optima del problema original. Entonces, el valor de la funcion objetivo del nodo 3 es solamente un \"<u>**local** lower bound</u>\" (limite inferior local).\n",
        "\n",
        "&emsp; &emsp; <u>Ramificación node 3</u>\n",
        "\n",
        "Debido que $x^*$ no es entera, debemos ramificar. Esto significa, que tomamos una componente no entera de $x^*$ y creamos dos subproblemas: nodo 4 ay nodo 5. El nodo 4 contiene todas las restriciones del nodo 3 y adicionalmente la restricción\n",
        "\\begin{equation}\n",
        "\t\tx_2 \\leq 1\n",
        "\\end{equation}\n",
        "y el nodo 5 contiene tambien todas las restricciones del nodo 3 y adicionalmente la restricción\n",
        "\\begin{equation}\n",
        "\t\tx_2 \\geq 2\n",
        "\\end{equation}\n",
        "\n",
        "Note que $x_2 ^* = 1.\\bar{6}$ esta entre los valores enteros 1 y 2.\n",
        "<br>\n",
        "<br>\n",
        "<div>\n",
        "<img src=\"https://raw.githubusercontent.com/cgl-itm/Optimizacion-ITM/main/notebooks/figuras/relaxed45.png\" width=\"300\"/>\n",
        "</div>"
      ]
    },
    {
      "cell_type": "markdown",
      "metadata": {
        "id": "3LxEo3AaBnb3"
      },
      "source": [
        "&emsp; <u>Nodo 4:</u>\n",
        "\n",
        "La solución optima del nodo 4 es\n",
        "$x^* = \\left( \\begin{array}{{c}} 2.4 \\\\ 1 \\\\ \\end{array} \\right)$ con valor de funcion objetivo $f^* = 5.6$.\n",
        "<br>\n",
        "<br>\n",
        "<div>\n",
        "<img src=\"https://raw.githubusercontent.com/cgl-itm/Optimizacion-ITM/main/notebooks/figuras/node4-1.png\" width=\"300\"/>\n",
        "</div>\n",
        "<br>\n",
        "<br>                   \n",
        "\n",
        "La solucion optima $x^*$ no es entera, Entonces esta no es la solucion optima del problema original. Una vez mas, el valor de la funcion objetivo del nodo 4 es solamente un \"**local** lower bound\"."
      ]
    },
    {
      "cell_type": "markdown",
      "metadata": {
        "id": "zsXelsgMBnb4"
      },
      "source": [
        "Normalmente, tendriamos que famificar de nuevo. Sin embargo, somos afortunados en este caso. El valor de la funcion objetivo del nodo 4 ($f^* = 5.6$) es mayor que el valor del upper bound (nodo 2: \t$f^* = 5$). Cuando ramificamos el nodo 4, el conjunto factible se vuelve mas pequeño, entonces los valores de la funcion objetivo seran al menos $5.6$. Esto significa que no tenemos que ramificar el nodo 4 de nuevo y nos saltamos ese paso. La solucion optima del problema original no esta en el conjunto factible del nodo 4."
      ]
    },
    {
      "cell_type": "markdown",
      "metadata": {
        "id": "wEWi-NnlBnb4"
      },
      "source": [
        "&emsp; <u>Nodo 5:</u>\n",
        "\n",
        "El conjunto factible del nodo 5 esta vacio. Entonces, el nodo 5 se puede saltar tambien."
      ]
    },
    {
      "cell_type": "markdown",
      "metadata": {
        "id": "6RmXFgAEBnb4"
      },
      "source": [
        "Aqui un resumen de lo que hemos hecho hasta ahora:\n",
        "<br>\n",
        "<br>\n",
        "<div>\n",
        "<img src=\"https://raw.githubusercontent.com/cgl-itm/Optimizacion-ITM/main/notebooks/figuras/summary.png\"/>\n",
        "</div>\n",
        "<br>\n",
        "<br>\n",
        "<div>\n",
        "<img src=\"https://raw.githubusercontent.com/cgl-itm/Optimizacion-ITM/main/notebooks/figuras/BBtree-1.png\" width=\"300\"/>\n",
        "</div>\n",
        "<br>\n",
        "<br>"
      ]
    },
    {
      "cell_type": "markdown",
      "metadata": {
        "id": "xs3gWhgMBnb5"
      },
      "source": [
        "Es muy importante darse cuenta que el valor del limite inferior sobre la funcion objetivo se tiene que incrementar o permanecer constante (el limite superior puede reducirse o permanecer constante) mientras desciende en el arbol. Obviamente, es el caso aqui: nodo 1 tiene un valor objetivo mas pequeño, que el nodo 3. Nodo 3 tiene un valor objetivo mas pequeño que el nodo 4.\n",
        "\n",
        "El valor optimo de la funcion objetivo del problema original tiene que se al menos tan alta como el valor de la funcion objetivo del nodo 1.\n",
        "Por eso es que llamamos el valor de la funcion objetivo del nodo 1 un\n",
        "**global** lower bound (limite inferior global). El node 3 tiene solamente un **local** lower bound, debido que es posible encontrar un valor objetivo mas pequeño en el nodo 2 o en su sub-arbol.\n",
        "\n",
        "Si la solucion optima de algun nodo es entero, llamamos al respectivo valor objetivo un **upper** bound. En caso de limites superiores, no distinguimos entre limites globales o locales. En algun sentido, todos los limites superiores pueden ser vistos como global, debido que el valor objetivo del problema original es igual al valor del mejor (mas pequeño) limite superior.\n",
        "\n",
        "Note que estos terminos solo se refieren a problema de **minimización**."
      ]
    },
    {
      "cell_type": "markdown",
      "metadata": {
        "id": "d4bx9udaBnb5"
      },
      "source": [
        "# Problema: Surfear\n",
        "Tu eres un surfeador de viento ambicioso y quieres avanzar al nivel competitivo. Actualmente, no posees una tabla de carreras y tienes un presupuesto limitado. Entonces, quieres optimizar la selección adecuada de la tabla(s) y el mejor momento para estudiar surfeo. El entrenador ofrece hasta 10 horas de lecciones de surfeo. Las tablas difieren dependiendo de las condiciones del viento. Puede haber viento fuerte o ligero.\n",
        "\n",
        "A continuación se formula el problema de optimización y tambien se debe considerar que solo se puede usar una tabla sí la compraste."
      ]
    },
    {
      "cell_type": "code",
      "execution_count": 1,
      "metadata": {
        "id": "3_5lvl4hBnb5"
      },
      "outputs": [],
      "source": [
        "from scipy.optimize import minimize, Bounds, NonlinearConstraint\n",
        "import numpy as np"
      ]
    },
    {
      "cell_type": "code",
      "execution_count": 2,
      "metadata": {
        "id": "QDOfIxYABnb7"
      },
      "outputs": [],
      "source": [
        "# usar una funcion nolineal debido que es mas simpe de implementar\n",
        "\n",
        "def constraints(x):\n",
        "    # retorna las retricciones\n",
        "    c = np.empty(9)\n",
        "\n",
        "    # parametros\n",
        "\n",
        "    # nombres de la variables\n",
        "    # Continuas de 0h a 10h\n",
        "    surf_lesson_hours = x[0]\n",
        "\n",
        "    # Discretas\n",
        "    # decisiones de compra, tres tablas diferentes (binaria)\n",
        "    buy_board_1 = x[1]\n",
        "    buy_board_2 = x[2]\n",
        "    buy_board_3 = x[3]\n",
        "\n",
        "    # Usos de la tabla depende del tipo de viento (binaria)\n",
        "    use_board1_wind_high = x[4]\n",
        "    use_board2_wind_high = x[5]\n",
        "    use_board3_wind_high = x[6]\n",
        "\n",
        "    use_board1_wind_low = x[7]\n",
        "    use_board2_wind_low = x[8]\n",
        "    use_board3_wind_low = x[9]\n",
        "\n",
        "    # costo de las lecciones de surfeo y las tablas\n",
        "    # Costos tabla 1, tabla 2 y tabla 3, Costo lecciones\n",
        "    p = [112, 50, 218, 25]\n",
        "\n",
        "    # restricion sobre el presupuesto\n",
        "    cost_board1 = p[0]\n",
        "    cost_board2 = p[1]\n",
        "    cost_board3 = p[2]\n",
        "    cost_surf_lesson = p[3]\n",
        "\n",
        "    #Costo total\n",
        "    c[0] = cost_surf_lesson * surf_lesson_hours + cost_board1 * buy_board_1 + cost_board2 * buy_board_2 + cost_board3 * buy_board_3\n",
        "\n",
        "    # Seleccionar solo una tablas para viento fuerte\n",
        "    c[1] = use_board1_wind_high + use_board2_wind_high + use_board3_wind_high - 1\n",
        "    # seleccionar solo tablas que hayas comprado\n",
        "    c[2] = use_board1_wind_high - buy_board_1  # use_board <= buy_board\n",
        "    c[3] = use_board2_wind_high - buy_board_2\n",
        "    c[4] = use_board3_wind_high - buy_board_3\n",
        "\n",
        "    # seleccionar solo una tabla para viento ligero\n",
        "    c[5] = use_board1_wind_low + use_board2_wind_low + use_board3_wind_low - 1\n",
        "    # seleccionar solo tablas que hayas comprado\n",
        "    c[6] = use_board1_wind_low - buy_board_1\n",
        "    c[7] = use_board2_wind_low - buy_board_2\n",
        "    c[8] = use_board3_wind_low - buy_board_3\n",
        "\n",
        "    return c\n",
        "\n",
        "def average_speed_objective(x): #velocidad promedio\n",
        "\n",
        "    # nombres de variables\n",
        "    surf_lesson_hours = x[0]\n",
        "\n",
        "    buy_board_1 = x[1]\n",
        "    buy_board_2 = x[2]\n",
        "    buy_board_3 = x[3]\n",
        "\n",
        "    # usos de la tabla\n",
        "    use_board1_wind_high = x[4]\n",
        "    use_board2_wind_high = x[5]\n",
        "    use_board3_wind_high = x[6]\n",
        "\n",
        "    use_board1_wind_low = x[7]\n",
        "    use_board2_wind_low = x[8]\n",
        "    use_board3_wind_low = x[9]\n",
        "\n",
        "    # parametros\n",
        "    speed_board1_wind_high = 18.1\n",
        "    speed_board2_wind_high = 25.8\n",
        "    speed_board3_wind_high = 25.8\n",
        "    speed_lesson_wind_high = 1.5\n",
        "\n",
        "    speed_board1_wind_low = 24.3\n",
        "    speed_board2_wind_low = 21.0\n",
        "    speed_board3_wind_low = 24.3\n",
        "    speed_lesson_wind_low = 0.1\n",
        "    # wind 1\n",
        "    speed1 = use_board1_wind_high * speed_board1_wind_high \\\n",
        "            + use_board2_wind_high * speed_board2_wind_high\\\n",
        "            + use_board3_wind_high * speed_board3_wind_high\\\n",
        "            + speed_lesson_wind_high * surf_lesson_hours\n",
        "\n",
        "    speed2 = use_board1_wind_low * speed_board1_wind_low \\\n",
        "            + use_board2_wind_low * speed_board2_wind_low\\\n",
        "            + use_board3_wind_low * speed_board3_wind_low\\\n",
        "            + speed_lesson_wind_low * surf_lesson_hours\n",
        "\n",
        "    return -(speed1+speed2)/2  # - for maximization"
      ]
    },
    {
      "cell_type": "code",
      "execution_count": 3,
      "metadata": {
        "id": "FRuEhY0HBnb7"
      },
      "outputs": [],
      "source": [
        "def print_sol(x):\n",
        "    surf_lesson_hours = x[0]\n",
        "\n",
        "    buy_board_1 = x[1]\n",
        "    buy_board_2 = x[2]\n",
        "    buy_board_3 = x[3]\n",
        "\n",
        "    # next uses of board\n",
        "    use_board1_wind_high = x[4]\n",
        "    use_board2_wind_high = x[5]\n",
        "    use_board3_wind_high = x[6]\n",
        "\n",
        "    use_board1_wind_low = x[7]\n",
        "    use_board2_wind_low = x[8]\n",
        "    use_board3_wind_low = x[9]\n",
        "\n",
        "    print('surf_lesson_hours ', \"{:.1f}\".format(x[0]))\n",
        "    print('buy_board_1 ', \"{:.1f}\".format(x[1]))\n",
        "    print('buy_board_2 ', \"{:.1f}\".format(x[2]))\n",
        "    print('buy_board_3 ', \"{:.1f}\".format(x[3]))\n",
        "    print('use_board1_wind_high ', \"{:.1f}\".format(x[4]))\n",
        "    print('use_board2_wind_high ', \"{:.1f}\".format(x[5]))\n",
        "    print('use_board3_wind_high ', \"{:.1f}\".format(x[6]))\n",
        "    print('use_board1_wind_low ', \"{:.1f}\".format(x[7]))\n",
        "    print('use_board2_wind_low ', \"{:.1f}\".format(x[8]))\n",
        "    print('use_board3_wind_low ', \"{:.1f}\".format(x[9]))\n"
      ]
    },
    {
      "cell_type": "code",
      "execution_count": 4,
      "metadata": {
        "id": "7cAguNbcBnb7",
        "outputId": "28391410-df12-4f50-c782-64d3b14736b1",
        "colab": {
          "base_uri": "https://localhost:8080/"
        }
      },
      "outputs": [
        {
          "output_type": "stream",
          "name": "stdout",
          "text": [
            "  NIT    FC           OBJFUN            GNORM\n",
            "    1    12    -2.569000E+01     2.865061E+01\n",
            "    2    23    -2.658784E+01     2.865061E+01\n",
            "    3    34    -2.939257E+01     2.865061E+01\n",
            "    4    45    -3.261899E+01     2.865061E+01\n",
            "    5    56    -3.269139E+01     2.865061E+01\n",
            "    6    67    -3.287321E+01     2.865061E+01\n",
            "    7    77    -3.287321E+01     2.865061E+01\n",
            "Optimization terminated successfully    (Exit mode 0)\n",
            "            Current function value: -32.87321428571446\n",
            "            Iterations: 7\n",
            "            Function evaluations: 77\n",
            "            Gradient evaluations: 7\n",
            "surf_lesson_hours  10.0\n",
            "buy_board_1  0.9\n",
            "buy_board_2  1.0\n",
            "buy_board_3  0.0\n",
            "use_board1_wind_high  0.0\n",
            "use_board2_wind_high  1.0\n",
            "use_board3_wind_high  0.0\n",
            "use_board1_wind_low  0.9\n",
            "use_board2_wind_low  0.1\n",
            "use_board3_wind_low  0.0\n"
          ]
        },
        {
          "output_type": "stream",
          "name": "stderr",
          "text": [
            "/usr/local/lib/python3.10/dist-packages/scipy/optimize/_constraints.py:537: OptimizeWarning: Equality and inequality constraints are specified in the same element of the constraint list. For efficient use with this method, equality and inequality constraints should be specified in separate elements of the constraint list. \n",
            "  warn(\"Equality and inequality constraints are specified in the same \"\n"
          ]
        }
      ],
      "source": [
        "# solucionar problema\n",
        "budget = 400 # Presupuesto\n",
        "# puede ser una tablas y lecciones, o 2 tablas, o 2 tablas y lecciones\n",
        "constraint_lower_bounds = [0, 0, -np.inf, -np.inf, -np.inf, 0, -np.inf, -np.inf, -np.inf]\n",
        "constraint_upper_bounds = [budget, 0, 0, 0, 0, 0, 0, 0, 0]\n",
        "\n",
        "nlc = NonlinearConstraint(constraints, constraint_lower_bounds, constraint_upper_bounds)\n",
        "lb = [0,0,0,0,0,0,0,0,0,0]\n",
        "ub = [10,1,1,1,1,1,1,1,1,1]\n",
        "bnds = Bounds(lb, ub)\n",
        "x0 = [0,0,0,0,0,0,0,0,0,0]\n",
        "\n",
        "sol = minimize(average_speed_objective, x0, \\\n",
        "                 bounds = bnds, constraints=nlc, method='SLSQP',\\\n",
        "                 options={'iprint':3, 'disp': True})\n",
        "\n",
        "print_sol(sol.x)"
      ]
    },
    {
      "cell_type": "code",
      "execution_count": 5,
      "metadata": {
        "id": "9aq36g6FBnb8",
        "outputId": "9f3f3606-49d2-44bd-83c6-e69ff34eb624",
        "colab": {
          "base_uri": "https://localhost:8080/"
        }
      },
      "outputs": [
        {
          "output_type": "stream",
          "name": "stdout",
          "text": [
            "  NIT    FC           OBJFUN            GNORM\n",
            "    1    12    -2.569000E+01     2.865061E+01\n",
            "    2    23    -2.661018E+01     2.865061E+01\n",
            "    3    34    -2.976028E+01     2.865061E+01\n",
            "    4    45    -3.266619E+01     2.865061E+01\n",
            "    5    55    -3.266619E+01     2.865061E+01\n",
            "Optimization terminated successfully    (Exit mode 0)\n",
            "            Current function value: -32.66619340000017\n",
            "            Iterations: 5\n",
            "            Function evaluations: 55\n",
            "            Gradient evaluations: 5\n",
            "surf_lesson_hours  9.5\n",
            "buy_board_1  1.0\n",
            "buy_board_2  1.0\n",
            "buy_board_3  0.0\n",
            "use_board1_wind_high  0.0\n",
            "use_board2_wind_high  1.0\n",
            "use_board3_wind_high  0.0\n",
            "use_board1_wind_low  1.0\n",
            "use_board2_wind_low  0.0\n",
            "use_board3_wind_low  0.0\n"
          ]
        }
      ],
      "source": [
        "# manually branch on buy_board_1\n",
        "# buy_board_1\n",
        "# putting 1.0 does not work for SLSQP...\n",
        "lb = [0,0.9999,0,0.0,0,0,0,0,0,0]\n",
        "ub = [10,1,1,1,1,1,1,1,1,1]\n",
        "bnds = Bounds(lb, ub)\n",
        "x0 = [0,0,0,1,0,0,0,0,0,0]\n",
        "\n",
        "sol = minimize(average_speed_objective, x0, \\\n",
        "                 bounds = bnds, constraints=nlc, method='SLSQP',\\\n",
        "                 options={'iprint':3, 'disp': True})\n",
        "\n",
        "print_sol(sol.x)"
      ]
    },
    {
      "cell_type": "code",
      "execution_count": 6,
      "metadata": {
        "id": "z2KCZ2P_Bnb9",
        "outputId": "9f688d51-ac8a-4acf-b245-cdc7fcabba1d",
        "colab": {
          "base_uri": "https://localhost:8080/"
        }
      },
      "outputs": [
        {
          "output_type": "stream",
          "name": "stdout",
          "text": [
            "  NIT    FC           OBJFUN            GNORM\n",
            "    1    12    -2.549761E+01     2.865061E+01\n",
            "    2    23    -2.652070E+01     2.865061E+01\n",
            "    3    34    -2.979690E+01     2.865061E+01\n",
            "    4    45    -3.238220E+01     2.865061E+01\n",
            "    5    55    -3.238220E+01     2.865061E+01\n",
            "Optimization terminated successfully    (Exit mode 0)\n",
            "            Current function value: -32.382197857143076\n",
            "            Iterations: 5\n",
            "            Function evaluations: 55\n",
            "            Gradient evaluations: 5\n",
            "surf_lesson_hours  10.0\n",
            "buy_board_1  0.0\n",
            "buy_board_2  0.4\n",
            "buy_board_3  0.6\n",
            "use_board1_wind_high  0.0\n",
            "use_board2_wind_high  0.4\n",
            "use_board3_wind_high  0.6\n",
            "use_board1_wind_low  0.0\n",
            "use_board2_wind_low  0.4\n",
            "use_board3_wind_low  0.6\n"
          ]
        }
      ],
      "source": [
        "# not buy_board_1\n",
        "lb = [0,0,0,0,0,0,0,0,0,0]\n",
        "ub = [10,0.0001,1,1,1,1,1,1,1,1]\n",
        "bnds = Bounds(lb, ub)\n",
        "x0 = [0,0,0,0,0,0,0,0,0,0]\n",
        "\n",
        "sol = minimize(average_speed_objective, x0, \\\n",
        "                 bounds = bnds, constraints=nlc, method='SLSQP',\\\n",
        "                 options={'iprint':3, 'disp': True})\n",
        "print_sol(sol.x)"
      ]
    },
    {
      "cell_type": "markdown",
      "metadata": {
        "id": "L2NInkzaBnb9"
      },
      "source": [
        "La optimizacion revela que deberias comprar las tablas 1 y 2, y usar la tabla 2 para viento fuerte y la tabla 1 para viento ligero."
      ]
    },
    {
      "cell_type": "markdown",
      "source": [
        "## Ejercicio: Realizar el problema de ejemplo visto en las diapositivas de la clase."
      ],
      "metadata": {
        "id": "eAi-0QrLL5i6"
      }
    },
    {
      "cell_type": "code",
      "source": [],
      "metadata": {
        "id": "HAaC9vqML-fb"
      },
      "execution_count": null,
      "outputs": []
    }
  ],
  "metadata": {
    "kernelspec": {
      "display_name": "Python 3",
      "language": "python",
      "name": "python3"
    },
    "language_info": {
      "codemirror_mode": {
        "name": "ipython",
        "version": 3
      },
      "file_extension": ".py",
      "mimetype": "text/x-python",
      "name": "python",
      "nbconvert_exporter": "python",
      "pygments_lexer": "ipython3",
      "version": "3.6.8"
    },
    "colab": {
      "provenance": []
    }
  },
  "nbformat": 4,
  "nbformat_minor": 0
}