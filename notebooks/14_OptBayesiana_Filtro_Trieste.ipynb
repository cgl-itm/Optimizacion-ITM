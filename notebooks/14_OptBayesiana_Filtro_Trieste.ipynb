{
  "nbformat": 4,
  "nbformat_minor": 0,
  "metadata": {
    "colab": {
      "provenance": []
    },
    "kernelspec": {
      "name": "python3",
      "display_name": "Python 3"
    },
    "language_info": {
      "name": "python"
    }
  },
  "cells": [
    {
      "cell_type": "code",
      "source": [
        "!pip install trieste"
      ],
      "metadata": {
        "colab": {
          "base_uri": "https://localhost:8080/"
        },
        "id": "--pv69Kl4h6c",
        "outputId": "2f438cf7-6d58-49b2-f088-aa491573515b"
      },
      "execution_count": null,
      "outputs": [
        {
          "output_type": "stream",
          "name": "stdout",
          "text": [
            "Collecting trieste\n",
            "  Downloading trieste-1.2.0-py3-none-any.whl (253 kB)\n",
            "\u001b[?25l     \u001b[90m━━━━━━━━━━━━━━━━━━━━━━━━━━━━━━━━━━━━━━━━\u001b[0m \u001b[32m0.0/253.6 kB\u001b[0m \u001b[31m?\u001b[0m eta \u001b[36m-:--:--\u001b[0m\r\u001b[2K     \u001b[91m━━━━━━━━━━━━━━\u001b[0m\u001b[91m╸\u001b[0m\u001b[90m━━━━━━━━━━━━━━━━━━━━━━━━━\u001b[0m \u001b[32m92.2/253.6 kB\u001b[0m \u001b[31m2.5 MB/s\u001b[0m eta \u001b[36m0:00:01\u001b[0m\r\u001b[2K     \u001b[90m━━━━━━━━━━━━━━━━━━━━━━━━━━━━━━━━━━━━━━━━\u001b[0m \u001b[32m253.6/253.6 kB\u001b[0m \u001b[31m4.2 MB/s\u001b[0m eta \u001b[36m0:00:00\u001b[0m\n",
            "\u001b[?25hRequirement already satisfied: absl-py in /usr/local/lib/python3.10/dist-packages (from trieste) (1.4.0)\n",
            "Collecting dill!=0.3.6 (from trieste)\n",
            "  Downloading dill-0.3.7-py3-none-any.whl (115 kB)\n",
            "\u001b[2K     \u001b[90m━━━━━━━━━━━━━━━━━━━━━━━━━━━━━━━━━━━━━━━━\u001b[0m \u001b[32m115.3/115.3 kB\u001b[0m \u001b[31m14.1 MB/s\u001b[0m eta \u001b[36m0:00:00\u001b[0m\n",
            "\u001b[?25hCollecting gpflow>=2.8.1 (from trieste)\n",
            "  Downloading gpflow-2.9.0-py3-none-any.whl (379 kB)\n",
            "\u001b[2K     \u001b[90m━━━━━━━━━━━━━━━━━━━━━━━━━━━━━━━━━━━━━━━━\u001b[0m \u001b[32m379.8/379.8 kB\u001b[0m \u001b[31m19.5 MB/s\u001b[0m eta \u001b[36m0:00:00\u001b[0m\n",
            "\u001b[?25hCollecting gpflux>=0.4.2 (from trieste)\n",
            "  Downloading gpflux-0.4.2-py3-none-any.whl (74 kB)\n",
            "\u001b[2K     \u001b[90m━━━━━━━━━━━━━━━━━━━━━━━━━━━━━━━━━━━━━━━━\u001b[0m \u001b[32m74.8/74.8 kB\u001b[0m \u001b[31m7.8 MB/s\u001b[0m eta \u001b[36m0:00:00\u001b[0m\n",
            "\u001b[?25hRequirement already satisfied: numpy in /usr/local/lib/python3.10/dist-packages (from trieste) (1.23.5)\n",
            "Requirement already satisfied: tensorflow-probability>=0.13 in /usr/local/lib/python3.10/dist-packages (from trieste) (0.22.0)\n",
            "Requirement already satisfied: greenlet>=1.1.0 in /usr/local/lib/python3.10/dist-packages (from trieste) (3.0.0)\n",
            "Requirement already satisfied: tensorflow>=2.5 in /usr/local/lib/python3.10/dist-packages (from trieste) (2.14.0)\n",
            "Collecting check-shapes>=1.0.0 (from gpflow>=2.8.1->trieste)\n",
            "  Downloading check_shapes-1.1.1-py3-none-any.whl (45 kB)\n",
            "\u001b[2K     \u001b[90m━━━━━━━━━━━━━━━━━━━━━━━━━━━━━━━━━━━━━━━━\u001b[0m \u001b[32m45.8/45.8 kB\u001b[0m \u001b[31m5.6 MB/s\u001b[0m eta \u001b[36m0:00:00\u001b[0m\n",
            "\u001b[?25hCollecting deprecated (from gpflow>=2.8.1->trieste)\n",
            "  Downloading Deprecated-1.2.14-py2.py3-none-any.whl (9.6 kB)\n",
            "Requirement already satisfied: multipledispatch>=0.6 in /usr/local/lib/python3.10/dist-packages (from gpflow>=2.8.1->trieste) (1.0.0)\n",
            "Requirement already satisfied: packaging in /usr/local/lib/python3.10/dist-packages (from gpflow>=2.8.1->trieste) (23.2)\n",
            "Requirement already satisfied: scipy in /usr/local/lib/python3.10/dist-packages (from gpflow>=2.8.1->trieste) (1.11.3)\n",
            "Requirement already satisfied: setuptools>=41.0.0 in /usr/local/lib/python3.10/dist-packages (from gpflow>=2.8.1->trieste) (67.7.2)\n",
            "Requirement already satisfied: tabulate in /usr/local/lib/python3.10/dist-packages (from gpflow>=2.8.1->trieste) (0.9.0)\n",
            "Requirement already satisfied: typing-extensions in /usr/local/lib/python3.10/dist-packages (from gpflow>=2.8.1->trieste) (4.5.0)\n",
            "Collecting tensorflow-probability>=0.13 (from trieste)\n",
            "  Downloading tensorflow_probability-0.19.0-py2.py3-none-any.whl (6.7 MB)\n",
            "\u001b[2K     \u001b[90m━━━━━━━━━━━━━━━━━━━━━━━━━━━━━━━━━━━━━━━━\u001b[0m \u001b[32m6.7/6.7 MB\u001b[0m \u001b[31m77.0 MB/s\u001b[0m eta \u001b[36m0:00:00\u001b[0m\n",
            "\u001b[?25hCollecting tensorflow>=2.5 (from trieste)\n",
            "  Downloading tensorflow-2.12.1-cp310-cp310-manylinux_2_17_x86_64.manylinux2014_x86_64.whl (585.9 MB)\n",
            "\u001b[2K     \u001b[90m━━━━━━━━━━━━━━━━━━━━━━━━━━━━━━━━━━━━━━━━\u001b[0m \u001b[32m585.9/585.9 MB\u001b[0m \u001b[31m1.0 MB/s\u001b[0m eta \u001b[36m0:00:00\u001b[0m\n",
            "\u001b[?25hRequirement already satisfied: astunparse>=1.6.0 in /usr/local/lib/python3.10/dist-packages (from tensorflow>=2.5->trieste) (1.6.3)\n",
            "Requirement already satisfied: flatbuffers>=2.0 in /usr/local/lib/python3.10/dist-packages (from tensorflow>=2.5->trieste) (23.5.26)\n",
            "Collecting gast<=0.4.0,>=0.2.1 (from tensorflow>=2.5->trieste)\n",
            "  Downloading gast-0.4.0-py3-none-any.whl (9.8 kB)\n",
            "Requirement already satisfied: google-pasta>=0.1.1 in /usr/local/lib/python3.10/dist-packages (from tensorflow>=2.5->trieste) (0.2.0)\n",
            "Requirement already satisfied: grpcio<2.0,>=1.24.3 in /usr/local/lib/python3.10/dist-packages (from tensorflow>=2.5->trieste) (1.59.0)\n",
            "Requirement already satisfied: h5py>=2.9.0 in /usr/local/lib/python3.10/dist-packages (from tensorflow>=2.5->trieste) (3.9.0)\n",
            "Requirement already satisfied: jax>=0.3.15 in /usr/local/lib/python3.10/dist-packages (from tensorflow>=2.5->trieste) (0.4.16)\n",
            "Collecting keras<2.13,>=2.12.0 (from tensorflow>=2.5->trieste)\n",
            "  Downloading keras-2.12.0-py2.py3-none-any.whl (1.7 MB)\n",
            "\u001b[2K     \u001b[90m━━━━━━━━━━━━━━━━━━━━━━━━━━━━━━━━━━━━━━━━\u001b[0m \u001b[32m1.7/1.7 MB\u001b[0m \u001b[31m76.1 MB/s\u001b[0m eta \u001b[36m0:00:00\u001b[0m\n",
            "\u001b[?25hRequirement already satisfied: libclang>=13.0.0 in /usr/local/lib/python3.10/dist-packages (from tensorflow>=2.5->trieste) (16.0.6)\n",
            "Requirement already satisfied: opt-einsum>=2.3.2 in /usr/local/lib/python3.10/dist-packages (from tensorflow>=2.5->trieste) (3.3.0)\n",
            "Requirement already satisfied: protobuf!=4.21.0,!=4.21.1,!=4.21.2,!=4.21.3,!=4.21.4,!=4.21.5,<5.0.0dev,>=3.20.3 in /usr/local/lib/python3.10/dist-packages (from tensorflow>=2.5->trieste) (3.20.3)\n",
            "Requirement already satisfied: six>=1.12.0 in /usr/local/lib/python3.10/dist-packages (from tensorflow>=2.5->trieste) (1.16.0)\n",
            "Collecting tensorboard<2.13,>=2.12 (from tensorflow>=2.5->trieste)\n",
            "  Downloading tensorboard-2.12.3-py3-none-any.whl (5.6 MB)\n",
            "\u001b[2K     \u001b[90m━━━━━━━━━━━━━━━━━━━━━━━━━━━━━━━━━━━━━━━━\u001b[0m \u001b[32m5.6/5.6 MB\u001b[0m \u001b[31m93.4 MB/s\u001b[0m eta \u001b[36m0:00:00\u001b[0m\n",
            "\u001b[?25hCollecting tensorflow-estimator<2.13,>=2.12.0 (from tensorflow>=2.5->trieste)\n",
            "  Downloading tensorflow_estimator-2.12.0-py2.py3-none-any.whl (440 kB)\n",
            "\u001b[2K     \u001b[90m━━━━━━━━━━━━━━━━━━━━━━━━━━━━━━━━━━━━━━━━\u001b[0m \u001b[32m440.7/440.7 kB\u001b[0m \u001b[31m24.7 MB/s\u001b[0m eta \u001b[36m0:00:00\u001b[0m\n",
            "\u001b[?25hRequirement already satisfied: termcolor>=1.1.0 in /usr/local/lib/python3.10/dist-packages (from tensorflow>=2.5->trieste) (2.3.0)\n",
            "Requirement already satisfied: wrapt<1.15,>=1.11.0 in /usr/local/lib/python3.10/dist-packages (from tensorflow>=2.5->trieste) (1.14.1)\n",
            "Requirement already satisfied: tensorflow-io-gcs-filesystem>=0.23.1 in /usr/local/lib/python3.10/dist-packages (from tensorflow>=2.5->trieste) (0.34.0)\n",
            "Requirement already satisfied: decorator in /usr/local/lib/python3.10/dist-packages (from tensorflow-probability>=0.13->trieste) (4.4.2)\n",
            "Requirement already satisfied: cloudpickle>=1.3 in /usr/local/lib/python3.10/dist-packages (from tensorflow-probability>=0.13->trieste) (2.2.1)\n",
            "Requirement already satisfied: dm-tree in /usr/local/lib/python3.10/dist-packages (from tensorflow-probability>=0.13->trieste) (0.1.8)\n",
            "Requirement already satisfied: wheel<1.0,>=0.23.0 in /usr/local/lib/python3.10/dist-packages (from astunparse>=1.6.0->tensorflow>=2.5->trieste) (0.41.2)\n",
            "Collecting dropstackframe>=0.1.0 (from check-shapes>=1.0.0->gpflow>=2.8.1->trieste)\n",
            "  Downloading dropstackframe-0.1.0-py3-none-any.whl (4.5 kB)\n",
            "Collecting lark<2.0.0,>=1.1.0 (from check-shapes>=1.0.0->gpflow>=2.8.1->trieste)\n",
            "  Downloading lark-1.1.8-py3-none-any.whl (111 kB)\n",
            "\u001b[2K     \u001b[90m━━━━━━━━━━━━━━━━━━━━━━━━━━━━━━━━━━━━━━━━\u001b[0m \u001b[32m111.6/111.6 kB\u001b[0m \u001b[31m13.3 MB/s\u001b[0m eta \u001b[36m0:00:00\u001b[0m\n",
            "\u001b[?25hRequirement already satisfied: ml-dtypes>=0.2.0 in /usr/local/lib/python3.10/dist-packages (from jax>=0.3.15->tensorflow>=2.5->trieste) (0.2.0)\n",
            "Requirement already satisfied: google-auth<3,>=1.6.3 in /usr/local/lib/python3.10/dist-packages (from tensorboard<2.13,>=2.12->tensorflow>=2.5->trieste) (2.17.3)\n",
            "Requirement already satisfied: google-auth-oauthlib<1.1,>=0.5 in /usr/local/lib/python3.10/dist-packages (from tensorboard<2.13,>=2.12->tensorflow>=2.5->trieste) (1.0.0)\n",
            "Requirement already satisfied: markdown>=2.6.8 in /usr/local/lib/python3.10/dist-packages (from tensorboard<2.13,>=2.12->tensorflow>=2.5->trieste) (3.5)\n",
            "Requirement already satisfied: requests<3,>=2.21.0 in /usr/local/lib/python3.10/dist-packages (from tensorboard<2.13,>=2.12->tensorflow>=2.5->trieste) (2.31.0)\n",
            "Requirement already satisfied: tensorboard-data-server<0.8.0,>=0.7.0 in /usr/local/lib/python3.10/dist-packages (from tensorboard<2.13,>=2.12->tensorflow>=2.5->trieste) (0.7.2)\n",
            "Requirement already satisfied: werkzeug>=1.0.1 in /usr/local/lib/python3.10/dist-packages (from tensorboard<2.13,>=2.12->tensorflow>=2.5->trieste) (3.0.1)\n",
            "Requirement already satisfied: cachetools<6.0,>=2.0.0 in /usr/local/lib/python3.10/dist-packages (from google-auth<3,>=1.6.3->tensorboard<2.13,>=2.12->tensorflow>=2.5->trieste) (5.3.2)\n",
            "Requirement already satisfied: pyasn1-modules>=0.2.1 in /usr/local/lib/python3.10/dist-packages (from google-auth<3,>=1.6.3->tensorboard<2.13,>=2.12->tensorflow>=2.5->trieste) (0.3.0)\n",
            "Requirement already satisfied: rsa<5,>=3.1.4 in /usr/local/lib/python3.10/dist-packages (from google-auth<3,>=1.6.3->tensorboard<2.13,>=2.12->tensorflow>=2.5->trieste) (4.9)\n",
            "Requirement already satisfied: requests-oauthlib>=0.7.0 in /usr/local/lib/python3.10/dist-packages (from google-auth-oauthlib<1.1,>=0.5->tensorboard<2.13,>=2.12->tensorflow>=2.5->trieste) (1.3.1)\n",
            "Requirement already satisfied: charset-normalizer<4,>=2 in /usr/local/lib/python3.10/dist-packages (from requests<3,>=2.21.0->tensorboard<2.13,>=2.12->tensorflow>=2.5->trieste) (3.3.1)\n",
            "Requirement already satisfied: idna<4,>=2.5 in /usr/local/lib/python3.10/dist-packages (from requests<3,>=2.21.0->tensorboard<2.13,>=2.12->tensorflow>=2.5->trieste) (3.4)\n",
            "Requirement already satisfied: urllib3<3,>=1.21.1 in /usr/local/lib/python3.10/dist-packages (from requests<3,>=2.21.0->tensorboard<2.13,>=2.12->tensorflow>=2.5->trieste) (2.0.7)\n",
            "Requirement already satisfied: certifi>=2017.4.17 in /usr/local/lib/python3.10/dist-packages (from requests<3,>=2.21.0->tensorboard<2.13,>=2.12->tensorflow>=2.5->trieste) (2023.7.22)\n",
            "Requirement already satisfied: MarkupSafe>=2.1.1 in /usr/local/lib/python3.10/dist-packages (from werkzeug>=1.0.1->tensorboard<2.13,>=2.12->tensorflow>=2.5->trieste) (2.1.3)\n",
            "Requirement already satisfied: pyasn1<0.6.0,>=0.4.6 in /usr/local/lib/python3.10/dist-packages (from pyasn1-modules>=0.2.1->google-auth<3,>=1.6.3->tensorboard<2.13,>=2.12->tensorflow>=2.5->trieste) (0.5.0)\n",
            "Requirement already satisfied: oauthlib>=3.0.0 in /usr/local/lib/python3.10/dist-packages (from requests-oauthlib>=0.7.0->google-auth-oauthlib<1.1,>=0.5->tensorboard<2.13,>=2.12->tensorflow>=2.5->trieste) (3.2.2)\n",
            "Installing collected packages: tensorflow-estimator, lark, keras, gast, dropstackframe, dill, deprecated, tensorflow-probability, check-shapes, tensorboard, tensorflow, gpflow, gpflux, trieste\n",
            "  Attempting uninstall: tensorflow-estimator\n",
            "    Found existing installation: tensorflow-estimator 2.14.0\n",
            "    Uninstalling tensorflow-estimator-2.14.0:\n",
            "      Successfully uninstalled tensorflow-estimator-2.14.0\n",
            "  Attempting uninstall: keras\n",
            "    Found existing installation: keras 2.14.0\n",
            "    Uninstalling keras-2.14.0:\n",
            "      Successfully uninstalled keras-2.14.0\n",
            "  Attempting uninstall: gast\n",
            "    Found existing installation: gast 0.5.4\n",
            "    Uninstalling gast-0.5.4:\n",
            "      Successfully uninstalled gast-0.5.4\n",
            "  Attempting uninstall: tensorflow-probability\n",
            "    Found existing installation: tensorflow-probability 0.22.0\n",
            "    Uninstalling tensorflow-probability-0.22.0:\n",
            "      Successfully uninstalled tensorflow-probability-0.22.0\n",
            "  Attempting uninstall: tensorboard\n",
            "    Found existing installation: tensorboard 2.14.1\n",
            "    Uninstalling tensorboard-2.14.1:\n",
            "      Successfully uninstalled tensorboard-2.14.1\n",
            "  Attempting uninstall: tensorflow\n",
            "    Found existing installation: tensorflow 2.14.0\n",
            "    Uninstalling tensorflow-2.14.0:\n",
            "      Successfully uninstalled tensorflow-2.14.0\n",
            "Successfully installed check-shapes-1.1.1 deprecated-1.2.14 dill-0.3.7 dropstackframe-0.1.0 gast-0.4.0 gpflow-2.9.0 gpflux-0.4.2 keras-2.12.0 lark-1.1.8 tensorboard-2.12.3 tensorflow-2.12.1 tensorflow-estimator-2.12.0 tensorflow-probability-0.19.0 trieste-1.2.0\n"
          ]
        }
      ]
    },
    {
      "cell_type": "code",
      "source": [
        "from trieste.space import Box\n",
        "import tensorflow as tf\n",
        "import numpy as np\n",
        "\n",
        "search_space = Box([-100]*20, [100]*20)  # define the search space directly"
      ],
      "metadata": {
        "id": "a-1ksAJn2tu7"
      },
      "execution_count": null,
      "outputs": []
    },
    {
      "cell_type": "code",
      "source": [
        "import trieste"
      ],
      "metadata": {
        "id": "5WfVy7f-dG5V"
      },
      "execution_count": null,
      "outputs": []
    },
    {
      "cell_type": "code",
      "source": [
        "n = 20 #Cantidad de coeficientes\n",
        "N = 15*n #Numero de frecuencias\n",
        "#Vector columna de frecuencias\n",
        "w = tf.reshape(tf.linspace(0.0,3.14516,N),(N,1))\n",
        "# Respuesta en frecuencia del filtro deseado\n",
        "D = 5.25\n",
        "Hdes = tf.exp(tf.complex(0.0, -1.0)*tf.complex(D*w,0.0))\n",
        "# Construccion de la matriz A\n",
        "A = tf.exp( tf.complex(0.0, -1.0) * tf.cast(tf.experimental.numpy.kron(w, tf.experimental.numpy.arange(n)), dtype = 'complex64') )\n",
        "#Extraer parte real e imaginaria\n",
        "Hdes_R = tf.math.real(Hdes)\n",
        "Hdes_I = tf.math.imag(Hdes)\n",
        "A_R = tf.math.real(A)\n",
        "A_I = tf.math.imag(A)"
      ],
      "metadata": {
        "id": "uvGmjiZafRXx"
      },
      "execution_count": null,
      "outputs": []
    },
    {
      "cell_type": "code",
      "source": [
        "def ObjFun(h):\n",
        "  if h.dtype == tf.float64:\n",
        "    h = tf.cast(h,tf.float32)\n",
        "  if len(h.shape)==1:\n",
        "    ht = tf.reshape(h,[1,h.shape[0],1])\n",
        "  elif len(h.shape)==2:\n",
        "    ht = tf.reshape(h,[h.shape[0],h.shape[1],1])\n",
        "  else:\n",
        "    ht = h.copy()\n",
        "  A_Rt = tf.repeat(tf.reshape(A_R,[1,A_R.shape[0],A_R.shape[1]]),ht.shape[0],axis=0)\n",
        "  A_It = tf.repeat(tf.reshape(A_I,[1,A_I.shape[0],A_I.shape[1]]),ht.shape[0],axis=0)\n",
        "  Hdes_Rt = tf.repeat(tf.reshape(Hdes_R,[1,Hdes_R.shape[0],Hdes_R.shape[1]]),ht.shape[0],axis=0)\n",
        "  Hdes_It = tf.repeat(tf.reshape(Hdes_I,[1,Hdes_I.shape[0],Hdes_I.shape[1]]),ht.shape[0],axis=0)\n",
        "  res = tf.math.reduce_sum( tf.square(tf.linalg.matmul(A_Rt,ht) - Hdes_Rt) +\\\n",
        "                            tf.square(tf.linalg.matmul(A_It,ht)- Hdes_It), axis = 1)\n",
        "  return tf.cast(res, tf.float64)"
      ],
      "metadata": {
        "id": "ajjDB1G4lHoZ"
      },
      "execution_count": null,
      "outputs": []
    },
    {
      "cell_type": "code",
      "source": [
        "h = tf.random.uniform(shape=[5,20])\n",
        "ObjFun(h)"
      ],
      "metadata": {
        "colab": {
          "base_uri": "https://localhost:8080/"
        },
        "id": "SoNPPB43gsSx",
        "outputId": "f9022929-f964-435c-b6cc-734619749447"
      },
      "execution_count": null,
      "outputs": [
        {
          "output_type": "execute_result",
          "data": {
            "text/plain": [
              "<tf.Tensor: shape=(5, 1), dtype=float64, numpy=\n",
              "array([[1644.82019043],\n",
              "       [1902.90490723],\n",
              "       [1687.85009766],\n",
              "       [1912.24353027],\n",
              "       [2421.31933594]])>"
            ]
          },
          "metadata": {},
          "execution_count": 21
        }
      ]
    },
    {
      "cell_type": "code",
      "source": [
        "observer = trieste.objectives.utils.mk_observer(ObjFun)\n",
        "\n",
        "num_initial_points = 5\n",
        "initial_query_points = search_space.sample_sobol(num_initial_points)\n",
        "initial_data = observer(initial_query_points)"
      ],
      "metadata": {
        "id": "ZSEc-AjC7Sy2"
      },
      "execution_count": null,
      "outputs": []
    },
    {
      "cell_type": "code",
      "source": [
        "initial_data"
      ],
      "metadata": {
        "colab": {
          "base_uri": "https://localhost:8080/"
        },
        "id": "vPAg3urweKaU",
        "outputId": "2dadb4e4-a85c-41fe-ffda-d60977757f50"
      },
      "execution_count": null,
      "outputs": [
        {
          "output_type": "execute_result",
          "data": {
            "text/plain": [
              "Dataset(query_points=<tf.Tensor: shape=(5, 20), dtype=float64, numpy=\n",
              "array([[  2.46276855,  84.5489502 , -83.3770752 , -76.62658691,\n",
              "        -18.36853027, -19.40612793,  69.15588379,  11.61804199,\n",
              "        -26.18713379,  99.80163574, -68.40515137, -18.53942871,\n",
              "         10.65979004,  51.47399902, -83.12683105, -60.1348877 ,\n",
              "         78.14025879, -62.68005371, -97.97668457,  19.52209473],\n",
              "       [ 52.46276855, -65.4510498 ,  66.6229248 ,  73.37341309,\n",
              "        -68.36853027, -69.40612793, -80.84411621,  61.61804199,\n",
              "        -76.18713379,  49.80163574, -18.40515137, -68.53942871,\n",
              "        -39.34020996, -98.52600098, -33.12683105,  89.8651123 ,\n",
              "         28.14025879,  87.31994629, -47.97668457, -30.47790527],\n",
              "       [-47.53723145,  34.5489502 , -33.3770752 , -26.62658691,\n",
              "         31.63146973,  30.59387207,  19.15588379, -38.38195801,\n",
              "         23.81286621, -50.19836426,  81.59484863,  31.46057129,\n",
              "         60.65979004,   1.47399902,  66.87316895, -10.1348877 ,\n",
              "        -71.85974121, -12.68005371,  52.02331543,  69.52209473],\n",
              "       [-22.53723145, -90.4510498 , -58.3770752 ,  -1.62658691,\n",
              "          6.63146973,  55.59387207, -55.84411621,  86.61804199,\n",
              "        -51.18713379,  74.80163574, -43.40515137,   6.46057129,\n",
              "        -14.34020996,  76.47399902,  91.87316895, -35.1348877 ,\n",
              "        -96.85974121, -37.68005371, -22.97668457, -55.47790527],\n",
              "       [ 77.46276855,   9.5489502 ,  41.6229248 ,  98.37341309,\n",
              "        -93.36853027, -44.40612793,  44.15588379, -13.38195801,\n",
              "         48.81286621, -25.19836426,  56.59484863, -93.53942871,\n",
              "         85.65979004, -23.52600098,  -8.12683105,  64.8651123 ,\n",
              "          3.14025879,  62.31994629,  77.02331543,  44.52209473]])>, observations=<tf.Tensor: shape=(5, 1), dtype=float64, numpy=\n",
              "array([[22346364.],\n",
              "       [24639690.],\n",
              "       [12232827.],\n",
              "       [19864100.],\n",
              "       [20819916.]])>)"
            ]
          },
          "metadata": {},
          "execution_count": 23
        }
      ]
    },
    {
      "cell_type": "code",
      "source": [
        "import gpflow\n",
        "import tensorflow_probability as tfp\n",
        "\n",
        "from trieste.models.gpflow import GaussianProcessRegression\n",
        "\n",
        "\n",
        "def build_model(data):\n",
        "    variance = tf.math.reduce_variance(data.observations)\n",
        "    kernel = gpflow.kernels.Matern52(variance=variance, lengthscales=[0.2, 0.2])\n",
        "    prior_scale = tf.cast(1.0, dtype=tf.float64)\n",
        "    kernel.variance.prior = tfp.distributions.LogNormal(\n",
        "        tf.cast(-2.0, dtype=tf.float64), prior_scale\n",
        "    )\n",
        "    kernel.lengthscales.prior = tfp.distributions.LogNormal(\n",
        "        tf.math.log(kernel.lengthscales), prior_scale\n",
        "    )\n",
        "    gpr = gpflow.models.GPR(data.astuple(), kernel, noise_variance=1e-5)\n",
        "    gpflow.set_trainable(gpr.likelihood, False)\n",
        "\n",
        "    return GaussianProcessRegression(gpr, num_kernel_samples=100)\n",
        "\n",
        "\n",
        "model = build_model(initial_data)"
      ],
      "metadata": {
        "id": "L7yYOzKu4pok"
      },
      "execution_count": null,
      "outputs": []
    },
    {
      "cell_type": "code",
      "source": [
        "from trieste.models.gpflow import build_gpr\n",
        "\n",
        "gpflow_model = build_gpr(initial_data, search_space, likelihood_variance=1e-7)\n",
        "model = GaussianProcessRegression(gpflow_model, num_kernel_samples=100)"
      ],
      "metadata": {
        "colab": {
          "base_uri": "https://localhost:8080/",
          "height": 400
        },
        "id": "cIXjJ-P2gpDx",
        "outputId": "0368d8f9-7f81-4e3a-a536-a69d7de4efd9"
      },
      "execution_count": null,
      "outputs": [
        {
          "output_type": "error",
          "ename": "AttributeError",
          "evalue": "ignored",
          "traceback": [
            "\u001b[0;31m---------------------------------------------------------------------------\u001b[0m",
            "\u001b[0;31mAttributeError\u001b[0m                            Traceback (most recent call last)",
            "\u001b[0;32m<ipython-input-33-91ba6022e145>\u001b[0m in \u001b[0;36m<cell line: 3>\u001b[0;34m()\u001b[0m\n\u001b[1;32m      1\u001b[0m \u001b[0;32mfrom\u001b[0m \u001b[0mtrieste\u001b[0m\u001b[0;34m.\u001b[0m\u001b[0mmodels\u001b[0m\u001b[0;34m.\u001b[0m\u001b[0mgpflow\u001b[0m \u001b[0;32mimport\u001b[0m \u001b[0mbuild_gpr\u001b[0m\u001b[0;34m\u001b[0m\u001b[0;34m\u001b[0m\u001b[0m\n\u001b[1;32m      2\u001b[0m \u001b[0;34m\u001b[0m\u001b[0m\n\u001b[0;32m----> 3\u001b[0;31m \u001b[0mgpflow_model\u001b[0m \u001b[0;34m=\u001b[0m \u001b[0mbuild_gpr\u001b[0m\u001b[0;34m(\u001b[0m\u001b[0minitial_data\u001b[0m\u001b[0;34m,\u001b[0m \u001b[0msearch_space\u001b[0m\u001b[0;34m,\u001b[0m \u001b[0mlikelihood_variance\u001b[0m\u001b[0;34m=\u001b[0m\u001b[0;36m1e-7\u001b[0m\u001b[0;34m)\u001b[0m\u001b[0;34m\u001b[0m\u001b[0;34m\u001b[0m\u001b[0m\n\u001b[0m\u001b[1;32m      4\u001b[0m \u001b[0mmodel\u001b[0m \u001b[0;34m=\u001b[0m \u001b[0mGaussianProcessRegression\u001b[0m\u001b[0;34m(\u001b[0m\u001b[0mgpflow_model\u001b[0m\u001b[0;34m,\u001b[0m \u001b[0mnum_kernel_samples\u001b[0m\u001b[0;34m=\u001b[0m\u001b[0;36m100\u001b[0m\u001b[0;34m)\u001b[0m\u001b[0;34m\u001b[0m\u001b[0;34m\u001b[0m\u001b[0m\n",
            "\u001b[0;32m/usr/local/lib/python3.10/dist-packages/trieste/models/gpflow/builders.py\u001b[0m in \u001b[0;36mbuild_gpr\u001b[0;34m(data, search_space, kernel_priors, likelihood_variance, trainable_likelihood, kernel)\u001b[0m\n\u001b[1;32m    132\u001b[0m     \u001b[0mmodel\u001b[0m \u001b[0;34m=\u001b[0m \u001b[0mgpflow\u001b[0m\u001b[0;34m.\u001b[0m\u001b[0mmodels\u001b[0m\u001b[0;34m.\u001b[0m\u001b[0mGPR\u001b[0m\u001b[0;34m(\u001b[0m\u001b[0mdata\u001b[0m\u001b[0;34m.\u001b[0m\u001b[0mastuple\u001b[0m\u001b[0;34m(\u001b[0m\u001b[0;34m)\u001b[0m\u001b[0;34m,\u001b[0m \u001b[0mkernel\u001b[0m\u001b[0;34m,\u001b[0m \u001b[0mmean\u001b[0m\u001b[0;34m)\u001b[0m\u001b[0;34m\u001b[0m\u001b[0;34m\u001b[0m\u001b[0m\n\u001b[1;32m    133\u001b[0m \u001b[0;34m\u001b[0m\u001b[0m\n\u001b[0;32m--> 134\u001b[0;31m     \u001b[0m_set_gaussian_likelihood_variance\u001b[0m\u001b[0;34m(\u001b[0m\u001b[0mmodel\u001b[0m\u001b[0;34m,\u001b[0m \u001b[0mempirical_variance\u001b[0m\u001b[0;34m,\u001b[0m \u001b[0mlikelihood_variance\u001b[0m\u001b[0;34m)\u001b[0m\u001b[0;34m\u001b[0m\u001b[0;34m\u001b[0m\u001b[0m\n\u001b[0m\u001b[1;32m    135\u001b[0m     \u001b[0mgpflow\u001b[0m\u001b[0;34m.\u001b[0m\u001b[0mset_trainable\u001b[0m\u001b[0;34m(\u001b[0m\u001b[0mmodel\u001b[0m\u001b[0;34m.\u001b[0m\u001b[0mlikelihood\u001b[0m\u001b[0;34m,\u001b[0m \u001b[0mtrainable_likelihood\u001b[0m\u001b[0;34m)\u001b[0m\u001b[0;34m\u001b[0m\u001b[0;34m\u001b[0m\u001b[0m\n\u001b[1;32m    136\u001b[0m \u001b[0;34m\u001b[0m\u001b[0m\n",
            "\u001b[0;32m/usr/local/lib/python3.10/dist-packages/trieste/models/gpflow/builders.py\u001b[0m in \u001b[0;36m_set_gaussian_likelihood_variance\u001b[0;34m(model, variance, likelihood_variance)\u001b[0m\n\u001b[1;32m    421\u001b[0m         \u001b[0mnoise_variance\u001b[0m \u001b[0;34m=\u001b[0m \u001b[0mtf\u001b[0m\u001b[0;34m.\u001b[0m\u001b[0mcast\u001b[0m\u001b[0;34m(\u001b[0m\u001b[0mlikelihood_variance\u001b[0m\u001b[0;34m,\u001b[0m \u001b[0mdtype\u001b[0m\u001b[0;34m=\u001b[0m\u001b[0mgpflow\u001b[0m\u001b[0;34m.\u001b[0m\u001b[0mdefault_float\u001b[0m\u001b[0;34m(\u001b[0m\u001b[0;34m)\u001b[0m\u001b[0;34m)\u001b[0m\u001b[0;34m\u001b[0m\u001b[0;34m\u001b[0m\u001b[0m\n\u001b[1;32m    422\u001b[0m \u001b[0;34m\u001b[0m\u001b[0m\n\u001b[0;32m--> 423\u001b[0;31m     model.likelihood.variance = gpflow.base.Parameter(\n\u001b[0m\u001b[1;32m    424\u001b[0m         \u001b[0mnoise_variance\u001b[0m\u001b[0;34m,\u001b[0m \u001b[0mtransform\u001b[0m\u001b[0;34m=\u001b[0m\u001b[0mgpflow\u001b[0m\u001b[0;34m.\u001b[0m\u001b[0mutilities\u001b[0m\u001b[0;34m.\u001b[0m\u001b[0mpositive\u001b[0m\u001b[0;34m(\u001b[0m\u001b[0mlower\u001b[0m\u001b[0;34m=\u001b[0m\u001b[0;36m1e-12\u001b[0m\u001b[0;34m)\u001b[0m\u001b[0;34m\u001b[0m\u001b[0;34m\u001b[0m\u001b[0m\n\u001b[1;32m    425\u001b[0m     )\n",
            "\u001b[0;31mAttributeError\u001b[0m: module 'gpflow' has no attribute 'base'"
          ]
        }
      ]
    }
  ]
}