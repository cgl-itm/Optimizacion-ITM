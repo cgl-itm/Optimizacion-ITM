{
  "cells": [
    {
      "cell_type": "markdown",
      "metadata": {
        "id": "s9OPCJqs1SMW"
      },
      "source": [
        "# Algoritmo Genetico"
      ]
    },
    {
      "cell_type": "code",
      "source": [
        "import numpy as np"
      ],
      "metadata": {
        "id": "uEoRO_DxJwf2"
      },
      "execution_count": 34,
      "outputs": []
    },
    {
      "cell_type": "markdown",
      "source": [
        "Construimos la funcion objetivo, usa la funcion Rosenbrock."
      ],
      "metadata": {
        "id": "AU_wyDLsMPvL"
      }
    },
    {
      "cell_type": "code",
      "source": [
        "#Rosenbrock\n",
        "fob = lambda x: -1*(x[0]**4+3*x[0]**3*x[1]+\\\n",
        "                6*x[0]**2*x[1]**2+3*x[0]*x[1]**3+\\\n",
        "                x[1]**4-4*(x[0]-x[1])*(x[0]+3*x[1]))"
      ],
      "metadata": {
        "id": "i4U5_1xbMPLb"
      },
      "execution_count": 35,
      "outputs": []
    },
    {
      "cell_type": "markdown",
      "source": [
        "Codigo del algoritmo genetivo visto en la diapositivas."
      ],
      "metadata": {
        "id": "pSlbgAz4MUzx"
      }
    },
    {
      "cell_type": "code",
      "execution_count": 36,
      "metadata": {
        "colab": {
          "base_uri": "https://localhost:8080/"
        },
        "id": "O9Knsb1yepq6",
        "outputId": "f2079e69-e3f1-44f7-f332-02e4ec420df9"
      },
      "outputs": [
        {
          "output_type": "stream",
          "name": "stdout",
          "text": [
            "3.0798106918428676 -108.67808805095473\n",
            "La solucion es  [-1.18792712 -0.0382197 ]  con aptitud:  3.794188884532844\n"
          ]
        }
      ],
      "source": [
        "#Generar poblacion\n",
        "N = 100\n",
        "P = 2\n",
        "X0 = 4*np.random.rand(N,P)-2 #Poblacion inicial\n",
        "X = X0.copy()\n",
        "#Evaluar poblacion\n",
        "aptitud = []\n",
        "for k in range(N):\n",
        "    aptitud.append(fob(X[k,:]))\n",
        "\n",
        "aptitud = np.array(aptitud)\n",
        "indSort = np.argsort(aptitud)\n",
        "\n",
        "print(max(aptitud), min(aptitud))\n",
        "\n",
        "for k in range(100):\n",
        "  #Ruleta\n",
        "  ValoresRul = aptitud - aptitud.min() + 0.1\n",
        "  S = sum(ValoresRul)\n",
        "  r = np.random.rand()*S\n",
        "  sumasPar = np.cumsum(ValoresRul)\n",
        "\n",
        "  ind = np.argwhere(sumasPar>=r)[0][0]\n",
        "\n",
        "\n",
        "  sinInd = list(range(N))\n",
        "  sinInd.remove(ind)\n",
        "  S2 = sum(ValoresRul[sinInd])\n",
        "  r = np.random.rand()*S2\n",
        "  sumasPar = np.cumsum(ValoresRul[sinInd])\n",
        "\n",
        "  ind2=np.argwhere(sumasPar>=r)[0][0]\n",
        "\n",
        "\n",
        "  #cruce\n",
        "  alpha = np.random.rand()\n",
        "  hijo = alpha*X[ind,:]+(1-alpha)*X[ind2,:]\n",
        "\n",
        "  #Mutacion\n",
        "  if np.random.rand()>0.5:\n",
        "    cuantos_par = np.random.randint(X.shape[1]+1)\n",
        "    indHijoMutar = np.random.permutation(X.shape[1])[:cuantos_par]\n",
        "    hijo[indHijoMutar] += np.random.randn(cuantos_par)\n",
        "\n",
        "  #Evolucion\n",
        "  X[indSort[0],:] = hijo\n",
        "  aptitud[indSort[0]] = fob(hijo)\n",
        "  indSort = np.argsort(aptitud)\n",
        "\n",
        "bestInd = np.argmax(aptitud)\n",
        "mejorX = X[bestInd,:]\n",
        "mejorAptitud = aptitud[bestInd]\n",
        "print(\"La solucion es \",mejorX,\" con aptitud: \",mejorAptitud)"
      ]
    },
    {
      "cell_type": "markdown",
      "source": [
        "Buscamos en una grilla (grid) el optimo."
      ],
      "metadata": {
        "id": "kBWjlpTjJ35M"
      }
    },
    {
      "cell_type": "code",
      "execution_count": 37,
      "metadata": {
        "id": "d_ilbKoOuh46"
      },
      "outputs": [],
      "source": [
        "x1 = np.linspace(-2,2,100)\n",
        "x2 = np.linspace(-2,2,100)\n",
        "x1v, x2v = np.meshgrid(x1,x2)"
      ]
    },
    {
      "cell_type": "code",
      "execution_count": 38,
      "metadata": {
        "id": "psIKRQnquw35"
      },
      "outputs": [],
      "source": [
        "A = np.hstack((x1v.reshape(100*100,1),x2v.reshape(100*100,1)))"
      ]
    },
    {
      "cell_type": "code",
      "execution_count": 39,
      "metadata": {
        "id": "ufQV40WVuxaR"
      },
      "outputs": [],
      "source": [
        "aptitudFB = []\n",
        "for i in range(A.shape[0]):\n",
        "  aptitudFB.append(fob(A[i,:]))\n",
        "aptitudFB = np.asarray(aptitudFB)"
      ]
    },
    {
      "cell_type": "code",
      "execution_count": 40,
      "metadata": {
        "colab": {
          "base_uri": "https://localhost:8080/"
        },
        "id": "PUBiq1gMvRwB",
        "outputId": "67c25b9d-8881-4ca4-e7d1-0cb492f17e6a"
      },
      "outputs": [
        {
          "output_type": "execute_result",
          "data": {
            "text/plain": [
              "(np.float64(4.092306317199881), array([-1.39393939, -0.06060606]))"
            ]
          },
          "metadata": {},
          "execution_count": 40
        }
      ],
      "source": [
        "np.max(aptitudFB),A[np.argmax(aptitudFB),:]"
      ]
    },
    {
      "cell_type": "markdown",
      "source": [
        "Segun la grilla, el maximo es 4.09 ubicado en $x_1=-1.39$, $x_2=-0.061$."
      ],
      "metadata": {
        "id": "Ibias0VkK7Kz"
      }
    },
    {
      "cell_type": "markdown",
      "metadata": {
        "id": "ZyiwlMHX1Xlm"
      },
      "source": [
        "# PSO - Enjambre de Particulas"
      ]
    },
    {
      "cell_type": "code",
      "execution_count": 52,
      "metadata": {
        "colab": {
          "base_uri": "https://localhost:8080/"
        },
        "id": "Qu1oEFpo1aH2",
        "outputId": "2b8b9518-b541-4d78-f4f3-c1466e4368f7"
      },
      "outputs": [
        {
          "output_type": "stream",
          "name": "stdout",
          "text": [
            "x:  [-0.65045902 -0.34889855] , f(x):  -0.5448271380974716\n"
          ]
        }
      ],
      "source": [
        "#Este codigo del PSO esta hecho para maximizar\n",
        "Particulas = X0.copy() #misma poblacion inicial del genetico\n",
        "\n",
        "l_inf = np.array([-2.,-2.])\n",
        "l_sup = np.array([2.,2.])\n",
        "\n",
        "# Ejemplo para minimizacion\n",
        "#funobj = lambda x: np.sum(x**2) #Funcion a minimizar\n",
        "#fob = lambda x: -funobj(x) #Se invierte para maximizar\n",
        "\n",
        "F = np.apply_along_axis(fob,1,Particulas)\n",
        "\n",
        "pbest = Particulas.copy()\n",
        "Fpbest = F.copy()\n",
        "indBest = np.argmax(F)\n",
        "gbest = Particulas[indBest,:].copy()\n",
        "Fgbest = F[indBest]\n",
        "Iteraciones = 100\n",
        "c1, c2 = 0.5, 0.5\n",
        "Velocidad = np.zeros_like(Particulas)\n",
        "for i in range(Iteraciones):\n",
        "  r1 = np.random.rand(1,P)\n",
        "  r2 = np.random.rand(1,P)\n",
        "  #Calculo de la velocidad para todas las particulas\n",
        "  Velocidad += c1*r1*(pbest-Particulas)+c2*r2*(gbest-Particulas)\n",
        "  #Actualizacion posicion de todas las particulas\n",
        "  Particulas += Velocidad\n",
        "  Particulas = np.clip(Particulas,l_inf,l_sup)\n",
        "  F = []\n",
        "  for k in range(N): #Evaluamos fob para cada particula\n",
        "    F.append(fob(Particulas[k,:]))\n",
        "    if (F[k]>Fpbest[k]): #Actualizamos el mejor local\n",
        "      Fpbest[k] = F[k]\n",
        "      pbest[k,:] = Particulas[k,:].copy()\n",
        "\n",
        "  indBest = np.argmax(F)\n",
        "  if (F[indBest]>Fgbest): #Actualizamos el mejor global\n",
        "    Fgbest = F[indBest]\n",
        "    gbest = Particulas[indBest,:]\n",
        "\n",
        "print('x: ',gbest,', f(x): ',fob(gbest))"
      ]
    },
    {
      "cell_type": "code",
      "execution_count": 42,
      "metadata": {
        "id": "XFRMj83Z4oW9"
      },
      "outputs": [],
      "source": [
        "A = 5*np.random.rand(10,2)-2"
      ]
    },
    {
      "cell_type": "code",
      "source": [
        "Ap = np.clip(A,[-2,-1],[1,2])"
      ],
      "metadata": {
        "id": "yCbwJJk0_W6o"
      },
      "execution_count": 43,
      "outputs": []
    },
    {
      "cell_type": "code",
      "source": [
        "A,Ap"
      ],
      "metadata": {
        "colab": {
          "base_uri": "https://localhost:8080/"
        },
        "id": "h9B5ARAg_XNo",
        "outputId": "80e8a10c-1765-4365-bad8-90609fcc8ca6"
      },
      "execution_count": 44,
      "outputs": [
        {
          "output_type": "execute_result",
          "data": {
            "text/plain": [
              "(array([[-0.80549786,  2.4472178 ],\n",
              "        [ 1.85517382, -0.92556713],\n",
              "        [ 0.69166613, -0.52943257],\n",
              "        [-1.40035615, -1.92909613],\n",
              "        [ 2.98835986, -0.22582036],\n",
              "        [ 2.89610935, -1.31627657],\n",
              "        [-1.76206774,  2.71515767],\n",
              "        [-1.9351669 ,  2.82282034],\n",
              "        [ 1.13706013, -0.68901115],\n",
              "        [ 1.93927553,  2.40531953]]),\n",
              " array([[-0.80549786,  2.        ],\n",
              "        [ 1.        , -0.92556713],\n",
              "        [ 0.69166613, -0.52943257],\n",
              "        [-1.40035615, -1.        ],\n",
              "        [ 1.        , -0.22582036],\n",
              "        [ 1.        , -1.        ],\n",
              "        [-1.76206774,  2.        ],\n",
              "        [-1.9351669 ,  2.        ],\n",
              "        [ 1.        , -0.68901115],\n",
              "        [ 1.        ,  2.        ]]))"
            ]
          },
          "metadata": {},
          "execution_count": 44
        }
      ]
    },
    {
      "cell_type": "code",
      "source": [],
      "metadata": {
        "id": "8uwC2cLk_fsY"
      },
      "execution_count": 44,
      "outputs": []
    }
  ],
  "metadata": {
    "colab": {
      "provenance": []
    },
    "kernelspec": {
      "display_name": "Python 3",
      "name": "python3"
    },
    "language_info": {
      "name": "python"
    }
  },
  "nbformat": 4,
  "nbformat_minor": 0
}