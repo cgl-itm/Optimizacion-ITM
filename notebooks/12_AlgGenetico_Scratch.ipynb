{
  "cells": [
    {
      "cell_type": "markdown",
      "metadata": {
        "id": "s9OPCJqs1SMW"
      },
      "source": [
        "# Algoritmo Genetico"
      ]
    },
    {
      "cell_type": "code",
      "source": [
        "import numpy as np"
      ],
      "metadata": {
        "id": "uEoRO_DxJwf2"
      },
      "execution_count": 1,
      "outputs": []
    },
    {
      "cell_type": "markdown",
      "source": [
        "Construimos la funcion objetivo, usa la funcion Rosenbrock."
      ],
      "metadata": {
        "id": "AU_wyDLsMPvL"
      }
    },
    {
      "cell_type": "code",
      "source": [
        "#Rosenbrock\n",
        "fob = lambda x: -1*(x[0]**4+3*x[0]**3*x[1]+\\\n",
        "                6*x[0]**2*x[1]**2+3*x[0]*x[1]**3+\\\n",
        "                x[1]**4-4*(x[0]-x[1])*(x[0]+3*x[1]))"
      ],
      "metadata": {
        "id": "i4U5_1xbMPLb"
      },
      "execution_count": 2,
      "outputs": []
    },
    {
      "cell_type": "markdown",
      "source": [
        "Codigo del algoritmo genetivo visto en la diapositivas."
      ],
      "metadata": {
        "id": "pSlbgAz4MUzx"
      }
    },
    {
      "cell_type": "code",
      "execution_count": 3,
      "metadata": {
        "colab": {
          "base_uri": "https://localhost:8080/"
        },
        "id": "O9Knsb1yepq6",
        "outputId": "9bd1fa5a-a95d-41bb-cf89-a2fc86eaa10c"
      },
      "outputs": [
        {
          "output_type": "stream",
          "name": "stdout",
          "text": [
            "3.6183330963111584 -140.1932882522647\n",
            "La solucion es  [1.35405819 0.03211794]  con aptitud:  4.057112105858607\n"
          ]
        }
      ],
      "source": [
        "#Generar poblacion\n",
        "N = 100\n",
        "P = 2\n",
        "X0 = 4*np.random.rand(N,P)-2 #Poblacion inicial\n",
        "X = X0.copy()\n",
        "#Evaluar poblacion\n",
        "aptitud = []\n",
        "for k in range(N):\n",
        "    aptitud.append(fob(X[k,:]))\n",
        "\n",
        "aptitud = np.array(aptitud)\n",
        "indSort = np.argsort(aptitud)\n",
        "\n",
        "print(max(aptitud), min(aptitud))\n",
        "\n",
        "for k in range(100):\n",
        "  #Ruleta\n",
        "  ValoresRul = aptitud - aptitud.min() + 0.1\n",
        "  S = sum(ValoresRul)\n",
        "  r = np.random.rand()*S\n",
        "  sumasPar = np.cumsum(ValoresRul)\n",
        "\n",
        "  ind = np.argwhere(sumasPar>=r)[0][0]\n",
        "\n",
        "\n",
        "  sinInd = list(range(N))\n",
        "  sinInd.remove(ind)\n",
        "  S2 = sum(ValoresRul[sinInd])\n",
        "  r = np.random.rand()*S2\n",
        "  sumasPar = np.cumsum(ValoresRul[sinInd])\n",
        "\n",
        "  ind2=np.argwhere(sumasPar>=r)[0][0]\n",
        "\n",
        "\n",
        "  #cruce\n",
        "  alpha = np.random.rand()\n",
        "  hijo = alpha*X[ind,:]+(1-alpha)*X[ind2,:]\n",
        "\n",
        "  #Mutacion\n",
        "  if np.random.rand()>0.5:\n",
        "    cuantos_par = np.random.randint(X.shape[1]+1)\n",
        "    indHijoMutar = np.random.permutation(X.shape[1])[:cuantos_par]\n",
        "    hijo[indHijoMutar] += np.random.randn(cuantos_par)\n",
        "\n",
        "  #Evolucion\n",
        "  X[indSort[0],:] = hijo\n",
        "  aptitud[indSort[0]] = fob(hijo)\n",
        "  indSort = np.argsort(aptitud)\n",
        "\n",
        "bestInd = np.argmax(aptitud)\n",
        "mejorX = X[bestInd,:]\n",
        "mejorAptitud = aptitud[bestInd]\n",
        "print(\"La solucion es \",mejorX,\" con aptitud: \",mejorAptitud)"
      ]
    },
    {
      "cell_type": "markdown",
      "source": [
        "Buscamos en una grilla (grid) el optimo."
      ],
      "metadata": {
        "id": "kBWjlpTjJ35M"
      }
    },
    {
      "cell_type": "code",
      "execution_count": 4,
      "metadata": {
        "id": "d_ilbKoOuh46"
      },
      "outputs": [],
      "source": [
        "x1 = np.linspace(-2,2,100)\n",
        "x2 = np.linspace(-2,2,100)\n",
        "x1v, x2v = np.meshgrid(x1,x2)"
      ]
    },
    {
      "cell_type": "code",
      "execution_count": 5,
      "metadata": {
        "id": "psIKRQnquw35"
      },
      "outputs": [],
      "source": [
        "A = np.hstack((x1v.reshape(100*100,1),x2v.reshape(100*100,1)))"
      ]
    },
    {
      "cell_type": "code",
      "execution_count": 6,
      "metadata": {
        "id": "ufQV40WVuxaR"
      },
      "outputs": [],
      "source": [
        "aptitudFB = []\n",
        "for i in range(A.shape[0]):\n",
        "  aptitudFB.append(fob(A[i,:]))\n",
        "aptitudFB = np.asarray(aptitudFB)"
      ]
    },
    {
      "cell_type": "code",
      "execution_count": 7,
      "metadata": {
        "colab": {
          "base_uri": "https://localhost:8080/"
        },
        "id": "PUBiq1gMvRwB",
        "outputId": "de36f681-863e-4a47-8d55-2c85473fd659"
      },
      "outputs": [
        {
          "output_type": "execute_result",
          "data": {
            "text/plain": [
              "(4.092306317199881, array([-1.39393939, -0.06060606]))"
            ]
          },
          "metadata": {},
          "execution_count": 7
        }
      ],
      "source": [
        "np.max(aptitudFB),A[np.argmax(aptitudFB),:]"
      ]
    },
    {
      "cell_type": "markdown",
      "source": [
        "Segun la grilla, el maximo es 4.09 ubicado en $x_1=-1.39$, $x_2=-0.061$."
      ],
      "metadata": {
        "id": "Ibias0VkK7Kz"
      }
    },
    {
      "cell_type": "markdown",
      "metadata": {
        "id": "ZyiwlMHX1Xlm"
      },
      "source": [
        "# PSO - Enjambre de Particulas"
      ]
    },
    {
      "cell_type": "code",
      "execution_count": 8,
      "metadata": {
        "colab": {
          "base_uri": "https://localhost:8080/"
        },
        "id": "Qu1oEFpo1aH2",
        "outputId": "2b4a55ce-dc70-4e79-fb70-5660dd4233f8"
      },
      "outputs": [
        {
          "output_type": "stream",
          "name": "stdout",
          "text": [
            "x:  [2.32360074 1.23399266] , f(x):  -114.07708837841487\n"
          ]
        }
      ],
      "source": [
        "Particulas = X0.copy() #misma poblacion inicial del genetico\n",
        "F = []\n",
        "for k in range(N):\n",
        "    F.append(fob(Particulas[k,:]))\n",
        "\n",
        "pbest = Particulas.copy()\n",
        "Fpbest = F.copy()\n",
        "gbest = Particulas[np.argmax(F),:].copy()\n",
        "Fgbest = np.max(F)\n",
        "Iteraciones = 100\n",
        "c1, c2 = 0.5,0.5\n",
        "Velocidad = np.zeros_like(Particulas)\n",
        "for i in range(Iteraciones):\n",
        "  r1 = np.random.rand(1,P)\n",
        "  r2 = np.random.rand(1,P)\n",
        "  #Calculo de la velocidad para todas las particulas\n",
        "  Velocidad += c1*r1*(pbest-Particulas)+c2*r2*(gbest-Particulas)\n",
        "  #Actualizacion posicion de todas las particulas\n",
        "  Particulas += Velocidad\n",
        "  F = []\n",
        "  for k in range(N): #Evaluamos fob para cada particula\n",
        "    F.append(fob(Particulas[k,:]))\n",
        "    if (F[k]>Fpbest[k]): #Actualizamos el mejor local\n",
        "      Fpbest[k] = F[k]\n",
        "      pbest[k,:] = Particulas[k,:].copy()\n",
        "\n",
        "  maxF = np.max(F)\n",
        "  if (maxF>Fgbest): #Actualizamos el mejor global\n",
        "    Fgbest = maxF\n",
        "    gbest = Particulas[np.argmax(F),:]\n",
        "\n",
        "print('x: ',gbest,', f(x): ',fob(gbest))"
      ]
    },
    {
      "cell_type": "code",
      "execution_count": 8,
      "metadata": {
        "id": "XFRMj83Z4oW9"
      },
      "outputs": [],
      "source": []
    }
  ],
  "metadata": {
    "colab": {
      "provenance": []
    },
    "kernelspec": {
      "display_name": "Python 3",
      "name": "python3"
    },
    "language_info": {
      "name": "python"
    }
  },
  "nbformat": 4,
  "nbformat_minor": 0
}