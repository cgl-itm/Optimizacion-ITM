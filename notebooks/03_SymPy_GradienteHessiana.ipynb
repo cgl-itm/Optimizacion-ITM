{
  "nbformat": 4,
  "nbformat_minor": 0,
  "metadata": {
    "colab": {
      "provenance": []
    },
    "kernelspec": {
      "name": "python3",
      "display_name": "Python 3"
    },
    "language_info": {
      "name": "python"
    }
  },
  "cells": [
    {
      "cell_type": "markdown",
      "source": [
        "# Solución Problema Optimizacion - SymPy\n",
        "Empezamos importando las librerias"
      ],
      "metadata": {
        "id": "_bFhZHH07nxm"
      }
    },
    {
      "cell_type": "code",
      "execution_count": null,
      "metadata": {
        "id": "vp6yVWg33e6a"
      },
      "outputs": [],
      "source": [
        "from sympy import Matrix, symbols, solve\n",
        "x, y = symbols('x, y')"
      ]
    },
    {
      "cell_type": "markdown",
      "source": [
        "$f(x)=x_{1}^{4}+x_{1}^{2}\\left(1-2 x_{2}\\right)+2 x_{2}^{2}-2 x_{1} x_{2}+4.5 x_{1}-4 x_{2}+4$"
      ],
      "metadata": {
        "id": "Eftxj5Ld-sWJ"
      }
    },
    {
      "cell_type": "code",
      "source": [
        "f = x**4 + x**2*(1-2*y) + 2*y**2 - 2*x*y + 4.5*x - 4*y + 4"
      ],
      "metadata": {
        "id": "a_MnPKXI-tUB"
      },
      "execution_count": null,
      "outputs": []
    },
    {
      "cell_type": "markdown",
      "source": [
        "Calculamos el gradiente"
      ],
      "metadata": {
        "id": "Vg-LNZrG-nB6"
      }
    },
    {
      "cell_type": "code",
      "source": [
        "Df = Matrix([f]).jacobian(Matrix(list(f.free_symbols)))\n",
        "Df"
      ],
      "metadata": {
        "colab": {
          "base_uri": "https://localhost:8080/",
          "height": 38
        },
        "id": "ie8-AkCS3qna",
        "outputId": "ca23d5ed-52aa-4b93-8e8e-291407ce4ce5"
      },
      "execution_count": null,
      "outputs": [
        {
          "output_type": "execute_result",
          "data": {
            "text/plain": [
              "Matrix([[4*x**3 + 2*x*(1 - 2*y) - 2*y + 4.5, -2*x**2 - 2*x + 4*y - 4]])"
            ],
            "text/latex": "$\\displaystyle \\left[\\begin{matrix}4 x^{3} + 2 x \\left(1 - 2 y\\right) - 2 y + 4.5 & - 2 x^{2} - 2 x + 4 y - 4\\end{matrix}\\right]$"
          },
          "metadata": {},
          "execution_count": 3
        }
      ]
    },
    {
      "cell_type": "markdown",
      "source": [
        "Encontramos la solucion para $∇f = \\mathbf{0}$"
      ],
      "metadata": {
        "id": "obyEZyar-4HY"
      }
    },
    {
      "cell_type": "code",
      "source": [
        "estaf = solve(Df, [x, y], dict=True)\n",
        "estaf"
      ],
      "metadata": {
        "colab": {
          "base_uri": "https://localhost:8080/"
        },
        "id": "C0LX-BhE36jw",
        "outputId": "3cc12db3-a45c-4fe3-e2a7-a2d87ff8f798"
      },
      "execution_count": null,
      "outputs": [
        {
          "output_type": "execute_result",
          "data": {
            "text/plain": [
              "[{x: -1.05274130826315 + 2.71050543121376e-20*I,\n",
              "  y: 1.02776147693023 + 0.e-23*I},\n",
              " {x: 0.611731035834618 - 1.35525271560688e-20*I,\n",
              "  y: 1.49297294801896 + 0.e-20*I},\n",
              " {x: 1.94101027242853 - 2.71050543121376e-20*I,\n",
              "  y: 3.85426557505081 - 0.e-22*I}]"
            ]
          },
          "metadata": {},
          "execution_count": 4
        }
      ]
    },
    {
      "cell_type": "markdown",
      "source": [
        "Calculamos la Hessiana"
      ],
      "metadata": {
        "id": "x8ZTkNYB_CSH"
      }
    },
    {
      "cell_type": "code",
      "source": [
        "Df2 = Df.jacobian(Matrix(list(f.free_symbols)))\n",
        "Df2"
      ],
      "metadata": {
        "colab": {
          "base_uri": "https://localhost:8080/",
          "height": 58
        },
        "id": "n8bqjt1p4Zqh",
        "outputId": "675acda0-e003-4a3b-d5a2-15495cd6c7be"
      },
      "execution_count": null,
      "outputs": [
        {
          "output_type": "execute_result",
          "data": {
            "text/plain": [
              "Matrix([\n",
              "[12*x**2 - 4*y + 2, -4*x - 2],\n",
              "[         -4*x - 2,        4]])"
            ],
            "text/latex": "$\\displaystyle \\left[\\begin{matrix}12 x^{2} - 4 y + 2 & - 4 x - 2\\\\- 4 x - 2 & 4\\end{matrix}\\right]$"
          },
          "metadata": {},
          "execution_count": 5
        }
      ]
    },
    {
      "cell_type": "markdown",
      "source": [
        "Sustituimos el valor en cada uno de los puntos estacionarios que se encontraron previamente. Para cada uno obtenemos la matriz Hessiana y calculamos los valores propios."
      ],
      "metadata": {
        "id": "QcBctEVH_HA7"
      }
    },
    {
      "cell_type": "code",
      "source": [
        "Df2.subs(estaf[0]).eigenvals()"
      ],
      "metadata": {
        "colab": {
          "base_uri": "https://localhost:8080/"
        },
        "id": "b-21bAF99NLn",
        "outputId": "6b2b33bb-4c60-48d8-fe0f-deb0c8527196"
      },
      "execution_count": null,
      "outputs": [
        {
          "output_type": "execute_result",
          "data": {
            "text/plain": [
              "{11.813737176262 - 6.90970427757896e-19*I: 1,\n",
              " 3.37438806150044 + 6.03390054900417e-21*I: 1}"
            ]
          },
          "metadata": {},
          "execution_count": 6
        }
      ]
    },
    {
      "cell_type": "markdown",
      "source": [
        "El primer punto es un minimo, debido que sus valores propios son positivos."
      ],
      "metadata": {
        "id": "cWgEDaw_AoMW"
      }
    },
    {
      "cell_type": "code",
      "source": [
        "Df2.subs(estaf[1]).eigenvals()"
      ],
      "metadata": {
        "colab": {
          "base_uri": "https://localhost:8080/"
        },
        "id": "vNWHiT-w8Uo3",
        "outputId": "9e9550cd-6caf-49af-e4b5-11be7a185c3f"
      },
      "execution_count": null,
      "outputs": [
        {
          "output_type": "execute_result",
          "data": {
            "text/plain": [
              "{-2.51611694353881 - 1.03760499496677e-19*I: 1,\n",
              " 7.03480347390251 - 1.2231659022407e-19*I: 1}"
            ]
          },
          "metadata": {},
          "execution_count": 7
        }
      ]
    },
    {
      "cell_type": "markdown",
      "source": [
        "El segundo punto es un punto de ensilladura, un valor propio es positivo y el otro es negativo."
      ],
      "metadata": {
        "id": "T9xmW9leAtfT"
      }
    },
    {
      "cell_type": "code",
      "source": [
        "Df2.subs(estaf[2]).eigenvals()"
      ],
      "metadata": {
        "colab": {
          "base_uri": "https://localhost:8080/"
        },
        "id": "HCZTDVGH9ZbH",
        "outputId": "b1f85f9e-738e-4bbf-bd21-aa2aa38c7022"
      },
      "execution_count": null,
      "outputs": [
        {
          "output_type": "execute_result",
          "data": {
            "text/plain": [
              "{34.8804637110769 - 1.20869731539304e-18*I: 1,\n",
              " 0.912724520796989 - 5.22771512226742e-20*I: 1}"
            ]
          },
          "metadata": {},
          "execution_count": 8
        }
      ]
    },
    {
      "cell_type": "markdown",
      "source": [
        "El tercer punto es un minimo, los valores propios de la matriz Hessiana son positivos.\n",
        "\n",
        "Ahora analizamos para el primer y segundo punto estacionario cual es el valor de la funcion objetivo"
      ],
      "metadata": {
        "id": "8fSHBY9MAzb5"
      }
    },
    {
      "cell_type": "code",
      "source": [
        "f.subs(estaf[0])"
      ],
      "metadata": {
        "id": "2_BDoekb9az_",
        "outputId": "8479d668-0af5-4df1-e955-853e861266d9",
        "colab": {
          "base_uri": "https://localhost:8080/",
          "height": 132
        }
      },
      "execution_count": null,
      "outputs": [
        {
          "output_type": "execute_result",
          "data": {
            "text/plain": [
              "-4.84838179490511 + (-1.05274130826315 + 2.71050543121376e-20*I)**4 - 2*(-1.05274130826315 + 2.71050543121376e-20*I)*(1.02776147693023 + 0.e-23*I) + 2*(1.02776147693023 + 0.e-23*I)**2 + (-1.05552295386046 - 0.e-22*I)*(-1.05274130826315 + 2.71050543121376e-20*I)**2 + 1.21866865286212e-19*I"
            ],
            "text/latex": "$\\displaystyle -4.84838179490511 + \\left(-1.05274130826315 + 2.71050543121376 \\cdot 10^{-20} i\\right)^{4} - 2 \\left(-1.05274130826315 + 2.71050543121376 \\cdot 10^{-20} i\\right) \\left(1.02776147693023 + 3.0 \\cdot 10^{-23} i\\right) + 2 \\left(1.02776147693023 + 3.0 \\cdot 10^{-23} i\\right)^{2} + \\left(-1.05552295386046 - 5.0 \\cdot 10^{-23} i\\right) \\left(-1.05274130826315 + 2.71050543121376 \\cdot 10^{-20} i\\right)^{2} + 1.21866865286212 \\cdot 10^{-19} i$"
          },
          "metadata": {},
          "execution_count": 11
        }
      ]
    },
    {
      "cell_type": "markdown",
      "source": [
        "Es dificil obtener un resultado directamente con SymPy, por eso volvemos a crear la funcion de la funcion objetivo"
      ],
      "metadata": {
        "id": "V7WBq8aDBGR2"
      }
    },
    {
      "cell_type": "code",
      "source": [
        "fobj = lambda x,y: x**4 + x**2*(1-2*y) + 2*y**2 - 2*x*y + 4.5*x - 4*y + 4"
      ],
      "metadata": {
        "id": "9w4ZhOiVKJ52"
      },
      "execution_count": null,
      "outputs": []
    },
    {
      "cell_type": "markdown",
      "source": [
        "Evaluamos la funcion obejtivo en el primer punto estacionario"
      ],
      "metadata": {
        "id": "vVeeSgI8BO9y"
      }
    },
    {
      "cell_type": "code",
      "source": [
        "fobj(estaf[0][x].as_real_imag()[0],estaf[0][x].as_real_imag()[1])"
      ],
      "metadata": {
        "id": "4fkQCLjeKfwZ",
        "outputId": "ae0c8baa-e67d-4cc5-d50c-22a311055cbf",
        "colab": {
          "base_uri": "https://localhost:8080/",
          "height": 37
        }
      },
      "execution_count": null,
      "outputs": [
        {
          "output_type": "execute_result",
          "data": {
            "text/plain": [
              "1.59917804963983"
            ],
            "text/latex": "$\\displaystyle 1.59917804963983$"
          },
          "metadata": {},
          "execution_count": 20
        }
      ]
    },
    {
      "cell_type": "markdown",
      "source": [
        "Evaluamos la funcion objetivo en el segundo punto estacionario"
      ],
      "metadata": {
        "id": "NjOZ4AP6BTFq"
      }
    },
    {
      "cell_type": "code",
      "source": [
        "fobj(estaf[2][x].as_real_imag()[0],estaf[2][x].as_real_imag()[1])"
      ],
      "metadata": {
        "id": "VH1jwuwmKmtY",
        "outputId": "cac5c2a6-1b85-4694-fcfb-c38151a53555",
        "colab": {
          "base_uri": "https://localhost:8080/",
          "height": 37
        }
      },
      "execution_count": null,
      "outputs": [
        {
          "output_type": "execute_result",
          "data": {
            "text/plain": [
              "30.6962806673041"
            ],
            "text/latex": "$\\displaystyle 30.6962806673041$"
          },
          "metadata": {},
          "execution_count": 21
        }
      ]
    },
    {
      "cell_type": "markdown",
      "source": [
        "El minimo global corresponde al primer punto estacionario (-1.53, 1.03) con un valor de la funcion objeetivo igual a 1.6."
      ],
      "metadata": {
        "id": "Ed7jRV0vBZQk"
      }
    }
  ]
}