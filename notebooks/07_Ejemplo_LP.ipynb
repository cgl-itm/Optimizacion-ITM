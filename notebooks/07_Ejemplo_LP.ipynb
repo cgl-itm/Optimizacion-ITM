{
  "nbformat": 4,
  "nbformat_minor": 0,
  "metadata": {
    "colab": {
      "provenance": []
    },
    "kernelspec": {
      "name": "python3",
      "display_name": "Python 3"
    },
    "language_info": {
      "name": "python"
    }
  },
  "cells": [
    {
      "cell_type": "markdown",
      "source": [
        "# Optimizacion\n",
        "## Programacion Lineal\n",
        "Problemas de optimización con función objetivo y restricciones de igualdad y desigualdad lineales."
      ],
      "metadata": {
        "id": "4CKE4wFvHOjj"
      }
    },
    {
      "cell_type": "markdown",
      "source": [
        "## Problema del combustible"
      ],
      "metadata": {
        "id": "zRoNG0wQLc5b"
      }
    },
    {
      "cell_type": "markdown",
      "source": [
        "El problema de optimización consiste en maximizar las ganancias en un proceso de procesamiento de combustibles. \n",
        "* Una refinería tiene dos crudo de petróleos disponibles como material.\n",
        "* Produce gasolina, queroseno y combustóleo.\n",
        "* Ganancias del procesamiento del crudo #1 es 1 Euro/kg y del crudo #2 es 0.7 Euro/kg.\n",
        "* Cuales son sus tasas optimas de alimentación diaria? \n",
        "\n",
        "A continuación se describe en una tabla los valores permitidos para cada crudo por dia.\n",
        "\n",
        "| Producto  | Crudo #1 %  | Crudo #2 % | Max Permitido (kg/dia)  |\n",
        "|---|---|---|---|\n",
        "| Gasolina  | 70 | 31 | 6000 |\n",
        "| Queroseno | 6 | 9 | 2400 |\n",
        "| Combustelo | 24 | 60 | 12000 |\n",
        "\n",
        "El problema se puede escribir como el siguiente problema de optimización:\n",
        "\n",
        "\n",
        "$\\begin{array}{ll} & \\max _{x_{1}, x_{2}} x_{1}+0.7 x_{2} \\\\ \\text { s.t. } & 0.7 x_{1}+0.31 x_{2} \\leq 6000 \\\\ & 0.06 x_{1}+0.09 x_{2} \\leq 2400 \\\\ & 0.24 x_{1}+0.6 x_{2} \\leq 12000 \\\\ & x_{1}, x_{2} \\geq 0\\end{array}$"
      ],
      "metadata": {
        "id": "eTrECzGoHgt7"
      }
    },
    {
      "cell_type": "markdown",
      "source": [
        "Lo debemos llevar a la forma estandar, la cual esta dada por:\n",
        "$$\n",
        "\\begin{array}{r}\\min _{\\boldsymbol{x}} \\boldsymbol{d}^{\\top} \\boldsymbol{x} \\\\ \\text { s.t. } \\boldsymbol{A x}=\\boldsymbol{b} \\\\ \\boldsymbol{x} \\geq \\mathbf{0}\\end{array}\n",
        "$$\n",
        "\n",
        "Comenzamos cambiando la función objetivo de maximización a minimización ($-f(\\mathbf{x})$).\n",
        "Para volver las condiciones de desigualdad del problema original a condiciones de igualdad en la forma estandar, debemos agregar 3 variables de olgura asi:\n",
        "\n",
        "\n",
        "$\\begin{array}{ll} & \\min _{x_{1}, x_{2}} -x_{1}-0.7 x_{2} \\\\ \\text { s.t. } & 0.7 x_{1}+0.31 x_{2} + v_1 = 6000 \\\\ & 0.06 x_{1}+0.09 x_{2} + v_2 = 2400 \\\\ & 0.24 x_{1}+0.6 x_{2} + v_3 = 12000 \\\\ & x_{1}, x_{2}, v_1,v_2,v_3 \\geq 0\\end{array}$"
      ],
      "metadata": {
        "id": "TU9GRry_Kb9V"
      }
    },
    {
      "cell_type": "code",
      "execution_count": 1,
      "metadata": {
        "id": "Y_lQ4uymHKOa"
      },
      "outputs": [],
      "source": [
        "import numpy as np"
      ]
    },
    {
      "cell_type": "code",
      "source": [
        "b = np.array([[6000],[2400],[12000]])\n",
        "A = np.array([[0.7,0.21,1,0,0],[0.06,0.09,0,1,0],[0.24,0.6,0,0,1]])\n",
        "np.linalg.matrix_rank(A)"
      ],
      "metadata": {
        "colab": {
          "base_uri": "https://localhost:8080/"
        },
        "id": "Hvs-Pa9iNVgb",
        "outputId": "b664da08-2214-44c9-d546-84ede94e1f8d"
      },
      "execution_count": 2,
      "outputs": [
        {
          "output_type": "execute_result",
          "data": {
            "text/plain": [
              "3"
            ]
          },
          "metadata": {},
          "execution_count": 2
        }
      ]
    },
    {
      "cell_type": "markdown",
      "source": [
        "Observamos que el rango de la matriz es 3, la cantidad de filas/columnas linealmente independientes. Para realizar la grafica debemos saber en que rango de valores debemos movernos, para esto asumimos que pasa con la desigualdades cuando hacemos una de las variables cero.\n",
        "\n",
        "$\\begin{array}{ll}  x_{1} \\leq 6000/0.7 = 26666.6 &  x_{2} \\leq 6000/0.31 = 19354.84 \\\\  x_{1} \\leq 2400/0.06 = 40000.0  &  x_{2} \\leq 2400/0.09 =26666.66  \\\\  x_{1} \\leq 12000/0.24 = 50000.0 & x_{2} \\leq 12000/0.6 = 20000.0 \\\\ & x_{1}, x_{2} \\geq 0\\end{array}$\n",
        "\n",
        "Ahora realizamos la grafica de la region donde las desigualdades estan definidas"
      ],
      "metadata": {
        "id": "44HPBAOfODed"
      }
    },
    {
      "cell_type": "code",
      "source": [
        "import matplotlib.pyplot as plt"
      ],
      "metadata": {
        "id": "hbNqz6xXNhte"
      },
      "execution_count": 3,
      "outputs": []
    },
    {
      "cell_type": "code",
      "source": [
        "x1 = np.linspace(0,50000.0,500)\n",
        "x2 = np.linspace(0,26666.66,500)\n",
        "x1v, x2v = np.meshgrid(x1, x2, indexing='ij')"
      ],
      "metadata": {
        "id": "ps369dL98Qla"
      },
      "execution_count": 47,
      "outputs": []
    },
    {
      "cell_type": "code",
      "source": [
        "#funciones para graficar lineas\n",
        "linea1 = lambda x1: (6000.0 -0.7*x1)/0.31 #x2 <= (6000-0.7*x1)/0.31\n",
        "linea2 = lambda x1: (2400.0 -0.06*x1)/0.09 \n",
        "linea3 = lambda x1: (12000.0 -0.24*x1)/0.6\n",
        "\n",
        "f = lambda x1,x2: -x1 - 0.7*x2"
      ],
      "metadata": {
        "id": "IapZhms9_US2"
      },
      "execution_count": 34,
      "outputs": []
    },
    {
      "cell_type": "code",
      "source": [
        "fig,ax=plt.subplots()\n",
        "ax.cla()\n",
        "\n",
        "ax.imshow( ( (x1v>=0.) & (x2v>=0.) & (x2v<=linea1(x1v)) & (x2v<=linea2(x1v)) & (x2v<=linea3(x1v)) ), \n",
        "                extent=(x1v.min(),x1v.max(),x2v.min(),x2v.max()),origin=\"lower\", cmap=\"Greys\", alpha = 0.3);\n",
        "\n",
        "#ax.imshow( ( (x2v<=linea1(x1v))  ).astype(int), \n",
        "#                extent=(x1v.min(),x1v.max(),x2v.min(),x2v.max()),origin=\"lower\", cmap=\"Reds\", alpha = 0.3);\n",
        "\n",
        "CS = ax.contour(x1v, x2v, f(x1v,x2v), cmap=plt.cm.bone)\n",
        "ax.clabel(CS, inline=True, fontsize=10)\n",
        "ax.plot(x1,linea1(x1),label=r'$0.7 x_{1}+0.31 x_{2} \\leq 6000$')\n",
        "ax.plot(x1,linea2(x1),label=r'$0.06 x_{1}+0.09 x_{2} \\leq 2400$')\n",
        "ax.plot(x1,linea3(x1),label=r'$0.24 x_{1}+0.6 x_{2} \\leq 12000$')\n",
        "ax.set_xlim([0,50000])\n",
        "ax.set_ylim([0,26666.66])\n",
        "plt.legend(bbox_to_anchor=(1.05, 1), loc=2, borderaxespad=0.)\n",
        "plt.xlabel(r'$x_1$')\n",
        "plt.ylabel(r'$x_2$');"
      ],
      "metadata": {
        "colab": {
          "base_uri": "https://localhost:8080/",
          "height": 242
        },
        "id": "v6QxGRU67y1e",
        "outputId": "105d9928-fbc3-4438-a21c-411ea060748b"
      },
      "execution_count": 49,
      "outputs": [
        {
          "output_type": "display_data",
          "data": {
            "text/plain": [
              "<Figure size 432x288 with 1 Axes>"
            ],
            "image/png": "[encoded data removed]"
          },
          "metadata": {
            "needs_background": "light"
          }
        }
      ]
    },
    {
      "cell_type": "code",
      "source": [
        "linea1(0)"
      ],
      "metadata": {
        "colab": {
          "base_uri": "https://localhost:8080/"
        },
        "id": "0-2eYyW5D_2u",
        "outputId": "0db0f2b6-db06-47b8-818a-2dba1318b63f"
      },
      "execution_count": 50,
      "outputs": [
        {
          "output_type": "execute_result",
          "data": {
            "text/plain": [
              "19354.83870967742"
            ]
          },
          "metadata": {},
          "execution_count": 50
        }
      ]
    },
    {
      "cell_type": "markdown",
      "source": [
        "## Problema 2: \n",
        "$\\begin{array}{ll} & \\max 4x+3y \\\\ \\text { s.t. } & x \\geq 0 \\\\ & y \\geq 2 \\\\ & 2y\\leq 25–x \\\\ & 4y\\geq 2x–8 \\\\ & y\\leq 2x−5 \\end{array}$"
      ],
      "metadata": {
        "id": "fdfpi6J_M7wL"
      }
    },
    {
      "cell_type": "code",
      "source": [],
      "metadata": {
        "id": "7Tmk08j2M0mN"
      },
      "execution_count": null,
      "outputs": []
    }
  ]
}