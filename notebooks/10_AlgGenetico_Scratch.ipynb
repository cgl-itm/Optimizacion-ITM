{
  "cells": [
    {
      "cell_type": "markdown",
      "metadata": {
        "id": "s9OPCJqs1SMW"
      },
      "source": [
        "# Algoritmo Genetico"
      ]
    },
    {
      "cell_type": "code",
      "execution_count": null,
      "metadata": {
        "colab": {
          "base_uri": "https://localhost:8080/"
        },
        "id": "O9Knsb1yepq6",
        "outputId": "79feaf1b-c13f-4ca5-bb72-a77cefdd4d9f"
      },
      "outputs": [
        {
          "name": "stdout",
          "output_type": "stream",
          "text": [
            "3.2327097093126147 -11.820994412291231\n",
            "La solucion es  [1.32867381 0.17522701]  con aptitud:  3.858393961735972\n"
          ]
        }
      ],
      "source": [
        "import numpy as np\n",
        "#np.random.seed(1)\n",
        "\n",
        "#Rosenbrock Samuel: Esa no es\n",
        "fob = lambda x: -1*(x[0]**4+3*x[0]**3*x[1]+\\\n",
        "                6*x[0]**2*x[1]**2+3*x[0]*x[1]**3+\\\n",
        "                x[1]**4-4*(x[0]-x[1])*(x[0]+3*x[1]))\n",
        "\n",
        "#Generar poblacion\n",
        "N = 100\n",
        "P = 2\n",
        "X = np.random.rand(N,P)\n",
        "\n",
        "#Evaluar poblacion\n",
        "aptitud = []\n",
        "for k in range(N):\n",
        "    aptitud.append(fob(X[k,:]))\n",
        "\n",
        "aptitud = np.array(aptitud)\n",
        "indSort = np.argsort(aptitud)\n",
        "\n",
        "print(max(aptitud), min(aptitud))\n",
        "\n",
        "for k in range(100):\n",
        "  #Ruleta\n",
        "  ValoresRul = aptitud - aptitud.min() + 0.1\n",
        "  S = sum(ValoresRul)\n",
        "  r = np.random.rand()*S\n",
        "  sumasPar = np.cumsum(ValoresRul)\n",
        "\n",
        "  ind = np.argwhere(sumasPar>=r)[0][0]\n",
        "\n",
        "\n",
        "  sinInd = list(range(N))\n",
        "  sinInd.remove(ind)\n",
        "  S2 = sum(ValoresRul[sinInd])\n",
        "  r = np.random.rand()*S2\n",
        "  sumasPar = np.cumsum(ValoresRul[sinInd])\n",
        "\n",
        "  ind2=np.argwhere(sumasPar>=r)[0][0]\n",
        "\n",
        "\n",
        "  #cruce\n",
        "  alpha = np.random.rand()\n",
        "  hijo = alpha*X[ind,:]+(1-alpha)*X[ind2,:]\n",
        "\n",
        "  #Mutacion\n",
        "  if np.random.rand()>0.5:\n",
        "    cuantos_par = np.random.randint(X.shape[1]+1)\n",
        "    indHijoMutar = np.random.permutation(X.shape[1])[:cuantos_par]\n",
        "    hijo[indHijoMutar] += np.random.randn(cuantos_par)\n",
        "\n",
        "  #Evolucion\n",
        "  X[indSort[0],:] = hijo\n",
        "  aptitud[indSort[0]] = fob(hijo)\n",
        "  indSort = np.argsort(aptitud)\n",
        "\n",
        "bestInd = np.argmax(aptitud)\n",
        "mejorX = X[bestInd,:]\n",
        "mejorAptitud = aptitud[bestInd]\n",
        "print(\"La solucion es \",mejorX,\" con aptitud: \",mejorAptitud)"
      ]
    },
    {
      "cell_type": "code",
      "execution_count": null,
      "metadata": {
        "id": "d_ilbKoOuh46"
      },
      "outputs": [],
      "source": [
        "x1 = np.linspace(-2,2,100)\n",
        "x2 = np.linspace(-2,2,100)\n",
        "x1v, x2v = np.meshgrid(x1,x2)"
      ]
    },
    {
      "cell_type": "code",
      "execution_count": null,
      "metadata": {
        "id": "psIKRQnquw35"
      },
      "outputs": [],
      "source": [
        "A = np.hstack((x1v.reshape(100*100,1),x2v.reshape(100*100,1)))"
      ]
    },
    {
      "cell_type": "code",
      "execution_count": null,
      "metadata": {
        "id": "ufQV40WVuxaR"
      },
      "outputs": [],
      "source": [
        "aptitudFB = []\n",
        "for i in range(A.shape[0]):\n",
        "  aptitudFB.append(fob(A[i,:]))"
      ]
    },
    {
      "cell_type": "code",
      "execution_count": null,
      "metadata": {
        "colab": {
          "base_uri": "https://localhost:8080/"
        },
        "id": "PUBiq1gMvRwB",
        "outputId": "dbcf3446-cdd6-4842-aa01-edcf469a49dd"
      },
      "outputs": [
        {
          "data": {
            "text/plain": [
              "4.092306317199881"
            ]
          },
          "execution_count": 106,
          "metadata": {},
          "output_type": "execute_result"
        }
      ],
      "source": [
        "np.max(aptitudFB)"
      ]
    },
    {
      "cell_type": "code",
      "execution_count": null,
      "metadata": {
        "id": "ngGiN1X6vyFh"
      },
      "outputs": [],
      "source": []
    },
    {
      "cell_type": "markdown",
      "metadata": {
        "id": "ZyiwlMHX1Xlm"
      },
      "source": [
        "# PSO - Enjambre de Particulas"
      ]
    },
    {
      "cell_type": "code",
      "execution_count": null,
      "metadata": {
        "colab": {
          "background_save": true
        },
        "id": "Qu1oEFpo1aH2",
        "outputId": "385f0cd6-f925-4688-90be-43955c79a3f4"
      },
      "outputs": [
        {
          "name": "stdout",
          "output_type": "stream",
          "text": [
            "[1.3690947  0.06904618] 4.096705085620847\n"
          ]
        }
      ],
      "source": [
        "#sin inercia, sin W\n",
        "Particulas = 4*np.random.rand(N,P)-2\n",
        "F = []\n",
        "for k in range(N):\n",
        "    F.append(fob(Particulas[k,:]))\n",
        "\n",
        "pbest = Particulas.copy()\n",
        "gbest = Particulas[np.argmax(F),:]\n",
        "\n",
        "Iteraciones = 100\n",
        "c1, c2 = 0.5,0.5\n",
        "Velocidad = np.zeros_like(Particulas)\n",
        "for i in range(Iteraciones):\n",
        "  r1 = np.random.rand(1,P)\n",
        "  r2 = np.random.rand(1,P)\n",
        "  Velocidad += c1*r1*(pbest-Particulas)+c2*r2*(gbest-Particulas)\n",
        "  Particulas += Velocidad\n",
        "  F_old = F.copy()\n",
        "  F = []\n",
        "  for k in range(N):\n",
        "    F.append(fob(Particulas[k,:]))\n",
        "    if F[k]>F_old[k]:\n",
        "      pbest[k,:] = Particulas[k,:]\n",
        "  \n",
        "  gbest = Particulas[np.argmax(F),:]\n",
        "\n",
        "print(gbest,fob(gbest))\n"
      ]
    },
    {
      "cell_type": "code",
      "execution_count": null,
      "metadata": {
        "colab": {
          "base_uri": "https://localhost:8080/"
        },
        "id": "VuY3008j4fhX",
        "outputId": "9f06a1db-bb23-4cb1-d51f-d4bac5cafb7d"
      },
      "outputs": [
        {
          "data": {
            "text/plain": [
              "array([-9.685927  , -5.26195137])"
            ]
          },
          "execution_count": 125,
          "metadata": {},
          "output_type": "execute_result"
        }
      ],
      "source": [
        "gbest"
      ]
    },
    {
      "cell_type": "code",
      "execution_count": null,
      "metadata": {
        "colab": {
          "base_uri": "https://localhost:8080/"
        },
        "id": "n2M4BWX64l83",
        "outputId": "7a45a210-6230-418c-f01e-dc5567abeb00"
      },
      "outputs": [
        {
          "data": {
            "text/plain": [
              "[-8551565618949.573,\n",
              " -4.82049653043809e+17,\n",
              " -2117799356964152.8,\n",
              " -1023418471.8673263,\n",
              " -3131286245.3861475,\n",
              " -2.349051384437596e+17,\n",
              " -3.990090173244029e+16,\n",
              " -5.762675231607854e+17,\n",
              " -1.155756348995123e+18,\n",
              " -1448480570233.2974,\n",
              " -2448534333716140.0,\n",
              " -265744954280.8711,\n",
              " -6.465632399791034e+21,\n",
              " -203946295668432.72,\n",
              " -7.891521910173792e+16,\n",
              " -7.430047165269444e+21,\n",
              " -880757126147457.2,\n",
              " -36221948487258.15,\n",
              " -69724504260292.4,\n",
              " -25559039.413333613,\n",
              " -355003077.81456435,\n",
              " -2.7246730753060404e+21,\n",
              " -32403202918978.08,\n",
              " -3.015885604914613e+18,\n",
              " -185428915809641.7,\n",
              " -104847361187773.19,\n",
              " -9.600141481637928e+17,\n",
              " -110071188507.37761,\n",
              " -2.403916129082585e+17,\n",
              " -1648740079.5997748,\n",
              " -1362217184.7078276,\n",
              " -3.66465879058974e+18,\n",
              " -2347744495.312451,\n",
              " -6.753753646305265e+23,\n",
              " -7.185970639181358e+21,\n",
              " -3.789722368409297e+16,\n",
              " -4382069273206.6855,\n",
              " -1991386861500957.0,\n",
              " -10856176.701095646,\n",
              " -457077189.8324912,\n",
              " -9.19839678792786e+16,\n",
              " -1585647904925288.2,\n",
              " -1632605947893257.5,\n",
              " -1.7496005245695882e+20,\n",
              " -4260818.043891138,\n",
              " -1.1233246463150992e+21,\n",
              " -409855379.7137075,\n",
              " -1261197474.8874438,\n",
              " -1917795876.3761022,\n",
              " -2.697718035643224e+18,\n",
              " -67205588868932.08,\n",
              " -3601303372077.8745,\n",
              " -8.040115483309878e+25,\n",
              " -2997725976938.4736,\n",
              " -246773.78301962442,\n",
              " -5.11327013114156e+17,\n",
              " -190835850964.9534,\n",
              " -796492383292957.8,\n",
              " -21686697489.148182,\n",
              " -1093183723.7788868,\n",
              " -114957336036.37117,\n",
              " -18038984630.96442,\n",
              " -75714904593109.61,\n",
              " -13505647395003.623,\n",
              " -1715534086113561.2,\n",
              " -7.683494766374706e+18,\n",
              " -1338183627.647575,\n",
              " -1.4269637378101678e+18,\n",
              " -2333805058483.153,\n",
              " -9.271393746216437e+16,\n",
              " -1.9168944521697306e+17,\n",
              " -1.6487776969229647e+18,\n",
              " -263338271809.02664,\n",
              " -9797734382861.436,\n",
              " -35038169644.67398,\n",
              " -16286738301628.156,\n",
              " -370559736838483.2,\n",
              " -885793339631841.2,\n",
              " -259106797.4057427,\n",
              " -3.5208615995908116e+19,\n",
              " -4.490056354377747e+17,\n",
              " -37376864222769.0,\n",
              " -1136816847.6086333,\n",
              " -20416797150.561405,\n",
              " -2169107290855136.0,\n",
              " -4.235839360911402e+16,\n",
              " -27905639.50229806,\n",
              " -9.77173616138437e+22,\n",
              " -2.7071670219928128e+17,\n",
              " -1971670794633.265,\n",
              " -7466770700133.873,\n",
              " -2.2642930901156696e+16,\n",
              " -8.38733327615401e+19,\n",
              " -9260565910037.555,\n",
              " -82615702.33006766,\n",
              " -2954906435287.034,\n",
              " -4.0058509230642995e+28,\n",
              " -6944853.609455227,\n",
              " -1730464925751.27,\n",
              " -38390955.16832103]"
            ]
          },
          "execution_count": 148,
          "metadata": {},
          "output_type": "execute_result"
        }
      ],
      "source": [
        "F"
      ]
    },
    {
      "cell_type": "code",
      "execution_count": null,
      "metadata": {
        "id": "XFRMj83Z4oW9"
      },
      "outputs": [],
      "source": []
    }
  ],
  "metadata": {
    "colab": {
      "provenance": []
    },
    "kernelspec": {
      "display_name": "Python 3",
      "name": "python3"
    },
    "language_info": {
      "name": "python"
    }
  },
  "nbformat": 4,
  "nbformat_minor": 0
}