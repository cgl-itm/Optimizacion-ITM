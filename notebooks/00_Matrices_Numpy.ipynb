{
  "cells": [
    {
      "cell_type": "markdown",
      "metadata": {
        "colab_type": "text",
        "id": "9lhzZWMv2Z_-"
      },
      "source": [
        "# Matrices en Numpy"
      ]
    },
    {
      "cell_type": "markdown",
      "metadata": {
        "colab_type": "text",
        "id": "v_oPB-tD32ju"
      },
      "source": [
        "Basado en documento de la libreria [Numpy](https://docs.scipy.org/doc/scipy/reference/tutorial/linalg.html)"
      ]
    },
    {
      "cell_type": "markdown",
      "metadata": {
        "colab_type": "text",
        "id": "sGX9onUt2lLI"
      },
      "source": [
        "Importamos la librería Numpy con nombre \"np\"."
      ]
    },
    {
      "cell_type": "code",
      "execution_count": 1,
      "metadata": {
        "colab": {},
        "colab_type": "code",
        "id": "ZQWbAkRIcw2t"
      },
      "outputs": [],
      "source": [
        "import numpy as np"
      ]
    },
    {
      "cell_type": "markdown",
      "metadata": {
        "colab_type": "text",
        "id": "IhmszfJI8mcy"
      },
      "source": [
        "## Matriz por filas"
      ]
    },
    {
      "cell_type": "markdown",
      "metadata": {
        "colab_type": "text",
        "id": "4YucWNEU2tgw"
      },
      "source": [
        "Para crear un arreglo en forma de matriz de 2 dimensiones (filas y columnas), se realiza así"
      ]
    },
    {
      "cell_type": "code",
      "execution_count": 2,
      "metadata": {
        "colab": {
          "base_uri": "https://localhost:8080/",
          "height": 50
        },
        "colab_type": "code",
        "id": "FzycxHSKc3T1",
        "outputId": "9af7d636-2d25-4bbe-d891-ddcce224eb5e"
      },
      "outputs": [
        {
          "name": "stdout",
          "output_type": "stream",
          "text": [
            "[[1 2 3]\n",
            " [4 5 6]] (2, 3)\n"
          ]
        }
      ],
      "source": [
        "A = np.array([[1,2,3],[4,5,6]])\n",
        "print(A, A.shape)"
      ]
    },
    {
      "cell_type": "code",
      "execution_count": 3,
      "metadata": {
        "colab": {
          "base_uri": "https://localhost:8080/",
          "height": 50
        },
        "colab_type": "code",
        "id": "HxEmdE2o_y82",
        "outputId": "8ec51c12-345b-41f3-f878-b8afb65cff11"
      },
      "outputs": [
        {
          "name": "stdout",
          "output_type": "stream",
          "text": [
            "[[1 2 3]\n",
            " [4 5 6]] (2, 3)\n"
          ]
        }
      ],
      "source": [
        "A2 = np.asarray([[1,2,3],[4,5,6]])\n",
        "print(A2, A2.shape)"
      ]
    },
    {
      "cell_type": "markdown",
      "metadata": {
        "colab_type": "text",
        "id": "6uaH3iB9HrG7"
      },
      "source": [
        "# Ampliando la matriz"
      ]
    },
    {
      "cell_type": "markdown",
      "metadata": {
        "colab_type": "text",
        "id": "FNcIi2NI8sQq"
      },
      "source": [
        "## Agregando filas a una matriz\n"
      ]
    },
    {
      "cell_type": "markdown",
      "metadata": {
        "colab_type": "text",
        "id": "gac-ynnc3LVL"
      },
      "source": [
        "Si quiere agregar una nueva fila a una matriz:"
      ]
    },
    {
      "cell_type": "code",
      "execution_count": 4,
      "metadata": {
        "colab": {
          "base_uri": "https://localhost:8080/",
          "height": 67
        },
        "colab_type": "code",
        "id": "HFG-VbrYc84e",
        "outputId": "d9ba7fcd-1eb4-449d-b750-c64fa1b82090"
      },
      "outputs": [
        {
          "name": "stdout",
          "output_type": "stream",
          "text": [
            "[[1 2 3]\n",
            " [4 5 6]\n",
            " [7 8 9]]\n"
          ]
        }
      ],
      "source": [
        "b = np.array([[7,8,9]])\n",
        "# axis=0 - concatena a lo largo de las filas\n",
        "print(np.concatenate((A, b), axis=0))"
      ]
    },
    {
      "cell_type": "code",
      "execution_count": 5,
      "metadata": {
        "colab": {
          "base_uri": "https://localhost:8080/",
          "height": 67
        },
        "colab_type": "code",
        "id": "fnLXaDe7D-0Y",
        "outputId": "e033eb14-d810-4dc9-9851-ec36d3ebc06a"
      },
      "outputs": [
        {
          "name": "stdout",
          "output_type": "stream",
          "text": [
            "[[1 2 3]\n",
            " [4 5 6]\n",
            " [7 8 9]]\n"
          ]
        }
      ],
      "source": [
        "print(np.vstack((A, b)))"
      ]
    },
    {
      "cell_type": "code",
      "execution_count": 6,
      "metadata": {
        "colab": {
          "base_uri": "https://localhost:8080/",
          "height": 67
        },
        "colab_type": "code",
        "id": "MuQ5xvfKFeDW",
        "outputId": "9a8c31ea-ecf1-4a1e-c843-e996ac7cd58b"
      },
      "outputs": [
        {
          "data": {
            "text/plain": [
              "array([[1, 2, 3],\n",
              "       [4, 5, 6],\n",
              "       [7, 8, 9]])"
            ]
          },
          "execution_count": 6,
          "metadata": {
            "tags": []
          },
          "output_type": "execute_result"
        }
      ],
      "source": [
        "# axis=0 - concatenate a lo largo de las filas\n",
        "np.append(A, b, axis=0)"
      ]
    },
    {
      "cell_type": "markdown",
      "metadata": {
        "colab_type": "text",
        "id": "G2KzzK9VH1uG"
      },
      "source": [
        "## Agregando Columnas a una matriz\n"
      ]
    },
    {
      "cell_type": "code",
      "execution_count": 7,
      "metadata": {
        "colab": {
          "base_uri": "https://localhost:8080/",
          "height": 50
        },
        "colab_type": "code",
        "id": "G1R4pNyBJC3R",
        "outputId": "8321dd9a-8284-4c7d-b499-a17e2140a807"
      },
      "outputs": [
        {
          "name": "stdout",
          "output_type": "stream",
          "text": [
            "[[1 2 3 7]\n",
            " [4 5 6 8]]\n"
          ]
        }
      ],
      "source": [
        "c = np.array([[7],[8]])\n",
        "# c = np.array([[7,8]]).T\n",
        "# axis=0 - concatena a lo largo de las columnas\n",
        "print(np.concatenate((A, c), axis=1))"
      ]
    },
    {
      "cell_type": "code",
      "execution_count": 8,
      "metadata": {
        "colab": {
          "base_uri": "https://localhost:8080/",
          "height": 50
        },
        "colab_type": "code",
        "id": "H7zRadrkJC3p",
        "outputId": "4acd587e-4ada-4cf7-f8ca-bf3103b00224"
      },
      "outputs": [
        {
          "name": "stdout",
          "output_type": "stream",
          "text": [
            "[[1 2 3 7]\n",
            " [4 5 6 8]]\n"
          ]
        }
      ],
      "source": [
        "print(np.hstack((A,c)))"
      ]
    },
    {
      "cell_type": "code",
      "execution_count": 9,
      "metadata": {
        "colab": {
          "base_uri": "https://localhost:8080/",
          "height": 50
        },
        "colab_type": "code",
        "id": "L6mKcNhv4OVd",
        "outputId": "a07bf228-97ac-4e9e-e4ab-3d76a2d87388"
      },
      "outputs": [
        {
          "name": "stdout",
          "output_type": "stream",
          "text": [
            "[[1 2 3 7]\n",
            " [4 5 6 8]]\n"
          ]
        }
      ],
      "source": [
        "# axis=0 - concatena a lo largo de las columnas\n",
        "print(np.append(A, c, axis=1))"
      ]
    },
    {
      "cell_type": "markdown",
      "metadata": {
        "colab_type": "text",
        "id": "PMWnaF3K8x4T"
      },
      "source": [
        "# Medidas sobre matrices $R^{N\\times N}\\rightarrow R$ \n",
        "\n"
      ]
    },
    {
      "cell_type": "markdown",
      "metadata": {
        "colab_type": "text",
        "id": "U3oBZRU5KFyL"
      },
      "source": [
        "## Determinante"
      ]
    },
    {
      "cell_type": "code",
      "execution_count": 10,
      "metadata": {
        "colab": {
          "base_uri": "https://localhost:8080/",
          "height": 34
        },
        "colab_type": "code",
        "id": "XAdAOeBL0zA-",
        "outputId": "7aa0cba0-24d8-482e-db14-f000a25688aa"
      },
      "outputs": [
        {
          "data": {
            "text/plain": [
              "0.0"
            ]
          },
          "execution_count": 10,
          "metadata": {
            "tags": []
          },
          "output_type": "execute_result"
        }
      ],
      "source": [
        "Ac = np.append(A, b, axis=0)\n",
        "np.linalg.det(Ac)"
      ]
    },
    {
      "cell_type": "markdown",
      "metadata": {
        "colab_type": "text",
        "id": "I_WVBE2s2ELT"
      },
      "source": [
        "## Rango"
      ]
    },
    {
      "cell_type": "code",
      "execution_count": 11,
      "metadata": {
        "colab": {
          "base_uri": "https://localhost:8080/",
          "height": 34
        },
        "colab_type": "code",
        "id": "Bz4Z50tg1pNL",
        "outputId": "1d15ac76-09a6-4115-fc16-52045926e962"
      },
      "outputs": [
        {
          "data": {
            "text/plain": [
              "2"
            ]
          },
          "execution_count": 11,
          "metadata": {
            "tags": []
          },
          "output_type": "execute_result"
        }
      ],
      "source": [
        "np.linalg.matrix_rank(Ac)"
      ]
    },
    {
      "cell_type": "markdown",
      "metadata": {
        "colab_type": "text",
        "id": "4B60qRNi2ChC"
      },
      "source": [
        "## Norma"
      ]
    },
    {
      "cell_type": "code",
      "execution_count": 12,
      "metadata": {
        "colab": {
          "base_uri": "https://localhost:8080/",
          "height": 34
        },
        "colab_type": "code",
        "id": "gSreefzo2Ddx",
        "outputId": "e12cb893-6126-470f-ef16-96af148dfa32"
      },
      "outputs": [
        {
          "data": {
            "text/plain": [
              "16.881943016134134"
            ]
          },
          "execution_count": 12,
          "metadata": {
            "tags": []
          },
          "output_type": "execute_result"
        }
      ],
      "source": [
        "np.linalg.norm(Ac)"
      ]
    },
    {
      "cell_type": "code",
      "execution_count": 13,
      "metadata": {
        "colab": {
          "base_uri": "https://localhost:8080/",
          "height": 34
        },
        "colab_type": "code",
        "id": "Ie9RqVmW2HiL",
        "outputId": "a4dba002-e14d-427c-c296-b9e4c89fc18b"
      },
      "outputs": [
        {
          "data": {
            "text/plain": [
              "16.881943016134134"
            ]
          },
          "execution_count": 13,
          "metadata": {
            "tags": []
          },
          "output_type": "execute_result"
        }
      ],
      "source": [
        "np.sqrt(np.sum(Ac**2))"
      ]
    },
    {
      "cell_type": "markdown",
      "metadata": {
        "colab_type": "text",
        "id": "vE8E2DKM7kp7"
      },
      "source": [
        "## Traza de una matriz"
      ]
    },
    {
      "cell_type": "code",
      "execution_count": 14,
      "metadata": {
        "colab": {
          "base_uri": "https://localhost:8080/",
          "height": 67
        },
        "colab_type": "code",
        "id": "1GLhF7PTBGE1",
        "outputId": "eb63c468-3054-4a03-f5e6-fa3f7766e888"
      },
      "outputs": [
        {
          "data": {
            "text/plain": [
              "array([[1, 2, 3],\n",
              "       [4, 5, 6],\n",
              "       [7, 8, 9]])"
            ]
          },
          "execution_count": 14,
          "metadata": {
            "tags": []
          },
          "output_type": "execute_result"
        }
      ],
      "source": [
        "Ac"
      ]
    },
    {
      "cell_type": "code",
      "execution_count": 15,
      "metadata": {
        "colab": {
          "base_uri": "https://localhost:8080/",
          "height": 34
        },
        "colab_type": "code",
        "id": "OpkXrcg87nCT",
        "outputId": "fe5924ab-3be1-4a4c-b654-dccc01424968"
      },
      "outputs": [
        {
          "data": {
            "text/plain": [
              "15"
            ]
          },
          "execution_count": 15,
          "metadata": {
            "tags": []
          },
          "output_type": "execute_result"
        }
      ],
      "source": [
        "np.trace(Ac)"
      ]
    },
    {
      "cell_type": "markdown",
      "metadata": {
        "colab_type": "text",
        "id": "W4gHbzJ52g76"
      },
      "source": [
        "# Solucion a sistemas de ecuaciones"
      ]
    },
    {
      "cell_type": "markdown",
      "metadata": {
        "colab_type": "text",
        "id": "9vF9MmvD2k-4"
      },
      "source": [
        "Sunpoga que se tiene el siguiente sistemas de ecuaciones: <br>\n",
        "$x+3y+5z=10,$ <br>\n",
        "$2x+5y+z=8,$ <br>\n",
        "$2x+3y+8z=13$."
      ]
    },
    {
      "cell_type": "code",
      "execution_count": 16,
      "metadata": {
        "colab": {},
        "colab_type": "code",
        "id": "qZKfcSh32kZK"
      },
      "outputs": [],
      "source": [
        "A = np.array([[1, 3, 5],[2, 5, 1],[2,3,8]])\n",
        "b = np.array([[10, 8, 13]]).T"
      ]
    },
    {
      "cell_type": "code",
      "execution_count": 17,
      "metadata": {
        "colab": {
          "base_uri": "https://localhost:8080/",
          "height": 67
        },
        "colab_type": "code",
        "id": "Jrq8nRGo3O3d",
        "outputId": "435ad6d4-ecd9-4177-ebe0-f5e70789d348"
      },
      "outputs": [
        {
          "name": "stdout",
          "output_type": "stream",
          "text": [
            "[[-0.48]\n",
            " [ 1.56]\n",
            " [ 1.16]]\n"
          ]
        }
      ],
      "source": [
        "x1 = np.linalg.inv(A)@b\n",
        "print(x1)"
      ]
    },
    {
      "cell_type": "code",
      "execution_count": 18,
      "metadata": {
        "colab": {
          "base_uri": "https://localhost:8080/",
          "height": 67
        },
        "colab_type": "code",
        "id": "3oV5uzci3m00",
        "outputId": "08e1f2ba-1d9e-4259-e674-aac71fed77c3"
      },
      "outputs": [
        {
          "name": "stdout",
          "output_type": "stream",
          "text": [
            "[[-0.48]\n",
            " [ 1.56]\n",
            " [ 1.16]]\n"
          ]
        }
      ],
      "source": [
        "x2 = np.linalg.inv(A).dot(b)\n",
        "print(x2)"
      ]
    },
    {
      "cell_type": "code",
      "execution_count": 19,
      "metadata": {
        "colab": {
          "base_uri": "https://localhost:8080/",
          "height": 67
        },
        "colab_type": "code",
        "id": "mRh1nhb53THr",
        "outputId": "be4d534d-9b94-42a6-fe38-6f37dcb89087"
      },
      "outputs": [
        {
          "name": "stdout",
          "output_type": "stream",
          "text": [
            "[[-0.48]\n",
            " [ 1.56]\n",
            " [ 1.16]]\n"
          ]
        }
      ],
      "source": [
        "x2 = np.linalg.solve(A,b)\n",
        "print(x2)"
      ]
    },
    {
      "cell_type": "markdown",
      "metadata": {
        "colab_type": "text",
        "id": "_CzUCS7O7-PT"
      },
      "source": [
        "# Productos entre matrices"
      ]
    },
    {
      "cell_type": "code",
      "execution_count": 20,
      "metadata": {
        "colab": {},
        "colab_type": "code",
        "id": "obYNZSuE8AkT"
      },
      "outputs": [],
      "source": [
        "A = np.array([[1, 3, 5],[2, 5, 1],[2,3,8]])\n",
        "B = np.array([[2, 4, 1],[3, 6, 2],[7,2,5]])"
      ]
    },
    {
      "cell_type": "code",
      "execution_count": 21,
      "metadata": {
        "colab": {
          "base_uri": "https://localhost:8080/",
          "height": 67
        },
        "colab_type": "code",
        "id": "JoBUbphA8Iv7",
        "outputId": "dc38c8ca-c132-4594-91fe-76266a0b3a36"
      },
      "outputs": [
        {
          "data": {
            "text/plain": [
              "array([[46, 32, 32],\n",
              "       [26, 40, 17],\n",
              "       [69, 42, 48]])"
            ]
          },
          "execution_count": 21,
          "metadata": {
            "tags": []
          },
          "output_type": "execute_result"
        }
      ],
      "source": [
        "A@B"
      ]
    },
    {
      "cell_type": "code",
      "execution_count": 22,
      "metadata": {
        "colab": {
          "base_uri": "https://localhost:8080/",
          "height": 67
        },
        "colab_type": "code",
        "id": "zDojNCTj8K7T",
        "outputId": "630e0733-2f96-430f-98e1-c5f1a15aada2"
      },
      "outputs": [
        {
          "data": {
            "text/plain": [
              "array([[12, 29, 22],\n",
              "       [19, 45, 37],\n",
              "       [21, 46, 77]])"
            ]
          },
          "execution_count": 22,
          "metadata": {
            "tags": []
          },
          "output_type": "execute_result"
        }
      ],
      "source": [
        "B@A"
      ]
    },
    {
      "cell_type": "code",
      "execution_count": 23,
      "metadata": {
        "colab": {
          "base_uri": "https://localhost:8080/",
          "height": 67
        },
        "colab_type": "code",
        "id": "Z58eW00_8MpD",
        "outputId": "f8e58b1c-75d4-423b-bba5-dc4afc05c4c2"
      },
      "outputs": [
        {
          "data": {
            "text/plain": [
              "array([[46, 32, 32],\n",
              "       [26, 40, 17],\n",
              "       [69, 42, 48]])"
            ]
          },
          "execution_count": 23,
          "metadata": {
            "tags": []
          },
          "output_type": "execute_result"
        }
      ],
      "source": [
        "A.dot(B)"
      ]
    },
    {
      "cell_type": "code",
      "execution_count": 24,
      "metadata": {
        "colab": {
          "base_uri": "https://localhost:8080/",
          "height": 67
        },
        "colab_type": "code",
        "id": "tdYyIMwg8Tbg",
        "outputId": "f3e56d25-103d-4ca1-8e26-30e3b924d5e9"
      },
      "outputs": [
        {
          "data": {
            "text/plain": [
              "array([[ 4.28000000e+00, -2.00000000e+00,  3.64000000e+00],\n",
              "       [-1.16000000e+00,  2.00000000e+00, -1.08000000e+00],\n",
              "       [ 2.40000000e-01,  4.16333634e-17,  1.20000000e-01]])"
            ]
          },
          "execution_count": 24,
          "metadata": {
            "tags": []
          },
          "output_type": "execute_result"
        }
      ],
      "source": [
        "np.linalg.inv(A).dot(B) #A^(-1)B"
      ]
    },
    {
      "cell_type": "code",
      "execution_count": 25,
      "metadata": {
        "colab": {
          "base_uri": "https://localhost:8080/",
          "height": 67
        },
        "colab_type": "code",
        "id": "GK1MKF6r8XSE",
        "outputId": "277620fa-1e5f-45ff-a8b2-6177a592cf36"
      },
      "outputs": [
        {
          "data": {
            "text/plain": [
              "array([[ 4.28, -2.  ,  3.64],\n",
              "       [-1.16,  2.  , -1.08],\n",
              "       [ 0.24,  0.  ,  0.12]])"
            ]
          },
          "execution_count": 25,
          "metadata": {
            "tags": []
          },
          "output_type": "execute_result"
        }
      ],
      "source": [
        "np.linalg.solve(A,B)"
      ]
    }
  ],
  "metadata": {
    "colab": {
      "collapsed_sections": [],
      "name": "02_Matrices_Numpy.ipynb",
      "provenance": []
    },
    "kernelspec": {
      "display_name": "Python 3",
      "name": "python3"
    }
  },
  "nbformat": 4,
  "nbformat_minor": 0
}
