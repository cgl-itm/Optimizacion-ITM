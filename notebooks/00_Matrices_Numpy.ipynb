{
  "nbformat": 4,
  "nbformat_minor": 0,
  "metadata": {
    "colab": {
      "name": "02_Matrices_Numpy.ipynb",
      "provenance": [],
      "collapsed_sections": []
    },
    "kernelspec": {
      "name": "python3",
      "display_name": "Python 3"
    }
  },
  "cells": [
    {
      "cell_type": "markdown",
      "metadata": {
        "id": "9lhzZWMv2Z_-",
        "colab_type": "text"
      },
      "source": [
        "# Matrices en Numpy"
      ]
    },
    {
      "cell_type": "markdown",
      "metadata": {
        "id": "v_oPB-tD32ju",
        "colab_type": "text"
      },
      "source": [
        "Basado en documento de la libreria [Numpy](https://docs.scipy.org/doc/scipy/reference/tutorial/linalg.html)"
      ]
    },
    {
      "cell_type": "markdown",
      "metadata": {
        "id": "sGX9onUt2lLI",
        "colab_type": "text"
      },
      "source": [
        "Importamos la librería Numpy con nombre \"np\"."
      ]
    },
    {
      "cell_type": "code",
      "metadata": {
        "id": "ZQWbAkRIcw2t",
        "colab_type": "code",
        "colab": {}
      },
      "source": [
        "import numpy as np"
      ],
      "execution_count": 1,
      "outputs": []
    },
    {
      "cell_type": "markdown",
      "metadata": {
        "id": "IhmszfJI8mcy",
        "colab_type": "text"
      },
      "source": [
        "## Matriz por filas"
      ]
    },
    {
      "cell_type": "markdown",
      "metadata": {
        "id": "4YucWNEU2tgw",
        "colab_type": "text"
      },
      "source": [
        "Para crear un arreglo en forma de matriz de 2 dimensiones (filas y columnas), se realiza así"
      ]
    },
    {
      "cell_type": "code",
      "metadata": {
        "id": "FzycxHSKc3T1",
        "colab_type": "code",
        "colab": {
          "base_uri": "https://localhost:8080/",
          "height": 50
        },
        "outputId": "9af7d636-2d25-4bbe-d891-ddcce224eb5e"
      },
      "source": [
        "A = np.array([[1,2,3],[4,5,6]])\n",
        "print(A, A.shape)"
      ],
      "execution_count": 2,
      "outputs": [
        {
          "output_type": "stream",
          "text": [
            "[[1 2 3]\n",
            " [4 5 6]] (2, 3)\n"
          ],
          "name": "stdout"
        }
      ]
    },
    {
      "cell_type": "code",
      "metadata": {
        "id": "HxEmdE2o_y82",
        "colab_type": "code",
        "colab": {
          "base_uri": "https://localhost:8080/",
          "height": 50
        },
        "outputId": "8ec51c12-345b-41f3-f878-b8afb65cff11"
      },
      "source": [
        "A2 = np.asarray([[1,2,3],[4,5,6]])\n",
        "print(A2, A2.shape)"
      ],
      "execution_count": 3,
      "outputs": [
        {
          "output_type": "stream",
          "text": [
            "[[1 2 3]\n",
            " [4 5 6]] (2, 3)\n"
          ],
          "name": "stdout"
        }
      ]
    },
    {
      "cell_type": "markdown",
      "metadata": {
        "colab_type": "text",
        "id": "6uaH3iB9HrG7"
      },
      "source": [
        "# Ampliando la matriz"
      ]
    },
    {
      "cell_type": "markdown",
      "metadata": {
        "id": "FNcIi2NI8sQq",
        "colab_type": "text"
      },
      "source": [
        "## Agregando filas a una matriz\n"
      ]
    },
    {
      "cell_type": "markdown",
      "metadata": {
        "id": "gac-ynnc3LVL",
        "colab_type": "text"
      },
      "source": [
        "Si quiere agregar una nueva fila a una matriz:"
      ]
    },
    {
      "cell_type": "code",
      "metadata": {
        "id": "HFG-VbrYc84e",
        "colab_type": "code",
        "colab": {
          "base_uri": "https://localhost:8080/",
          "height": 67
        },
        "outputId": "d9ba7fcd-1eb4-449d-b750-c64fa1b82090"
      },
      "source": [
        "b = np.array([[7,8,9]])\n",
        "# axis=0 - concatena a lo largo de las filas\n",
        "print(np.concatenate((A, b), axis=0))"
      ],
      "execution_count": 4,
      "outputs": [
        {
          "output_type": "stream",
          "text": [
            "[[1 2 3]\n",
            " [4 5 6]\n",
            " [7 8 9]]\n"
          ],
          "name": "stdout"
        }
      ]
    },
    {
      "cell_type": "code",
      "metadata": {
        "id": "fnLXaDe7D-0Y",
        "colab_type": "code",
        "colab": {
          "base_uri": "https://localhost:8080/",
          "height": 67
        },
        "outputId": "e033eb14-d810-4dc9-9851-ec36d3ebc06a"
      },
      "source": [
        "print(np.vstack((A, b)))"
      ],
      "execution_count": 5,
      "outputs": [
        {
          "output_type": "stream",
          "text": [
            "[[1 2 3]\n",
            " [4 5 6]\n",
            " [7 8 9]]\n"
          ],
          "name": "stdout"
        }
      ]
    },
    {
      "cell_type": "code",
      "metadata": {
        "id": "MuQ5xvfKFeDW",
        "colab_type": "code",
        "colab": {
          "base_uri": "https://localhost:8080/",
          "height": 67
        },
        "outputId": "9a8c31ea-ecf1-4a1e-c843-e996ac7cd58b"
      },
      "source": [
        "# axis=0 - concatenate a lo largo de las filas\n",
        "np.append(A, b, axis=0)"
      ],
      "execution_count": 6,
      "outputs": [
        {
          "output_type": "execute_result",
          "data": {
            "text/plain": [
              "array([[1, 2, 3],\n",
              "       [4, 5, 6],\n",
              "       [7, 8, 9]])"
            ]
          },
          "metadata": {
            "tags": []
          },
          "execution_count": 6
        }
      ]
    },
    {
      "cell_type": "markdown",
      "metadata": {
        "colab_type": "text",
        "id": "G2KzzK9VH1uG"
      },
      "source": [
        "## Agregando Columnas a una matriz\n"
      ]
    },
    {
      "cell_type": "code",
      "metadata": {
        "colab_type": "code",
        "id": "G1R4pNyBJC3R",
        "colab": {
          "base_uri": "https://localhost:8080/",
          "height": 50
        },
        "outputId": "8321dd9a-8284-4c7d-b499-a17e2140a807"
      },
      "source": [
        "c = np.array([[7],[8]])\n",
        "# c = np.array([[7,8]]).T\n",
        "# axis=0 - concatena a lo largo de las columnas\n",
        "print(np.concatenate((A, c), axis=1))"
      ],
      "execution_count": 7,
      "outputs": [
        {
          "output_type": "stream",
          "text": [
            "[[1 2 3 7]\n",
            " [4 5 6 8]]\n"
          ],
          "name": "stdout"
        }
      ]
    },
    {
      "cell_type": "code",
      "metadata": {
        "colab_type": "code",
        "id": "H7zRadrkJC3p",
        "colab": {
          "base_uri": "https://localhost:8080/",
          "height": 50
        },
        "outputId": "4acd587e-4ada-4cf7-f8ca-bf3103b00224"
      },
      "source": [
        "print(np.hstack((A,c)))"
      ],
      "execution_count": 8,
      "outputs": [
        {
          "output_type": "stream",
          "text": [
            "[[1 2 3 7]\n",
            " [4 5 6 8]]\n"
          ],
          "name": "stdout"
        }
      ]
    },
    {
      "cell_type": "code",
      "metadata": {
        "id": "L6mKcNhv4OVd",
        "colab_type": "code",
        "colab": {
          "base_uri": "https://localhost:8080/",
          "height": 50
        },
        "outputId": "a07bf228-97ac-4e9e-e4ab-3d76a2d87388"
      },
      "source": [
        "# axis=0 - concatena a lo largo de las columnas\n",
        "print(np.append(A, c, axis=1))"
      ],
      "execution_count": 9,
      "outputs": [
        {
          "output_type": "stream",
          "text": [
            "[[1 2 3 7]\n",
            " [4 5 6 8]]\n"
          ],
          "name": "stdout"
        }
      ]
    },
    {
      "cell_type": "markdown",
      "metadata": {
        "id": "PMWnaF3K8x4T",
        "colab_type": "text"
      },
      "source": [
        "# Medidas sobre matrices $R^{N\\times N}\\rightarrow R$ \n",
        "\n"
      ]
    },
    {
      "cell_type": "markdown",
      "metadata": {
        "id": "U3oBZRU5KFyL",
        "colab_type": "text"
      },
      "source": [
        "## Determinante"
      ]
    },
    {
      "cell_type": "code",
      "metadata": {
        "id": "XAdAOeBL0zA-",
        "colab_type": "code",
        "colab": {
          "base_uri": "https://localhost:8080/",
          "height": 34
        },
        "outputId": "7aa0cba0-24d8-482e-db14-f000a25688aa"
      },
      "source": [
        "Ac = np.append(A, b, axis=0)\n",
        "np.linalg.det(Ac)"
      ],
      "execution_count": 10,
      "outputs": [
        {
          "output_type": "execute_result",
          "data": {
            "text/plain": [
              "0.0"
            ]
          },
          "metadata": {
            "tags": []
          },
          "execution_count": 10
        }
      ]
    },
    {
      "cell_type": "markdown",
      "metadata": {
        "id": "I_WVBE2s2ELT",
        "colab_type": "text"
      },
      "source": [
        "## Rango"
      ]
    },
    {
      "cell_type": "code",
      "metadata": {
        "id": "Bz4Z50tg1pNL",
        "colab_type": "code",
        "colab": {
          "base_uri": "https://localhost:8080/",
          "height": 34
        },
        "outputId": "1d15ac76-09a6-4115-fc16-52045926e962"
      },
      "source": [
        "np.linalg.matrix_rank(Ac)"
      ],
      "execution_count": 11,
      "outputs": [
        {
          "output_type": "execute_result",
          "data": {
            "text/plain": [
              "2"
            ]
          },
          "metadata": {
            "tags": []
          },
          "execution_count": 11
        }
      ]
    },
    {
      "cell_type": "markdown",
      "metadata": {
        "id": "4B60qRNi2ChC",
        "colab_type": "text"
      },
      "source": [
        "## Norma"
      ]
    },
    {
      "cell_type": "code",
      "metadata": {
        "id": "gSreefzo2Ddx",
        "colab_type": "code",
        "colab": {
          "base_uri": "https://localhost:8080/",
          "height": 34
        },
        "outputId": "e12cb893-6126-470f-ef16-96af148dfa32"
      },
      "source": [
        "np.linalg.norm(Ac)"
      ],
      "execution_count": 12,
      "outputs": [
        {
          "output_type": "execute_result",
          "data": {
            "text/plain": [
              "16.881943016134134"
            ]
          },
          "metadata": {
            "tags": []
          },
          "execution_count": 12
        }
      ]
    },
    {
      "cell_type": "code",
      "metadata": {
        "id": "Ie9RqVmW2HiL",
        "colab_type": "code",
        "colab": {
          "base_uri": "https://localhost:8080/",
          "height": 34
        },
        "outputId": "a4dba002-e14d-427c-c296-b9e4c89fc18b"
      },
      "source": [
        "np.sqrt(np.sum(Ac**2))"
      ],
      "execution_count": 13,
      "outputs": [
        {
          "output_type": "execute_result",
          "data": {
            "text/plain": [
              "16.881943016134134"
            ]
          },
          "metadata": {
            "tags": []
          },
          "execution_count": 13
        }
      ]
    },
    {
      "cell_type": "markdown",
      "metadata": {
        "id": "vE8E2DKM7kp7",
        "colab_type": "text"
      },
      "source": [
        "## Traza de una matriz"
      ]
    },
    {
      "cell_type": "code",
      "metadata": {
        "id": "1GLhF7PTBGE1",
        "colab_type": "code",
        "colab": {
          "base_uri": "https://localhost:8080/",
          "height": 67
        },
        "outputId": "eb63c468-3054-4a03-f5e6-fa3f7766e888"
      },
      "source": [
        "Ac"
      ],
      "execution_count": 14,
      "outputs": [
        {
          "output_type": "execute_result",
          "data": {
            "text/plain": [
              "array([[1, 2, 3],\n",
              "       [4, 5, 6],\n",
              "       [7, 8, 9]])"
            ]
          },
          "metadata": {
            "tags": []
          },
          "execution_count": 14
        }
      ]
    },
    {
      "cell_type": "code",
      "metadata": {
        "id": "OpkXrcg87nCT",
        "colab_type": "code",
        "colab": {
          "base_uri": "https://localhost:8080/",
          "height": 34
        },
        "outputId": "fe5924ab-3be1-4a4c-b654-dccc01424968"
      },
      "source": [
        "np.trace(Ac)"
      ],
      "execution_count": 15,
      "outputs": [
        {
          "output_type": "execute_result",
          "data": {
            "text/plain": [
              "15"
            ]
          },
          "metadata": {
            "tags": []
          },
          "execution_count": 15
        }
      ]
    },
    {
      "cell_type": "markdown",
      "metadata": {
        "id": "W4gHbzJ52g76",
        "colab_type": "text"
      },
      "source": [
        "# Solucion a sistemas de ecuaciones"
      ]
    },
    {
      "cell_type": "markdown",
      "metadata": {
        "id": "9vF9MmvD2k-4",
        "colab_type": "text"
      },
      "source": [
        "Sunpoga que se tiene el siguiente sistemas de ecuaciones: <br>\n",
        "$x+3y+5z=10,$ <br>\n",
        "$2x+5y+z=8,$ <br>\n",
        "$2x+3y+8z=13$."
      ]
    },
    {
      "cell_type": "code",
      "metadata": {
        "id": "qZKfcSh32kZK",
        "colab_type": "code",
        "colab": {}
      },
      "source": [
        "A = np.array([[1, 3, 5],[2, 5, 1],[2,3,8]])\n",
        "b = np.array([[10, 8, 13]]).T"
      ],
      "execution_count": 16,
      "outputs": []
    },
    {
      "cell_type": "code",
      "metadata": {
        "id": "Jrq8nRGo3O3d",
        "colab_type": "code",
        "colab": {
          "base_uri": "https://localhost:8080/",
          "height": 67
        },
        "outputId": "435ad6d4-ecd9-4177-ebe0-f5e70789d348"
      },
      "source": [
        "x1 = np.linalg.inv(A)@b\n",
        "print(x1)"
      ],
      "execution_count": 17,
      "outputs": [
        {
          "output_type": "stream",
          "text": [
            "[[-0.48]\n",
            " [ 1.56]\n",
            " [ 1.16]]\n"
          ],
          "name": "stdout"
        }
      ]
    },
    {
      "cell_type": "code",
      "metadata": {
        "id": "3oV5uzci3m00",
        "colab_type": "code",
        "colab": {
          "base_uri": "https://localhost:8080/",
          "height": 67
        },
        "outputId": "08e1f2ba-1d9e-4259-e674-aac71fed77c3"
      },
      "source": [
        "x2 = np.linalg.inv(A).dot(b)\n",
        "print(x2)"
      ],
      "execution_count": 18,
      "outputs": [
        {
          "output_type": "stream",
          "text": [
            "[[-0.48]\n",
            " [ 1.56]\n",
            " [ 1.16]]\n"
          ],
          "name": "stdout"
        }
      ]
    },
    {
      "cell_type": "code",
      "metadata": {
        "id": "mRh1nhb53THr",
        "colab_type": "code",
        "colab": {
          "base_uri": "https://localhost:8080/",
          "height": 67
        },
        "outputId": "be4d534d-9b94-42a6-fe38-6f37dcb89087"
      },
      "source": [
        "x2 = np.linalg.solve(A,b)\n",
        "print(x2)"
      ],
      "execution_count": 19,
      "outputs": [
        {
          "output_type": "stream",
          "text": [
            "[[-0.48]\n",
            " [ 1.56]\n",
            " [ 1.16]]\n"
          ],
          "name": "stdout"
        }
      ]
    },
    {
      "cell_type": "markdown",
      "metadata": {
        "id": "_CzUCS7O7-PT",
        "colab_type": "text"
      },
      "source": [
        "# Productos entre matrices"
      ]
    },
    {
      "cell_type": "code",
      "metadata": {
        "id": "obYNZSuE8AkT",
        "colab_type": "code",
        "colab": {}
      },
      "source": [
        "A = np.array([[1, 3, 5],[2, 5, 1],[2,3,8]])\n",
        "B = np.array([[2, 4, 1],[3, 6, 2],[7,2,5]])"
      ],
      "execution_count": 20,
      "outputs": []
    },
    {
      "cell_type": "code",
      "metadata": {
        "id": "JoBUbphA8Iv7",
        "colab_type": "code",
        "colab": {
          "base_uri": "https://localhost:8080/",
          "height": 67
        },
        "outputId": "dc38c8ca-c132-4594-91fe-76266a0b3a36"
      },
      "source": [
        "A@B"
      ],
      "execution_count": 21,
      "outputs": [
        {
          "output_type": "execute_result",
          "data": {
            "text/plain": [
              "array([[46, 32, 32],\n",
              "       [26, 40, 17],\n",
              "       [69, 42, 48]])"
            ]
          },
          "metadata": {
            "tags": []
          },
          "execution_count": 21
        }
      ]
    },
    {
      "cell_type": "code",
      "metadata": {
        "id": "zDojNCTj8K7T",
        "colab_type": "code",
        "colab": {
          "base_uri": "https://localhost:8080/",
          "height": 67
        },
        "outputId": "630e0733-2f96-430f-98e1-c5f1a15aada2"
      },
      "source": [
        "B@A"
      ],
      "execution_count": 22,
      "outputs": [
        {
          "output_type": "execute_result",
          "data": {
            "text/plain": [
              "array([[12, 29, 22],\n",
              "       [19, 45, 37],\n",
              "       [21, 46, 77]])"
            ]
          },
          "metadata": {
            "tags": []
          },
          "execution_count": 22
        }
      ]
    },
    {
      "cell_type": "code",
      "metadata": {
        "id": "Z58eW00_8MpD",
        "colab_type": "code",
        "colab": {
          "base_uri": "https://localhost:8080/",
          "height": 67
        },
        "outputId": "f8e58b1c-75d4-423b-bba5-dc4afc05c4c2"
      },
      "source": [
        "A.dot(B)"
      ],
      "execution_count": 23,
      "outputs": [
        {
          "output_type": "execute_result",
          "data": {
            "text/plain": [
              "array([[46, 32, 32],\n",
              "       [26, 40, 17],\n",
              "       [69, 42, 48]])"
            ]
          },
          "metadata": {
            "tags": []
          },
          "execution_count": 23
        }
      ]
    },
    {
      "cell_type": "code",
      "metadata": {
        "id": "tdYyIMwg8Tbg",
        "colab_type": "code",
        "colab": {
          "base_uri": "https://localhost:8080/",
          "height": 67
        },
        "outputId": "f3e56d25-103d-4ca1-8e26-30e3b924d5e9"
      },
      "source": [
        "np.linalg.inv(A).dot(B) #A^(-1)B"
      ],
      "execution_count": 24,
      "outputs": [
        {
          "output_type": "execute_result",
          "data": {
            "text/plain": [
              "array([[ 4.28000000e+00, -2.00000000e+00,  3.64000000e+00],\n",
              "       [-1.16000000e+00,  2.00000000e+00, -1.08000000e+00],\n",
              "       [ 2.40000000e-01,  4.16333634e-17,  1.20000000e-01]])"
            ]
          },
          "metadata": {
            "tags": []
          },
          "execution_count": 24
        }
      ]
    },
    {
      "cell_type": "code",
      "metadata": {
        "id": "GK1MKF6r8XSE",
        "colab_type": "code",
        "colab": {
          "base_uri": "https://localhost:8080/",
          "height": 67
        },
        "outputId": "277620fa-1e5f-45ff-a8b2-6177a592cf36"
      },
      "source": [
        "np.linalg.solve(A,B)"
      ],
      "execution_count": 25,
      "outputs": [
        {
          "output_type": "execute_result",
          "data": {
            "text/plain": [
              "array([[ 4.28, -2.  ,  3.64],\n",
              "       [-1.16,  2.  , -1.08],\n",
              "       [ 0.24,  0.  ,  0.12]])"
            ]
          },
          "metadata": {
            "tags": []
          },
          "execution_count": 25
        }
      ]
    },
    {
      "cell_type": "markdown",
      "metadata": {
        "id": "PdEDfwjA4iwm",
        "colab_type": "text"
      },
      "source": [
        "# Forma Echelon"
      ]
    },
    {
      "cell_type": "markdown",
      "metadata": {
        "id": "tSOqLVB_4q1l",
        "colab_type": "text"
      },
      "source": [
        "Tomada de explicacion en [stackexchange](https://math.stackexchange.com/questions/3073083/how-to-reduce-matrix-into-row-echelon-form-in-python/3073117). Primero definimos una funcion que realiza el proceso de reduccion por filas."
      ]
    },
    {
      "cell_type": "code",
      "metadata": {
        "id": "fxMMNwCo4lbR",
        "colab_type": "code",
        "colab": {}
      },
      "source": [
        "def row_echelon(A):\n",
        "    \"\"\" Retorna la forma de echelon de A \"\"\"\n",
        "\n",
        "    # Si la matriz A no tiene filas o columnas,\n",
        "    # entonces se regresa la misma matriz\n",
        "    r, c = A.shape\n",
        "    if r == 0 or c == 0:\n",
        "        return A\n",
        "\n",
        "    # we search for non-zero element in the first column\n",
        "    for i in range(len(A)):\n",
        "        if A[i,0] != 0:\n",
        "            break\n",
        "    else:\n",
        "        # Si todos los elementos de la primera columna son ceros,\n",
        "        # se realiza la reduccion de la segunda columna\n",
        "        B = row_echelon(A[:,1:])\n",
        "        # y despues agregamos la columnas de ceros\n",
        "        return np.hstack([A[:,:1], B])\n",
        "\n",
        "    # Si un elemento diferente de cero no esta en la primera fila\n",
        "    # intercambiamos filas (pivoteo)\n",
        "    if i > 0:\n",
        "        ith_row = A[i].copy()\n",
        "        A[i] = A[0]\n",
        "        A[0] = ith_row\n",
        "\n",
        "    # dividimos la primera fila por su primer elemento\n",
        "    A[0] = A[0] / A[0,0]\n",
        "    # restamos la primera fila a las demas filas\n",
        "    # multiplicadas por el correspondiente primer elemento\n",
        "    A[1:] -= A[0] * A[1:,0:1]\n",
        "\n",
        "    # realizamos la reduccion para la segunda fila y columna en adelante\n",
        "    B = row_echelon(A[1:,1:])\n",
        "\n",
        "    # agregamos la primera fila y columna, y devolvemos el valor\n",
        "    return np.vstack([A[:1], np.hstack([A[1:,:1], B]) ])\n"
      ],
      "execution_count": 26,
      "outputs": []
    },
    {
      "cell_type": "code",
      "metadata": {
        "id": "9mddu8hy6MW0",
        "colab_type": "code",
        "colab": {
          "base_uri": "https://localhost:8080/",
          "height": 67
        },
        "outputId": "df5ca481-b69d-4a7a-8979-2ae8fdbcf950"
      },
      "source": [
        "A = np.array([[4, 7, 3, 8],\n",
        "              [8, 3, 8, 7],\n",
        "              [2, 9, 5, 3]], dtype='float')\n",
        "\n",
        "row_echelon(A)"
      ],
      "execution_count": 27,
      "outputs": [
        {
          "output_type": "execute_result",
          "data": {
            "text/plain": [
              "array([[ 1.        ,  1.75      ,  0.75      ,  2.        ],\n",
              "       [ 0.        ,  1.        , -0.18181818,  0.81818182],\n",
              "       [ 0.        ,  0.        ,  1.        , -1.22222222]])"
            ]
          },
          "metadata": {
            "tags": []
          },
          "execution_count": 27
        }
      ]
    },
    {
      "cell_type": "code",
      "metadata": {
        "id": "Rq73ZOhS6MtT",
        "colab_type": "code",
        "colab": {}
      },
      "source": [
        ""
      ],
      "execution_count": 27,
      "outputs": []
    }
  ]
}