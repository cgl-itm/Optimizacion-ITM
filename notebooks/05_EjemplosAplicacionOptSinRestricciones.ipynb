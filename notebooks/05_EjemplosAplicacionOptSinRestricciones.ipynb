{
  "nbformat": 4,
  "nbformat_minor": 0,
  "metadata": {
    "colab": {
      "provenance": []
    },
    "kernelspec": {
      "name": "python3",
      "display_name": "Python 3"
    },
    "language_info": {
      "name": "python"
    }
  },
  "cells": [
    {
      "cell_type": "markdown",
      "source": [
        "# Ejemplos de Aplicacion de la Optimizacion sin restricciones"
      ],
      "metadata": {
        "id": "NLJix_Odmnb-"
      }
    },
    {
      "cell_type": "code",
      "source": [
        "import numpy as np"
      ],
      "metadata": {
        "id": "z7LPyy2cvZOO"
      },
      "execution_count": 5,
      "outputs": []
    },
    {
      "cell_type": "markdown",
      "source": [
        "## 1. Diseño de filtro de respuesta finita (FIR)\n",
        "https://link.springer.com/chapter/10.1007/978-1-4612-0571-5_5\n",
        "\n",
        "Denotamos por $h_0,\\ h_1,\\ldots,\\ h_n$ los coeficientes de un filtro de respuesta finita (FIR) de longitud $n+1$. Esto significa que la salida del filtro esta dada por\n",
        "$$ y[k] = \\sum_{k=0}^n h_iu[k-i].\n",
        "$$\n",
        "La respuesta en frecuencia del filtro es la función\n",
        "$$ H[\\omega] = \\sum_{k=0}^n h_k e^{-jk\\omega},\\text{ con } \\omega\\in [0,\\pi],\n",
        "$$\n",
        "donde $j=\\sqrt{-1}$ y $\\omega$ la variable de velocidad angular. La expresión anterior la podemos reescribir como el siguiente producto punto\n",
        "$$ H[\\omega_1] = [1,e^{-j(1)\\omega_1},\\ldots,e^{-j(n)\\omega_1}] \\cdot [h_0,h_1,\\ldots,h_n],\n",
        "$$\n",
        "y de forma mas general, como el siguiente producto matricial\n",
        "$$ \\mathbf{H} = \\left[\\begin{array}{ccccc}\n",
        "\t1 & \\mathrm{e}^{-j \\omega_1} & \\mathrm{e}^{-j 2 \\omega_1} & \\cdots & \\mathrm{e}^{-j(n) \\omega_1} \\\\\n",
        "\t1 & \\mathrm{e}^{-j \\omega_2} & \\mathrm{e}^{-j 2 \\omega_2} & \\cdots & \\mathrm{e}^{-j(n) \\omega_2} \\\\\n",
        "\t\\vdots & \\vdots & \\vdots & & \\vdots \\\\\n",
        "\t1 & \\mathrm{e}^{-j \\omega_N} & \\mathrm{e}^{-j 2 \\omega_N} & \\cdots & \\mathrm{e}^{-j(n) \\omega_N}\n",
        "\\end{array}\\right] \\left[\\begin{array}{c}\n",
        "h_0 \\\\\n",
        "h_1 \\\\\n",
        "\\vdots \\\\\n",
        "h_{n}\n",
        "\\end{array}\\right] = \\mathbf{A} \\mathbf{h}.\n",
        "$$\n",
        "donde $\\mathbf{H}$ es un vector con $N$ elementos, $\\mathbf{A} \\in \\mathbb{R}^{N\\times (n+1)}$ y $\\mathbf{h}\\in \\mathbb{R}^{n+1}$ es un vector compuesto por los coeficiente $h_k$. Buscamos minimizar la diferencia entre la respuesta en frecuencia deseada ($\\mathbf{H}^{\\text{des}}$)  con la generada a partir del filtro que estamos sintonizando\n",
        "\n",
        "$$  \\underset{\\mathbf{h}}{\\text{minimizar }}\n",
        "\\left\\|\\left[\\begin{array}{ccccc}\n",
        "\t1 & \\mathrm{e}^{-j \\omega_1} & \\mathrm{e}^{-j 2 \\omega_1} & \\cdots & \\mathrm{e}^{-j(n) \\omega_1} \\\\\n",
        "\t1 & \\mathrm{e}^{-j \\omega_2} & \\mathrm{e}^{-j 2 \\omega_2} & \\cdots & \\mathrm{e}^{-j(n) \\omega_2} \\\\\n",
        "\t\\vdots & \\vdots & \\vdots & & \\vdots \\\\\n",
        "\t1 & \\mathrm{e}^{-j \\omega_N} & \\mathrm{e}^{-j 2 \\omega_N} & \\cdots & \\mathrm{e}^{-j(n) \\omega_N}\n",
        "\\end{array}\\right]\\left[\\begin{array}{c}\n",
        "\th_0 \\\\\n",
        "\th_1 \\\\\n",
        "\t\\vdots \\\\\n",
        "\th_{n}\n",
        "\\end{array}\\right]-\\left[\\begin{array}{c}\n",
        "\tH_1^{\\text {des }} \\\\\n",
        "\tH_2^{\\text {des }} \\\\\n",
        "\t\\vdots \\\\\n",
        "\tH_N^{\\text {des }}\n",
        "\\end{array}\\right]\\right\\|^2,\n",
        "$$\n",
        "o de manera matricial\n",
        "\n",
        "$$ \\underset{\\mathbf{h}}{\\text{minimizar}}\n",
        "\\left\\|\\mathbf{A} \\mathbf{h}- \\mathbf{H}^{\\text{des}}\\right\\|^2.\n",
        "$$\n",
        "Debido que la función objetivo pertenece a los números complejos, se puede reescribir la ecuación anterior como\n",
        "\n",
        "$$ \\underset{\\mathbf{h}}{\\text{minimizar}}\n",
        "\\left\\| \\text{real}(\\mathbf{A} \\mathbf{h}- \\mathbf{H}^{\\text{des}})\\right\\|^2+\\left\\| \\text{imag}(\\mathbf{A} \\mathbf{h}- \\mathbf{H}^{\\text{des}})\\right\\|^2.\n",
        "$$\n"
      ],
      "metadata": {
        "id": "eEI0TQ-5mwY7"
      }
    },
    {
      "cell_type": "code",
      "execution_count": null,
      "metadata": {
        "id": "3AoZyWYgAlfe"
      },
      "outputs": [],
      "source": [
        "import numpy as np\n",
        "\n",
        "n = 20 #Cantidad de coeficientes\n",
        "\n",
        "N = 15*n #Numero de frecuencias\n",
        "\n",
        "#Vector columna de frecuencias\n",
        "w = np.linspace(0,np.pi,N).reshape(-1, 1)\n",
        "\n",
        "# Respuesta en frecuencia del filtro deseado\n",
        "D = 5.25\n",
        "Hdes = np.exp(-1j*D*w)\n",
        "\n",
        "# Construccion de la matriz A\n",
        "A = np.exp( -1j * np.kron(w, np.arange(n)))\n",
        "\n",
        "#Extraer parte real e imaginaria\n",
        "Hdes_R = np.real(Hdes)\n",
        "Hdes_I = np.imag(Hdes)\n",
        "\n",
        "A_R = np.real(A)\n",
        "A_I = np.imag(A)\n",
        "\n",
        "def ObjFun(h):\n",
        "  return np.sum( np.square(np.matmul(A_R,h) - Hdes_R) + np.square(np.matmul(A_I,h) - Hdes_I))\n",
        "\n",
        "def gradObjFun(h):\n",
        "  return 2*A_R.T@(np.matmul(A_R,h) - Hdes_R) + 2*A_I.T@(np.matmul(A_I,h) - Hdes_I)"
      ]
    },
    {
      "cell_type": "markdown",
      "source": [
        "## Actividades\n",
        "\n",
        "* A partir de la función objetivo y su gradiente, usar el método del gradiente más descendiente (Steepest Descent), para encontrar la solución al problema de optimización.\n",
        "* Seleccionar un valor adecuado del paso ($\\alpha$), de tal manera que el proceso de optimización converja a buenas soluciones.\n",
        "* Comparar con el método de Newton."
      ],
      "metadata": {
        "id": "pAKPKNySnp7y"
      }
    },
    {
      "cell_type": "code",
      "source": [
        "#Hacer codigo aqui"
      ],
      "metadata": {
        "id": "wJ3_Z1BcnuyC"
      },
      "execution_count": 1,
      "outputs": []
    },
    {
      "cell_type": "markdown",
      "source": [
        "## 2. Estimación de parámetros Aerogenerador\n",
        "![](https://media.springernature.com/full/springer-static/image/art%3A10.1038%2Fs41598-023-36458-w/MediaObjects/41598_2023_36458_Fig1_HTML.png)\n",
        "https://www.nature.com/articles/s41598-023-36458-w"
      ],
      "metadata": {
        "id": "n4_3gqb9pIgt"
      }
    },
    {
      "cell_type": "code",
      "source": [
        "import jax.numpy as jnp\n",
        "from jax import grad, random"
      ],
      "metadata": {
        "id": "Ei6aaSfUxj4x"
      },
      "execution_count": 39,
      "outputs": []
    },
    {
      "cell_type": "markdown",
      "source": [
        "Los datos incluidos en el articulo son:"
      ],
      "metadata": {
        "id": "waDESDajwAlA"
      }
    },
    {
      "cell_type": "code",
      "source": [
        "v = jnp.array([0.126, 0.799, 1.287, 1.749, 2.259, 2.719, 3.284, 3.751, 4.246,\n",
        "              4.745, 5.244, 5.724,  6.234, 6.738, 7.243, 7.728, 8.232, 8.741,\n",
        "              9.219, 9.704, 10.230, 10.724, 11.211, 11.767, 12.245, 12.715,\n",
        "              13.226, 13.743, 14.300, 14.696, 15.232, 15.649, 16.029, 16.803,\n",
        "              17.049, 17.885])\n",
        "P = jnp.array([-3.151, -3.181, -3.213, -3.187, 2.824, 20.331, 74.153, 132.315, 225.115,\n",
        "              347.751, 486.502, 660.094, 838.259, 1039.989, 1229.457, 1411.141, 1540.810, 1681.272,\n",
        "              1783.571, 1818.255, 1822.494, 1821.436, 1838.905, 1840.394, 1838.213, 1839.370,\n",
        "              1838.915, 1839.852, 1840.354, 1840.536, 1840.206, 1840.670, 1839.220, 1838.905,\n",
        "              1829.330, 1837.585])"
      ],
      "metadata": {
        "id": "f8BgJpzYpGl5"
      },
      "execution_count": 32,
      "outputs": []
    },
    {
      "cell_type": "markdown",
      "source": [
        "De acuerdo con la cita de arriba, la curva de funcionamiento de un aerogenerador se puede aproximar con la siguiente función de 4 parámetros:\n",
        "$$ P(v, \\boldsymbol{\\theta}) = a\\left(\\frac{1+b\\exp(-v/d)}{1+c\\exp(-v/d)}\\right),\n",
        "$$\n",
        "donde $a$ es el valor máximo, y los otros parámetros sirven para ajustar la forma de la curva. El problema de optimización es encontrar los valores de los 4 parámetros $\\boldsymbol{\\theta} = [a,b,c,d]$, que mejor describan los datos medidos de la potencia y velocidad del aero-genreador."
      ],
      "metadata": {
        "id": "JBNnIkofpb-H"
      }
    },
    {
      "cell_type": "code",
      "source": [
        "def Power(params, v): #Potencion como funcion de la velocidad del viento\n",
        "  a,b,c,d = params\n",
        "  temp = jnp.exp(-v/d)\n",
        "  return a*(1.+b*temp)/(1.+c*temp)"
      ],
      "metadata": {
        "id": "v4LaSuOnvK3X"
      },
      "execution_count": 34,
      "outputs": []
    },
    {
      "cell_type": "markdown",
      "source": [
        "La función objetivo se describe a partir del error cuadrático entre la potencia medida y la potencia aproximada, así\n",
        "\n",
        "$$ \\underset{\\boldsymbol{\\theta}}{ \\text{min } } \\sum_{i=1}^{n} \\left(P_i - P(v_i,\\boldsymbol{\\theta})\\right)^2,\n",
        "$$\n",
        "donde $P_i$ es la $i$-esima emdida de la potencia, $v_i$ es la $i$-esima  medida de lavelocidad del viento. La expresion anterior se puede reescribir de forma vectorial como\n",
        "$$ \\underset{\\boldsymbol{\\theta}}{ \\text{min } } (\\mathbf{P} - P(\\mathbf{v},\\boldsymbol{\\theta}))^{\\top}(\\mathbf{P} - P(\\mathbf{v},\\boldsymbol{\\theta})),\n",
        "$$\n",
        "donde $\\mathbf{P}\\in\\mathbb{R}^n$ es el vector columna de todas las potencias medidas, $P(\\mathbf{v},\\boldsymbol{\\theta})$ es un vector generado a partir de la evaluacion de la funcion $P(v,\\boldsymbol{\\theta})$ del vector de velocidades medidas, $\\mathbf{v}$. Adicionalmente, cut-in speed es 2 m/s, cut-out speed es 18 m/s, y rated speed es 10 m/s. Rated power es 1800 kW."
      ],
      "metadata": {
        "id": "yTSAoK2UvK_3"
      }
    },
    {
      "cell_type": "code",
      "source": [
        "def objfun(params):\n",
        "  res = P-Power(params,v)\n",
        "  return jnp.sum(res**2)"
      ],
      "metadata": {
        "id": "PuARgpcpwAJo"
      },
      "execution_count": 35,
      "outputs": []
    },
    {
      "cell_type": "markdown",
      "source": [
        "## Actividades\n",
        "\n",
        "* A partir de la función objetivo y su gradiente, usar el método del gradiente más descendiente (Steepest Descent), para encontrar la solución al problema de optimización.\n",
        "* Seleccionar un valor adecuado del paso ($\\alpha$), de tal manera que el proceso de optimización converja a buenas soluciones.\n",
        "* Comparar con el método de Newton."
      ],
      "metadata": {
        "id": "mZEPtqCBwjfM"
      }
    },
    {
      "cell_type": "code",
      "source": [
        "key = random.key(3)\n",
        "x0 = random.uniform(key, shape=(4,))\n",
        "gradient = grad(objfun)\n",
        "print(gradient(x0))"
      ],
      "metadata": {
        "colab": {
          "base_uri": "https://localhost:8080/"
        },
        "id": "q_ARGpOEuTD2",
        "outputId": "5cff64fd-02e0-4fb5-f9ca-ffb59f81c7e9"
      },
      "execution_count": 47,
      "outputs": [
        {
          "output_type": "stream",
          "name": "stdout",
          "text": [
            "[-8.5316344e+04  9.4537753e-01 -7.1608758e-01 -1.1259868e+00]\n"
          ]
        }
      ]
    }
  ]
}