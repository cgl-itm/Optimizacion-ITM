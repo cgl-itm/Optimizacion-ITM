{
  "nbformat": 4,
  "nbformat_minor": 0,
  "metadata": {
    "colab": {
      "provenance": []
    },
    "kernelspec": {
      "name": "python3",
      "display_name": "Python 3"
    },
    "language_info": {
      "name": "python"
    }
  },
  "cells": [
    {
      "cell_type": "markdown",
      "source": [
        "# Laboratorio - Optimizacion Bayesiana casos de ejemplo\n"
      ],
      "metadata": {
        "id": "P30AujGzUE59"
      }
    },
    {
      "cell_type": "markdown",
      "source": [
        "El estudiante debe proponer diferentes funciones de optimizacion con el fin de evaluar el desempeño de la tenica de Optimización Bayesiana. Se pueden emplear las funciones descritas en el notebook 04."
      ],
      "metadata": {
        "id": "o3vroj7pUL89"
      }
    },
    {
      "cell_type": "markdown",
      "source": [
        "Librerias:\n",
        "* BOTorch Ejemplos: https://github.com/facebook/Ax/blob/main/tutorials/Setup_and_Usage_of_BoTorch_Models_in_Ax.ipynb\n",
        "* GPFlowOpt - https://github.com/GPflow/GPflowOpt\n",
        "* GPyOpt https://github.com/SheffieldML/GPyOpt. Ejemplos: https://nbviewer.org/github/SheffieldML/GPyOpt/blob/master/manual/GPyOpt_reference_manual.ipynb\n",
        "* Bayex https://github.com/alonfnt/bayex\n"
      ],
      "metadata": {
        "id": "wLzoAAZelwVW"
      }
    },
    {
      "cell_type": "code",
      "execution_count": null,
      "metadata": {
        "id": "pkEw3MVeUEP9"
      },
      "outputs": [],
      "source": [
        "# importar librerias necesarias\n",
        "import numpy as np"
      ]
    },
    {
      "cell_type": "code",
      "source": [
        "#definicion funciones objetivo\n",
        "def objective_function(x): \n",
        "    f = 0.5 * (x[0]**2 + 20 * x[1]**2)\n",
        "    return f\n",
        "\n",
        "def rosenbrock(x):\n",
        "    return ((x[0]-1)**2 + 100*(x[1]-x[0]**2)**2)\n",
        "\n",
        "def polynomial(x): \n",
        "    return - 1.0 / 6 * x[0]**6 + 1 / 4 *x[0]**4 + 2 * x[0]**2"
      ],
      "metadata": {
        "id": "1S0-viA3nNPL"
      },
      "execution_count": null,
      "outputs": []
    },
    {
      "cell_type": "code",
      "source": [
        "#Construir el modelo de optimizacion, donde se puede seleccionar el kernel y la funcicion de adquisicion\n",
        "#La idea es probar con diferentes kernels y funciones de adquisicion"
      ],
      "metadata": {
        "id": "YdU1GJl_nQMb"
      },
      "execution_count": null,
      "outputs": []
    },
    {
      "cell_type": "code",
      "source": [
        "#Guardar resultados de cada kernel y funcion de adquisicion para 10 diferentes valores iniciales"
      ],
      "metadata": {
        "id": "tHd_HBWDpff7"
      },
      "execution_count": null,
      "outputs": []
    },
    {
      "cell_type": "code",
      "source": [
        "#Comparar los desempeños para cada caso"
      ],
      "metadata": {
        "id": "8DmjJIVHpnbq"
      },
      "execution_count": null,
      "outputs": []
    }
  ]
}