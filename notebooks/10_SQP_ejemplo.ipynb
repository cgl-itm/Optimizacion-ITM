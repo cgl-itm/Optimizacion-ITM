{
  "nbformat": 4,
  "nbformat_minor": 0,
  "metadata": {
    "colab": {
      "provenance": []
    },
    "kernelspec": {
      "name": "python3",
      "display_name": "Python 3"
    },
    "language_info": {
      "name": "python"
    }
  },
  "cells": [
    {
      "cell_type": "markdown",
      "source": [
        "# Ejemplo solucion problema con SQP"
      ],
      "metadata": {
        "id": "nAtFLm1EvaLS"
      }
    },
    {
      "cell_type": "markdown",
      "source": [
        "En este notebook trabajaremos con libreria que soluciona problemas cuadraticos con restriciones lineales (QP): https://qpsolvers.github.io/qpsolvers/quadratic-programming.html"
      ],
      "metadata": {
        "id": "KCQj2zo0r92G"
      }
    },
    {
      "cell_type": "code",
      "source": [
        "!pip install qpsolvers"
      ],
      "metadata": {
        "colab": {
          "base_uri": "https://localhost:8080/"
        },
        "id": "aftf4cHZ_PKI",
        "outputId": "961df0a0-0da2-41e1-c5a0-a10d5a0e2e8a"
      },
      "execution_count": null,
      "outputs": [
        {
          "output_type": "stream",
          "name": "stdout",
          "text": [
            "Collecting qpsolvers\n",
            "  Downloading qpsolvers-4.0.0-py3-none-any.whl (83 kB)\n",
            "\u001b[2K     \u001b[90m━━━━━━━━━━━━━━━━━━━━━━━━━━━━━━━━━━━━━━━━\u001b[0m \u001b[32m83.6/83.6 kB\u001b[0m \u001b[31m2.0 MB/s\u001b[0m eta \u001b[36m0:00:00\u001b[0m\n",
            "\u001b[?25hCollecting daqp>=0.5.1 (from qpsolvers)\n",
            "  Downloading daqp-0.5.1-cp310-cp310-manylinux_2_17_x86_64.manylinux2014_x86_64.whl (458 kB)\n",
            "\u001b[2K     \u001b[90m━━━━━━━━━━━━━━━━━━━━━━━━━━━━━━━━━━━━━━\u001b[0m \u001b[32m459.0/459.0 kB\u001b[0m \u001b[31m19.6 MB/s\u001b[0m eta \u001b[36m0:00:00\u001b[0m\n",
            "\u001b[?25hRequirement already satisfied: ecos>=2.0.8 in /usr/local/lib/python3.10/dist-packages (from qpsolvers) (2.0.12)\n",
            "Requirement already satisfied: numpy>=1.15.4 in /usr/local/lib/python3.10/dist-packages (from qpsolvers) (1.23.5)\n",
            "Requirement already satisfied: osqp>=0.6.2 in /usr/local/lib/python3.10/dist-packages (from qpsolvers) (0.6.2.post8)\n",
            "Requirement already satisfied: scipy>=1.2.0 in /usr/local/lib/python3.10/dist-packages (from qpsolvers) (1.11.2)\n",
            "Requirement already satisfied: scs>=3.2.0 in /usr/local/lib/python3.10/dist-packages (from qpsolvers) (3.2.3)\n",
            "Requirement already satisfied: qdldl in /usr/local/lib/python3.10/dist-packages (from osqp>=0.6.2->qpsolvers) (0.1.7.post0)\n",
            "Installing collected packages: daqp, qpsolvers\n",
            "Successfully installed daqp-0.5.1 qpsolvers-4.0.0\n"
          ]
        }
      ]
    },
    {
      "cell_type": "code",
      "execution_count": null,
      "metadata": {
        "id": "8jeIMzsb8f44"
      },
      "outputs": [],
      "source": [
        "import autograd.numpy as np\n",
        "from autograd import grad, hessian\n",
        "from qpsolvers import solve_qp"
      ]
    },
    {
      "cell_type": "markdown",
      "source": [
        "Resolveremos el problema planteado en:\n",
        "https://optimization.cbe.cornell.edu/index.php?title=Sequential_quadratic_programming"
      ],
      "metadata": {
        "id": "6RGOdl7l-prw"
      }
    },
    {
      "cell_type": "markdown",
      "source": [
        "Problema original\n",
        "$$\n",
        "\\begin{array}{cl}\\underset{\\mathbf{x}}{\\operatorname{maximize}} & \\sin (x_0) \\cos (x_1)+\\cos (x_0)\\sin (x_1) \\\\ \\text { subject to } & 0 \\leq x_0+x_1 \\leq \\pi \\\\ & x_0=x_1^{3}  \n",
        "\\end{array}\n",
        "$$\n"
      ],
      "metadata": {
        "id": "5-WB9lX_CfOE"
      }
    },
    {
      "cell_type": "markdown",
      "source": [
        "Lo transformamos en el siguiente problema de minimizacion\n",
        "$$\n",
        "\\begin{array}{cl}\\underset{x}{\\operatorname{minimize}} & -\\sin (x_0) \\cos (x_1)-\\cos (x_0)\\sin (x_1) \\\\ \\text { subject to } & x_0+x_1 \\leq \\pi \\\\ & -x_0-x_1 \\leq 0 \\\\ & x_0-x_1^{3} = 0\n",
        "\\end{array}\n",
        "$$"
      ],
      "metadata": {
        "id": "FlHOVYJZTO-H"
      }
    },
    {
      "cell_type": "code",
      "source": [
        "coef = 10.0 #Ayuda a evitar el malcondicionamiento del problema\n",
        "def f(x): #Funcion Objetivo\n",
        "  xp = x[0] - np.exp(-coef*x[0])\n",
        "  return -1.0*(np.sin(xp)*np.cos(x[1])+np.cos(xp)*np.sin(x[1]))\n",
        "\n",
        "#restriccion de igualdad\n",
        "def ce(x):\n",
        "  return x[0]-x[1]**3"
      ],
      "metadata": {
        "id": "VhWaN4mm8sG3"
      },
      "execution_count": null,
      "outputs": []
    },
    {
      "cell_type": "markdown",
      "source": [
        "Construir una aproximación de segundo orden en la función objetivo y de primer orden en las restricciones, en forma de Programación Cuadrática (Quadratic Programming)"
      ],
      "metadata": {
        "id": "3bHLgyztCkaa"
      }
    },
    {
      "cell_type": "markdown",
      "source": [
        "$$\n",
        "\\begin{array}{cl}\\underset{x}{\\operatorname{minimize}} & \\frac{1}{2} \\bar{x}^{\\top} P \\bar{x}+q^{\\top} \\bar{x} \\\\ \\text { subject to } & G \\bar{x} \\leq h \\\\ & A \\bar{x}=b \\\\ & l_b \\leq \\bar{x} \\leq u_b\\end{array}\n",
        "$$"
      ],
      "metadata": {
        "id": "94TqQLgzEIIX"
      }
    },
    {
      "cell_type": "code",
      "source": [
        "#Aproximacion de segundo orden de la funcion objetivo\n",
        "P = hessian(f) #Hessiana de la funcion objetivo\n",
        "q = grad(f)    #gradiente de la funcion objetivo\n",
        "\n",
        "#Linealizacion de las restricciones\n",
        "def gci(x): #gradiente de la restriccion de desigualdad\n",
        "  return np.array([[1.0-coef*np.exp(-coef*x[0]),1.0], [-1.0,-1.0]])\n",
        "A = grad(ce)\n",
        "h = np.array([np.pi,0])"
      ],
      "metadata": {
        "id": "5SaYUiz3Cq-9"
      },
      "execution_count": null,
      "outputs": []
    },
    {
      "cell_type": "markdown",
      "source": [
        "Al evaluar las restricciones de desigualdad debemos obtejer una matriz (Jacobiano)"
      ],
      "metadata": {
        "id": "7IYgcFvTuQ4j"
      }
    },
    {
      "cell_type": "code",
      "source": [
        "gci(np.array([1.0,1.0]))"
      ],
      "metadata": {
        "colab": {
          "base_uri": "https://localhost:8080/"
        },
        "id": "D01AAsT3LP8Y",
        "outputId": "2df40614-cb5c-44c8-9566-df9fc5a5d9bd"
      },
      "execution_count": null,
      "outputs": [
        {
          "output_type": "execute_result",
          "data": {
            "text/plain": [
              "array([[ 0.999546,  1.      ],\n",
              "       [-1.      , -1.      ]])"
            ]
          },
          "metadata": {},
          "execution_count": 20
        }
      ]
    },
    {
      "cell_type": "markdown",
      "source": [
        "Construimos en cada iteracion el problema cuadratico, y vamos actualizando la solucion a partir de $x - x^{(k)} = \\bar{x}$, o sea $x  = \\bar{x} + x^{(k)} $"
      ],
      "metadata": {
        "id": "xS37OA2auqF5"
      }
    },
    {
      "cell_type": "code",
      "source": [
        "x = np.array([0.2,0.2**(1/3)])\n",
        "lambda_threshold = 0.0001\n",
        "con = 0\n",
        "while True:\n",
        "  con = con+1\n",
        "  xk = x.copy()\n",
        "  #Calculamos la Hessiana\n",
        "  H = P(xk)\n",
        "  #Valores propios de la Hessiana\n",
        "  eig = np.linalg.eigvalsh(H)\n",
        "  #Sumamos un termino en la diagonal para hacer positivos los valores propios\n",
        "  if (eig >=lambda_threshold).all() == False :\n",
        "    H += (lambda_threshold - min(eig))* np.identity(H.shape[0])\n",
        "  #Se calcula la solucion optima del problema QP\n",
        "  xbar = solve_qp(H, q(xk), gci(xk), h, A(xk), np.array([0.0]), solver=\"osqp\")\n",
        "  if np.linalg.norm(xbar)<1e-6:\n",
        "    break\n",
        "  x = x + xbar\n",
        "print(f\"Solucion QP: x = {x}, en {con} iteraciones\")"
      ],
      "metadata": {
        "colab": {
          "base_uri": "https://localhost:8080/"
        },
        "id": "_sQ29pvAEOqP",
        "outputId": "2c866151-6841-4210-fe19-c54200df4710"
      },
      "execution_count": null,
      "outputs": [
        {
          "output_type": "stream",
          "name": "stdout",
          "text": [
            "Solucion QP: x = [0.66409809 0.90800398], en 6 iteraciones\n"
          ]
        }
      ]
    },
    {
      "cell_type": "markdown",
      "source": [
        "Evaluamos la restriccion, sumamos el vector solucion el cual debe estar cercano al valor $\\frac{\\pi}{2}$"
      ],
      "metadata": {
        "id": "EIVpS3RYvSLL"
      }
    },
    {
      "cell_type": "code",
      "source": [
        "ce(x), np.sum(x), np.pi/2"
      ],
      "metadata": {
        "colab": {
          "base_uri": "https://localhost:8080/"
        },
        "id": "8x213v2WNvWz",
        "outputId": "8f76639c-c7d4-4ff6-dd18-bb87cdc1287e"
      },
      "execution_count": null,
      "outputs": [
        {
          "output_type": "execute_result",
          "data": {
            "text/plain": [
              "(-0.08452506589422637, 1.5721020724540118, 1.5707963267948966)"
            ]
          },
          "metadata": {},
          "execution_count": 22
        }
      ]
    }
  ]
}