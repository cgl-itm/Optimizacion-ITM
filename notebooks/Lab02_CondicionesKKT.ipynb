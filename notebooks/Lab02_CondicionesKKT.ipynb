{
  "cells": [
    {
      "cell_type": "markdown",
      "metadata": {
        "id": "9rUbFr81vXeB"
      },
      "source": [
        "<center><h1> Optimización </h1></center>\n",
        "<center><h2>Ejercicios - Condiciones KKT para Optimalidad </h2></center>\n",
        "Docente: Cristian Guarnizo Lemus. <br>\n",
        "Estudiante: "
      ]
    },
    {
      "cell_type": "markdown",
      "metadata": {
        "id": "aSkA5gvHvXeC"
      },
      "source": [
        "### Condiciones KKT para problemas de restricciones de igualdad\n",
        "\n",
        "Consideramos en siguiente problema\n",
        "\n",
        "$$\\begin{aligned}\n",
        "\\displaystyle \\min_{x_1,x_2} \\;\\; &x_1+x_2 \\\\\n",
        "\\mbox{s.t. } \\; &x_2=x_1 ^2-2.\n",
        "\\end{aligned}$$"
      ]
    },
    {
      "cell_type": "markdown",
      "metadata": {
        "id": "vq0QN7PFvXeC"
      },
      "source": [
        "<u>Actividad 1</u>: Reformular el problema con la nomenclatura y las formas estandar, mostradas en clase, en terminos de $f$ y $c_{i}$ "
      ]
    },
    {
      "cell_type": "markdown",
      "metadata": {
        "id": "G9KtPpWAvXeD"
      },
      "source": [
        "Describir modelo aqui en latex: $$ $$"
      ]
    },
    {
      "cell_type": "markdown",
      "metadata": {
        "id": "bfq2Q1OtvXeD"
      },
      "source": [
        "<u>Actividad 2</u>: Cuales son los gradientes de la funcion objetivo y de la function de restriccion?"
      ]
    },
    {
      "cell_type": "markdown",
      "metadata": {
        "id": "EXmIgRI4vXeE"
      },
      "source": [
        "Describir gradientes aqui en latex: $$ $$"
      ]
    },
    {
      "cell_type": "markdown",
      "metadata": {
        "id": "DWU3_L1GvXeF"
      },
      "source": [
        "<u>Actividad 3</u>: Graficar la región de factibilidad del problema de optimización  para \n",
        "$x_1 \\in [-2,2]$ y $x_2 \\in [-2,3]$; Agregar lineas de contorno de la funcion objetivo; agregar la dirección de los gradientes de la funcion objetivo y la restricción de igualdad."
      ]
    },
    {
      "cell_type": "code",
      "execution_count": null,
      "metadata": {
        "id": "Fg2wOrVAvXeF"
      },
      "outputs": [],
      "source": [
        "#Hacer codigo aqui"
      ]
    },
    {
      "cell_type": "markdown",
      "metadata": {
        "id": "E2KqyieCvXeI"
      },
      "source": [
        "<u>Actividad 4</u>: Calcule la funcion Lagrangiana para este problema de optimización. "
      ]
    },
    {
      "cell_type": "markdown",
      "metadata": {
        "id": "kQzvKOznvXeJ"
      },
      "source": [
        "Describir gradientes aqui en latex: $$ $$"
      ]
    },
    {
      "cell_type": "markdown",
      "metadata": {
        "id": "Y5-QsPtHvXeJ"
      },
      "source": [
        "<u>Actividad 5</u>: Escriba las condiciones KKT con respecto a este problema de optimización."
      ]
    },
    {
      "cell_type": "markdown",
      "metadata": {
        "id": "I8Sv-zeGvXeK"
      },
      "source": [
        "Describir gradientes aqui en latex: $$ $$\n"
      ]
    },
    {
      "cell_type": "markdown",
      "metadata": {
        "id": "SlS6cpnmvXeK"
      },
      "source": [
        "<u>Actividad 6</u>: Solucionar manualmente las condiciones KKT para $x_1$, $x_2$ y el multiplicador de Lagrange."
      ]
    },
    {
      "cell_type": "markdown",
      "metadata": {
        "id": "0cyxvnqgvXeK"
      },
      "source": [
        "Describir gradientes aqui en latex: $$ $$"
      ]
    },
    {
      "cell_type": "markdown",
      "metadata": {
        "id": "-UWu33bIvXeL"
      },
      "source": [
        "<u>Actividad 6</u>: Solucionar numericamente (con `fsolve` de scipy.optimize) las condiciones KKT para\n",
        "$x_1$, $x_2$ y el multiplicador de Lagrange."
      ]
    },
    {
      "cell_type": "code",
      "execution_count": null,
      "metadata": {
        "scrolled": true,
        "id": "SYp5EIZ_vXeL"
      },
      "outputs": [],
      "source": [
        "from scipy import optimize as opt\n",
        "import numpy as np\n",
        "\n",
        "def kkt_conditions(y):\n",
        "    conditions = np.zeros(len(y))\n",
        "    x1 = y[0]\n",
        "    x2 = y[1]\n",
        "    l = y[2]\n",
        "    \n",
        "    # agrege su codigo\n",
        "\n",
        "    return conditions\n",
        "    \n",
        "\n",
        "y0 = np.array([-1.0, -1.0, -1.0]) # valor inicial \n",
        "\n",
        "res = opt.fsolve(kkt_conditions, y0, full_output=False)\n",
        "\n",
        "print (\"x1 = {:.2f} \\nx2 = {:.2f} \\nl = {:.2f}\".format(res[0],res[1],res[2]))"
      ]
    },
    {
      "cell_type": "markdown",
      "metadata": {
        "id": "hkjWAVsKvXeM"
      },
      "source": [
        "### Condiciones KKT para problemas de desigualdad\n",
        "\n",
        "Consideramos el siguiente problema \n",
        "\n",
        "$$\\begin{aligned}\n",
        "\\displaystyle \\min_{x_1,x_2} \\quad &x_1+x_2 \\\\\n",
        "\\mbox{s.t. } \\; &x_1 \\geq -2 \\\\\n",
        "&x_2  \\geq -2\n",
        "\\end{aligned}$$"
      ]
    },
    {
      "cell_type": "markdown",
      "metadata": {
        "id": "BdKSW56TvXeM"
      },
      "source": [
        "<u>Actividad 1</u>: Reformular el problema con la nomenclatura general de las diapositivas en terminos de $f$ y $c_{i}$."
      ]
    },
    {
      "cell_type": "markdown",
      "metadata": {
        "id": "ezoj8MyNvXeM"
      },
      "source": [
        "Describir problema aqui en latex: $$ $$"
      ]
    },
    {
      "cell_type": "markdown",
      "metadata": {
        "id": "LBXEraH1vXeN"
      },
      "source": [
        "<u>Actividad 2</u>: -   Cuales son los gradiente de la funcion objetivo y de las desigualdades?"
      ]
    },
    {
      "cell_type": "markdown",
      "metadata": {
        "id": "bt2MwMQivXeN"
      },
      "source": [
        "Describir gradientes aqui en latex: $$ $$"
      ]
    },
    {
      "cell_type": "markdown",
      "metadata": {
        "id": "KO4ohp03vXeN"
      },
      "source": [
        "<u>Actividad 3</u>: -   Graficar la region factible del problema de optimizacion para  $x_1 \\in [-3,1]$ y $x_2 \\in [-3,1]$; agregar lineas de contornos para la funcion objetivo; agregar la direccion de los gradientes de la funcion objetivo y de las restricciones de desigualdad."
      ]
    },
    {
      "cell_type": "code",
      "execution_count": null,
      "metadata": {
        "id": "OeYdte4gvXeO"
      },
      "outputs": [],
      "source": [
        "#Hacer codigo aqui"
      ]
    },
    {
      "cell_type": "markdown",
      "metadata": {
        "id": "_pbv7YUbvXeO"
      },
      "source": [
        "<u>Actividad 4</u>: Describir la funcion la Lagrangiana para este problema de optimización. "
      ]
    },
    {
      "cell_type": "markdown",
      "metadata": {
        "id": "YhkR4IgKvXeO"
      },
      "source": [
        "Describir funcion aqui en latex: $\\mathcal{L}(\\mathbf{x},\\boldsymbol{\\lambda}) = $"
      ]
    },
    {
      "cell_type": "markdown",
      "metadata": {
        "id": "Md0zpgjjvXeP"
      },
      "source": [
        "<u>Actividad 5</u>: Escriba las condiciones KKT con respecto a este problema de optimización."
      ]
    },
    {
      "cell_type": "markdown",
      "metadata": {
        "id": "sxCc9LC-vXeP"
      },
      "source": [
        "Describir condiciones aqui en latex: \n",
        "$$ $$"
      ]
    },
    {
      "cell_type": "markdown",
      "metadata": {
        "id": "wkD9TM0mvXeP"
      },
      "source": [
        "<u>Actvidad 6</u>: Solucionar manualmente las condiciones KKT para $x_1$, $x_2$ y el multiplicador de Lagrange."
      ]
    },
    {
      "cell_type": "markdown",
      "metadata": {
        "id": "-Za7cML1vXeP"
      },
      "source": [
        "Describir aqui en latex: $$ $$"
      ]
    },
    {
      "cell_type": "markdown",
      "source": [
        "<u>Actvidad 7</u>: Encontrar la solucion al problema por medio de un solver (`fsolve` o `minimize` de Scipy, o `solve` de Sympy)."
      ],
      "metadata": {
        "id": "9KORdH9U4KLC"
      }
    },
    {
      "cell_type": "markdown",
      "metadata": {
        "id": "dJOBM4UHvXeQ"
      },
      "source": [
        "### Un caso degenardo\n",
        "\n",
        "Consideramos el siguiente problema de optimización \n",
        "\n",
        "$$\\begin{aligned}\n",
        "\\displaystyle \\min_{x_1,x_2} \\quad &x_1 \\\\\n",
        "\\mbox{s.t. } \\;  &x_{2} \\leq 0 \\\\\n",
        "&x_{1}^{2} - x_{2} \\leq 0\\,.\n",
        "\\end{aligned}$$"
      ]
    },
    {
      "cell_type": "markdown",
      "metadata": {
        "id": "2xdLI0QzvXeQ"
      },
      "source": [
        "<u>Actividad 1</u>: Escribir las condiciones KKT con respecto a este problema de optimización. "
      ]
    },
    {
      "cell_type": "markdown",
      "metadata": {
        "id": "LsCfS6N1vXeQ"
      },
      "source": [
        "Describir condiciones aqui en latex: $$ $$"
      ]
    },
    {
      "cell_type": "markdown",
      "metadata": {
        "id": "h351GQIUvXeQ"
      },
      "source": [
        "<u>Actividad 2</u>: Solucionar manualmente las condiciones KKT para $x_1$, $x_2$ y los multiplicadores de Lagrange."
      ]
    },
    {
      "cell_type": "markdown",
      "metadata": {
        "id": "sgZLHNbgvXeQ"
      },
      "source": [
        "Describir ecuaciones aqui en latex: $$ $$"
      ]
    },
    {
      "cell_type": "markdown",
      "metadata": {
        "id": "Lmlm1QarvXeR"
      },
      "source": [
        "<u>Actividad 3</u>: Dibujar la region de factibilidad del problema de optimizacion; agregar los contornos de la lineas de la funcion objetivo; agregar la direccion de los gradientes para la funcion objetivo y las restricciones. Donde esta el optimo?"
      ]
    },
    {
      "cell_type": "code",
      "execution_count": 1,
      "metadata": {
        "id": "h56Aq9U_vXeR"
      },
      "outputs": [],
      "source": [
        "#Hacer codigo aqui"
      ]
    },
    {
      "cell_type": "markdown",
      "metadata": {
        "id": "fvjbSdHUvXeS"
      },
      "source": [
        "Describir resultados y ecuaciones en latex: $$ $$"
      ]
    },
    {
      "cell_type": "markdown",
      "source": [
        "<u>Actvidad 4</u>: Encontrar la solución al problema por medio de un solver (`fsolve` o `minimize` de Scipy, o `solve` de Sympy)."
      ],
      "metadata": {
        "id": "1V3n-l0e4gxZ"
      }
    },
    {
      "cell_type": "code",
      "source": [
        "#Hacer codigo aqui"
      ],
      "metadata": {
        "id": "UVBBgDcn4mGI"
      },
      "execution_count": null,
      "outputs": []
    }
  ],
  "metadata": {
    "kernelspec": {
      "display_name": "Python 3 (ipykernel)",
      "language": "python",
      "name": "python3"
    },
    "language_info": {
      "codemirror_mode": {
        "name": "ipython",
        "version": 3
      },
      "file_extension": ".py",
      "mimetype": "text/x-python",
      "name": "python",
      "nbconvert_exporter": "python",
      "pygments_lexer": "ipython3",
      "version": "3.9.13"
    },
    "colab": {
      "provenance": []
    }
  },
  "nbformat": 4,
  "nbformat_minor": 0
}