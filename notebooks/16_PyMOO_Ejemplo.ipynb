{
  "nbformat": 4,
  "nbformat_minor": 0,
  "metadata": {
    "colab": {
      "provenance": []
    },
    "kernelspec": {
      "name": "python3",
      "display_name": "Python 3"
    },
    "language_info": {
      "name": "python"
    }
  },
  "cells": [
    {
      "cell_type": "code",
      "execution_count": 1,
      "metadata": {
        "colab": {
          "base_uri": "https://localhost:8080/"
        },
        "id": "M_TT_F6kb01k",
        "outputId": "48be48be-8b9f-4c68-ec23-dedfbba8ddf7"
      },
      "outputs": [
        {
          "output_type": "stream",
          "name": "stdout",
          "text": [
            "Requirement already satisfied: pymoo in /usr/local/lib/python3.11/dist-packages (0.6.1.3)\n",
            "Requirement already satisfied: numpy>=1.15 in /usr/local/lib/python3.11/dist-packages (from pymoo) (2.0.2)\n",
            "Requirement already satisfied: scipy>=1.1 in /usr/local/lib/python3.11/dist-packages (from pymoo) (1.15.3)\n",
            "Requirement already satisfied: matplotlib>=3 in /usr/local/lib/python3.11/dist-packages (from pymoo) (3.10.0)\n",
            "Requirement already satisfied: autograd>=1.4 in /usr/local/lib/python3.11/dist-packages (from pymoo) (1.8.0)\n",
            "Requirement already satisfied: cma==3.2.2 in /usr/local/lib/python3.11/dist-packages (from pymoo) (3.2.2)\n",
            "Requirement already satisfied: alive-progress in /usr/local/lib/python3.11/dist-packages (from pymoo) (3.2.0)\n",
            "Requirement already satisfied: dill in /usr/local/lib/python3.11/dist-packages (from pymoo) (0.3.7)\n",
            "Requirement already satisfied: Deprecated in /usr/local/lib/python3.11/dist-packages (from pymoo) (1.2.18)\n",
            "Requirement already satisfied: contourpy>=1.0.1 in /usr/local/lib/python3.11/dist-packages (from matplotlib>=3->pymoo) (1.3.2)\n",
            "Requirement already satisfied: cycler>=0.10 in /usr/local/lib/python3.11/dist-packages (from matplotlib>=3->pymoo) (0.12.1)\n",
            "Requirement already satisfied: fonttools>=4.22.0 in /usr/local/lib/python3.11/dist-packages (from matplotlib>=3->pymoo) (4.58.0)\n",
            "Requirement already satisfied: kiwisolver>=1.3.1 in /usr/local/lib/python3.11/dist-packages (from matplotlib>=3->pymoo) (1.4.8)\n",
            "Requirement already satisfied: packaging>=20.0 in /usr/local/lib/python3.11/dist-packages (from matplotlib>=3->pymoo) (24.2)\n",
            "Requirement already satisfied: pillow>=8 in /usr/local/lib/python3.11/dist-packages (from matplotlib>=3->pymoo) (11.2.1)\n",
            "Requirement already satisfied: pyparsing>=2.3.1 in /usr/local/lib/python3.11/dist-packages (from matplotlib>=3->pymoo) (3.2.3)\n",
            "Requirement already satisfied: python-dateutil>=2.7 in /usr/local/lib/python3.11/dist-packages (from matplotlib>=3->pymoo) (2.9.0.post0)\n",
            "Requirement already satisfied: about-time==4.2.1 in /usr/local/lib/python3.11/dist-packages (from alive-progress->pymoo) (4.2.1)\n",
            "Requirement already satisfied: grapheme==0.6.0 in /usr/local/lib/python3.11/dist-packages (from alive-progress->pymoo) (0.6.0)\n",
            "Requirement already satisfied: wrapt<2,>=1.10 in /usr/local/lib/python3.11/dist-packages (from Deprecated->pymoo) (1.17.2)\n",
            "Requirement already satisfied: six>=1.5 in /usr/local/lib/python3.11/dist-packages (from python-dateutil>=2.7->matplotlib>=3->pymoo) (1.17.0)\n"
          ]
        }
      ],
      "source": [
        "!pip install pymoo"
      ]
    },
    {
      "cell_type": "markdown",
      "source": [
        "$$ \\min f_1(\\mathbf{x}) = x_1^2+x_2^2+x_3^2 \\\\\n",
        "\\max f_2(\\mathbf{x}) = -(x_1-1)^2-(x_2-4)^2-(x_3-3)^2\\\\\n",
        "\\text{s.t.}\\\\\n",
        "g_1(\\mathbf{x}) = x_1+x_2-x_3 \\leq 1\\\\\n",
        "g_2(\\mathbf{x}) = 3x_1-x_2-x_3 \\geq 4\\\\\n",
        "-10\\leq x_i \\leq 10 \\quad \\forall i\n",
        "$$"
      ],
      "metadata": {
        "id": "Kj_kVm7Jb5SD"
      }
    },
    {
      "cell_type": "markdown",
      "source": [
        "# Codificacion de la clase en Python\n",
        "\n",
        "La libreria PyMOO requiere que el problema de optimizacion sea definido por medio de una clase de Python."
      ],
      "metadata": {
        "id": "HCiyzxKktmQs"
      }
    },
    {
      "cell_type": "code",
      "source": [
        "import numpy as np\n",
        "from pymoo.core.problem import ElementwiseProblem"
      ],
      "metadata": {
        "id": "3s7KGTU9b47y"
      },
      "execution_count": 2,
      "outputs": []
    },
    {
      "cell_type": "code",
      "source": [
        "class MyProblem(ElementwiseProblem):\n",
        "\n",
        "    def __init__(self):\n",
        "        super().__init__(n_var=2,\n",
        "                         n_obj=2,\n",
        "                         n_ieq_constr=2,\n",
        "                         xl=np.array([-2,-2]),\n",
        "                         xu=np.array([2,2]))\n",
        "\n",
        "    def _evaluate(self, x, out, *args, **kwargs):\n",
        "        f1 = 100 * (x[0]**2 + x[1]**2)\n",
        "        f2 = (x[0]-1)**2 + x[1]**2\n",
        "\n",
        "        g1 = 2*(x[0]-0.1) * (x[0]-0.9) / 0.18\n",
        "        g2 = - 20*(x[0]-0.4) * (x[0]-0.6) / 4.8\n",
        "\n",
        "        out[\"F\"] = [f1, f2]\n",
        "        out[\"G\"] = [g1, g2]\n",
        "\n",
        "\n",
        "problem = MyProblem()"
      ],
      "metadata": {
        "id": "S-UFdGFViExE"
      },
      "execution_count": 3,
      "outputs": []
    },
    {
      "cell_type": "markdown",
      "source": [
        "* Si desea conocer los algoritmos implementados en la libreria PyMOO, ver https://pymoo.org/algorithms/list.html\n",
        "* Para este ejemplo usaremos Non-dominated Sorting Genetic Algorithm (NSGA-II). https://pymoo.org/algorithms/moo/nsga2.html"
      ],
      "metadata": {
        "id": "_YAZSZfnwjux"
      }
    },
    {
      "cell_type": "markdown",
      "source": [
        "# Inicializar el algoritmo\n",
        "Importamos las funciones que se emplearan para construir el algoritmo de optimización."
      ],
      "metadata": {
        "id": "YkNdM1uYv_Gp"
      }
    },
    {
      "cell_type": "code",
      "source": [
        "from pymoo.algorithms.moo.nsga2 import NSGA2\n",
        "from pymoo.operators.crossover.sbx import SBX\n",
        "from pymoo.operators.mutation.pm import PM\n",
        "from pymoo.operators.sampling.rnd import FloatRandomSampling"
      ],
      "metadata": {
        "id": "yTltRTYcv-Rk"
      },
      "execution_count": 4,
      "outputs": []
    },
    {
      "cell_type": "markdown",
      "source": [
        "Definimos el algoritmo NSGA2"
      ],
      "metadata": {
        "id": "I1TTUwXjoozx"
      }
    },
    {
      "cell_type": "code",
      "source": [
        "algorithm = NSGA2(\n",
        "    pop_size=40,\n",
        "    n_offsprings=10,\n",
        "    sampling=FloatRandomSampling(),\n",
        "    crossover=SBX(prob=0.9, eta=15),\n",
        "    mutation=PM(eta=20),\n",
        "    eliminate_duplicates=True\n",
        ")"
      ],
      "metadata": {
        "id": "Ug2CtqQ2xA__"
      },
      "execution_count": 5,
      "outputs": []
    },
    {
      "cell_type": "markdown",
      "source": [
        "Tambien debemos definir el criterio de parada del algoritmo, para este ejemplo usamos la cantidad de generaciones (iteraciones)"
      ],
      "metadata": {
        "id": "RCe6kIkLoWtC"
      }
    },
    {
      "cell_type": "code",
      "source": [
        "from pymoo.termination import get_termination\n",
        "termination = get_termination(\"n_gen\",40)"
      ],
      "metadata": {
        "id": "QO16PRmt5kMt"
      },
      "execution_count": 6,
      "outputs": []
    },
    {
      "cell_type": "markdown",
      "source": [
        "# Proceso de optimización\n",
        "\n"
      ],
      "metadata": {
        "id": "Du_WGYw76nwa"
      }
    },
    {
      "cell_type": "code",
      "source": [
        "from pymoo.optimize import minimize\n",
        "\n",
        "res = minimize(problem,\n",
        "               algorithm,\n",
        "               termination,\n",
        "               seed = 1,\n",
        "               save_history=True,\n",
        "               verbose = True)\n",
        "X = res.X\n",
        "F = res.F"
      ],
      "metadata": {
        "colab": {
          "base_uri": "https://localhost:8080/"
        },
        "id": "Z0HBxcNQ6jGP",
        "outputId": "71c410b2-fc88-4f0c-ed1e-8e2cd61d43fc"
      },
      "execution_count": 7,
      "outputs": [
        {
          "output_type": "stream",
          "name": "stdout",
          "text": [
            "==========================================================================================\n",
            "n_gen  |  n_eval  | n_nds  |     cv_min    |     cv_avg    |      eps      |   indicator  \n",
            "==========================================================================================\n",
            "     1 |       40 |      1 |  0.000000E+00 |  2.363992E+01 |             - |             -\n",
            "     2 |       50 |      1 |  0.000000E+00 |  1.239636E+01 |  0.000000E+00 |             f\n",
            "     3 |       60 |      2 |  0.000000E+00 |  5.4620972973 |  1.0000000000 |         ideal\n",
            "     4 |       70 |      2 |  0.000000E+00 |  2.3938570636 |  0.000000E+00 |             f\n",
            "     5 |       80 |      2 |  0.000000E+00 |  1.1200787779 |  0.000000E+00 |             f\n",
            "     6 |       90 |      3 |  0.000000E+00 |  0.1858089725 |  0.1785481247 |             f\n",
            "     7 |      100 |      4 |  0.000000E+00 |  0.0096392745 |  0.0639961700 |         ideal\n",
            "     8 |      110 |      6 |  0.000000E+00 |  0.0016302512 |  0.0912676400 |         ideal\n",
            "     9 |      120 |      7 |  0.000000E+00 |  0.000000E+00 |  0.0246228920 |             f\n",
            "    10 |      130 |      6 |  0.000000E+00 |  0.000000E+00 |  0.1055074321 |         ideal\n",
            "    11 |      140 |     10 |  0.000000E+00 |  0.000000E+00 |  0.0468515841 |         ideal\n",
            "    12 |      150 |     11 |  0.000000E+00 |  0.000000E+00 |  0.0002139676 |             f\n",
            "    13 |      160 |     13 |  0.000000E+00 |  0.000000E+00 |  0.0085396994 |             f\n",
            "    14 |      170 |     13 |  0.000000E+00 |  0.000000E+00 |  0.0007679447 |             f\n",
            "    15 |      180 |     16 |  0.000000E+00 |  0.000000E+00 |  0.0149501470 |         ideal\n",
            "    16 |      190 |     17 |  0.000000E+00 |  0.000000E+00 |  0.0015137672 |             f\n",
            "    17 |      200 |     16 |  0.000000E+00 |  0.000000E+00 |  0.0022230891 |             f\n",
            "    18 |      210 |     18 |  0.000000E+00 |  0.000000E+00 |  0.0120711978 |         ideal\n",
            "    19 |      220 |     21 |  0.000000E+00 |  0.000000E+00 |  0.0492216474 |         ideal\n",
            "    20 |      230 |     23 |  0.000000E+00 |  0.000000E+00 |  0.0029637471 |             f\n",
            "    21 |      240 |     28 |  0.000000E+00 |  0.000000E+00 |  0.0007300144 |             f\n",
            "    22 |      250 |     30 |  0.000000E+00 |  0.000000E+00 |  0.0182337161 |         ideal\n",
            "    23 |      260 |     32 |  0.000000E+00 |  0.000000E+00 |  0.0050214716 |         ideal\n",
            "    24 |      270 |     36 |  0.000000E+00 |  0.000000E+00 |  0.0008817206 |             f\n",
            "    25 |      280 |     35 |  0.000000E+00 |  0.000000E+00 |  0.0237464600 |         ideal\n",
            "    26 |      290 |     37 |  0.000000E+00 |  0.000000E+00 |  0.0005199350 |             f\n",
            "    27 |      300 |     40 |  0.000000E+00 |  0.000000E+00 |  0.0011140095 |             f\n",
            "    28 |      310 |     40 |  0.000000E+00 |  0.000000E+00 |  0.0017820679 |             f\n",
            "    29 |      320 |     40 |  0.000000E+00 |  0.000000E+00 |  0.0030757344 |             f\n",
            "    30 |      330 |     40 |  0.000000E+00 |  0.000000E+00 |  0.0013472093 |             f\n",
            "    31 |      340 |     40 |  0.000000E+00 |  0.000000E+00 |  0.0019533907 |             f\n",
            "    32 |      350 |     40 |  0.000000E+00 |  0.000000E+00 |  0.0027776181 |             f\n",
            "    33 |      360 |     40 |  0.000000E+00 |  0.000000E+00 |  0.0013913713 |             f\n",
            "    34 |      370 |     40 |  0.000000E+00 |  0.000000E+00 |  0.0013913713 |             f\n",
            "    35 |      380 |     40 |  0.000000E+00 |  0.000000E+00 |  0.0018933167 |             f\n",
            "    36 |      390 |     40 |  0.000000E+00 |  0.000000E+00 |  0.0031073408 |             f\n",
            "    37 |      400 |     40 |  0.000000E+00 |  0.000000E+00 |  0.0007522154 |             f\n",
            "    38 |      410 |     40 |  0.000000E+00 |  0.000000E+00 |  0.0006017782 |             f\n",
            "    39 |      420 |     40 |  0.000000E+00 |  0.000000E+00 |  0.0016526966 |             f\n",
            "    40 |      430 |     40 |  0.000000E+00 |  0.000000E+00 |  0.0020783476 |             f\n"
          ]
        }
      ]
    },
    {
      "cell_type": "code",
      "source": [
        "from pymoo.visualization.scatter import Scatter\n",
        "\n",
        "plot = Scatter(title = \"Three Variables Solutions\")\n",
        "plot.add(res.F, color = \"green\")\n",
        "plot.show()"
      ],
      "metadata": {
        "colab": {
          "base_uri": "https://localhost:8080/",
          "height": 585
        },
        "id": "kxGBInUFO4gy",
        "outputId": "8fccba33-68b4-4e15-8a21-898c387691a0"
      },
      "execution_count": 8,
      "outputs": [
        {
          "output_type": "execute_result",
          "data": {
            "text/plain": [
              "<pymoo.visualization.scatter.Scatter at 0x7ef1b8a8d490>"
            ]
          },
          "metadata": {},
          "execution_count": 8
        },
        {
          "output_type": "display_data",
          "data": {
            "text/plain": [
              "<Figure size 800x600 with 1 Axes>"
            ],
            "image/png": "[encoded data removed]"
          },
          "metadata": {}
        }
      ]
    }
  ]
}