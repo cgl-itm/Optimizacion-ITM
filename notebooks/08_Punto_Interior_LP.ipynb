{
  "cells": [
    {
      "cell_type": "markdown",
      "source": [
        "# Punto Interior"
      ],
      "metadata": {
        "id": "9WDIs__fJXXx"
      }
    },
    {
      "cell_type": "markdown",
      "metadata": {
        "id": "0OAhVGQIZxAx"
      },
      "source": [
        "Considere el siguiente problema de optimización:\n",
        "\n",
        "\\begin{align*}\n",
        "\t\t\\min_{x_1,x_2} x_1 + x_2 \\\\\n",
        "\t\t\\mbox{s.t. } x_1 \\geq -1 \\\\\n",
        "\t\t\t\t\t\t\t\t x_2 \\geq -1 \\\\\n",
        "\\end{align*}\n",
        "\n",
        "Empezamos dibujando la region de factibilidad para este problema y las lineas de contorno de la función objetivo. Donde esta la solución optima?"
      ]
    },
    {
      "cell_type": "code",
      "execution_count": 9,
      "metadata": {
        "id": "dybymXmfZxAy",
        "outputId": "e0c5806b-3e52-4117-fa5e-e0bdeaf074fe",
        "colab": {
          "base_uri": "https://localhost:8080/",
          "height": 455
        }
      },
      "outputs": [
        {
          "output_type": "display_data",
          "data": {
            "text/plain": [
              "<Figure size 640x480 with 1 Axes>"
            ],
            "image/png": "[encoded data removed]"
          },
          "metadata": {}
        }
      ],
      "source": [
        "import numpy as np\n",
        "import matplotlib.pyplot as plt\n",
        "\n",
        "# graficar region factible\n",
        "d = np.linspace(-3,5,300)\n",
        "x,y = np.meshgrid(d,d)\n",
        "plt.imshow(((x>=-1) & (y>=-1)).astype(int) ,\n",
        "                extent=(x.min(),x.max(),y.min(),y.max()),origin=\"lower\", cmap=\"Greys\", alpha = 0.3);\n",
        "\n",
        "\n",
        "# graficar las lineas que defienen las restricciones\n",
        "x = np.linspace(-3, 5, 500)\n",
        "y = np.linspace(-3, 5, 500)\n",
        "\n",
        "xl = np.linspace(0, 4, 500)\n",
        "\n",
        "# Hacer grafico\n",
        "plt.plot(-1*np.ones_like(y), y, label=r'$x1=-1$')\n",
        "plt.plot(x, -1*np.ones_like(x), label=r'$x2=-1$')\n",
        "plt.plot(0*np.ones_like(y), y, label=r'$x1=0$')\n",
        "plt.plot(x, 0*np.ones_like(x), label=r'$x2=0$')\n",
        "\n",
        "plt.plot(-1, -1, '-o', label=r'minimo')\n",
        "for i in range(2,5):\n",
        "    plt.plot(xl, i-xl, '--')\n",
        "plt.xlim(-3,5)\n",
        "plt.ylim(-3,5)\n",
        "plt.legend(bbox_to_anchor=(1.05, 1), loc=2, borderaxespad=0.)\n",
        "plt.xlabel(r'$x1$')\n",
        "plt.ylabel(r'$x2$')\n",
        "plt.show()"
      ]
    },
    {
      "cell_type": "markdown",
      "metadata": {
        "id": "u7UYGxLsZxA2"
      },
      "source": [
        "Ahora definimos la funcion Lagrangiana, $L (x_1, x_2, \\lambda_1, \\lambda_2)$.\n",
        "<br>\n",
        "<br>\n",
        "Debido que tenemos 2 restricciones, necesitamos dos multiplicadores de Lagrange $\\lambda_1$ y $\\lambda_2$.\n",
        "<br>\n",
        "$$L (x_1, x_2, \\lambda_1, \\lambda_2) = x_1 + x_2 - \\lambda_1 (x_1 + 1) - \\lambda_2 (x_2 + 1)$$\n",
        "    \n",
        "\\begin{align}\n",
        "\\nabla_\\mathbf x L  =  \\left[\\begin{array}{c} 1-\\lambda_1 \\\\ 1-\\lambda_2 \\\\ \\end{array}\\right] &= \\left[\\begin{array}{c} 0  \\\\ 0  \\\\ \\end{array}\\right] \\\\\n",
        "x_1 + 1 & \\geq  0  \\\\\n",
        "x_2 + 1 & \\geq  0 \\\\\n",
        "\\lambda_1, \\lambda_2 & \\geq  0 \\\\\n",
        "\\lambda_1 \\left( x_1 + 1 \\right) & =  0 \\\\\n",
        "\\lambda_2 \\left( x_2 + 1 \\right) & =  0\n",
        "\\end{align}\n",
        "\n",
        "Notese que aunque nuestro problema origianl es un LP, el sistema de ecuaciones KKT es no lineal. Esto debido al producto de los lambdas y los $x$ en las dos ultimas ecuaciones, que corresponden a la holgura complementaria."
      ]
    },
    {
      "cell_type": "markdown",
      "metadata": {
        "id": "k2IAxaFHZxA3"
      },
      "source": [
        "Transformamos las desigualdades del sistema de ecuaciones no-lineales resulante, en igualdades por medio de la introduccion de variables de holgura.\n",
        "\n",
        "Introducimos dos variables de holgura  $s_1 \\geq 0$ y $s_2 \\geq 0$, las desigualdades, $x_1 \\geq -1$ y $x_2 \\geq -1$, pueden ser transformadas en igualdades.\n",
        "<br>\n",
        "Entonces, definimos $s_1 = x_1 + 1$ y $s_2 = x_2 + 1$. Entonces, las condiciones KKT pueden ser reescritas como:\n",
        "    \n",
        "\\begin{align}\n",
        "\\nabla_\\mathbf{x} L  =  \\left[\\begin{array}{c} 1-\\lambda_1 \\\\ 1-\\lambda_2 \\\\ \\end{array}\\right] &= \\left[\\begin{array}{c} 0  \\\\ 0  \\\\ \\end{array}\\right] \\\\\n",
        "x_1 + 1 - s_1 & =  0 \\\\\n",
        "x_2 + 1 - s_2 & =  0 \\\\\n",
        "\\qquad s_1, s_2 & \\geq  0 \\\\\n",
        "\\lambda_1, \\lambda_2 & \\geq  0 \\\\\n",
        "\\lambda_1 s_1 & =  0 \\\\\n",
        "\\lambda_2 s_2 & =  0\n",
        "\\end{align}   \n"
      ]
    },
    {
      "cell_type": "markdown",
      "metadata": {
        "id": "2PwBA5u1ZxA4"
      },
      "source": [
        "La idea general de los metodos de punto interior es aplicar el metodo de Newton (para encontrar raices) y solucionar (de manera aproximada) las condiciones KKT."
      ]
    },
    {
      "cell_type": "markdown",
      "metadata": {
        "id": "CkyRnpr7ZxA5"
      },
      "source": [
        "Cuando aplicamos el metodo de Newton a las ecuaciones mencionadas arriba, vemos que las convergencia es muy lenta. La razon para esto son las restricciones complementarias. Entonces, estas equaciones son aproximadas por un parametro positivo $\\tau >0$.\n",
        "$$\n",
        "\t\t\\lambda_1 s_1 =  \\tau\\quad (1)\\\\\n",
        "\t\t\\lambda_2 s_2 =  \\tau\\quad (2)\n",
        "$$\n",
        "<br>\n",
        "El conjunto factible de las restricciones complementarias ahora lucen como:   \n",
        "<img src=\"https://raw.githubusercontent.com/cgl-itm/Optimizacion-ITM/main/notebooks/figuras/HU83.png\" width=\"400\">\n"
      ]
    },
    {
      "cell_type": "markdown",
      "metadata": {
        "id": "UomDc5BTZxA6"
      },
      "source": [
        "Solucionar el sistema de ecuaciones no lineales de manera analitica:\n",
        "\n",
        "Desde la estacionariedad, sabemos que $\\lambda_1=1$ y $\\lambda_2=1$.\n",
        "<br>\n",
        "De las condiciones complementarias modificadas, sabes que $s_1= \\frac{\\tau}{\\lambda_1}$ y $s_1 = \\frac{\\tau}{\\lambda_2}$.\n",
        "<br>\n",
        "De las restricciones de igualdad, podemos calcular $x_1$ y $x_2$ como $x_1 = \\frac{\\tau}{\\lambda_1}-1$ y $x_2 = \\frac{\\tau}{\\lambda_2}-1$.\n"
      ]
    },
    {
      "cell_type": "markdown",
      "metadata": {
        "id": "y5sOFfSEZxA6"
      },
      "source": [
        "Dibujar el camino central en el dominio de $x_1$ y $x_2$ para diferentes valores de $\\tau$:\n",
        "\n",
        "Para $\\tau \\rightarrow 0$, la solucion se mueve a la solucion del problema original.\n",
        "<br>\n",
        "$x_1 = \\frac{\\tau}{\\lambda_1}-1$ y $x_2 = \\frac{\\tau}{\\lambda_2}-1$\n",
        "<br>\n",
        "$\\lambda_1=1$ y $\\lambda_2=1$    \n",
        "<img src=\"https://raw.githubusercontent.com/cgl-itm/Optimizacion-ITM/main/notebooks/figuras/HU84.png\" width=\"400\">\n"
      ]
    },
    {
      "cell_type": "markdown",
      "metadata": {
        "id": "2zfHlOefZxA7"
      },
      "source": [
        "Dibujar el conjunto de factibilidad de las restricciones complementarias para diferentes valores de $\\tau$:\n",
        "\n",
        "Para $\\tau \\rightarrow 0$, la solución se mueve al limite izquierdo del conjunto factible.\n",
        "<img src=\"https://raw.githubusercontent.com/cgl-itm/Optimizacion-ITM/main/notebooks/figuras/HU85.png\" width=\"400\">    \n",
        "</details>"
      ]
    },
    {
      "cell_type": "markdown",
      "metadata": {
        "id": "0PSfkY11ZxA7"
      },
      "source": [
        "Escribir el paso de Newton para solucionar las condiciones KKT aproximadas:\n",
        "<br>\n",
        "Tipicamente, el sistema de ecuaciones es muy complejo o imposible de solucionar analiticamente. Entonces, queremos solucionarlo usando el metodo de Newton (para determinar raices).\n",
        "<br>\n",
        "<br>\n",
        "Un paso del metodo de Newton se puede escribir como:\n",
        "$$\\mathbf x^{k+1} = \\mathbf x^k - \\frac{f(\\mathbf x^k)}{f'(\\mathbf x^k)} $$\n",
        "<br>\n",
        "$$\\implies \\delta \\mathbf x^k = - \\frac{f(\\mathbf x^k)}{f'(\\mathbf x^k)} $$\n",
        "<br>\n",
        "$$\\implies f'(\\mathbf x^k) \\, \\delta \\mathbf x^k = - f(\\mathbf x^k)$$\n",
        "    \n",
        "donde, solucionamos para $\\delta \\mathbf x^k$ para movernos a la siguiente iteración.<br>\n",
        "<br>\n",
        "Sí $||\\delta \\mathbf x_k|| \\lt \\epsilon$ para un pequeño $\\epsilon$, esto es,\n",
        "dos iteraciones consecutivas esta suficienteme cerca, el algoritmo de Newton para y retorna $x_{k+1}$ como la raiz.\n",
        "<br>\n",
        "<br>\n",
        "Ahora, queremos aplicar el paso de Newton a nuestro sistema. Las variables, que queremos determinar, son $x_1, x_2, \\lambda_1, \\lambda_2, s_1$ y $s_2$.\n",
        "<br>\n",
        "<br>\n",
        "Definimos:\n",
        "<br>\n",
        "$\\delta x_{1,k} = x_{1,k+1}-x_{1,k}$,\n",
        "<br>    \n",
        "$\\delta x_{2,k} = x_{2,k+1}-x_{2,k}$,\n",
        "<br>    \n",
        "$\\delta \\lambda_{1,k} = \\lambda_{1,k+1}-\\lambda_{1,k}$,\n",
        "<br>    \n",
        "$\\delta \\lambda_{2,k} = \\lambda_{2,k+1}-\\lambda_{2,k}$,\n",
        "<br>    \n",
        "$\\delta s_{1,k} = s_{1,k+1}-s_{1,k}$ and\n",
        "<br>    \n",
        "$\\delta s_{2,k} = s_{2,k+1}-s_{2,k}$.\n",
        "<br>\n",
        "<br>\n",
        "Entonces escribimos la $k$-ésima iteración como:\n",
        "<br>\n",
        "$$\\left[\\begin{array}{cccccc}\n",
        "    0 & 0 &     0     &     0     & -1  &  0  \\\\\n",
        "    0 & 0 &     0     &     0     &  0  & -1  \\\\\n",
        "    1 & 0 &    -1     &     0     &  0  &  0  \\\\\n",
        "    0 & 1 &     0     &     0     & -1  &  0  \\\\\n",
        "    0 & 0 & \\lambda_1 &     0     & s_1 &  0  \\\\\n",
        "    0 & 0 &     0     & \\lambda_2 &  0  & s_2\n",
        "\\end{array}\\right]\n",
        "\\cdot \\left[\\begin{array}{c}\n",
        "\\delta x_{1,k}\\\\\n",
        "\\delta x_{2,k}\\\\\n",
        "\\delta s_{1,k}\\\\\n",
        "\\delta s_{2,k}\\\\\n",
        "\\delta \\lambda_{1,k}\\\\\n",
        "\\delta \\lambda_{2,k}\\\\\n",
        "\\end{array}\\right] =\n",
        "- \\left[\\begin{array}{c}\n",
        "1-\\lambda_1\\\\\n",
        "1-\\lambda_2\\\\\n",
        "x_1 + 1 - s_1\\\\\n",
        "x_2 + 1 - s_2\\\\\n",
        "\\lambda_1 s_1\\\\\n",
        "\\lambda_2 s_2\\\\\n",
        "\\end{array}\\right]\n",
        "+ \\left[\\begin{array}{c}\n",
        "0\\\\\n",
        "0\\\\\n",
        "0\\\\\n",
        "0\\\\\n",
        "\\tau\\\\\n",
        "\\tau\\\\\n",
        "\\end{array}\\right]$$\n",
        "<br>\n",
        "Notese, que este es siemplere un sistema lineal de ecuaciones, aunque la funcion original $f$ es no lineal.    \n",
        "</details>"
      ]
    },
    {
      "cell_type": "markdown",
      "metadata": {
        "id": "KPa5A3E5ZxA8"
      },
      "source": [
        "Solucionaremos este sistema usando el siguiente codigo de Python."
      ]
    },
    {
      "cell_type": "code",
      "execution_count": 10,
      "metadata": {
        "id": "ZTqnRJIqZxA8"
      },
      "outputs": [],
      "source": [
        "import autograd\n",
        "import autograd.numpy as np\n",
        "\n",
        "# RHS of linear system\n",
        "def F(Z, tau):\n",
        "    x1 = Z[0]\n",
        "    x2 = Z[1]\n",
        "    s1 = Z[2]\n",
        "    s2 = Z[3]\n",
        "    l1 = Z[4]\n",
        "    l2 = Z[5]\n",
        "    F = np.array([1-l1,\n",
        "         1-l2,\n",
        "         x1+1-s1,\n",
        "         x2+1-s2,\n",
        "         l1*s1 - tau,\n",
        "         l2*s2 - tau])\n",
        "    return F"
      ]
    },
    {
      "cell_type": "markdown",
      "metadata": {
        "id": "umH6o2cWZxA8"
      },
      "source": [
        "Tipicamente, es muy dificil encontrar un punto inicial estrictamente factible. Aqui, podemos seleccionar un punto aleatorio porque el problema es muy pequeño."
      ]
    },
    {
      "cell_type": "code",
      "execution_count": 11,
      "metadata": {
        "id": "7MgM3OtxZxA9"
      },
      "outputs": [],
      "source": [
        " def solve(tau):\n",
        "\n",
        "    # punto inicial para el problema original\n",
        "    Z = np.ones(6)\n",
        "\n",
        "    # punto inigial Metodo de Newton\n",
        "    deltaZ = np.ones(6)\n",
        "\n",
        "    # tolerancia de la convergencia\n",
        "    tol = 1e-5\n",
        "\n",
        "    # f_prime\n",
        "    jac = autograd.jacobian(F, 0)\n",
        "\n",
        "    it=0\n",
        "\n",
        "    while np.linalg.norm(deltaZ) > tol:\n",
        "        it=it+1\n",
        "\n",
        "        f_prime = jac(Z,tau)\n",
        "        f = F(Z,tau)\n",
        "\n",
        "        # solucionar el sistema lineal de ecuaciones\n",
        "        deltaZ = np.linalg.solve(f_prime, -f)\n",
        "\n",
        "        Z = Z + deltaZ\n",
        "\n",
        "    return Z, it"
      ]
    },
    {
      "cell_type": "code",
      "execution_count": 12,
      "metadata": {
        "scrolled": false,
        "id": "jU17QZnQZxA9",
        "outputId": "a096e6f6-615b-4a7c-d785-d79f825cbe8e",
        "colab": {
          "base_uri": "https://localhost:8080/"
        }
      },
      "outputs": [
        {
          "output_type": "stream",
          "name": "stdout",
          "text": [
            "tau        minimo                  iter   \n",
            "1.0        [ 0.0000 ,  0.0000 ]      2                   \n",
            "0.5        [-0.5000 , -0.5000 ]      2                   \n",
            "0.25       [-0.7500 , -0.7500 ]      2                   \n",
            "0.125      [-0.8750 , -0.8750 ]      2                   \n",
            "0.01       [-0.9900 , -0.9900 ]      2                   \n",
            "0.001      [-0.9990 , -0.9990 ]      2                   \n",
            "1e-05      [-1.0000 , -1.0000 ]      2                   \n"
          ]
        }
      ],
      "source": [
        "# lista con diferentes valores de tau\n",
        "tau = [1.0, 0.5, 0.25, 0.125, 1e-2, 1e-3, 1e-5]\n",
        "print(\"{:<10} {:<20} {:^10}\".format('tau','minimo','iter'))\n",
        "for itau in tau:\n",
        "    Zopt, it = solve(itau)\n",
        "    print (\"{:<10} [{:^8.4f}, {:^8.4f}] {:<4} {:<20d}\".format(itau,Zopt[0],Zopt[1],' ',it))"
      ]
    }
  ],
  "metadata": {
    "kernelspec": {
      "display_name": "Python 3",
      "language": "python",
      "name": "python3"
    },
    "language_info": {
      "codemirror_mode": {
        "name": "ipython",
        "version": 3
      },
      "file_extension": ".py",
      "mimetype": "text/x-python",
      "name": "python",
      "nbconvert_exporter": "python",
      "pygments_lexer": "ipython3",
      "version": "3.8.8"
    },
    "colab": {
      "provenance": []
    }
  },
  "nbformat": 4,
  "nbformat_minor": 0
}