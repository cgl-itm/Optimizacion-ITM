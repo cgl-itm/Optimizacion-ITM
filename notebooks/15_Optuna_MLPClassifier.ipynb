{
  "nbformat": 4,
  "nbformat_minor": 0,
  "metadata": {
    "colab": {
      "provenance": []
    },
    "kernelspec": {
      "name": "python3",
      "display_name": "Python 3"
    },
    "language_info": {
      "name": "python"
    }
  },
  "cells": [
    {
      "cell_type": "code",
      "source": [
        "!pip install optuna"
      ],
      "metadata": {
        "colab": {
          "base_uri": "https://localhost:8080/"
        },
        "id": "ULRo81fh6rMY",
        "outputId": "9c0081b9-3d3f-4332-8875-a30c341973f6"
      },
      "execution_count": null,
      "outputs": [
        {
          "output_type": "stream",
          "name": "stdout",
          "text": [
            "Collecting optuna\n",
            "  Downloading optuna-3.4.0-py3-none-any.whl (409 kB)\n",
            "\u001b[2K     \u001b[90m━━━━━━━━━━━━━━━━━━━━━━━━━━━━━━━━━━━━━━━━\u001b[0m \u001b[32m409.6/409.6 kB\u001b[0m \u001b[31m6.3 MB/s\u001b[0m eta \u001b[36m0:00:00\u001b[0m\n",
            "\u001b[?25hCollecting alembic>=1.5.0 (from optuna)\n",
            "  Downloading alembic-1.12.1-py3-none-any.whl (226 kB)\n",
            "\u001b[2K     \u001b[90m━━━━━━━━━━━━━━━━━━━━━━━━━━━━━━━━━━━━━━━━\u001b[0m \u001b[32m226.8/226.8 kB\u001b[0m \u001b[31m14.8 MB/s\u001b[0m eta \u001b[36m0:00:00\u001b[0m\n",
            "\u001b[?25hCollecting colorlog (from optuna)\n",
            "  Downloading colorlog-6.7.0-py2.py3-none-any.whl (11 kB)\n",
            "Requirement already satisfied: numpy in /usr/local/lib/python3.10/dist-packages (from optuna) (1.23.5)\n",
            "Requirement already satisfied: packaging>=20.0 in /usr/local/lib/python3.10/dist-packages (from optuna) (23.2)\n",
            "Requirement already satisfied: sqlalchemy>=1.3.0 in /usr/local/lib/python3.10/dist-packages (from optuna) (2.0.23)\n",
            "Requirement already satisfied: tqdm in /usr/local/lib/python3.10/dist-packages (from optuna) (4.66.1)\n",
            "Requirement already satisfied: PyYAML in /usr/local/lib/python3.10/dist-packages (from optuna) (6.0.1)\n",
            "Collecting Mako (from alembic>=1.5.0->optuna)\n",
            "  Downloading Mako-1.3.0-py3-none-any.whl (78 kB)\n",
            "\u001b[2K     \u001b[90m━━━━━━━━━━━━━━━━━━━━━━━━━━━━━━━━━━━━━━━━\u001b[0m \u001b[32m78.6/78.6 kB\u001b[0m \u001b[31m8.8 MB/s\u001b[0m eta \u001b[36m0:00:00\u001b[0m\n",
            "\u001b[?25hRequirement already satisfied: typing-extensions>=4 in /usr/local/lib/python3.10/dist-packages (from alembic>=1.5.0->optuna) (4.5.0)\n",
            "Requirement already satisfied: greenlet!=0.4.17 in /usr/local/lib/python3.10/dist-packages (from sqlalchemy>=1.3.0->optuna) (3.0.1)\n",
            "Requirement already satisfied: MarkupSafe>=0.9.2 in /usr/local/lib/python3.10/dist-packages (from Mako->alembic>=1.5.0->optuna) (2.1.3)\n",
            "Installing collected packages: Mako, colorlog, alembic, optuna\n",
            "Successfully installed Mako-1.3.0 alembic-1.12.1 colorlog-6.7.0 optuna-3.4.0\n"
          ]
        }
      ]
    },
    {
      "cell_type": "code",
      "execution_count": null,
      "metadata": {
        "id": "MfKul32A5awO"
      },
      "outputs": [],
      "source": [
        "import optuna\n",
        "import sklearn\n",
        "import sklearn.datasets\n",
        "import sklearn.neural_network"
      ]
    },
    {
      "cell_type": "markdown",
      "source": [
        "![Digits](https://scikit-learn.org/stable/_images/sphx_glr_plot_digits_classification_001.png)\n"
      ],
      "metadata": {
        "id": "CoFNAOyJeRpD"
      }
    },
    {
      "cell_type": "markdown",
      "source": [
        "https://scikit-learn.org/stable/auto_examples/classification/plot_digits_classification.html"
      ],
      "metadata": {
        "id": "ZfJ-OYMQ9s8U"
      }
    },
    {
      "cell_type": "code",
      "source": [
        "def funObjetivo(trial):\n",
        "\n",
        "    # Definicion del numero de capas de 1 a 4\n",
        "    n_layers = trial.suggest_int('n_layers', 1, 4)\n",
        "    layers = []\n",
        "    for i in range(n_layers): # Se agregan las neuronas a cada capa\n",
        "        layers.append(trial.suggest_int(f'n_units_{i}', 1, 100))\n",
        "\n",
        "    # Cargamos la base de datos MNIST (Numeros)\n",
        "    mnist = sklearn.datasets.load_digits()\n",
        "    # Particionamos los datos en Entrenamiento y validacion\n",
        "    x_train, x_test, y_train, y_test = sklearn.model_selection.train_test_split(\n",
        "        mnist.data, mnist.target)\n",
        "\n",
        "    # Construimos el clasificador MLP\n",
        "    clf = sklearn.neural_network.MLPClassifier(hidden_layer_sizes=tuple(layers))\n",
        "    clf.fit(x_train, y_train)\n",
        "\n",
        "    # Retornamos el error en clasificacion de los valores de test\n",
        "    return clf.score(x_test, y_test)"
      ],
      "metadata": {
        "id": "01KvHzBi5dIg"
      },
      "execution_count": null,
      "outputs": []
    },
    {
      "cell_type": "code",
      "source": [
        "study = optuna.create_study(direction='maximize')\n",
        "study.optimize(funObjetivo, n_trials=100)"
      ],
      "metadata": {
        "colab": {
          "base_uri": "https://localhost:8080/"
        },
        "id": "FusMBH5e5fOg",
        "outputId": "b9ec4aa5-2977-4e18-eea7-88b44e6b3dcd"
      },
      "execution_count": null,
      "outputs": [
        {
          "output_type": "stream",
          "name": "stderr",
          "text": [
            "[I 2023-11-13 23:09:12,680] A new study created in memory with name: no-name-b7bd6705-e8bd-448b-b599-26d4d09199ad\n",
            "[I 2023-11-13 23:09:18,467] Trial 0 finished with value: 0.96 and parameters: {'n_layers': 3, 'n_units_0': 84, 'n_units_1': 52, 'n_units_2': 14}. Best is trial 0 with value: 0.96.\n",
            "[I 2023-11-13 23:09:21,070] Trial 1 finished with value: 0.9777777777777777 and parameters: {'n_layers': 4, 'n_units_0': 25, 'n_units_1': 55, 'n_units_2': 44, 'n_units_3': 15}. Best is trial 1 with value: 0.9777777777777777.\n",
            "[I 2023-11-13 23:09:22,997] Trial 2 finished with value: 0.9577777777777777 and parameters: {'n_layers': 4, 'n_units_0': 28, 'n_units_1': 40, 'n_units_2': 29, 'n_units_3': 31}. Best is trial 1 with value: 0.9777777777777777.\n",
            "[I 2023-11-13 23:09:24,749] Trial 3 finished with value: 0.9888888888888889 and parameters: {'n_layers': 2, 'n_units_0': 63, 'n_units_1': 94}. Best is trial 3 with value: 0.9888888888888889.\n",
            "[I 2023-11-13 23:09:27,428] Trial 4 finished with value: 0.9711111111111111 and parameters: {'n_layers': 4, 'n_units_0': 93, 'n_units_1': 93, 'n_units_2': 30, 'n_units_3': 18}. Best is trial 3 with value: 0.9888888888888889.\n",
            "/usr/local/lib/python3.10/dist-packages/sklearn/neural_network/_multilayer_perceptron.py:686: ConvergenceWarning: Stochastic Optimizer: Maximum iterations (200) reached and the optimization hasn't converged yet.\n",
            "  warnings.warn(\n",
            "[I 2023-11-13 23:09:29,359] Trial 5 finished with value: 0.9422222222222222 and parameters: {'n_layers': 2, 'n_units_0': 11, 'n_units_1': 28}. Best is trial 3 with value: 0.9888888888888889.\n",
            "[I 2023-11-13 23:09:33,093] Trial 6 finished with value: 0.9777777777777777 and parameters: {'n_layers': 2, 'n_units_0': 98, 'n_units_1': 80}. Best is trial 3 with value: 0.9888888888888889.\n",
            "/usr/local/lib/python3.10/dist-packages/sklearn/neural_network/_multilayer_perceptron.py:686: ConvergenceWarning: Stochastic Optimizer: Maximum iterations (200) reached and the optimization hasn't converged yet.\n",
            "  warnings.warn(\n",
            "[I 2023-11-13 23:09:34,032] Trial 7 finished with value: 0.9422222222222222 and parameters: {'n_layers': 1, 'n_units_0': 14}. Best is trial 3 with value: 0.9888888888888889.\n",
            "/usr/local/lib/python3.10/dist-packages/sklearn/neural_network/_multilayer_perceptron.py:686: ConvergenceWarning: Stochastic Optimizer: Maximum iterations (200) reached and the optimization hasn't converged yet.\n",
            "  warnings.warn(\n",
            "[I 2023-11-13 23:09:35,516] Trial 8 finished with value: 0.8555555555555555 and parameters: {'n_layers': 3, 'n_units_0': 3, 'n_units_1': 47, 'n_units_2': 11}. Best is trial 3 with value: 0.9888888888888889.\n",
            "[I 2023-11-13 23:09:37,079] Trial 9 finished with value: 0.9622222222222222 and parameters: {'n_layers': 3, 'n_units_0': 31, 'n_units_1': 66, 'n_units_2': 27}. Best is trial 3 with value: 0.9888888888888889.\n",
            "[I 2023-11-13 23:09:38,732] Trial 10 finished with value: 0.9666666666666667 and parameters: {'n_layers': 1, 'n_units_0': 65}. Best is trial 3 with value: 0.9888888888888889.\n",
            "[I 2023-11-13 23:09:40,818] Trial 11 finished with value: 0.9577777777777777 and parameters: {'n_layers': 2, 'n_units_0': 59, 'n_units_1': 10}. Best is trial 3 with value: 0.9888888888888889.\n",
            "[I 2023-11-13 23:09:43,583] Trial 12 finished with value: 0.96 and parameters: {'n_layers': 4, 'n_units_0': 44, 'n_units_1': 96, 'n_units_2': 83, 'n_units_3': 96}. Best is trial 3 with value: 0.9888888888888889.\n",
            "[I 2023-11-13 23:09:47,559] Trial 13 finished with value: 0.9822222222222222 and parameters: {'n_layers': 2, 'n_units_0': 76, 'n_units_1': 69}. Best is trial 3 with value: 0.9888888888888889.\n",
            "[I 2023-11-13 23:09:50,506] Trial 14 finished with value: 0.9733333333333334 and parameters: {'n_layers': 2, 'n_units_0': 75, 'n_units_1': 75}. Best is trial 3 with value: 0.9888888888888889.\n",
            "[I 2023-11-13 23:09:52,196] Trial 15 finished with value: 0.9777777777777777 and parameters: {'n_layers': 1, 'n_units_0': 74}. Best is trial 3 with value: 0.9888888888888889.\n",
            "[I 2023-11-13 23:09:53,847] Trial 16 finished with value: 0.9577777777777777 and parameters: {'n_layers': 2, 'n_units_0': 46, 'n_units_1': 82}. Best is trial 3 with value: 0.9888888888888889.\n",
            "[I 2023-11-13 23:09:55,618] Trial 17 finished with value: 0.9777777777777777 and parameters: {'n_layers': 3, 'n_units_0': 60, 'n_units_1': 69, 'n_units_2': 100}. Best is trial 3 with value: 0.9888888888888889.\n",
            "[I 2023-11-13 23:09:57,175] Trial 18 finished with value: 0.9733333333333334 and parameters: {'n_layers': 1, 'n_units_0': 85}. Best is trial 3 with value: 0.9888888888888889.\n",
            "[I 2023-11-13 23:09:58,919] Trial 19 finished with value: 0.9644444444444444 and parameters: {'n_layers': 2, 'n_units_0': 72, 'n_units_1': 99}. Best is trial 3 with value: 0.9888888888888889.\n",
            "[I 2023-11-13 23:10:02,955] Trial 20 finished with value: 0.9755555555555555 and parameters: {'n_layers': 3, 'n_units_0': 52, 'n_units_1': 87, 'n_units_2': 69}. Best is trial 3 with value: 0.9888888888888889.\n",
            "[I 2023-11-13 23:10:06,589] Trial 21 finished with value: 0.9688888888888889 and parameters: {'n_layers': 2, 'n_units_0': 34, 'n_units_1': 57}. Best is trial 3 with value: 0.9888888888888889.\n",
            "/usr/local/lib/python3.10/dist-packages/sklearn/neural_network/_multilayer_perceptron.py:686: ConvergenceWarning: Stochastic Optimizer: Maximum iterations (200) reached and the optimization hasn't converged yet.\n",
            "  warnings.warn(\n",
            "[I 2023-11-13 23:10:11,232] Trial 22 finished with value: 0.34444444444444444 and parameters: {'n_layers': 4, 'n_units_0': 53, 'n_units_1': 62, 'n_units_2': 54, 'n_units_3': 2}. Best is trial 3 with value: 0.9888888888888889.\n",
            "[I 2023-11-13 23:10:13,443] Trial 23 finished with value: 0.9666666666666667 and parameters: {'n_layers': 3, 'n_units_0': 21, 'n_units_1': 35, 'n_units_2': 49}. Best is trial 3 with value: 0.9888888888888889.\n",
            "[I 2023-11-13 23:10:15,140] Trial 24 finished with value: 0.9711111111111111 and parameters: {'n_layers': 2, 'n_units_0': 40, 'n_units_1': 72}. Best is trial 3 with value: 0.9888888888888889.\n",
            "[I 2023-11-13 23:10:19,011] Trial 25 finished with value: 0.9666666666666667 and parameters: {'n_layers': 1, 'n_units_0': 66}. Best is trial 3 with value: 0.9888888888888889.\n",
            "[I 2023-11-13 23:10:22,845] Trial 26 finished with value: 0.9733333333333334 and parameters: {'n_layers': 3, 'n_units_0': 83, 'n_units_1': 21, 'n_units_2': 51}. Best is trial 3 with value: 0.9888888888888889.\n",
            "[I 2023-11-13 23:10:24,630] Trial 27 finished with value: 0.9688888888888889 and parameters: {'n_layers': 2, 'n_units_0': 56, 'n_units_1': 48}. Best is trial 3 with value: 0.9888888888888889.\n",
            "[I 2023-11-13 23:10:28,167] Trial 28 finished with value: 0.5022222222222222 and parameters: {'n_layers': 4, 'n_units_0': 64, 'n_units_1': 60, 'n_units_2': 2, 'n_units_3': 61}. Best is trial 3 with value: 0.9888888888888889.\n",
            "[I 2023-11-13 23:10:30,277] Trial 29 finished with value: 0.9777777777777777 and parameters: {'n_layers': 3, 'n_units_0': 81, 'n_units_1': 86, 'n_units_2': 66}. Best is trial 3 with value: 0.9888888888888889.\n",
            "[I 2023-11-13 23:10:32,805] Trial 30 finished with value: 0.9711111111111111 and parameters: {'n_layers': 2, 'n_units_0': 22, 'n_units_1': 75}. Best is trial 3 with value: 0.9888888888888889.\n",
            "[I 2023-11-13 23:10:37,876] Trial 31 finished with value: 0.9888888888888889 and parameters: {'n_layers': 2, 'n_units_0': 99, 'n_units_1': 83}. Best is trial 3 with value: 0.9888888888888889.\n",
            "[I 2023-11-13 23:10:39,877] Trial 32 finished with value: 0.9666666666666667 and parameters: {'n_layers': 2, 'n_units_0': 93, 'n_units_1': 90}. Best is trial 3 with value: 0.9888888888888889.\n",
            "[I 2023-11-13 23:10:41,645] Trial 33 finished with value: 0.9777777777777777 and parameters: {'n_layers': 2, 'n_units_0': 96, 'n_units_1': 80}. Best is trial 3 with value: 0.9888888888888889.\n",
            "[I 2023-11-13 23:10:43,589] Trial 34 finished with value: 0.9777777777777777 and parameters: {'n_layers': 1, 'n_units_0': 80}. Best is trial 3 with value: 0.9888888888888889.\n",
            "[I 2023-11-13 23:10:45,400] Trial 35 finished with value: 0.96 and parameters: {'n_layers': 4, 'n_units_0': 86, 'n_units_1': 99, 'n_units_2': 40, 'n_units_3': 54}. Best is trial 3 with value: 0.9888888888888889.\n",
            "/usr/local/lib/python3.10/dist-packages/sklearn/neural_network/_multilayer_perceptron.py:686: ConvergenceWarning: Stochastic Optimizer: Maximum iterations (200) reached and the optimization hasn't converged yet.\n",
            "  warnings.warn(\n",
            "[I 2023-11-13 23:10:47,281] Trial 36 finished with value: 0.3933333333333333 and parameters: {'n_layers': 2, 'n_units_0': 1, 'n_units_1': 54}. Best is trial 3 with value: 0.9888888888888889.\n",
            "[I 2023-11-13 23:10:50,368] Trial 37 finished with value: 0.98 and parameters: {'n_layers': 2, 'n_units_0': 90, 'n_units_1': 67}. Best is trial 3 with value: 0.9888888888888889.\n",
            "[I 2023-11-13 23:10:54,564] Trial 38 finished with value: 0.9711111111111111 and parameters: {'n_layers': 2, 'n_units_0': 90, 'n_units_1': 67}. Best is trial 3 with value: 0.9888888888888889.\n",
            "[I 2023-11-13 23:10:56,152] Trial 39 finished with value: 0.98 and parameters: {'n_layers': 2, 'n_units_0': 98, 'n_units_1': 83}. Best is trial 3 with value: 0.9888888888888889.\n",
            "[I 2023-11-13 23:10:57,802] Trial 40 finished with value: 0.9577777777777777 and parameters: {'n_layers': 1, 'n_units_0': 100}. Best is trial 3 with value: 0.9888888888888889.\n",
            "[I 2023-11-13 23:10:59,588] Trial 41 finished with value: 0.9777777777777777 and parameters: {'n_layers': 2, 'n_units_0': 92, 'n_units_1': 84}. Best is trial 3 with value: 0.9888888888888889.\n",
            "[I 2023-11-13 23:11:01,578] Trial 42 finished with value: 0.9755555555555555 and parameters: {'n_layers': 2, 'n_units_0': 89, 'n_units_1': 77}. Best is trial 3 with value: 0.9888888888888889.\n",
            "[I 2023-11-13 23:11:03,423] Trial 43 finished with value: 0.9688888888888889 and parameters: {'n_layers': 2, 'n_units_0': 100, 'n_units_1': 91}. Best is trial 3 with value: 0.9888888888888889.\n",
            "[I 2023-11-13 23:11:06,234] Trial 44 finished with value: 0.9688888888888889 and parameters: {'n_layers': 2, 'n_units_0': 77, 'n_units_1': 89}. Best is trial 3 with value: 0.9888888888888889.\n",
            "[I 2023-11-13 23:11:10,405] Trial 45 finished with value: 0.9622222222222222 and parameters: {'n_layers': 2, 'n_units_0': 69, 'n_units_1': 64}. Best is trial 3 with value: 0.9888888888888889.\n",
            "[I 2023-11-13 23:11:12,139] Trial 46 finished with value: 0.9711111111111111 and parameters: {'n_layers': 2, 'n_units_0': 94, 'n_units_1': 72}. Best is trial 3 with value: 0.9888888888888889.\n",
            "[I 2023-11-13 23:11:14,096] Trial 47 finished with value: 0.9844444444444445 and parameters: {'n_layers': 1, 'n_units_0': 86}. Best is trial 3 with value: 0.9888888888888889.\n",
            "[I 2023-11-13 23:11:15,957] Trial 48 finished with value: 0.9644444444444444 and parameters: {'n_layers': 1, 'n_units_0': 88}. Best is trial 3 with value: 0.9888888888888889.\n",
            "[I 2023-11-13 23:11:17,988] Trial 49 finished with value: 0.9622222222222222 and parameters: {'n_layers': 1, 'n_units_0': 79}. Best is trial 3 with value: 0.9888888888888889.\n",
            "[I 2023-11-13 23:11:19,421] Trial 50 finished with value: 0.9755555555555555 and parameters: {'n_layers': 1, 'n_units_0': 71}. Best is trial 3 with value: 0.9888888888888889.\n",
            "[I 2023-11-13 23:11:21,827] Trial 51 finished with value: 0.9622222222222222 and parameters: {'n_layers': 2, 'n_units_0': 85, 'n_units_1': 94}. Best is trial 3 with value: 0.9888888888888889.\n",
            "[I 2023-11-13 23:11:26,182] Trial 52 finished with value: 0.9866666666666667 and parameters: {'n_layers': 2, 'n_units_0': 96, 'n_units_1': 83}. Best is trial 3 with value: 0.9888888888888889.\n",
            "[I 2023-11-13 23:11:28,300] Trial 53 finished with value: 0.9711111111111111 and parameters: {'n_layers': 1, 'n_units_0': 94}. Best is trial 3 with value: 0.9888888888888889.\n",
            "[I 2023-11-13 23:11:30,140] Trial 54 finished with value: 0.9777777777777777 and parameters: {'n_layers': 3, 'n_units_0': 75, 'n_units_1': 79, 'n_units_2': 98}. Best is trial 3 with value: 0.9888888888888889.\n",
            "[I 2023-11-13 23:11:31,879] Trial 55 finished with value: 0.9644444444444444 and parameters: {'n_layers': 2, 'n_units_0': 89, 'n_units_1': 71}. Best is trial 3 with value: 0.9888888888888889.\n",
            "[I 2023-11-13 23:11:33,599] Trial 56 finished with value: 0.96 and parameters: {'n_layers': 2, 'n_units_0': 83, 'n_units_1': 42}. Best is trial 3 with value: 0.9888888888888889.\n",
            "/usr/local/lib/python3.10/dist-packages/sklearn/neural_network/_multilayer_perceptron.py:686: ConvergenceWarning: Stochastic Optimizer: Maximum iterations (200) reached and the optimization hasn't converged yet.\n",
            "  warnings.warn(\n",
            "[I 2023-11-13 23:11:37,337] Trial 57 finished with value: 0.9066666666666666 and parameters: {'n_layers': 3, 'n_units_0': 61, 'n_units_1': 2, 'n_units_2': 85}. Best is trial 3 with value: 0.9888888888888889.\n",
            "[I 2023-11-13 23:11:42,241] Trial 58 finished with value: 0.9777777777777777 and parameters: {'n_layers': 2, 'n_units_0': 96, 'n_units_1': 95}. Best is trial 3 with value: 0.9888888888888889.\n",
            "[I 2023-11-13 23:11:44,453] Trial 59 finished with value: 0.9688888888888889 and parameters: {'n_layers': 1, 'n_units_0': 69}. Best is trial 3 with value: 0.9888888888888889.\n",
            "[I 2023-11-13 23:11:46,115] Trial 60 finished with value: 0.9866666666666667 and parameters: {'n_layers': 3, 'n_units_0': 76, 'n_units_1': 77, 'n_units_2': 64}. Best is trial 3 with value: 0.9888888888888889.\n",
            "[I 2023-11-13 23:11:47,889] Trial 61 finished with value: 0.9622222222222222 and parameters: {'n_layers': 3, 'n_units_0': 79, 'n_units_1': 75, 'n_units_2': 72}. Best is trial 3 with value: 0.9888888888888889.\n",
            "[I 2023-11-13 23:11:49,796] Trial 62 finished with value: 0.9644444444444444 and parameters: {'n_layers': 3, 'n_units_0': 75, 'n_units_1': 85, 'n_units_2': 59}. Best is trial 3 with value: 0.9888888888888889.\n",
            "[I 2023-11-13 23:11:51,685] Trial 63 finished with value: 0.9733333333333334 and parameters: {'n_layers': 3, 'n_units_0': 86, 'n_units_1': 58, 'n_units_2': 82}. Best is trial 3 with value: 0.9888888888888889.\n",
            "[I 2023-11-13 23:11:54,454] Trial 64 finished with value: 0.9822222222222222 and parameters: {'n_layers': 2, 'n_units_0': 91, 'n_units_1': 67}. Best is trial 3 with value: 0.9888888888888889.\n",
            "[I 2023-11-13 23:11:58,869] Trial 65 finished with value: 0.9777777777777777 and parameters: {'n_layers': 2, 'n_units_0': 82, 'n_units_1': 78}. Best is trial 3 with value: 0.9888888888888889.\n",
            "[I 2023-11-13 23:12:01,072] Trial 66 finished with value: 0.9755555555555555 and parameters: {'n_layers': 3, 'n_units_0': 49, 'n_units_1': 51, 'n_units_2': 37}. Best is trial 3 with value: 0.9888888888888889.\n",
            "[I 2023-11-13 23:12:03,167] Trial 67 finished with value: 0.9888888888888889 and parameters: {'n_layers': 2, 'n_units_0': 97, 'n_units_1': 92}. Best is trial 3 with value: 0.9888888888888889.\n",
            "[I 2023-11-13 23:12:05,433] Trial 68 finished with value: 0.9666666666666667 and parameters: {'n_layers': 3, 'n_units_0': 65, 'n_units_1': 97, 'n_units_2': 89}. Best is trial 3 with value: 0.9888888888888889.\n",
            "[I 2023-11-13 23:12:07,444] Trial 69 finished with value: 0.9777777777777777 and parameters: {'n_layers': 2, 'n_units_0': 96, 'n_units_1': 92}. Best is trial 3 with value: 0.9888888888888889.\n",
            "[I 2023-11-13 23:12:09,154] Trial 70 finished with value: 0.9555555555555556 and parameters: {'n_layers': 1, 'n_units_0': 55}. Best is trial 3 with value: 0.9888888888888889.\n",
            "[I 2023-11-13 23:12:13,017] Trial 71 finished with value: 0.9822222222222222 and parameters: {'n_layers': 2, 'n_units_0': 91, 'n_units_1': 88}. Best is trial 3 with value: 0.9888888888888889.\n",
            "[I 2023-11-13 23:12:16,586] Trial 72 finished with value: 0.9755555555555555 and parameters: {'n_layers': 2, 'n_units_0': 98, 'n_units_1': 82}. Best is trial 3 with value: 0.9888888888888889.\n",
            "[I 2023-11-13 23:12:18,496] Trial 73 finished with value: 0.9733333333333334 and parameters: {'n_layers': 2, 'n_units_0': 87, 'n_units_1': 100}. Best is trial 3 with value: 0.9888888888888889.\n",
            "[I 2023-11-13 23:12:20,437] Trial 74 finished with value: 0.9866666666666667 and parameters: {'n_layers': 2, 'n_units_0': 94, 'n_units_1': 74}. Best is trial 3 with value: 0.9888888888888889.\n",
            "[I 2023-11-13 23:12:22,500] Trial 75 finished with value: 0.9844444444444445 and parameters: {'n_layers': 2, 'n_units_0': 95, 'n_units_1': 82}. Best is trial 3 with value: 0.9888888888888889.\n",
            "[I 2023-11-13 23:12:24,154] Trial 76 finished with value: 0.9755555555555555 and parameters: {'n_layers': 2, 'n_units_0': 97, 'n_units_1': 88}. Best is trial 3 with value: 0.9888888888888889.\n",
            "[I 2023-11-13 23:12:26,321] Trial 77 finished with value: 0.9755555555555555 and parameters: {'n_layers': 2, 'n_units_0': 100, 'n_units_1': 93}. Best is trial 3 with value: 0.9888888888888889.\n",
            "[I 2023-11-13 23:12:32,511] Trial 78 finished with value: 0.9911111111111112 and parameters: {'n_layers': 4, 'n_units_0': 94, 'n_units_1': 82, 'n_units_2': 61, 'n_units_3': 98}. Best is trial 78 with value: 0.9911111111111112.\n",
            "[I 2023-11-13 23:12:38,377] Trial 79 finished with value: 0.9733333333333334 and parameters: {'n_layers': 4, 'n_units_0': 92, 'n_units_1': 75, 'n_units_2': 60, 'n_units_3': 100}. Best is trial 78 with value: 0.9911111111111112.\n",
            "[I 2023-11-13 23:12:40,578] Trial 80 finished with value: 0.98 and parameters: {'n_layers': 4, 'n_units_0': 93, 'n_units_1': 85, 'n_units_2': 76, 'n_units_3': 77}. Best is trial 78 with value: 0.9911111111111112.\n",
            "[I 2023-11-13 23:12:42,695] Trial 81 finished with value: 0.9666666666666667 and parameters: {'n_layers': 4, 'n_units_0': 95, 'n_units_1': 81, 'n_units_2': 65, 'n_units_3': 77}. Best is trial 78 with value: 0.9911111111111112.\n",
            "[I 2023-11-13 23:12:44,426] Trial 82 finished with value: 0.9911111111111112 and parameters: {'n_layers': 2, 'n_units_0': 100, 'n_units_1': 96}. Best is trial 78 with value: 0.9911111111111112.\n",
            "[I 2023-11-13 23:12:46,074] Trial 83 finished with value: 0.9755555555555555 and parameters: {'n_layers': 2, 'n_units_0': 99, 'n_units_1': 91}. Best is trial 78 with value: 0.9911111111111112.\n",
            "[I 2023-11-13 23:12:50,482] Trial 84 finished with value: 0.9733333333333334 and parameters: {'n_layers': 4, 'n_units_0': 97, 'n_units_1': 96, 'n_units_2': 59, 'n_units_3': 77}. Best is trial 78 with value: 0.9911111111111112.\n",
            "[I 2023-11-13 23:12:54,060] Trial 85 finished with value: 0.9777777777777777 and parameters: {'n_layers': 2, 'n_units_0': 89, 'n_units_1': 86}. Best is trial 78 with value: 0.9911111111111112.\n",
            "[I 2023-11-13 23:12:55,930] Trial 86 finished with value: 0.9711111111111111 and parameters: {'n_layers': 2, 'n_units_0': 84, 'n_units_1': 98}. Best is trial 78 with value: 0.9911111111111112.\n",
            "[I 2023-11-13 23:12:58,272] Trial 87 finished with value: 0.9777777777777777 and parameters: {'n_layers': 3, 'n_units_0': 94, 'n_units_1': 89, 'n_units_2': 18}. Best is trial 78 with value: 0.9911111111111112.\n",
            "[I 2023-11-13 23:13:00,224] Trial 88 finished with value: 0.9844444444444445 and parameters: {'n_layers': 2, 'n_units_0': 100, 'n_units_1': 94}. Best is trial 78 with value: 0.9911111111111112.\n",
            "/usr/local/lib/python3.10/dist-packages/sklearn/neural_network/_multilayer_perceptron.py:686: ConvergenceWarning: Stochastic Optimizer: Maximum iterations (200) reached and the optimization hasn't converged yet.\n",
            "  warnings.warn(\n",
            "[I 2023-11-13 23:13:01,181] Trial 89 finished with value: 0.9488888888888889 and parameters: {'n_layers': 1, 'n_units_0': 10}. Best is trial 78 with value: 0.9911111111111112.\n",
            "[I 2023-11-13 23:13:04,565] Trial 90 finished with value: 0.9711111111111111 and parameters: {'n_layers': 2, 'n_units_0': 87, 'n_units_1': 22}. Best is trial 78 with value: 0.9911111111111112.\n",
            "[I 2023-11-13 23:13:09,379] Trial 91 finished with value: 0.9777777777777777 and parameters: {'n_layers': 2, 'n_units_0': 96, 'n_units_1': 81}. Best is trial 78 with value: 0.9911111111111112.\n",
            "[I 2023-11-13 23:13:11,383] Trial 92 finished with value: 0.9666666666666667 and parameters: {'n_layers': 2, 'n_units_0': 92, 'n_units_1': 76}. Best is trial 78 with value: 0.9911111111111112.\n",
            "[I 2023-11-13 23:13:13,386] Trial 93 finished with value: 0.9755555555555555 and parameters: {'n_layers': 2, 'n_units_0': 98, 'n_units_1': 83}. Best is trial 78 with value: 0.9911111111111112.\n",
            "[I 2023-11-13 23:13:15,418] Trial 94 finished with value: 0.9755555555555555 and parameters: {'n_layers': 2, 'n_units_0': 95, 'n_units_1': 73}. Best is trial 78 with value: 0.9911111111111112.\n",
            "[I 2023-11-13 23:13:17,366] Trial 95 finished with value: 0.9666666666666667 and parameters: {'n_layers': 2, 'n_units_0': 40, 'n_units_1': 80}. Best is trial 78 with value: 0.9911111111111112.\n",
            "[I 2023-11-13 23:13:19,251] Trial 96 finished with value: 0.9733333333333334 and parameters: {'n_layers': 2, 'n_units_0': 89, 'n_units_1': 91}. Best is trial 78 with value: 0.9911111111111112.\n",
            "[I 2023-11-13 23:13:23,462] Trial 97 finished with value: 0.9688888888888889 and parameters: {'n_layers': 2, 'n_units_0': 62, 'n_units_1': 78}. Best is trial 78 with value: 0.9911111111111112.\n",
            "[I 2023-11-13 23:13:26,636] Trial 98 finished with value: 0.9755555555555555 and parameters: {'n_layers': 3, 'n_units_0': 78, 'n_units_1': 87, 'n_units_2': 75}. Best is trial 78 with value: 0.9911111111111112.\n",
            "[I 2023-11-13 23:13:28,703] Trial 99 finished with value: 0.9777777777777777 and parameters: {'n_layers': 2, 'n_units_0': 93, 'n_units_1': 97}. Best is trial 78 with value: 0.9911111111111112.\n"
          ]
        }
      ]
    },
    {
      "cell_type": "code",
      "source": [
        "study.best_params"
      ],
      "metadata": {
        "colab": {
          "base_uri": "https://localhost:8080/"
        },
        "id": "glX6u-Zk61dP",
        "outputId": "3bcc8679-7755-4cf7-c4f9-e41428fa6fe5"
      },
      "execution_count": null,
      "outputs": [
        {
          "output_type": "execute_result",
          "data": {
            "text/plain": [
              "{'n_layers': 4,\n",
              " 'n_units_0': 94,\n",
              " 'n_units_1': 82,\n",
              " 'n_units_2': 61,\n",
              " 'n_units_3': 98}"
            ]
          },
          "metadata": {},
          "execution_count": 9
        }
      ]
    },
    {
      "cell_type": "code",
      "source": [],
      "metadata": {
        "id": "P0p6Cxef9mAU"
      },
      "execution_count": null,
      "outputs": []
    }
  ]
}