{
  "nbformat": 4,
  "nbformat_minor": 0,
  "metadata": {
    "colab": {
      "provenance": []
    },
    "kernelspec": {
      "name": "python3",
      "display_name": "Python 3"
    },
    "language_info": {
      "name": "python"
    }
  },
  "cells": [
    {
      "cell_type": "code",
      "execution_count": 1,
      "metadata": {
        "id": "lCKumUrVam7c"
      },
      "outputs": [],
      "source": [
        "import numpy as np\n",
        "import pandas as pd\n",
        "import matplotlib.pyplot as plt\n",
        "from scipy.optimize import minimize"
      ]
    },
    {
      "cell_type": "code",
      "source": [
        "#Constantes\n",
        "q = 1.60217646e-19\n",
        "k = 1.38064852e-23\n",
        "T = 33 + 273.15"
      ],
      "metadata": {
        "id": "-2UPcM0J6vyv"
      },
      "execution_count": 2,
      "outputs": []
    },
    {
      "cell_type": "code",
      "source": [
        "#datos de RTC PV cell\n",
        "VL = np.array([-0.2057,-0.1291,-0.0588,0.0057,0.0646,0.1185,0.1678,0.2132,0.2545,0.2924,0.3269,\\\n",
        "                0.3585,0.3873,0.4137,0.4373,0.4590,0.4784,0.4960,0.5119,0.5265,0.5398,0.5521,\\\n",
        "                0.5633,0.5736,0.5833,0.5900])\n",
        "IL = np.array([0.7640,0.7620,0.7605,0.7605,0.7600,0.7590,0.7570,0.7570,0.7555,0.7540,0.7505,\\\n",
        "                0.7465,0.7385,0.7280,0.7065,0.6755,0.6320,0.5730,0.4990,0.4130,0.3165,0.2120,\\\n",
        "                0.1035,-0.0100,-0.1230,-0.2100])\n",
        "#Params\n",
        "#Iph Rs Rsh ISD n"
      ],
      "metadata": {
        "id": "LTv08iFaap9w"
      },
      "execution_count": 3,
      "outputs": []
    },
    {
      "cell_type": "markdown",
      "source": [
        "$$ f_{SD}(V_L,I_L,\\theta) = \\theta_1 - \\theta_4 \\times \\left[ \\exp \\left( \\frac{q(V_L+I_L\\theta_2)}{\\theta_5 k T} \\right) -1 \\right] - \\frac{V_L+I_L\\theta_2}{\\theta_3} - I_L\n",
        "$$"
      ],
      "metadata": {
        "id": "1M5U1prfyqei"
      }
    },
    {
      "cell_type": "code",
      "source": [
        "def fsd(params):\n",
        "  temp = VL+IL*params[1]\n",
        "  return params[0] - params[3]*1e-6*(np.exp((q*temp)/(params[4]*k*T))-1.)-temp/params[2]-IL\n",
        "\n",
        "def objfun(params):\n",
        "  return np.sqrt(np.mean(fsd(params)**2))"
      ],
      "metadata": {
        "id": "_LbKZRwSbqFc"
      },
      "execution_count": 4,
      "outputs": []
    },
    {
      "cell_type": "code",
      "source": [
        "#Limites para los parametros de una celda con el modelo SDM para France RTC\n",
        "#Iph Rs Rsh ISD n\n",
        "lb = np.array([0.,0.,0.,0.,1.])\n",
        "ub = np.array([1.,0.5,100.,1.,2.])\n",
        "bounds = [(0.,1.),(0.,0.5),(0,100.),(0.,1.),(1.,2.)]"
      ],
      "metadata": {
        "id": "d8lX0pzgeNMI"
      },
      "execution_count": 5,
      "outputs": []
    },
    {
      "cell_type": "code",
      "source": [
        "#Iph Rs Rsh ISD n\n",
        "x = np.array([0.76077552,0.03637,53.71852,0.32302,1.48110817])\n",
        "#Para estos parametros el resultado debe ser 9.8602e-4\n",
        "objfun(x)"
      ],
      "metadata": {
        "colab": {
          "base_uri": "https://localhost:8080/"
        },
        "id": "M11TMDPOgDRs",
        "outputId": "8526ccf2-844e-48fc-b9ca-d4643a5675ff"
      },
      "execution_count": 6,
      "outputs": [
        {
          "output_type": "execute_result",
          "data": {
            "text/plain": [
              "np.float64(0.001023842872750516)"
            ]
          },
          "metadata": {},
          "execution_count": 6
        }
      ]
    },
    {
      "cell_type": "code",
      "source": [
        "#Iph Rs Rsh ISD n\n",
        "x = np.array([0.7620,0.0345,43.1034,0.4798,1.5172])\n",
        "#Para estos parametros el resultado debe ser 0.019\n",
        "objfun(x)"
      ],
      "metadata": {
        "colab": {
          "base_uri": "https://localhost:8080/"
        },
        "id": "qaFMx13w3A2h",
        "outputId": "aaf3857d-6f1c-4a67-d6ab-ec23469ab5ae"
      },
      "execution_count": 7,
      "outputs": [
        {
          "output_type": "execute_result",
          "data": {
            "text/plain": [
              "np.float64(0.019004791080137393)"
            ]
          },
          "metadata": {},
          "execution_count": 7
        }
      ]
    },
    {
      "cell_type": "code",
      "source": [
        "#Minimizamos la funcion objetivo a partir de un punto x0\n",
        "np.random.seed(0)\n",
        "x0 = (ub-lb)*np.random.rand(5)+lb\n",
        "res = minimize(objfun,x0,method='L-BFGS-B',bounds=bounds, tol=1e-12)\n",
        "res"
      ],
      "metadata": {
        "colab": {
          "base_uri": "https://localhost:8080/"
        },
        "id": "o3JOKHHQlz_W",
        "outputId": "0344e3c6-b7d2-4b8e-b09e-a1b7b18019aa"
      },
      "execution_count": 8,
      "outputs": [
        {
          "output_type": "execute_result",
          "data": {
            "text/plain": [
              "  message: CONVERGENCE: REL_REDUCTION_OF_F_<=_FACTR*EPSMCH\n",
              "  success: True\n",
              "   status: 0\n",
              "      fun: 0.001016516911230871\n",
              "        x: [ 7.605e-01  3.613e-02  6.027e+01  3.494e-01  1.489e+00]\n",
              "      nit: 86\n",
              "      jac: [-5.963e-04 -3.991e-04  8.175e-06 -2.438e-04  8.697e-04]\n",
              "     nfev: 930\n",
              "     njev: 155\n",
              " hess_inv: <5x5 LbfgsInvHessProduct with dtype=float64>"
            ]
          },
          "metadata": {},
          "execution_count": 8
        }
      ]
    },
    {
      "cell_type": "code",
      "source": [
        "#Diferencia grafica\n",
        "plt.plot(IL,VL)\n",
        "#Al sumarle IL a fsd obtienes la corriente del panel estimada a partir de los parametros optimizados\n",
        "plt.plot(IL+fsd(res.x),VL,'--')\n",
        "plt.legend(['Datos Originales','Estimados'])"
      ],
      "metadata": {
        "id": "Jl5jhXr-nS0l",
        "colab": {
          "base_uri": "https://localhost:8080/",
          "height": 447
        },
        "outputId": "6355b144-212e-4287-95f7-53aaded85a79"
      },
      "execution_count": 9,
      "outputs": [
        {
          "output_type": "execute_result",
          "data": {
            "text/plain": [
              "<matplotlib.legend.Legend at 0x78af88f54050>"
            ]
          },
          "metadata": {},
          "execution_count": 9
        },
        {
          "output_type": "display_data",
          "data": {
            "text/plain": [
              "<Figure size 640x480 with 1 Axes>"
            ],
            "image/png": "[encoded data removed]"
          },
          "metadata": {}
        }
      ]
    }
  ]
}