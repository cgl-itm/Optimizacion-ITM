{
 "cells": [
  {
   "cell_type": "markdown",
   "id": "d4a35a09",
   "metadata": {},
   "source": [
    "# Enjambre de Partículas - Implementación en Numpy"
   ]
  },
  {
   "cell_type": "code",
   "execution_count": 2,
   "id": "9c8fec4e",
   "metadata": {},
   "outputs": [],
   "source": [
    "# Importar las bibliotecas necesarias\n",
    "import numpy as np"
   ]
  },
  {
   "cell_type": "markdown",
   "id": "c51cd057",
   "metadata": {},
   "source": [
    "## Ejemplo de función objetivo\n",
    "Ejemplo de función objetivo (puedes cambiarla según el caso)\n"
   ]
  },
  {
   "cell_type": "code",
   "execution_count": 5,
   "id": "79801ce8",
   "metadata": {},
   "outputs": [],
   "source": [
    "def funcion_objetivo(x):\n",
    "    return np.sum((x-np.array([1,1.5]))**2)"
   ]
  },
  {
   "cell_type": "markdown",
   "id": "2befc41f",
   "metadata": {},
   "source": [
    "## Paso 1: Crear matriz de población inicial"
   ]
  },
  {
   "cell_type": "markdown",
   "id": "1e915537",
   "metadata": {},
   "source": [
    "Escribe un codigo que genere una población inicial de partículas aleatorias dentro de los límites definidos (limite inferior y superior para cada vaibale). \n",
    "La población debe tener un tamaño definido por el usuario y cada partícula debe tener una posición aleatoria en el espacio de búsqueda. La matriz debe ser de NxP, donde N es la cantidad de individuos y P es la cantidad de parametros a optimizar."
   ]
  },
  {
   "cell_type": "code",
   "execution_count": 4,
   "id": "0e99ceaf",
   "metadata": {},
   "outputs": [],
   "source": [
    "N = 100\n",
    "P = 2\n",
    "X = np.zeros((N,P))\n",
    "limSup = np.array([3,4])\n",
    "limInf = np.array([0,0])\n",
    "for n in range(N):\n",
    "    for p in range(P):\n",
    "        X[n,p] = (limSup[p]-limInf[p])*np.random.rand()+limInf[p]"
   ]
  },
  {
   "cell_type": "markdown",
   "id": "4437dc39",
   "metadata": {},
   "source": [
    "Hacer el codigo anterior usando arreglos de Numpy, reemplazar el for anterior por una sola instruccion aprovechando los arreglos de Numpy."
   ]
  },
  {
   "cell_type": "code",
   "execution_count": null,
   "id": "2eca584f",
   "metadata": {},
   "outputs": [],
   "source": [
    "N = 100\n",
    "P = 2\n",
    "X = np.zeros(N,P)\n",
    "limSup = np.array([3,4])\n",
    "limInf = np.array([0,0])\n",
    "#Hacer codigo\n",
    "X = np.zeros((N,P))"
   ]
  },
  {
   "cell_type": "markdown",
   "id": "14a3081b",
   "metadata": {},
   "source": [
    "## Paso 2: Evaluar la población usando apply_along_axis"
   ]
  },
  {
   "cell_type": "markdown",
   "id": "cc7df882",
   "metadata": {},
   "source": [
    "Usa np.apply_along_axis para aplicar una función objetivo a cada partícula de la población. \n",
    "La función objetivo puede ser cualquier función que se quiera minimizar o maximizar. Almacenar la evaluacion de cada particula en el vector F. Leer la ayuda de la funcion apply_along_axis para entender como se debe emplear."
   ]
  },
  {
   "cell_type": "code",
   "execution_count": null,
   "id": "1873d898",
   "metadata": {},
   "outputs": [],
   "source": [
    "#Hacer codigo aqui\n",
    "F = np.apply_along_axis()"
   ]
  },
  {
   "cell_type": "markdown",
   "id": "8c06f852",
   "metadata": {},
   "source": [
    "## Paso 3: Almacenar los mejores locales y el mejor global"
   ]
  },
  {
   "cell_type": "markdown",
   "id": "3961b25d",
   "metadata": {},
   "source": [
    "Almacena las mejores posiciones locales (la mejor posición que cada partícula ha alcanzado) y la mejor global (la mejor de todas las partículas). Cuando se evalua la poblacion es necesario actualizar los valores de los mejores locales y el mejor global. Para saber cual es el mejor global se deben almancenar la posicion y su evaluacion en la funcion objetivo. De igual manera se debe tener un vector con las mejores evaluaciones de cada individuo junto con una matriz con las mejores posiciones. La posicion del mejor global y las posiciones de los mejores locales son utilizadas para el calculo de la velocidad."
   ]
  },
  {
   "cell_type": "code",
   "execution_count": null,
   "id": "644f81f9",
   "metadata": {},
   "outputs": [],
   "source": [
    "# Compara el vector F con las mejores evaluaciones locales, si el vector F presenta \n",
    "# mejores soluciones que las locales entonces actilizarlas.\n",
    "\n",
    "# Del vector de las evaluaciones de las mejores locales obtener la mejor solucion y \n",
    "# guardarla como la mejor global\n"
   ]
  },
  {
   "cell_type": "markdown",
   "id": "a1744b04",
   "metadata": {},
   "source": [
    "## Paso 4: Calcular la velocidad y actualizar la población"
   ]
  },
  {
   "cell_type": "markdown",
   "id": "250ff600",
   "metadata": {},
   "source": [
    "Calcula la nueva velocidad de cada partícula basándote en su posición actual, su mejor posición local y la mejor posición global.\n",
    "Luego, actualiza la posición de las partículas."
   ]
  },
  {
   "cell_type": "code",
   "execution_count": null,
   "id": "f7fb57a7",
   "metadata": {},
   "outputs": [],
   "source": [
    "# Implementar de manera matricial la actualizacion de las posiciones de los individuos vista\n",
    "# en clase.\n"
   ]
  },
  {
   "cell_type": "markdown",
   "id": "c52c734c",
   "metadata": {},
   "source": [
    "## Paso 5: Actualizar los mejores locales y el mejor global"
   ]
  },
  {
   "cell_type": "markdown",
   "id": "c3d04e7b",
   "metadata": {},
   "source": [
    "Actualiza los mejores valores locales de cada partícula y el mejor global tras la evaluación de la nueva población."
   ]
  },
  {
   "cell_type": "code",
   "execution_count": null,
   "id": "432fff56",
   "metadata": {},
   "outputs": [],
   "source": [
    "# Realizar pasos 2 y 3"
   ]
  },
  {
   "cell_type": "markdown",
   "id": "b18e07cc",
   "metadata": {},
   "source": [
    "## Paso 6: Realizar los pasos 4 a 5 de manera iterativa"
   ]
  },
  {
   "cell_type": "markdown",
   "id": "831c9e62",
   "metadata": {},
   "source": [
    "Repite los pasos anteriores durante un número definido de iteraciones o hasta que se alcance un criterio de parada."
   ]
  },
  {
   "cell_type": "code",
   "execution_count": null,
   "id": "de71e7df",
   "metadata": {},
   "outputs": [],
   "source": [
    "#Hacer codigo aqui\n"
   ]
  }
 ],
 "metadata": {
  "kernelspec": {
   "display_name": "Python 3",
   "language": "python",
   "name": "python3"
  },
  "language_info": {
   "codemirror_mode": {
    "name": "ipython",
    "version": 3
   },
   "file_extension": ".py",
   "mimetype": "text/x-python",
   "name": "python",
   "nbconvert_exporter": "python",
   "pygments_lexer": "ipython3",
   "version": "3.10.9"
  }
 },
 "nbformat": 4,
 "nbformat_minor": 5
}
