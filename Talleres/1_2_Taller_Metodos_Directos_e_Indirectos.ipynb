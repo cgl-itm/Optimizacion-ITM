{
  "nbformat": 4,
  "nbformat_minor": 0,
  "metadata": {
    "colab": {
      "provenance": []
    },
    "kernelspec": {
      "name": "python3",
      "display_name": "Python 3"
    },
    "language_info": {
      "name": "python"
    }
  },
  "cells": [
    {
      "cell_type": "markdown",
      "source": [
        "# Ejercicios practicos Metodos directos e indirectos"
      ],
      "metadata": {
        "id": "X1n9F_cU48bl"
      }
    },
    {
      "cell_type": "markdown",
      "source": [
        "## 1. Método indirecto: metodo de Newton\n",
        "Encontrar la solución al sistema de ecuaciones que se obtiene a partir del calculo del gradiente de la siguiente funcion objetivo\n",
        "$$f(\\mathbf{x})=x_{1}^{4}+x_{1}^{2}\\left(1-2 x_{2}\\right)+2 x_{2}^{2}-2 x_{1} x_{2}+4.5 x_{1}-4 x_{2}+4$$\n",
        "empleando el metodo de Newton visto en Metodos Numericos.\n",
        "* 1.1. El punto inicial en $\\mathbf{x}_0 = [-2,2]^{\\top}$.\n",
        "* 1.2. El punto inicial en $\\mathbf{x}_0 = [0.8,1.6]$.\n",
        "* 1.3. El punto inicial en $\\mathbf{x}_0 = [3,5]$.\n"
      ],
      "metadata": {
        "id": "zxFTWWar5Fhs"
      }
    },
    {
      "cell_type": "markdown",
      "source": [
        "Revisar la seccion \"Multidimensional formulations\" de https://en.wikipedia.org/wiki/Newton%27s_method\n",
        "\n",
        "$$ \\mathbf{x}_{k+1} = \\mathbf{x}_{k}-\\mathbf{J}_F(\\mathbf{x}_n)^{-1}\\mathbf{F}(\\mathbf{x}_n)\n",
        "$$\n",
        "donde $\\mathbf{F}(\\mathbf{x}_n)$ es el gradiente de $f(x)$ igualado a cero."
      ],
      "metadata": {
        "id": "ZQrLlMB95sWx"
      }
    },
    {
      "cell_type": "code",
      "execution_count": null,
      "metadata": {
        "id": "FDX7mV5z47Y7"
      },
      "outputs": [],
      "source": [
        "#Hacer codigo aqui"
      ]
    },
    {
      "cell_type": "markdown",
      "source": [
        "## 2. Métodos de optimización directos: gradiente descendente y Newton"
      ],
      "metadata": {
        "id": "v4j3Z5Fs6VEM"
      }
    },
    {
      "cell_type": "markdown",
      "source": [
        "Resolver el problema anterior empleando los metodos directos de optimizacion\n",
        "* 2.1. Gradiente Descendente.\n",
        "* 2.2. Metodo de Neston.\n",
        "* 2.3. Usar los puntos iniciales propuestos arriba.\n",
        "* 2.4. Comparar cantidad de pasos que se requieren para llegar a un minimo."
      ],
      "metadata": {
        "id": "sSq42iYl6sxg"
      }
    },
    {
      "cell_type": "code",
      "source": [
        "#Hacer codigo gradiente descendente"
      ],
      "metadata": {
        "id": "vvO1wGxY6g6n"
      },
      "execution_count": null,
      "outputs": []
    },
    {
      "cell_type": "code",
      "source": [
        "#Hacer codigo Newton"
      ],
      "metadata": {
        "id": "_K7uRGru7ELw"
      },
      "execution_count": null,
      "outputs": []
    }
  ]
}